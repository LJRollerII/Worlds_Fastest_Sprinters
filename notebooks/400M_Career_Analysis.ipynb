{
 "cells": [
  {
   "cell_type": "markdown",
   "metadata": {
    "id": "ni14X_A7Z8Lk"
   },
   "source": [
    "# **400m Career Data**"
   ]
  },
  {
   "cell_type": "code",
   "execution_count": null,
   "metadata": {
    "executionInfo": {
     "elapsed": 301,
     "status": "ok",
     "timestamp": 1729646938037,
     "user": {
      "displayName": "Johnny Test",
      "userId": "16509896550579327523"
     },
     "user_tz": 240
    },
    "id": "0EuVlu9laQdG"
   },
   "outputs": [],
   "source": [
    "import pandas as pd\n",
    "import numpy as np\n",
    "import matplotlib.pyplot as plt\n",
    "import seaborn as sns\n",
    "import plotly.express as px\n",
    "import plotly.figure_factory as ff\n",
    "%matplotlib inline\n",
    "from datetime import datetime\n",
    "import re\n",
    "from nssstats.plots import std_plot\n",
    "from nssstats.plots import iqr_plot\n",
    "from nssstats.plots import quadrant_plot, half_plot\n",
    "from ipywidgets import interact, FloatSlider\n",
    "from nssstats.cm import cm_analysis\n",
    "from sklearn.model_selection import train_test_split\n",
    "from scipy.stats import probplot\n",
    "from scipy.stats import t, sem\n",
    "from scipy.stats import chi2\n",
    "from statsmodels.stats.proportion import proportion_confint\n",
    "import statsmodels.formula.api as sm"
   ]
  },
  {
   "cell_type": "code",
   "execution_count": null,
   "metadata": {
    "executionInfo": {
     "elapsed": 23,
     "status": "ok",
     "timestamp": 1729646938269,
     "user": {
      "displayName": "Johnny Test",
      "userId": "16509896550579327523"
     },
     "user_tz": 240
    },
    "id": "-mfz1dS8adQk"
   },
   "outputs": [],
   "source": [
    "sprinters = pd.read_csv(\"Worlds_Fastest_Sprinters_Stats.csv\")"
   ]
  },
  {
   "cell_type": "markdown",
   "metadata": {
    "id": "Rj6eEd1CbSE7"
   },
   "source": [
    "# **Data** **Basics**"
   ]
  },
  {
   "cell_type": "code",
   "execution_count": null,
   "metadata": {
    "colab": {
     "base_uri": "https://localhost:8080/",
     "height": 585
    },
    "executionInfo": {
     "elapsed": 23,
     "status": "ok",
     "timestamp": 1729646938269,
     "user": {
      "displayName": "Johnny Test",
      "userId": "16509896550579327523"
     },
     "user_tz": 240
    },
    "id": "wc4J72H7adhm",
    "outputId": "2f862620-e916-4101-92b9-80e9371a748d"
   },
   "outputs": [],
   "source": [
    "sprinters.head()"
   ]
  },
  {
   "cell_type": "code",
   "execution_count": null,
   "metadata": {
    "colab": {
     "base_uri": "https://localhost:8080/",
     "height": 203
    },
    "executionInfo": {
     "elapsed": 21,
     "status": "ok",
     "timestamp": 1729646938269,
     "user": {
      "displayName": "Johnny Test",
      "userId": "16509896550579327523"
     },
     "user_tz": 240
    },
    "id": "5HYov-s3a40z",
    "outputId": "d092fe72-a078-4c4b-d939-4e0f48540b2b"
   },
   "outputs": [],
   "source": [
    "sprinters.info"
   ]
  },
  {
   "cell_type": "code",
   "execution_count": null,
   "metadata": {
    "colab": {
     "base_uri": "https://localhost:8080/"
    },
    "executionInfo": {
     "elapsed": 20,
     "status": "ok",
     "timestamp": 1729646938269,
     "user": {
      "displayName": "Johnny Test",
      "userId": "16509896550579327523"
     },
     "user_tz": 240
    },
    "id": "nGzrVMNoa4-f",
    "outputId": "53624123-986a-4cac-a91f-c3b4bd4593b6"
   },
   "outputs": [],
   "source": [
    "sprinters.shape"
   ]
  },
  {
   "cell_type": "code",
   "execution_count": null,
   "metadata": {
    "colab": {
     "base_uri": "https://localhost:8080/"
    },
    "executionInfo": {
     "elapsed": 15,
     "status": "ok",
     "timestamp": 1729646938269,
     "user": {
      "displayName": "Johnny Test",
      "userId": "16509896550579327523"
     },
     "user_tz": 240
    },
    "id": "ER3YH8Gia5H3",
    "outputId": "d2b194bf-3284-406b-c9de-35a2b7035be0"
   },
   "outputs": [],
   "source": [
    "print(sprinters.dtypes)\n"
   ]
  },
  {
   "cell_type": "code",
   "execution_count": null,
   "metadata": {
    "colab": {
     "base_uri": "https://localhost:8080/",
     "height": 320
    },
    "executionInfo": {
     "elapsed": 12,
     "status": "ok",
     "timestamp": 1729646938269,
     "user": {
      "displayName": "Johnny Test",
      "userId": "16509896550579327523"
     },
     "user_tz": 240
    },
    "id": "Hi4r7kR7bKnp",
    "outputId": "5a1179c4-5aef-45ce-a314-f4a03c92e5cd"
   },
   "outputs": [],
   "source": [
    "sprinters.describe()\n"
   ]
  },
  {
   "cell_type": "code",
   "execution_count": null,
   "metadata": {
    "colab": {
     "base_uri": "https://localhost:8080/",
     "height": 203
    },
    "executionInfo": {
     "elapsed": 11,
     "status": "ok",
     "timestamp": 1729646938269,
     "user": {
      "displayName": "Johnny Test",
      "userId": "16509896550579327523"
     },
     "user_tz": 240
    },
    "id": "f82kt78EbKz-",
    "outputId": "3142496c-5e66-4810-840f-5490ab220e1d"
   },
   "outputs": [],
   "source": [
    "sprinters.corr\n"
   ]
  },
  {
   "cell_type": "code",
   "execution_count": null,
   "metadata": {
    "colab": {
     "base_uri": "https://localhost:8080/",
     "height": 742
    },
    "executionInfo": {
     "elapsed": 10,
     "status": "ok",
     "timestamp": 1729646938269,
     "user": {
      "displayName": "Johnny Test",
      "userId": "16509896550579327523"
     },
     "user_tz": 240
    },
    "id": "S7_wpsHMdOMn",
    "outputId": "b66a8f0e-2a19-428c-ef0a-83c27d15884a"
   },
   "outputs": [],
   "source": [
    "sprinters.isnull().sum()\n"
   ]
  },
  {
   "cell_type": "markdown",
   "metadata": {
    "id": "26-aFPB7fZtV"
   },
   "source": [
    "# **General** **EDA**"
   ]
  },
  {
   "cell_type": "markdown",
   "metadata": {
    "id": "99Y4TEKuuEw9"
   },
   "source": [
    "Let's make a column for the total PR time"
   ]
  },
  {
   "cell_type": "code",
   "execution_count": null,
   "metadata": {
    "colab": {
     "base_uri": "https://localhost:8080/",
     "height": 585
    },
    "executionInfo": {
     "elapsed": 212,
     "status": "ok",
     "timestamp": 1729646938472,
     "user": {
      "displayName": "Johnny Test",
      "userId": "16509896550579327523"
     },
     "user_tz": 240
    },
    "id": "0NXGHIZGfcO3",
    "outputId": "bb231eee-fcfc-48c0-8110-1e6558596026"
   },
   "outputs": [],
   "source": [
    "sprinters['Total_Time_PRs'] = round(sprinters['100_PR'] + sprinters['200_PR'] + sprinters['400_PR'],2)\n",
    "sprinters.head()"
   ]
  },
  {
   "cell_type": "markdown",
   "metadata": {
    "id": "PupbWRW3ucso"
   },
   "source": [
    "Let's make a column for the total career average time"
   ]
  },
  {
   "cell_type": "code",
   "execution_count": null,
   "metadata": {
    "colab": {
     "base_uri": "https://localhost:8080/",
     "height": 585
    },
    "executionInfo": {
     "elapsed": 12,
     "status": "ok",
     "timestamp": 1729646938472,
     "user": {
      "displayName": "Johnny Test",
      "userId": "16509896550579327523"
     },
     "user_tz": 240
    },
    "id": "GgdUNzahgc4l",
    "outputId": "fd84e2d3-7ebd-4a85-ffda-8eb8754cc044"
   },
   "outputs": [],
   "source": [
    "sprinters['Total_Time_SB_Avg'] = round(sprinters['Avg_Season_Best_100m'] + sprinters['Avg_Season_Best_200m'] + sprinters['Avg_Season_Best_400m'],2)\n",
    "sprinters.head()"
   ]
  },
  {
   "cell_type": "markdown",
   "metadata": {
    "id": "uH_h1V-X6iyg"
   },
   "source": [
    "Let's make a column for the actual age of the athletes"
   ]
  },
  {
   "cell_type": "code",
   "execution_count": null,
   "metadata": {
    "colab": {
     "base_uri": "https://localhost:8080/"
    },
    "executionInfo": {
     "elapsed": 11,
     "status": "ok",
     "timestamp": 1729646938472,
     "user": {
      "displayName": "Johnny Test",
      "userId": "16509896550579327523"
     },
     "user_tz": 240
    },
    "id": "ckwBzcMz6ooL",
    "outputId": "f113b9f0-e23e-4853-e380-493f4414b79e"
   },
   "outputs": [],
   "source": [
    "# Ensure the DOB column is in datetime format\n",
    "sprinters['DOB'] = pd.to_datetime(sprinters['DOB'], errors='coerce')  # Coerce will handle invalid dates as NaT\n",
    "\n",
    "# Get the current year\n",
    "current_year = datetime.now().year\n",
    "\n",
    "# Calculate the age by subtracting the birth year from the current year\n",
    "sprinters['Age'] = current_year - sprinters['DOB'].dt.year\n",
    "\n",
    "# Display the updated DataFrame with the new 'Age' column\n",
    "print(sprinters[['DOB', 'Age']].head())\n"
   ]
  },
  {
   "cell_type": "markdown",
   "metadata": {
    "id": "SE229VJa2cYS"
   },
   "source": [
    "Let's add the sprinter's photo to the database by merging it with the photo csv"
   ]
  },
  {
   "cell_type": "code",
   "execution_count": null,
   "metadata": {
    "executionInfo": {
     "elapsed": 8,
     "status": "ok",
     "timestamp": 1729646938472,
     "user": {
      "displayName": "Johnny Test",
      "userId": "16509896550579327523"
     },
     "user_tz": 240
    },
    "id": "08X8fNn-21bP"
   },
   "outputs": [],
   "source": [
    "sprinter_photo = pd.read_csv(\"Sprinter_Photo.csv\")"
   ]
  },
  {
   "cell_type": "code",
   "execution_count": null,
   "metadata": {
    "colab": {
     "base_uri": "https://localhost:8080/",
     "height": 143
    },
    "executionInfo": {
     "elapsed": 8,
     "status": "ok",
     "timestamp": 1729646938472,
     "user": {
      "displayName": "Johnny Test",
      "userId": "16509896550579327523"
     },
     "user_tz": 240
    },
    "id": "JrZnZd9O3htf",
    "outputId": "2964e50d-24d4-4629-ed5d-147f1c1ec886"
   },
   "outputs": [],
   "source": [
    "sprinter_photo.head(3)"
   ]
  },
  {
   "cell_type": "code",
   "execution_count": null,
   "metadata": {
    "colab": {
     "base_uri": "https://localhost:8080/",
     "height": 383
    },
    "executionInfo": {
     "elapsed": 7,
     "status": "ok",
     "timestamp": 1729646938472,
     "user": {
      "displayName": "Johnny Test",
      "userId": "16509896550579327523"
     },
     "user_tz": 240
    },
    "id": "kfLPNfF42oCY",
    "outputId": "f9b198d6-5770-4d94-d873-df1289b35f72"
   },
   "outputs": [],
   "source": [
    "sprinters = pd.merge(sprinters, sprinter_photo, on=['Athlete'],how='left')\n",
    "sprinters.head(3)"
   ]
  },
  {
   "cell_type": "markdown",
   "metadata": {
    "id": "shKQu0QhBz9V"
   },
   "source": [
    "Let's add second database to join number of season to each events dataframe (For Years Competed in each event)."
   ]
  },
  {
   "cell_type": "code",
   "execution_count": null,
   "metadata": {
    "colab": {
     "base_uri": "https://localhost:8080/",
     "height": 143
    },
    "executionInfo": {
     "elapsed": 259,
     "status": "ok",
     "timestamp": 1729646938725,
     "user": {
      "displayName": "Johnny Test",
      "userId": "16509896550579327523"
     },
     "user_tz": 240
    },
    "id": "o-GMweZEkTAz",
    "outputId": "7bc46f37-c41f-4f36-e4be-850b6661b7db"
   },
   "outputs": [],
   "source": [
    "sprinters_df2 = pd.read_csv(\"Worlds_Fastest_Sprinters_Master_List_Yearly_Progression.csv\")\n",
    "sprinters_df2.head(3)"
   ]
  },
  {
   "cell_type": "code",
   "execution_count": null,
   "metadata": {
    "executionInfo": {
     "elapsed": 7,
     "status": "ok",
     "timestamp": 1729646938915,
     "user": {
      "displayName": "Johnny Test",
      "userId": "16509896550579327523"
     },
     "user_tz": 240
    },
    "id": "6JfeotA1qykS"
   },
   "outputs": [],
   "source": [
    "yrs_competed_400m = sprinters_df2[sprinters_df2['Event'] == '400m'].groupby('Athlete').size().reset_index(name='Years')"
   ]
  },
  {
   "cell_type": "code",
   "execution_count": null,
   "metadata": {
    "colab": {
     "base_uri": "https://localhost:8080/",
     "height": 206
    },
    "executionInfo": {
     "elapsed": 8,
     "status": "ok",
     "timestamp": 1729646938916,
     "user": {
      "displayName": "Johnny Test",
      "userId": "16509896550579327523"
     },
     "user_tz": 240
    },
    "id": "zHJoXnPBqykT",
    "outputId": "8e56d01f-f104-4fa1-a453-76552eb510b7"
   },
   "outputs": [],
   "source": [
    "yrs_competed_400m = yrs_competed_400m.sort_values(by='Years', ascending=False)\n",
    "yrs_competed_400m.head()"
   ]
  },
  {
   "cell_type": "markdown",
   "metadata": {
    "id": "FmQNjnyu6neV"
   },
   "source": [
    "Let's add a third database which incorportae's every race in each athletes's career."
   ]
  },
  {
   "cell_type": "code",
   "execution_count": null,
   "metadata": {
    "colab": {
     "base_uri": "https://localhost:8080/",
     "height": 143
    },
    "executionInfo": {
     "elapsed": 211,
     "status": "ok",
     "timestamp": 1729646939120,
     "user": {
      "displayName": "Johnny Test",
      "userId": "16509896550579327523"
     },
     "user_tz": 240
    },
    "id": "QVf-iKTB8WWB",
    "outputId": "9c38a797-ecbd-4435-b136-8054208f636d"
   },
   "outputs": [],
   "source": [
    "sprinters_df3 = pd.read_csv(\"Sprinter_Career.csv\")\n",
    "sprinters_df3.head(3)"
   ]
  },
  {
   "cell_type": "code",
   "execution_count": null,
   "metadata": {
    "colab": {
     "base_uri": "https://localhost:8080/",
     "height": 143
    },
    "executionInfo": {
     "elapsed": 211,
     "status": "ok",
     "timestamp": 1729646939121,
     "user": {
      "displayName": "Johnny Test",
      "userId": "16509896550579327523"
     },
     "user_tz": 240
    },
    "id": "8_cQk3NUC1ix",
    "outputId": "1c11effd-f382-4978-fb17-42c63d1f8673"
   },
   "outputs": [],
   "source": [
    "All_400m_Races = sprinters_df3[sprinters_df3['Event'] == '400m']\n",
    "All_400m_Races.head(3)"
   ]
  },
  {
   "cell_type": "markdown",
   "metadata": {
    "id": "ARB5WCMrr1qn"
   },
   "source": [
    "Let's drop all the races that were DNS, DNF, or DQ"
   ]
  },
  {
   "cell_type": "code",
   "execution_count": null,
   "metadata": {
    "colab": {
     "base_uri": "https://localhost:8080/",
     "height": 143
    },
    "executionInfo": {
     "elapsed": 13,
     "status": "ok",
     "timestamp": 1729646939121,
     "user": {
      "displayName": "Johnny Test",
      "userId": "16509896550579327523"
     },
     "user_tz": 240
    },
    "id": "-dV5LnSgr1Qv",
    "outputId": "cb2f81a5-4a9c-4d2c-e887-d4b0b6d46880"
   },
   "outputs": [],
   "source": [
    "All_400m_Races = All_400m_Races[~All_400m_Races['Time'].isin(['DNS', 'DNF', 'DQ'])]\n",
    "All_400m_Races.head(3)"
   ]
  },
  {
   "cell_type": "markdown",
   "metadata": {
    "id": "GcHOOduts2o3"
   },
   "source": [
    "Let's make sure that the time column is now a numeric datatype"
   ]
  },
  {
   "cell_type": "code",
   "execution_count": null,
   "metadata": {
    "executionInfo": {
     "elapsed": 12,
     "status": "ok",
     "timestamp": 1729646939122,
     "user": {
      "displayName": "Johnny Test",
      "userId": "16509896550579327523"
     },
     "user_tz": 240
    },
    "id": "ATcwvYMos8Y5"
   },
   "outputs": [],
   "source": [
    "All_400m_Races['Time'] = pd.to_numeric(All_400m_Races['Time'], errors='coerce')"
   ]
  },
  {
   "cell_type": "markdown",
   "metadata": {
    "id": "V9jWbP2hrxyl"
   },
   "source": [
    "Let's drop all the Indoor marks"
   ]
  },
  {
   "cell_type": "code",
   "execution_count": null,
   "metadata": {
    "colab": {
     "base_uri": "https://localhost:8080/",
     "height": 143
    },
    "executionInfo": {
     "elapsed": 12,
     "status": "ok",
     "timestamp": 1729646939122,
     "user": {
      "displayName": "Johnny Test",
      "userId": "16509896550579327523"
     },
     "user_tz": 240
    },
    "id": "frnKQ_1UsWxZ",
    "outputId": "03a42804-038a-460f-83bc-d5e9af7e5fcf"
   },
   "outputs": [],
   "source": [
    "All_400m_Races = All_400m_Races[All_400m_Races['Meet_Type'] != 'Indoor']\n",
    "All_400m_Races.head(3)"
   ]
  },
  {
   "cell_type": "markdown",
   "metadata": {
    "id": "E2VmZJveq6RY"
   },
   "source": [
    "Let's drop times that aren't legal from the dataframe"
   ]
  },
  {
   "cell_type": "code",
   "execution_count": null,
   "metadata": {
    "colab": {
     "base_uri": "https://localhost:8080/",
     "height": 143
    },
    "executionInfo": {
     "elapsed": 221,
     "status": "ok",
     "timestamp": 1729646939333,
     "user": {
      "displayName": "Johnny Test",
      "userId": "16509896550579327523"
     },
     "user_tz": 240
    },
    "id": "UbrRDVk-qzSi",
    "outputId": "f4d28537-8cd2-441d-8695-477cb8f91e6f"
   },
   "outputs": [],
   "source": [
    "All_400m_Races = All_400m_Races[All_400m_Races['Legal'] != 'NO']\n",
    "All_400m_Races.head(3)"
   ]
  },
  {
   "cell_type": "markdown",
   "metadata": {
    "id": "pMChsNe65R8X"
   },
   "source": [
    "Let's look at a couple of visualizations of this dataframe"
   ]
  },
  {
   "cell_type": "code",
   "execution_count": null,
   "metadata": {
    "colab": {
     "base_uri": "https://localhost:8080/",
     "height": 430
    },
    "executionInfo": {
     "elapsed": 513,
     "status": "ok",
     "timestamp": 1729646939843,
     "user": {
      "displayName": "Johnny Test",
      "userId": "16509896550579327523"
     },
     "user_tz": 240
    },
    "id": "owTtYg-Kr5t9",
    "outputId": "1c2798f5-f615-410b-d0e3-81e0bbdb2263"
   },
   "outputs": [],
   "source": [
    "All_400m_Races['Time'].hist();"
   ]
  },
  {
   "cell_type": "code",
   "execution_count": null,
   "metadata": {
    "colab": {
     "base_uri": "https://localhost:8080/",
     "height": 472
    },
    "executionInfo": {
     "elapsed": 420,
     "status": "ok",
     "timestamp": 1729646943345,
     "user": {
      "displayName": "Johnny Test",
      "userId": "16509896550579327523"
     },
     "user_tz": 240
    },
    "id": "0Z4FuGeCFyhC",
    "outputId": "fa1b1bec-2572-4873-8f70-d638388779d5"
   },
   "outputs": [],
   "source": [
    "probplot(All_400m_Races['Time'], plot=plt);"
   ]
  },
  {
   "cell_type": "code",
   "execution_count": null,
   "metadata": {
    "id": "IkLtSsY9GgVy"
   },
   "outputs": [],
   "source": [
    "plt.figure(figsize = (10,6))\n",
    "\n",
    "std_plot(All_100m_Races['Time'], edgecolor = 'black', linewidth = 2)"
   ]
  },
  {
   "cell_type": "code",
   "execution_count": null,
   "metadata": {
    "id": "3ffGgls9GqXY"
   },
   "outputs": [],
   "source": [
    "plt.figure(figsize = (10,6))\n",
    "\n",
    "iqr_plot(All_400m_Races['Time'], bins = 25, edgecolor = 'black', linewidth = 2)"
   ]
  },
  {
   "cell_type": "code",
   "execution_count": null,
   "metadata": {
    "colab": {
     "base_uri": "https://localhost:8080/",
     "height": 542
    },
    "executionInfo": {
     "elapsed": 437,
     "status": "ok",
     "timestamp": 1729646952569,
     "user": {
      "displayName": "Johnny Test",
      "userId": "16509896550579327523"
     },
     "user_tz": 240
    },
    "id": "uKv9_g9VHFCd",
    "outputId": "62e86cd8-de84-4c51-d231-bf5cb4acf4c5"
   },
   "outputs": [],
   "source": [
    "plt.figure(figsize = (10,6))\n",
    "sns.boxplot(x = All_400m_Races['Time']);"
   ]
  },
  {
   "cell_type": "code",
   "execution_count": null,
   "metadata": {
    "colab": {
     "base_uri": "https://localhost:8080/",
     "height": 458
    },
    "executionInfo": {
     "elapsed": 1306,
     "status": "ok",
     "timestamp": 1729646960007,
     "user": {
      "displayName": "Johnny Test",
      "userId": "16509896550579327523"
     },
     "user_tz": 240
    },
    "id": "_c1THDG2HQnE",
    "outputId": "dad667d0-8185-4385-de1a-2319b6ce511d"
   },
   "outputs": [],
   "source": [
    "sns.boxplot(data = All_400m_Races, y = 'Athlete', x = 'Time')\n",
    "plt.xticks([0,1], ['', ''])\n",
    "plt.xlabel('400m Time')\n",
    "plt.title('400m Times Over Entire Career');"
   ]
  },
  {
   "cell_type": "markdown",
   "metadata": {
    "id": "RUM2KOSwvD2D"
   },
   "source": [
    "Let's get the Caeer Average for Each Athlete"
   ]
  },
  {
   "cell_type": "code",
   "execution_count": null,
   "metadata": {
    "executionInfo": {
     "elapsed": 306,
     "status": "ok",
     "timestamp": 1729646975308,
     "user": {
      "displayName": "Johnny Test",
      "userId": "16509896550579327523"
     },
     "user_tz": 240
    },
    "id": "6USj4S4ivZtm"
   },
   "outputs": [],
   "source": [
    "Career_average_400m = All_400m_Races.groupby('Athlete')['Time'].mean().reset_index(name='Career_Avg_400m')"
   ]
  },
  {
   "cell_type": "code",
   "execution_count": null,
   "metadata": {
    "id": "eGGJnQD4vJWN"
   },
   "outputs": [],
   "source": [
    "#All_400m_Races = pd.merge(All_400m_Races, Career_average_400m, on=['Athlete'],how='left')\n",
    "#All_400m_Races.head(3)"
   ]
  },
  {
   "cell_type": "markdown",
   "metadata": {
    "id": "v4bEp-guyt7s"
   },
   "source": [
    "Total Races for Each Athlete"
   ]
  },
  {
   "cell_type": "code",
   "execution_count": null,
   "metadata": {
    "colab": {
     "base_uri": "https://localhost:8080/",
     "height": 143
    },
    "executionInfo": {
     "elapsed": 239,
     "status": "ok",
     "timestamp": 1729646977968,
     "user": {
      "displayName": "Johnny Test",
      "userId": "16509896550579327523"
     },
     "user_tz": 240
    },
    "id": "SUSKP1fhOp9R",
    "outputId": "4f1414b1-9308-4e43-85bc-e3aef6a53599"
   },
   "outputs": [],
   "source": [
    "athlete_race_count_400m = All_400m_Races.groupby('Athlete').size().reset_index(name='total_races_400m')\n",
    "athlete_race_count_400m.head(3)"
   ]
  },
  {
   "cell_type": "markdown",
   "metadata": {
    "id": "yjbGRfNmyzZm"
   },
   "source": [
    "Number of races for each athlete by year"
   ]
  },
  {
   "cell_type": "code",
   "execution_count": null,
   "metadata": {
    "id": "p-peb0xoPbaL"
   },
   "outputs": [],
   "source": [
    "#athlete_race_count_per_year_400m = hundred_meter_races.groupby(['Athlete', 'Year']).size().reset_index(name='races_per_year_100m')\n",
    "#athlete_race_count_per_year_400m.head(3)"
   ]
  },
  {
   "cell_type": "markdown",
   "metadata": {
    "id": "FZ6Gl96oQ-N7"
   },
   "source": [
    "Meerge Data Season and total races data next"
   ]
  },
  {
   "cell_type": "code",
   "execution_count": null,
   "metadata": {
    "colab": {
     "base_uri": "https://localhost:8080/",
     "height": 143
    },
    "executionInfo": {
     "elapsed": 170,
     "status": "ok",
     "timestamp": 1729646994296,
     "user": {
      "displayName": "Johnny Test",
      "userId": "16509896550579327523"
     },
     "user_tz": 240
    },
    "id": "5gILxEubgNhU",
    "outputId": "7f57626b-1482-4aa8-c850-21e55fbd71e8"
   },
   "outputs": [],
   "source": [
    "seasons_and_races_400m = pd.merge(athlete_race_count_400m, yrs_competed_400m, on=['Athlete'],how='left')\n",
    "seasons_and_races_400m.head(3)"
   ]
  },
  {
   "cell_type": "markdown",
   "metadata": {
    "id": "D0iciiyKyfzp"
   },
   "source": [
    "Let's add the career average for each athlete"
   ]
  },
  {
   "cell_type": "code",
   "execution_count": null,
   "metadata": {
    "colab": {
     "base_uri": "https://localhost:8080/",
     "height": 143
    },
    "executionInfo": {
     "elapsed": 175,
     "status": "ok",
     "timestamp": 1729647017688,
     "user": {
      "displayName": "Johnny Test",
      "userId": "16509896550579327523"
     },
     "user_tz": 240
    },
    "id": "D-koaU5wyOZB",
    "outputId": "0c25e001-86e3-4fae-c48d-ca0e182563af"
   },
   "outputs": [],
   "source": [
    "seasons_and_races_400m = pd.merge(seasons_and_races_400m, Career_average_400m, on=['Athlete'],how='left')\n",
    "seasons_and_races_400m.head(3)"
   ]
  },
  {
   "cell_type": "code",
   "execution_count": null,
   "metadata": {
    "colab": {
     "base_uri": "https://localhost:8080/",
     "height": 585
    },
    "executionInfo": {
     "elapsed": 173,
     "status": "ok",
     "timestamp": 1729647024467,
     "user": {
      "displayName": "Johnny Test",
      "userId": "16509896550579327523"
     },
     "user_tz": 240
    },
    "id": "CofsZG4pg-ya",
    "outputId": "7d8fd704-ca3b-4380-cd94-e0244f8d6c42"
   },
   "outputs": [],
   "source": [
    "seasons_and_races_400m['Avg_Races_Year_400m'] = round(seasons_and_races_400m['total_races_400m'] / seasons_and_races_400m['Years'],2)\n",
    "sprinters.head()"
   ]
  },
  {
   "cell_type": "code",
   "execution_count": null,
   "metadata": {
    "colab": {
     "base_uri": "https://localhost:8080/",
     "height": 669
    },
    "executionInfo": {
     "elapsed": 169,
     "status": "ok",
     "timestamp": 1729647056079,
     "user": {
      "displayName": "Johnny Test",
      "userId": "16509896550579327523"
     },
     "user_tz": 240
    },
    "id": "hqt4QjCnJLbS",
    "outputId": "d99717ea-123e-4410-ac76-0a8e3f920081"
   },
   "outputs": [],
   "source": [
    "df_400m= sprinters[['Athlete', 'Country','Continent','Status', 'DOB','Year Born','Month Born','Decade Born','Avg_Season_Best_400m','400_PR','T25_400_All_Time_Rank','T25_400_AT_RK_NUM']]\n",
    "df_400m"
   ]
  },
  {
   "cell_type": "code",
   "execution_count": null,
   "metadata": {
    "colab": {
     "base_uri": "https://localhost:8080/",
     "height": 233
    },
    "executionInfo": {
     "elapsed": 356,
     "status": "ok",
     "timestamp": 1729647066130,
     "user": {
      "displayName": "Johnny Test",
      "userId": "16509896550579327523"
     },
     "user_tz": 240
    },
    "id": "DUup4BykK_Ql",
    "outputId": "264e56b2-bab7-45a9-cc99-afd3b2fb09aa"
   },
   "outputs": [],
   "source": [
    "df_400m['SB_Avg_400m_PR_Diff'] = round(df_400m['Avg_Season_Best_400m'] - df_400m['400_PR'],2)\n",
    "df_400m.head(3)"
   ]
  },
  {
   "cell_type": "code",
   "execution_count": null,
   "metadata": {
    "colab": {
     "base_uri": "https://localhost:8080/",
     "height": 233
    },
    "executionInfo": {
     "elapsed": 171,
     "status": "ok",
     "timestamp": 1729647072904,
     "user": {
      "displayName": "Johnny Test",
      "userId": "16509896550579327523"
     },
     "user_tz": 240
    },
    "id": "Bu7K8WW9JKHr",
    "outputId": "6b408567-5d97-411c-b45d-8034108835b5"
   },
   "outputs": [],
   "source": [
    "df_400m = pd.merge(df_400m, seasons_and_races_400m, on=['Athlete'],how='left')\n",
    "df_400m.head(3)"
   ]
  },
  {
   "cell_type": "code",
   "execution_count": null,
   "metadata": {
    "colab": {
     "base_uri": "https://localhost:8080/",
     "height": 233
    },
    "executionInfo": {
     "elapsed": 241,
     "status": "ok",
     "timestamp": 1729647076066,
     "user": {
      "displayName": "Johnny Test",
      "userId": "16509896550579327523"
     },
     "user_tz": 240
    },
    "id": "VhrLnLqZJKIF",
    "outputId": "8c98d417-8065-4cce-ed1f-ef5df6360c1b"
   },
   "outputs": [],
   "source": [
    "df_400m = df_400m.rename(columns={'Years': 'Years_Competed_400m'})\n",
    "df_400m.head(3)"
   ]
  },
  {
   "cell_type": "code",
   "execution_count": null,
   "metadata": {
    "colab": {
     "base_uri": "https://localhost:8080/",
     "height": 233
    },
    "executionInfo": {
     "elapsed": 265,
     "status": "ok",
     "timestamp": 1729647081504,
     "user": {
      "displayName": "Johnny Test",
      "userId": "16509896550579327523"
     },
     "user_tz": 240
    },
    "id": "OrtiEI4ozSat",
    "outputId": "0be4e71a-0f9d-494a-e618-45913d074869"
   },
   "outputs": [],
   "source": [
    "df_400m['Career_Avg_400m_PR_Diff'] = round(df_400m['Career_Avg_400m'] - df_400m['400_PR'],2)\n",
    "df_400m.head(3)"
   ]
  },
  {
   "cell_type": "code",
   "execution_count": null,
   "metadata": {
    "id": "AjlBF6huKJMB"
   },
   "outputs": [],
   "source": [
    "#df_400m = df_400m.sort_values(by='Avg Season Best 400m', ascending=False)\n",
    "#df_400m"
   ]
  },
  {
   "cell_type": "code",
   "execution_count": null,
   "metadata": {
    "executionInfo": {
     "elapsed": 165,
     "status": "ok",
     "timestamp": 1729647088890,
     "user": {
      "displayName": "Johnny Test",
      "userId": "16509896550579327523"
     },
     "user_tz": 240
    },
    "id": "u3o8iUsxYbZR"
   },
   "outputs": [],
   "source": [
    "#df_400m = df_400m.sort_values(by='Avg_Season_Best_400m')\n",
    "#df_400m"
   ]
  },
  {
   "cell_type": "code",
   "execution_count": null,
   "metadata": {
    "colab": {
     "base_uri": "https://localhost:8080/",
     "height": 669
    },
    "executionInfo": {
     "elapsed": 170,
     "status": "ok",
     "timestamp": 1729647103862,
     "user": {
      "displayName": "Johnny Test",
      "userId": "16509896550579327523"
     },
     "user_tz": 240
    },
    "id": "A_Sj2vLdzyIG",
    "outputId": "16d81a99-ea9e-48d2-a60d-35a8c8b6befb"
   },
   "outputs": [],
   "source": [
    "df_400m = df_400m.sort_values(by='Career_Avg_400m')\n",
    "df_400m"
   ]
  },
  {
   "cell_type": "markdown",
   "metadata": {
    "id": "uvdzOZtDsyhh"
   },
   "source": [
    "**Top 5 400m Times (PRs)**\n",
    "\n",
    "\n",
    "\n",
    "1.   Wayne Van Niekerk: 43.03 (11 Seasons)\n",
    "2.   Michael Johnson: 43.18 (14 Seasons)\n",
    "3.   Butch Reynolds: 43.29 ( Seasons)\n",
    "4.   Quincy Hall : 43.40 ( Seasons)\n",
    "5.   Matthew Hudson-Smith: 43.44 ( Seasons)\n",
    "\n",
    "\n",
    "\n",
    "\n",
    "\n",
    "\n"
   ]
  },
  {
   "cell_type": "markdown",
   "metadata": {
    "id": "zeZX6o3oQ34M"
   },
   "source": [
    "**Top 5 Career Season Best Averages in the 400m (Rounded to the nearest hundreth)**\n",
    "\n",
    "\n",
    "\n",
    "1.   Larry James: 43.97 (1 Season)\n",
    "2.   Michael Johnson: 44.22 (14 Seasons)\n",
    "3.   Steven Gardiner: 44.39 (10 Seasons)\n",
    "4.   Lee Evans : 44.41 (2 Seasons)\n",
    "5.   Wayne Van Niekerk: 44.48 (11 Seasons)\n",
    "\n",
    "\n",
    "\n",
    "\n",
    "\n",
    "\n"
   ]
  },
  {
   "cell_type": "markdown",
   "metadata": {
    "id": "WtdEwrjOt22J"
   },
   "source": [
    "**Top 5 Career Averages in the 400m (Rounded to the nearest hundreth)**\n",
    "\n",
    "\n",
    "\n",
    "1. Michael Johnson: 44.50 (14 Seasons)\n",
    "2. LaShawn Merritt: 44.89 (17 Seasons)  \n",
    "3. Lee Evans: 45.04 (2 Seasons)\n",
    "4. Steve Lewis: 45.04 (13 Seasons)\n",
    "5. Kirani James: 45.10 (17 Seasons)\n",
    "\n",
    "\n",
    "\n",
    "\n",
    "\n",
    "\n"
   ]
  },
  {
   "cell_type": "markdown",
   "metadata": {
    "id": "kVNjz31foPUq"
   },
   "source": [
    "# ***EDA Visualizations***"
   ]
  },
  {
   "cell_type": "code",
   "execution_count": null,
   "metadata": {
    "colab": {
     "base_uri": "https://localhost:8080/",
     "height": 452
    },
    "executionInfo": {
     "elapsed": 654,
     "status": "ok",
     "timestamp": 1726613315761,
     "user": {
      "displayName": "Johnny Test",
      "userId": "16509896550579327523"
     },
     "user_tz": 240
    },
    "id": "ixhc9iywKYxY",
    "outputId": "96524331-1bab-4ffb-bfcf-d523f5ab04fa"
   },
   "outputs": [],
   "source": [
    "# @title Year Born 400m\n",
    "\n",
    "\n",
    "df_400m['Year Born'].plot(kind='hist', bins=20, title='Year Born')\n",
    "plt.gca().spines[['top', 'right',]].set_visible(False)\n",
    "\n",
    "#plt.savefig('year_born_400.png', format='png', dpi=300)\n",
    "#plt.savefig('year_born_400.jpg', format='jpg', dpi=300)"
   ]
  },
  {
   "cell_type": "code",
   "execution_count": null,
   "metadata": {
    "id": "X_Ev4-5xUA-2"
   },
   "outputs": [],
   "source": [
    "plt.figure(figsize = (10,6))\n",
    "\n",
    "df_400m.groupby('Country')['Athlete'].count().plot(kind = 'bar')\n",
    "plt.title('400m Sprinters By 100m BY Country')\n",
    "plt.ylabel('count')\n",
    "plt.xticks(rotation = 0);"
   ]
  },
  {
   "cell_type": "code",
   "execution_count": null,
   "metadata": {
    "id": "7HlRnmAVzoqG"
   },
   "outputs": [],
   "source": [
    "plt.figure(figsize = (10,6))\n",
    "\n",
    "df_400m.groupby('Continent')['Athlete'].count().plot(kind = 'bar')\n",
    "plt.title('400m Sprinters By 100m BY Continent')\n",
    "plt.ylabel('count')\n",
    "plt.xticks(rotation = 0);"
   ]
  },
  {
   "cell_type": "code",
   "execution_count": null,
   "metadata": {
    "colab": {
     "base_uri": "https://localhost:8080/",
     "height": 449
    },
    "executionInfo": {
     "elapsed": 219,
     "status": "ok",
     "timestamp": 1726613315978,
     "user": {
      "displayName": "Johnny Test",
      "userId": "16509896550579327523"
     },
     "user_tz": 240
    },
    "id": "imT2rrKd-ZYc",
    "outputId": "194e557c-d092-4401-bb37-08eb8798b966"
   },
   "outputs": [],
   "source": [
    "# @title Year Born vs Avg Season Best 400m\n",
    "\n",
    "df_400m.plot(kind='scatter', x='Year Born', y='Avg_Season_Best_400m', s=32, alpha=.8)\n",
    "plt.gca().spines[['top', 'right',]].set_visible(False)\n",
    "\n",
    "#plt.savefig('year_born_SB_avg_400.png', format='png', dpi=300)\n",
    "#plt.savefig('year_born_SB_avg_400.jpg', format='jpg', dpi=300)"
   ]
  },
  {
   "cell_type": "code",
   "execution_count": null,
   "metadata": {
    "id": "F9FibzJY0NVl"
   },
   "outputs": [],
   "source": [
    "# @title Year Born vs Career Avg  400m\n",
    "\n",
    "df_400m.plot(kind='scatter', x='Year Born', y='Career_Avg_400m', s=32, alpha=.8)\n",
    "plt.gca().spines[['top', 'right',]].set_visible(False)\n",
    "\n",
    "#plt.savefig('year_born_Career_avg_400.png', format='png', dpi=300)\n",
    "#plt.savefig('year_born_Career_avg_400.jpg', format='jpg', dpi=300)"
   ]
  },
  {
   "cell_type": "code",
   "execution_count": null,
   "metadata": {
    "colab": {
     "base_uri": "https://localhost:8080/",
     "height": 449
    },
    "executionInfo": {
     "elapsed": 174,
     "status": "ok",
     "timestamp": 1726613316148,
     "user": {
      "displayName": "Johnny Test",
      "userId": "16509896550579327523"
     },
     "user_tz": 240
    },
    "id": "2QKkKU0D-ZY2",
    "outputId": "87608219-89c7-44bf-8a0e-2944e0067202"
   },
   "outputs": [],
   "source": [
    "# @title Avg Season Best 400m vs 400_PR\n",
    "\n",
    "df_400m.plot(kind='scatter', x='Avg_Season_Best_400m', y='400_PR', s=32, alpha=.8)\n",
    "plt.gca().spines[['top', 'right',]].set_visible(False)\n",
    "\n",
    "#plt.savefig('SB_avg_400_pr.png', format='png', dpi=300)\n",
    "#plt.savefig('SB_avg_400_pr.jpg', format='jpg', dpi=300)"
   ]
  },
  {
   "cell_type": "markdown",
   "metadata": {
    "id": "NwGiiYsePM9V"
   },
   "source": [
    "Version 2"
   ]
  },
  {
   "cell_type": "code",
   "execution_count": null,
   "metadata": {
    "id": "VMd6FbKOPM9t"
   },
   "outputs": [],
   "source": [
    "df_400m = px.data.iris() # iris is a pandas DataFrame\n",
    "fig = px.scatter(df_400m, x=\"Avg_Season_Best_400m\", y=\"400_PR\")\n",
    "fig.show()\n",
    "\n",
    "#fig.write_html(\"SB_400m_avg_vs_pr_scatter.html\")\n",
    "#fig.write_image(\"SB_400m_avg_vs_pr_scatter.svg\")"
   ]
  },
  {
   "cell_type": "markdown",
   "metadata": {
    "id": "83r3kkWEPM9u"
   },
   "source": [
    "Version 3"
   ]
  },
  {
   "cell_type": "code",
   "execution_count": null,
   "metadata": {
    "id": "-s8sYq73PM9u"
   },
   "outputs": [],
   "source": [
    "df_400m = px.data.iris()\n",
    "fig = px.scatter(df_400m, x=\"Avg_Season_Best_400m\", y=\"400_PR\", color=\"Country\",\n",
    "                 size='Avg_Season_Best_400m', hover_data=['400_PR'])\n",
    "fig.show()\n",
    "\n",
    "#fig.write_html(\"SB_400m_avg_vs_pr_scatter_2.html\")\n",
    "#fig.write_image(\"SB_400m_avg_vs_pr_scatter_2.svg\")"
   ]
  },
  {
   "cell_type": "markdown",
   "metadata": {
    "id": "GLGjvmJUPM9u"
   },
   "source": [
    "Version 4 (With Error Bars)"
   ]
  },
  {
   "cell_type": "code",
   "execution_count": null,
   "metadata": {
    "id": "spEqle0UPM9v"
   },
   "outputs": [],
   "source": [
    "df_400m = px.data.iris()\n",
    "df_400m[\"e\"] = df_400m[\"Avg_Season_Best_400m\"]/100\n",
    "fig = px.scatter(df_400m, x=\"Avg_Season_Best_400m\", y=\"400_PR\", color=\"Country\",\n",
    "                 error_x=\"e\", error_y=\"e\")\n",
    "fig.show()\n",
    "\n",
    "#fig.write_html(\"SB_400m_avg_vs_pr_scatter_3.html\")\n",
    "#fig.write_image(\"SB_400m_avg_vs_pr_scatter_3.svg\")"
   ]
  },
  {
   "cell_type": "markdown",
   "metadata": {
    "id": "59EWJvYhPM9v"
   },
   "source": [
    "Version 5 (Using Dash)"
   ]
  },
  {
   "cell_type": "code",
   "execution_count": null,
   "metadata": {
    "id": "nF1cf-sEPM9v"
   },
   "outputs": [],
   "source": [
    "\n",
    "\n",
    "app = Dash(__name__)\n",
    "\n",
    "\n",
    "app.layout = html.Div([\n",
    "    html.H4('Career Average 400m vs 400m PR'),\n",
    "    dcc.Graph(id=\"scatter-plot\"),\n",
    "    html.P(\"Filter by Career Season Best Average 400m:\"),\n",
    "    dcc.RangeSlider(\n",
    "        id='range-slider',\n",
    "        min=0, max=2.5, step=0.1,\n",
    "        marks={0: '0', 2.5: '2.5'},\n",
    "        value=[0.5, 2]\n",
    "    ),\n",
    "])\n",
    "\n",
    "\n",
    "@app.callback(\n",
    "    Output(\"scatter-plot\", \"figure\"),\n",
    "    Input(\"range-slider\", \"value\"))\n",
    "def update_bar_chart(slider_range):\n",
    "    df_400m = px.data.iris() # replace with your own data source\n",
    "    low, high = slider_range\n",
    "    mask = (df_400m['Avg_Season_Best_400m'] > low) & (df_400m['Avg_Season_Best_400m'] < high)\n",
    "    fig = px.scatter(\n",
    "        df[mask], x=\"Avg_Season_Best_400m\", y=\"400m_PR\",\n",
    "        color=\"Country\", size='Avg Season Best 400m',\n",
    "        hover_data=['400m_PR'])\n",
    "    return fig\n",
    "\n",
    "\n",
    "app.run_server(debug=True)\n",
    "\n",
    "#fig.write_html(\"SB_400m_avg_vs_pr_scatter_dash.html\")\n",
    "#fig.write_image(\"SB_400m_avg_vs_pr_scatter_dash.svg\")"
   ]
  },
  {
   "cell_type": "code",
   "execution_count": null,
   "metadata": {
    "id": "ZviyMlfp0m4E"
   },
   "outputs": [],
   "source": [
    "# @title Career Avg 400m vs 400_PR\n",
    "\n",
    "df_400m.plot(kind='scatter', x='Career_Avg_400m', y='400_PR', s=32, alpha=.8)\n",
    "plt.gca().spines[['top', 'right',]].set_visible(False)\n",
    "\n",
    "#plt.savefig('career_avg_400__vs_pr.png', format='png', dpi=300)\n",
    "#plt.savefig('career_avg_400_vs_pr.jpg', format='jpg', dpi=300)"
   ]
  },
  {
   "cell_type": "markdown",
   "metadata": {
    "id": "t4o_FZE92Vm0"
   },
   "source": [
    "Let's look at this more in depth"
   ]
  },
  {
   "cell_type": "code",
   "execution_count": null,
   "metadata": {
    "colab": {
     "base_uri": "https://localhost:8080/",
     "height": 373
    },
    "executionInfo": {
     "elapsed": 220,
     "status": "error",
     "timestamp": 1729647569600,
     "user": {
      "displayName": "Johnny Test",
      "userId": "16509896550579327523"
     },
     "user_tz": 240
    },
    "id": "S7ZE6QVBTKYA",
    "outputId": "e24b6a47-83e0-46b1-bfef-e620b4e95e06"
   },
   "outputs": [],
   "source": [
    "plt.figure(figsize = (12,8))\n",
    "\n",
    "sns.scatterplot(data = df_400m, x = 'Career_Avg_400m', y = '100_PR',\n",
    "                hue = 'cylinders', palette = 'Blues', edgecolor = 'black'\n",
    "               )\n",
    "plt.title('Career Average 400m vs. 400m PR');"
   ]
  },
  {
   "cell_type": "code",
   "execution_count": null,
   "metadata": {
    "id": "i7VZrfIsTLUa"
   },
   "outputs": [],
   "source": [
    "quadrant_plot(df_400m['Career_Avg_400m'], df_400m['400_PR'], labels = ['Career Average 400m', '400m PR'], figsize = (12,8))"
   ]
  },
  {
   "cell_type": "code",
   "execution_count": null,
   "metadata": {
    "id": "r8KYmkC81UNk"
   },
   "outputs": [],
   "source": [
    "quadrant_plot(df_400m['Career_Avg_400m'],\n",
    "              df_400m['400_PR'],\n",
    "              labels = ['Career Average 400m', '400m PR'],\n",
    "              quadrant = 4,\n",
    "              figsize = (12,8))"
   ]
  },
  {
   "cell_type": "code",
   "execution_count": null,
   "metadata": {
    "id": "Q-2d8Yjn1UN4"
   },
   "outputs": [],
   "source": [
    "quadrant_plot(df_400m['Career_Avg_400m'],\n",
    "              df_400m['400_PR'],\n",
    "              labels = ['Career Average 400m', '400m PR'],\n",
    "              quadrant = 2,\n",
    "              figsize = (12,8))"
   ]
  },
  {
   "cell_type": "code",
   "execution_count": null,
   "metadata": {
    "id": "aU0fjAyu1UN5"
   },
   "outputs": [],
   "source": [
    "quadrant_plot(df_400m['Career_Avg_400m'],\n",
    "              df_400m['400_PR'],\n",
    "              labels = ['Career Average 400m', '400m PR'],\n",
    "              quadrant = 3,\n",
    "              figsize = (12,8))"
   ]
  },
  {
   "cell_type": "code",
   "execution_count": null,
   "metadata": {
    "id": "etSy_wC31UN5"
   },
   "outputs": [],
   "source": [
    "quadrant_plot(df_400m['Career_Avg_400m'],\n",
    "              df_400m['400_PR'],\n",
    "              labels = ['Career Average 400m', '400m PR'],\n",
    "              quadrant = 1,\n",
    "              figsize = (12,8))"
   ]
  },
  {
   "cell_type": "code",
   "execution_count": null,
   "metadata": {
    "id": "PFoKxnuI3Bgo"
   },
   "outputs": [],
   "source": [
    "half_plot(df_400m['Career_Avg_400m'], df_400m['400_PR'], labels = ['Career_Avg_400m', '400_PR'],\n",
    "          figsize = (12,8), half = 'left')"
   ]
  },
  {
   "cell_type": "code",
   "execution_count": null,
   "metadata": {
    "id": "Ry2IvR2t3Bg6"
   },
   "outputs": [],
   "source": [
    "half_plot(df_400m['Career_Avg_400m'], df_400m['400_PR'], labels = ['Career_Avg_400m', '400_PR'],\n",
    "          figsize = (12,8), half = 'right')"
   ]
  },
  {
   "cell_type": "code",
   "execution_count": null,
   "metadata": {
    "id": "FbQXQz_fT0MA"
   },
   "outputs": [],
   "source": [
    "fig, ax = plt.subplots(figsize = (12,8))\n",
    "df_400m.plot(kind = 'scatter', x = 'Career_Avg_400m', y = '400_PR', ax = ax)\n",
    "\n",
    "x = np.linspace(df_400m['Career_Avg_400m'].min(), df_400m['400_PR'].max(), 100)\n",
    "z = np.polyfit(df_400m['Career_Avg_400m'], df_400m['400_PR'], 1)\n",
    "p = np.poly1d(z)\n",
    "plt.plot(x,p(x),\"r--\")\n",
    "\n",
    "plt.title('Career Average 400m vs. 400m PR');"
   ]
  },
  {
   "cell_type": "markdown",
   "metadata": {
    "id": "wuvrPgdSmOYe"
   },
   "source": [
    "Heatmaps"
   ]
  },
  {
   "cell_type": "code",
   "execution_count": null,
   "metadata": {
    "colab": {
     "base_uri": "https://localhost:8080/",
     "height": 542
    },
    "executionInfo": {
     "elapsed": 274,
     "status": "ok",
     "timestamp": 1726452844393,
     "user": {
      "displayName": "Johnny Test",
      "userId": "16509896550579327523"
     },
     "user_tz": 240
    },
    "id": "vPcBFpu5l9E0",
    "outputId": "bc3916ee-4d7f-4f39-9730-75559954e975"
   },
   "outputs": [],
   "source": [
    "# Calculate the average 400m PR per country\n",
    "avg_400m_pr_per_country = df_400m.groupby('Country')['400_PR'].mean().reset_index()\n",
    "\n",
    "fig = px.choropleth(avg_400m_pr_per_country,\n",
    "                    locations=\"Country\",\n",
    "                    locationmode='country names',\n",
    "                    color=\"400_PR\",\n",
    "                    hover_name=\"Country\",\n",
    "                    color_continuous_scale=\"Viridis\",\n",
    "                    title=\"Average 400m Personal Records by Country (Faster = Darker)\")\n",
    "\n",
    "fig.show()\n",
    "#fig.write_html(\"avg_400m_PR_country_map.html\")\n",
    "#fig.write_image(\"avg_400m_PR_country_map.svg\")"
   ]
  },
  {
   "cell_type": "code",
   "execution_count": null,
   "metadata": {
    "colab": {
     "base_uri": "https://localhost:8080/",
     "height": 542
    },
    "executionInfo": {
     "elapsed": 279,
     "status": "ok",
     "timestamp": 1726453034762,
     "user": {
      "displayName": "Johnny Test",
      "userId": "16509896550579327523"
     },
     "user_tz": 240
    },
    "id": "FhM3-NwjmnOr",
    "outputId": "652bb7b8-0432-434e-9e82-1e86121491b0"
   },
   "outputs": [],
   "source": [
    "# Extract birth months from DOB\n",
    "sprinters['Birth Month'] = pd.DatetimeIndex(sprinters['DOB']).month\n",
    "\n",
    "# Find the most common birth month for sprinters in each country\n",
    "common_birth_month = sprinters.groupby('Country')['Birth Month'].agg(lambda x: x.value_counts().index[0]).reset_index()\n",
    "\n",
    "fig = px.choropleth(common_birth_month,\n",
    "                    locations=\"Country\",\n",
    "                    locationmode='country names',\n",
    "                    color=\"Birth Month\",\n",
    "                    hover_name=\"Country\",\n",
    "                    title=\"Most Common Birth Month for Sprinters by Country\")\n",
    "\n",
    "fig.show()\n",
    "#fig.write_html(\"birth_month_distribution_country_map.html\")\n",
    "#fig.write_image(\"birth_month_distribution_country_map.svg\")"
   ]
  },
  {
   "cell_type": "code",
   "execution_count": null,
   "metadata": {
    "colab": {
     "base_uri": "https://localhost:8080/",
     "height": 542
    },
    "executionInfo": {
     "elapsed": 755,
     "status": "ok",
     "timestamp": 1726453377101,
     "user": {
      "displayName": "Johnny Test",
      "userId": "16509896550579327523"
     },
     "user_tz": 240
    },
    "id": "cKtqn0c1oi8N",
    "outputId": "ff7fab3a-aab8-46e5-ff20-474178e199d2"
   },
   "outputs": [],
   "source": [
    "# Extract the birth year and decade\n",
    "sprinters['Birth Year'] = pd.DatetimeIndex(sprinters['DOB']).year\n",
    "sprinters['Decade'] = (sprinters['Birth Year'] // 10) * 10\n",
    "\n",
    "# Calculate the average 100m PR by country and decade\n",
    "avg_400m_per_decade = sprinters.groupby(['Country', 'Decade'])['400_PR'].mean().reset_index()\n",
    "\n",
    "fig = px.choropleth(avg_400m_per_decade,\n",
    "                    locations=\"Country\",\n",
    "                    locationmode='country names',\n",
    "                    color=\"400_PR\",\n",
    "                    animation_frame=\"Decade\",  # Animate through decades\n",
    "                    hover_name=\"Country\",\n",
    "                    color_continuous_scale=\"Viridis\",\n",
    "                    title=\"Average 400m Personal Records by Decade\")\n",
    "\n",
    "fig.show()\n",
    "#fig.write_html(\"400m_sprinter_performance_by_decade_country_map.html\")\n",
    "#fig.write_image(\"400m_sprinter_performance_by_decade_country_map.svg\")"
   ]
  },
  {
   "cell_type": "markdown",
   "metadata": {
    "id": "Ui2-VZ00ffJx"
   },
   "source": [
    "# ***Statistical Analysis 400m***"
   ]
  },
  {
   "cell_type": "code",
   "execution_count": null,
   "metadata": {
    "id": "ZKQA3I0jSsUx"
   },
   "outputs": [],
   "source": [
    "from scipy.stats import zscore\n",
    "from sklearn.linear_model import LinearRegression"
   ]
  },
  {
   "cell_type": "markdown",
   "metadata": {
    "id": "HE7CWM-VffKI"
   },
   "source": [
    "Linear Regression"
   ]
  },
  {
   "cell_type": "code",
   "execution_count": null,
   "metadata": {
    "id": "dlPBx2KlffKJ"
   },
   "outputs": [],
   "source": [
    "# Function to calculate standard deviation (consistency)\n",
    "df_400m['consistency'] = df_400m['Avg_Season_Best_400m']  # Placeholder: You could replace with actual std per year data if available\n",
    "\n",
    "### 1. Regression Analysis ###\n",
    "# Linear regression: relationship between average_time and years_competed\n",
    "X = df_400m[['Years_Competed_400m', '400_PR']]\n",
    "y = df_400m['Avg_Season_Best_400m']\n",
    "\n",
    "# Fit model\n",
    "model = LinearRegression()\n",
    "model.fit(X, y)\n",
    "\n",
    "# Predictions and residuals\n",
    "df_400m['predicted_time'] = model.predict(X)\n",
    "df_400m['residuals'] = df_400m['Avg_Season_Best_400m'] - df_400m['predicted_time']\n",
    "\n",
    "print(\"Regression coefficients (slope):\", model.coef_)\n",
    "print(\"Intercept:\", model.intercept_)\n"
   ]
  },
  {
   "cell_type": "markdown",
   "metadata": {
    "id": "IAM9J91pffKK"
   },
   "source": [
    "Z-Score Standardization"
   ]
  },
  {
   "cell_type": "code",
   "execution_count": null,
   "metadata": {
    "id": "qt7sVhN8ffKL"
   },
   "outputs": [],
   "source": [
    "# Z-score for average_time and years_competed\n",
    "df_400m['z_time'] = zscore(df_400m['Avg Season Best 400m'])\n",
    "df_400m['z_years'] = zscore(df_400m['Years_Competed_400m'])\n",
    "df_400m['z_PR'] = zscore(df_400m['400_PR'])\n",
    "df_400m['z_career_avg_season'] = zscore(df['Career_Avg_400m'])\n",
    "df_400m['z_total_races'] = zscore(df['total_races_400m'])\n",
    "df_400m['z_races_per_year'] = zscore(df['races_per_year_400m'])\n",
    "\n",
    "# Z-score comparison (combine time and years)\n",
    "df_400m['z_combined'] = (df_400m['z_time'] + df_400m['z_years'] + df_400m['z_PR']+ df_400m['z_career_avg_season'] + df_400m['z_total_races'] + df_400m['z_races_per_year']) / 6"
   ]
  },
  {
   "cell_type": "markdown",
   "metadata": {
    "id": "qBm9rZIvffKL"
   },
   "source": [
    "Efficiency / Ratio Analysis"
   ]
  },
  {
   "cell_type": "code",
   "execution_count": null,
   "metadata": {
    "id": "mIWK9U54ffKM"
   },
   "outputs": [],
   "source": [
    "# Efficiency score (average_time per year competed)\n",
    "df_400m['efficiency_score'] = df_400m['Avg Season Best 400m'] / df_400m['Years_Competed_400m']\n",
    "\n",
    "# Efficiency score: How close the sprinter's average season best to their personal best\n",
    "df_400m['efficiency_score_pr'] = df_400m['400_PR'] / df_400m['Avg Season Best 400m']\n",
    "\n",
    "# Efficiency score: How close the sprinter's average is to their personal best\n",
    "df_400m['efficiency_score_pr'] = df_400m['400_PR'] / df_400m['Career_Avg_400m']"
   ]
  },
  {
   "cell_type": "markdown",
   "metadata": {
    "id": "j5XmlMUcffKM"
   },
   "source": [
    "Ranking System"
   ]
  },
  {
   "cell_type": "code",
   "execution_count": null,
   "metadata": {
    "id": "vNhjTYC4ffKN"
   },
   "outputs": [],
   "source": [
    "# Combine rankings based on average_time, consistency, and longevity (years_competed)\n",
    "df_400m['rank_personal_best'] = df_400m['400_PR'].rank(ascending=True)  # Lower personal best is better\n",
    "df_400m['rank_average_sb'] = df_400m['Avg Season Best 400m'].rank(ascending=True)  # Lower is better\n",
    "df_400m['rank_career_avg'] = df_400m['Career_Avg_400m'].rank(ascending=True)\n",
    "#df_400m['rank_consistency'] = df_400m['consistency'].rank(ascending=True)  # Lower std dev is better\n",
    "df_400m['rank_consistency'] = df_400m['consistency'].abs().rank(ascending=True) # Lower residuals (consistency) is better\n",
    "df_400m['rank_years_competed'] = df_400m['Years_Competed_400m'].rank(ascending=False)  # Longer careers are better\n",
    "df_400m['rank_total_races'] = df_400m['total_races_400m'].rank(ascending=False)  # More races is better\n",
    "df_400m['rank_races_per_year'] = df_400m['Avg_Races_Year_400m'].rank(ascending=False)  # More races per year is better\n",
    "\n",
    "#Final ranking\n",
    "df_400m['final_rank'] = df_400m[['rank_personal_best','rank_average_sb', 'rank_career_avg', 'rank_consistency', 'rank_years_competed', 'rank_total_races','rank_races_per_year']].mean(axis=1)"
   ]
  },
  {
   "cell_type": "markdown",
   "metadata": {
    "id": "6bVGzWjBffKN"
   },
   "source": [
    "Scatter Plot Visualization"
   ]
  },
  {
   "cell_type": "code",
   "execution_count": null,
   "metadata": {
    "id": "9cpnbCbNffKN"
   },
   "outputs": [],
   "source": [
    "plt.figure(figsize=(10, 6))\n",
    "sns.scatterplot(x='Years_Competed_400m', y='Avg_Season_Best_400m', data=df_400m, s=100, hue='final_rank', palette='coolwarm')\n",
    "plt.title('Years Competed vs. Career Average 100m Time')\n",
    "plt.xlabel('Years Competed')\n",
    "plt.ylabel('Average 400m Time (s)')\n",
    "plt.show()\n",
    "\n",
    "#plt.savefig('SB_avg_400_vs_yrs_competed_ranked.png', format='png', dpi=300)\n",
    "#plt.savefig('SB_avg_400_vs_yrs_competed_ranked.jpg', format='jpg', dpi=300)"
   ]
  },
  {
   "cell_type": "code",
   "execution_count": null,
   "metadata": {
    "id": "w_4v0XIV6gSP"
   },
   "outputs": [],
   "source": [
    "plt.figure(figsize=(10, 6))\n",
    "sns.scatterplot(x='Years_Competed_400m', y='Career_Avg_400m', data=df_400m, s=100, hue='final_rank', palette='coolwarm')\n",
    "plt.title('Years Competed vs. Career Average 400m Time')\n",
    "plt.xlabel('Years Competed')\n",
    "plt.ylabel('Career Average 400m Time (s)')\n",
    "plt.show()\n",
    "\n",
    "#plt.savefig('Career_avg_400_vs_yrs_competed_ranked.png', format='png', dpi=300)\n",
    "#plt.savefig('Career_avg_400_vs_yrs_competed_ranked.jpg', format='jpg', dpi=300)"
   ]
  },
  {
   "cell_type": "code",
   "execution_count": null,
   "metadata": {
    "id": "3b0Nk2Y67wh9"
   },
   "outputs": [],
   "source": [
    "plt.figure(figsize=(10, 6))\n",
    "sns.scatterplot(x='Years_Competed_400m', y='400_PR', data=df_400m, s=100, hue='final_rank', palette='coolwarm')\n",
    "plt.title('Years Competed vs. 400m PR')\n",
    "plt.xlabel('Years Competed')\n",
    "plt.ylabel('400m PR (s)')\n",
    "plt.show()\n",
    "\n",
    "#plt.savefig('400_PR_vs_yrs_competed_ranked.png', format='png', dpi=300)\n",
    "#plt.savefig('400m_PR_vs_yrs_competed_ranked.jpg', format='jpg', dpi=300)"
   ]
  },
  {
   "cell_type": "markdown",
   "metadata": {
    "id": "cnB01hZwffKO"
   },
   "source": [
    "Interactive Scatter Plot"
   ]
  },
  {
   "cell_type": "code",
   "execution_count": null,
   "metadata": {
    "id": "Pxd-sGSCffKO"
   },
   "outputs": [],
   "source": [
    "# @title Years Competed vs. Career Average 400m Time\n",
    "\n",
    "df_400m = px.data.iris()\n",
    "fig = px.scatter(df_400m, x=\"Years_Competed_400m\", y=\"Avg Season Best 400m\", color=\"final_rank\",\n",
    "                 size='Years_Competed_400m', hover_data=['Avg Season Best 400m']) #Potentially switch out career average for personal record regarding hover data.\n",
    "fig.show()\n",
    "\n",
    "#fig.write_html(\"avg_400_vs_yrs_competed_ranked.html\")\n",
    "#fig.write_image(\"avg_400_vs_yrs_competed_ranked.svg\")"
   ]
  },
  {
   "cell_type": "code",
   "execution_count": null,
   "metadata": {
    "id": "MG00C14c69Tt"
   },
   "outputs": [],
   "source": [
    "# @title Years Competed vs. Career Average 400m Time\n",
    "\n",
    "df_400m = px.data.iris()\n",
    "fig = px.scatter(df_400m, x=\"Years_Competed_400m\", y=\"Career_Avg_400m\", color=\"final_rank\",\n",
    "                 size='Years_Competed_400m', hover_data=['Career_Avg_400m']) #Potentially switch out career average for personal record regarding hover data.\n",
    "fig.show()\n",
    "\n",
    "#fig.write_html(\"Career_avg_400_vs_yrs_competed_ranked.html\")\n",
    "#fig.write_image(\"Career_avg_400_vs_yrs_competed_ranked.svg\")"
   ]
  },
  {
   "cell_type": "code",
   "execution_count": null,
   "metadata": {
    "id": "JPT0jFGL7Q0P"
   },
   "outputs": [],
   "source": [
    "# @title Years Competed vs. 400m PR\n",
    "\n",
    "df_400m = px.data.iris()\n",
    "fig = px.scatter(df_400m, x=\"Years_Competed_400m\", y=\"400_PR\", color=\"final_rank\",\n",
    "                 size='Years_Competed_400m', hover_data=['400_PR'])\n",
    "fig.show()\n",
    "\n",
    "#fig.write_html(\"400m_PR_vs_yrs_competed_ranked.html\")\n",
    "#fig.write_image(\"400m_PR_vs_yrs_competed_ranked.svg\")"
   ]
  },
  {
   "cell_type": "code",
   "execution_count": null,
   "metadata": {
    "id": "-C-2AQYWffKO"
   },
   "outputs": [],
   "source": [
    "print(df_400m[['Athlete', 'Avg_Season_Best_400m', 'Years_Competed_400m', '400_PR', 'residuals', 'z_combined', 'efficiency_score','efficiency_score_sb', 'efficiency_score_pr' 'final_rank']])"
   ]
  },
  {
   "cell_type": "code",
   "execution_count": null,
   "metadata": {
    "id": "GwMGu44EffKO"
   },
   "outputs": [],
   "source": [
    "df_400m_stat_analysis = df_400m[['Athlete', 'Avg_Season_Best_400m', 'Years_Competed_400m', '400_PR', 'residuals', 'z_combined', 'efficiency_score','efficiency_score_sb', 'efficiency_score_pr' 'final_rank']]"
   ]
  },
  {
   "cell_type": "code",
   "execution_count": null,
   "metadata": {
    "id": "2iaPpqtmffKP"
   },
   "outputs": [],
   "source": [
    "df_400m_stat_analysis = df_400m_stat_analysis.sort_values(by='final_rank')\n",
    "df_400m_stat_analysis.head(3)"
   ]
  },
  {
   "cell_type": "code",
   "execution_count": null,
   "metadata": {
    "id": "eHEpyRUCffKP"
   },
   "outputs": [],
   "source": [
    "#What sample size of the dataframe to we want to make into a figure factory table\n",
    "df_400m_stat_analysis_sample = df_400m_stat_analysis[1:10]\n",
    "\n",
    "#Cusomize Colors (Add colorscale=colorscale in parentheses of ff.create table)\n",
    "#colorscale = [[0, '#4d004c'],[.5, '#f2e5ff'],[1, '#ffffff']]\n",
    "#Cusomize Font Colors (Add font_colors=font in parentheses of ff.create table)\n",
    "#font=['#FCFCFC', '#00EE00', '#008B00', '#004F00', '#660000', '#CD0000', '#FF3030']\n",
    "\n",
    "table_data = df_400m_stat_analysis\n",
    "\n",
    "\n",
    "fig =  ff.create_table(df_400m_stat_analysis_sample)\n",
    "fig.show()\n",
    "\n",
    "#fig.write_html(\"df_400m_stat_analysis_sample_ff.html\")\n",
    "#fig.write_image(\"df_400m_stat_analysis_sample_ff.svg\")\n"
   ]
  },
  {
   "cell_type": "code",
   "execution_count": null,
   "metadata": {
    "id": "F5AApaEHffKP"
   },
   "outputs": [],
   "source": [
    "fig =  ff.create_table(df_400m_stat_analysis)\n",
    "fig.show()\n",
    "\n",
    "#fig.write_html(\"df_400m_stat_analysis_ff.html\")\n",
    "#fig.write_image(\"df_400m_stat_analysis_ff.svg\")"
   ]
  },
  {
   "cell_type": "code",
   "execution_count": null,
   "metadata": {
    "id": "gnHdOlFfffKP"
   },
   "outputs": [],
   "source": [
    "fig =  ff.create_table(df_400m)\n",
    "fig.show()\n",
    "\n",
    "#fig.write_html(\"df_400m_ff.html\")\n",
    "#fig.write_image(\"df_400m_ff.svg\")"
   ]
  },
  {
   "cell_type": "code",
   "execution_count": null,
   "metadata": {
    "id": "4wv121BbJLnD"
   },
   "outputs": [],
   "source": [
    "df_400m = pd.DataFrame(df_400m)"
   ]
  },
  {
   "cell_type": "code",
   "execution_count": null,
   "metadata": {
    "id": "0Z9dR02-ffKQ"
   },
   "outputs": [],
   "source": [
    "df_400m_stat_analysis = pd.DataFrame(df_400m_stat_analysis)"
   ]
  },
  {
   "cell_type": "markdown",
   "metadata": {
    "id": "GcOy5is8zNLT"
   },
   "source": [
    "# **Analysis of Personal Best Data (PB/PR)**"
   ]
  },
  {
   "cell_type": "code",
   "execution_count": null,
   "metadata": {
    "colab": {
     "base_uri": "https://localhost:8080/",
     "height": 141
    },
    "executionInfo": {
     "elapsed": 23,
     "status": "error",
     "timestamp": 1723675265923,
     "user": {
      "displayName": "Johnny Test",
      "userId": "16509896550579327523"
     },
     "user_tz": 240
    },
    "id": "rV3XMT77fvNl",
    "outputId": "de59986e-b480-4209-a89c-86392ee28332"
   },
   "outputs": [],
   "source": [
    "sprinters['400_PR'].mean()"
   ]
  },
  {
   "cell_type": "code",
   "execution_count": null,
   "metadata": {
    "id": "rBicwme8fvNm"
   },
   "outputs": [],
   "source": [
    "sprinters['400_PR'].median()"
   ]
  },
  {
   "cell_type": "code",
   "execution_count": null,
   "metadata": {
    "id": "rFUyGlx5fvNm"
   },
   "outputs": [],
   "source": [
    "sprinters['400_PR'].max()"
   ]
  },
  {
   "cell_type": "code",
   "execution_count": null,
   "metadata": {
    "id": "wBdAUHbffvNn"
   },
   "outputs": [],
   "source": [
    "sprinters.nlargest(1,'400_PR')"
   ]
  },
  {
   "cell_type": "code",
   "execution_count": null,
   "metadata": {
    "id": "jDSOU1HbfvNn"
   },
   "outputs": [],
   "source": [
    "sprinters.nsmallest(1,'400_PR')"
   ]
  },
  {
   "cell_type": "code",
   "execution_count": null,
   "metadata": {
    "id": "G7ZgYXEffvNn"
   },
   "outputs": [],
   "source": [
    "sprinters['400_PR'].max()- sprinters['400_PR'].min()\n"
   ]
  },
  {
   "cell_type": "markdown",
   "metadata": {
    "id": "7KCtDBSwfvNn"
   },
   "source": [
    "Variance and Standard Devivation\n"
   ]
  },
  {
   "cell_type": "code",
   "execution_count": null,
   "metadata": {
    "id": "L3W_79FGfvNo"
   },
   "outputs": [],
   "source": [
    "sprinters['400_PR_deviation'] = sprinters['400_PR'] - sprinters['400_PR'].mean()\n",
    "sprinters.head()"
   ]
  },
  {
   "cell_type": "code",
   "execution_count": null,
   "metadata": {
    "id": "t9-3Rth5fvNo"
   },
   "outputs": [],
   "source": [
    "sprinters['400_PR'].std()\n"
   ]
  },
  {
   "cell_type": "code",
   "execution_count": null,
   "metadata": {
    "id": "Crg6TuvMfvNo"
   },
   "outputs": [],
   "source": [
    "sprinters['400_PR_deviation'].mean()\n"
   ]
  },
  {
   "cell_type": "code",
   "execution_count": null,
   "metadata": {
    "id": "TUfy4HNQfvNo"
   },
   "outputs": [],
   "source": [
    "sprinters['squared_400_PR_deviation'] = sprinters['400_PR_deviation']**2\n",
    "sprinters"
   ]
  },
  {
   "cell_type": "markdown",
   "metadata": {
    "id": "arnUeXVWfvNp"
   },
   "source": [
    "Population Standard Deviation\n",
    "\n"
   ]
  },
  {
   "cell_type": "code",
   "execution_count": null,
   "metadata": {
    "id": "4A5MXU51fvNp"
   },
   "outputs": [],
   "source": [
    "np.sqrt(sprinters['squared_400_PR_deviation'].mean())"
   ]
  },
  {
   "cell_type": "code",
   "execution_count": null,
   "metadata": {
    "id": "9DJy131SfvNp"
   },
   "outputs": [],
   "source": [
    "sprinters['400_PR'].var(ddof = 0)\n"
   ]
  },
  {
   "cell_type": "code",
   "execution_count": null,
   "metadata": {
    "id": "RAEGOBGQfvNp"
   },
   "outputs": [],
   "source": [
    "sprinters['400_PR'].std(ddof = 0)\n"
   ]
  },
  {
   "cell_type": "code",
   "execution_count": null,
   "metadata": {
    "id": "5iXizj6DfvNp"
   },
   "outputs": [],
   "source": [
    "plt.figure(figsize = (10,6))\n",
    "\n",
    "std_plot(sprinters['400_PR'], edgecolor = 'black', linewidth = 2)"
   ]
  },
  {
   "cell_type": "markdown",
   "metadata": {
    "id": "LOHJcxTifvNq"
   },
   "source": [
    "z-scores"
   ]
  },
  {
   "cell_type": "code",
   "execution_count": null,
   "metadata": {
    "id": "KT-IFK65fvNq"
   },
   "outputs": [],
   "source": [
    "sprinters['400_PR_z-score'] = (sprinters['400_PR'] - sprinters['400_PR'].mean()) / sprinters['400_PR'].std(ddof = 0)\n"
   ]
  },
  {
   "cell_type": "code",
   "execution_count": null,
   "metadata": {
    "id": "JqA8JH2JfvNq"
   },
   "outputs": [],
   "source": [
    "sprinters['400_PR_z-score'].std()\n"
   ]
  },
  {
   "cell_type": "markdown",
   "metadata": {
    "id": "tc4A1DnnfvNq"
   },
   "source": [
    "Let's look at height z-scores for Usain Bolt"
   ]
  },
  {
   "cell_type": "code",
   "execution_count": null,
   "metadata": {
    "id": "f-c6UBHefvNr"
   },
   "outputs": [],
   "source": [
    "sprinters.loc[(sprinters.Athlete == 'Usain Bolt')]\n"
   ]
  },
  {
   "cell_type": "markdown",
   "metadata": {
    "id": "Hfua3PBCfvNr"
   },
   "source": [
    "Quartiles and Quantiles/Percentiles\n"
   ]
  },
  {
   "cell_type": "code",
   "execution_count": null,
   "metadata": {
    "id": "wUVvE8mqfvNr"
   },
   "outputs": [],
   "source": [
    "sprinters['400_PR'].quantile(q = 0.25)\n"
   ]
  },
  {
   "cell_type": "code",
   "execution_count": null,
   "metadata": {
    "id": "rP218_W_fvNr"
   },
   "outputs": [],
   "source": [
    "sprinters['400_PR'].quantile(q = 0.5)\n"
   ]
  },
  {
   "cell_type": "code",
   "execution_count": null,
   "metadata": {
    "id": "eNkkfYSGfvNr"
   },
   "outputs": [],
   "source": [
    "sprinters['400_PR'].quantile(q = 0.75)\n"
   ]
  },
  {
   "cell_type": "code",
   "execution_count": null,
   "metadata": {
    "id": "Trj-My3IfvNs"
   },
   "outputs": [],
   "source": [
    "sprinters['400_PR'].describe()\n"
   ]
  },
  {
   "cell_type": "markdown",
   "metadata": {
    "id": "AJDTvHSgfvNs"
   },
   "source": [
    "Interquartile Range\n",
    "\n"
   ]
  },
  {
   "cell_type": "code",
   "execution_count": null,
   "metadata": {
    "id": "8M-eG9_nfvNs"
   },
   "outputs": [],
   "source": [
    "sprinters['400_PR'].quantile(q = 0.75) - sprinters['400_PR'].quantile(q = 0.25)\n"
   ]
  },
  {
   "cell_type": "code",
   "execution_count": null,
   "metadata": {
    "id": "iMAJHB3VfvNs"
   },
   "outputs": [],
   "source": [
    "plt.figure(figsize = (10,6))\n",
    "\n",
    "iqr_plot(sprinters['400_PR'], bins = 25, edgecolor = 'black', linewidth = 2)"
   ]
  },
  {
   "cell_type": "markdown",
   "metadata": {
    "id": "JcLstpoZfvNt"
   },
   "source": [
    "Observing Outliers in the Dataset\n",
    "\n"
   ]
  },
  {
   "cell_type": "code",
   "execution_count": null,
   "metadata": {
    "id": "uOQ8IK9kfvNt"
   },
   "outputs": [],
   "source": [
    "plt.figure(figsize = (10,6))\n",
    "sns.boxplot(x = sprinters['400_PR']);"
   ]
  },
  {
   "cell_type": "markdown",
   "metadata": {
    "id": "Enwi65b6qZO9"
   },
   "source": [
    "# **Analysis of Season Best Data**"
   ]
  },
  {
   "cell_type": "code",
   "execution_count": null,
   "metadata": {
    "id": "S-kiMkLLrHgu"
   },
   "outputs": [],
   "source": [
    "SB_400m = sprinters_df2[sprinters_df2['Event'] == '400m']"
   ]
  },
  {
   "cell_type": "code",
   "execution_count": null,
   "metadata": {
    "colab": {
     "base_uri": "https://localhost:8080/",
     "height": 141
    },
    "executionInfo": {
     "elapsed": 23,
     "status": "error",
     "timestamp": 1723675265923,
     "user": {
      "displayName": "Johnny Test",
      "userId": "16509896550579327523"
     },
     "user_tz": 240
    },
    "id": "yjLnIPaaB8_M",
    "outputId": "de59986e-b480-4209-a89c-86392ee28332"
   },
   "outputs": [],
   "source": [
    "SB_400m['Time'].mean()"
   ]
  },
  {
   "cell_type": "code",
   "execution_count": null,
   "metadata": {
    "id": "HY3Z_4smB9VH"
   },
   "outputs": [],
   "source": [
    "SB_400m['Time'].median()"
   ]
  },
  {
   "cell_type": "code",
   "execution_count": null,
   "metadata": {
    "id": "klpWE7F6B9hG"
   },
   "outputs": [],
   "source": [
    "SB_400m['Time'].max()"
   ]
  },
  {
   "cell_type": "code",
   "execution_count": null,
   "metadata": {
    "id": "dHK8RyCLB9rG"
   },
   "outputs": [],
   "source": [
    "SB_400m.nlargest(1,'Time')"
   ]
  },
  {
   "cell_type": "code",
   "execution_count": null,
   "metadata": {
    "id": "AsxX2Uh_B92p"
   },
   "outputs": [],
   "source": [
    "SB_400m.nsmallest(1,'Time')"
   ]
  },
  {
   "cell_type": "code",
   "execution_count": null,
   "metadata": {
    "id": "KiN_zSDzB-EE"
   },
   "outputs": [],
   "source": [
    "SB_400m['Time'].max()- SB_400m['Time'].min()\n"
   ]
  },
  {
   "cell_type": "markdown",
   "metadata": {
    "id": "a9SflrD4DHpj"
   },
   "source": [
    "Variance and Standard Devivation\n"
   ]
  },
  {
   "cell_type": "code",
   "execution_count": null,
   "metadata": {
    "id": "wf8OUQC7Daij"
   },
   "outputs": [],
   "source": [
    "SB_400m['400m_SB_deviation'] = SB_400m['Time'] - SB_400m['Time'].mean()\n",
    "SB_400m.head()"
   ]
  },
  {
   "cell_type": "code",
   "execution_count": null,
   "metadata": {
    "id": "yoTVyMZiDas-"
   },
   "outputs": [],
   "source": [
    "SB_400m['Time'].std()\n"
   ]
  },
  {
   "cell_type": "code",
   "execution_count": null,
   "metadata": {
    "id": "8yYAtdweDa0g"
   },
   "outputs": [],
   "source": [
    "SB_400m['400m_SB_deviation'].mean()\n"
   ]
  },
  {
   "cell_type": "code",
   "execution_count": null,
   "metadata": {
    "id": "NKhDeZ1pDbF7"
   },
   "outputs": [],
   "source": [
    "SB_400m['squared_400m_SB_deviation'] = SB_400m['400m_SB_deviation']**2\n",
    "SB_400m"
   ]
  },
  {
   "cell_type": "markdown",
   "metadata": {
    "id": "qnzAnD9zD-Hq"
   },
   "source": [
    "Population Standard Deviation\n",
    "\n"
   ]
  },
  {
   "cell_type": "code",
   "execution_count": null,
   "metadata": {
    "id": "XGRZSWJfECL1"
   },
   "outputs": [],
   "source": [
    "np.sqrt(SB_400m['squared_400m_SB_deviation'].mean())"
   ]
  },
  {
   "cell_type": "code",
   "execution_count": null,
   "metadata": {
    "id": "LRXab83OECbh"
   },
   "outputs": [],
   "source": [
    "SB_400m['Time'].var(ddof = 0)\n"
   ]
  },
  {
   "cell_type": "code",
   "execution_count": null,
   "metadata": {
    "id": "fJ2ap6lHECjc"
   },
   "outputs": [],
   "source": [
    "SB_400m['Time'].std(ddof = 0)\n"
   ]
  },
  {
   "cell_type": "code",
   "execution_count": null,
   "metadata": {
    "id": "NzFQdZ_zECrK"
   },
   "outputs": [],
   "source": [
    "plt.figure(figsize = (10,6))\n",
    "\n",
    "std_plot(SB_400m['Time'], edgecolor = 'black', linewidth = 2)"
   ]
  },
  {
   "cell_type": "markdown",
   "metadata": {
    "id": "pPNMzEoqFH_6"
   },
   "source": [
    "z-scores"
   ]
  },
  {
   "cell_type": "code",
   "execution_count": null,
   "metadata": {
    "id": "_Gr_VaA_FIjI"
   },
   "outputs": [],
   "source": [
    "SB_400m['100m_SB_z-score'] = (SB_400m['Time'] - SB_400m['Time'].mean()) / SB_400m['Time'].std(ddof = 0)\n"
   ]
  },
  {
   "cell_type": "code",
   "execution_count": null,
   "metadata": {
    "id": "NARN2qniFIwh"
   },
   "outputs": [],
   "source": [
    "SB_400m['400m_SB_z-score'].std()\n"
   ]
  },
  {
   "cell_type": "markdown",
   "metadata": {
    "id": "Jl3g82k5GhE4"
   },
   "source": [
    "Let's look at height z-scores for Usain Bolt"
   ]
  },
  {
   "cell_type": "code",
   "execution_count": null,
   "metadata": {
    "id": "Gyoyx7rTGUnv"
   },
   "outputs": [],
   "source": [
    "SB_400m.loc[(SB_400m.Athlete == 'Usain Bolt')]\n"
   ]
  },
  {
   "cell_type": "markdown",
   "metadata": {
    "id": "lY4PjiLuHCRF"
   },
   "source": [
    "Quartiles and Quantiles/Percentiles\n"
   ]
  },
  {
   "cell_type": "code",
   "execution_count": null,
   "metadata": {
    "id": "o7cxCO2kFI6h"
   },
   "outputs": [],
   "source": [
    "SB_400m['Time'].quantile(q = 0.25)\n"
   ]
  },
  {
   "cell_type": "code",
   "execution_count": null,
   "metadata": {
    "id": "3WdEN6mYFJEn"
   },
   "outputs": [],
   "source": [
    "SB_400m['Time'].quantile(q = 0.5)\n"
   ]
  },
  {
   "cell_type": "code",
   "execution_count": null,
   "metadata": {
    "id": "fD7crYnqHNhq"
   },
   "outputs": [],
   "source": [
    "SB_400m['Time'].quantile(q = 0.75)\n"
   ]
  },
  {
   "cell_type": "code",
   "execution_count": null,
   "metadata": {
    "id": "Z_4vGiWJHPoz"
   },
   "outputs": [],
   "source": [
    "SB_400m['Time'].describe()\n"
   ]
  },
  {
   "cell_type": "markdown",
   "metadata": {
    "id": "zNZMhujvHhNH"
   },
   "source": [
    "Interquartile Range\n",
    "\n"
   ]
  },
  {
   "cell_type": "code",
   "execution_count": null,
   "metadata": {
    "id": "5lfWw53AHkrA"
   },
   "outputs": [],
   "source": [
    "SB_400m['Time'].quantile(q = 0.75) - SB_400m['Time'].quantile(q = 0.25)\n"
   ]
  },
  {
   "cell_type": "code",
   "execution_count": null,
   "metadata": {
    "id": "SiLcJWbpHk5p"
   },
   "outputs": [],
   "source": [
    "plt.figure(figsize = (10,6))\n",
    "\n",
    "iqr_plot(SB_400m['Time'], bins = 25, edgecolor = 'black', linewidth = 2)"
   ]
  },
  {
   "cell_type": "markdown",
   "metadata": {
    "id": "TRDIwwNOHlZg"
   },
   "source": [
    "Observing Outliers in the Dataset\n",
    "\n"
   ]
  },
  {
   "cell_type": "code",
   "execution_count": null,
   "metadata": {
    "id": "sgAuB4GuHoh6"
   },
   "outputs": [],
   "source": [
    "plt.figure(figsize = (10,6))\n",
    "sns.boxplot(x = SB_400m['Time']);"
   ]
  },
  {
   "cell_type": "markdown",
   "metadata": {
    "id": "_m2Qy5yE8T9k"
   },
   "source": [
    "**Statisical Tests**"
   ]
  },
  {
   "cell_type": "markdown",
   "metadata": {
    "id": "aIO5k27h8iQp"
   },
   "source": [
    "*ANOVA test comparing event times across athletes*"
   ]
  },
  {
   "cell_type": "markdown",
   "metadata": {
    "id": "Rjcl__wY8y5y"
   },
   "source": [
    "This test will check if there are statistically significant differences in the average times for different athletes in a specific event.\n",
    "\n",
    "It will identify whether the differences in mean times between athletes are greater than would be expected by random chance."
   ]
  },
  {
   "cell_type": "markdown",
   "metadata": {
    "id": "odrywZwQ9sEm"
   },
   "source": [
    "400m ANOVA"
   ]
  },
  {
   "cell_type": "code",
   "execution_count": null,
   "metadata": {
    "id": "2xt9yMlr8VFl"
   },
   "outputs": [],
   "source": [
    "# Create a list of times for each athlete\n",
    "athlete_SB_times_400 = [group['Time'].values for name, group in SB_400m.groupby('Athlete')]\n",
    "\n",
    "# Run one-way ANOVA\n",
    "f_stat, p_val = stats.f_oneway(*athlete_times_400)\n",
    "print(f\"ANOVA result: F-statistic = {f_stat}, p-value = {p_val}\")\n"
   ]
  },
  {
   "cell_type": "markdown",
   "metadata": {
    "id": "tP2IjeMiBFJD"
   },
   "source": [
    "*T-test - Compare Two Athletes' Performances*\n",
    "\n"
   ]
  },
  {
   "cell_type": "markdown",
   "metadata": {
    "id": "duVXjd8EC6th"
   },
   "source": [
    "We will use the T-test to T-test to compare the performance of two athletes in a particular event. This will assess if the difference between the two athletes' performance is statistically significant."
   ]
  },
  {
   "cell_type": "markdown",
   "metadata": {
    "id": "gyRUOwM9BImm"
   },
   "source": [
    "400m T-test"
   ]
  },
  {
   "cell_type": "code",
   "execution_count": null,
   "metadata": {
    "id": "P003hQjWBFox"
   },
   "outputs": [],
   "source": [
    "# Filter data for two specific athletes in the 400m event\n",
    "athlete_400_SB_a = sprinters_df2[(sprinters_df2['Athlete'] == 'Athlete A') & (sprinters_df2['Event'] == '400m')]['Time']\n",
    "athlete_400_SB_b = sprinters_df2[(sprinters_df2['Athlete'] == 'Athlete B') & (sprinters_df2['Event'] == '400m')]['Time']\n",
    "\n",
    "# Run independent t-test\n",
    "t_stat, p_val = stats.ttest_ind(athlete_400_SB_a, athlete_400_SB_b)\n",
    "print(f\"T-test result: T-statistic = {t_stat}, p-value = {p_val}\")\n"
   ]
  },
  {
   "cell_type": "markdown",
   "metadata": {
    "id": "POGCnc80Efvv"
   },
   "source": [
    "*Correlation Analysis – Time vs. Year for a Specific Event*"
   ]
  },
  {
   "cell_type": "markdown",
   "metadata": {
    "id": "1SLoBO5MEhRN"
   },
   "source": [
    "This will allow us to explore whether there's a trend in athletes' performance over time by checking the correlation between Year and Time in different events."
   ]
  },
  {
   "cell_type": "markdown",
   "metadata": {
    "id": "9HhxghhxE1rr"
   },
   "source": [
    "400m Correlation Analysis"
   ]
  },
  {
   "cell_type": "code",
   "execution_count": null,
   "metadata": {
    "id": "dKgBZR56EgHw"
   },
   "outputs": [],
   "source": [
    "correlation_400_SB = SB_400m['Year'].corr(SB_400m['Time'])\n",
    "print(f\"Correlation between Year and Time (400m): {correlation}\")\n"
   ]
  },
  {
   "cell_type": "markdown",
   "metadata": {
    "id": "26HEaix7SGEX"
   },
   "source": [
    "*Time Series Analysis – Track Athlete Performance Over Time*"
   ]
  },
  {
   "cell_type": "markdown",
   "metadata": {
    "id": "8zUD6tOVSGVI"
   },
   "source": [
    "Let's perform time series analysis to track an individual athlete’s performance. This will allow us to detect patterns, trends, or seasonal effects in an athlete's performance over time."
   ]
  },
  {
   "cell_type": "code",
   "execution_count": null,
   "metadata": {
    "id": "rijzbHBrSInG"
   },
   "outputs": [],
   "source": [
    "# Filter data for one athlete\n",
    "athlete_data_SB = sprinters_df2[sprinters_df2['Athlete'] == 'Athlete A'].sort_values(by='Year')\n",
    "\n",
    "# Calculate the rolling average (moving average) for the time over 3 events\n",
    "athlete_data_SB['Moving_Avg'] = athlete_data_SB['Time'].rolling(window=3).mean()\n",
    "\n",
    "# Plot the moving average\n",
    "athlete_data_SB[['Year', 'Moving_Avg']].plot(x='Year', y='Moving_Avg')\n"
   ]
  },
  {
   "cell_type": "markdown",
   "metadata": {
    "id": "xvLE1JozDYgc"
   },
   "source": [
    "*Linear Regression – Predict Time Based on Year and Other Variables*\n",
    "\n"
   ]
  },
  {
   "cell_type": "markdown",
   "metadata": {
    "id": "sUOl7w--Dac4"
   },
   "source": [
    "We can use linear regression to predict race times based on year, athlete, location, or other factors. This can help us model how times change over time or in different conditions."
   ]
  },
  {
   "cell_type": "markdown",
   "metadata": {
    "id": "Xa_b-ZbitSme"
   },
   "source": [
    "*Linear Regression 400m*"
   ]
  },
  {
   "cell_type": "code",
   "execution_count": null,
   "metadata": {
    "id": "4iTImHE5DdoD"
   },
   "outputs": [],
   "source": [
    "# Prepare the data (for example, predicting time in the 400m event)\n",
    "event_data_SB = sprinters_df2[sprinters_df2['Event'] == '400m']\n",
    "X = event_data_SB[['Year']]  # You can add other features such as 'Location', 'Athlete'\n",
    "y = event_data_SB['Time']\n",
    "\n",
    "# Fit the linear regression model\n",
    "model = LinearRegression()\n",
    "model.fit(X, y)\n",
    "\n",
    "# Print the coefficients and intercept\n",
    "print(f\"Coefficient: {model.coef_}, Intercept: {model.intercept_}\")\n"
   ]
  },
  {
   "cell_type": "markdown",
   "metadata": {
    "id": "yinHHZNF4Dpy"
   },
   "source": [
    "Logistic Regression Model"
   ]
  },
  {
   "cell_type": "code",
   "execution_count": null,
   "metadata": {
    "id": "ML4A98ps4Dp-"
   },
   "outputs": [],
   "source": [
    "logreg = sm.logit('Year ~ Time', data = event_data_SB).fit()"
   ]
  },
  {
   "cell_type": "code",
   "execution_count": null,
   "metadata": {
    "id": "d-cZ1HWo4Dp-"
   },
   "outputs": [],
   "source": [
    "logreg.summary()"
   ]
  },
  {
   "cell_type": "code",
   "execution_count": null,
   "metadata": {
    "id": "zMc3XMtK4Dp-"
   },
   "outputs": [],
   "source": [
    "logreg.predict(event_data_SB)"
   ]
  },
  {
   "cell_type": "markdown",
   "metadata": {
    "id": "rHdD0bTp4Dp_"
   },
   "source": [
    "Logistic Regression Interference"
   ]
  },
  {
   "cell_type": "code",
   "execution_count": null,
   "metadata": {
    "id": "4Lo3U2hf4Dp_"
   },
   "outputs": [],
   "source": [
    "logreg_full = sm.logit('Year ~ Time + Insert_Column_Here', data = event_data_SB).fit()\n",
    "logreg_reduced = sm.logit('Year ~ Time', data = event_data_SB).fit()"
   ]
  },
  {
   "cell_type": "code",
   "execution_count": null,
   "metadata": {
    "id": "tm-JWX_O4Dp_"
   },
   "outputs": [],
   "source": [
    "logreg_full.llf"
   ]
  },
  {
   "cell_type": "code",
   "execution_count": null,
   "metadata": {
    "id": "BL0jTOJl4DqA"
   },
   "outputs": [],
   "source": [
    "logreg_reduced.llf"
   ]
  },
  {
   "cell_type": "code",
   "execution_count": null,
   "metadata": {
    "id": "qNIzDi2R4DqA"
   },
   "outputs": [],
   "source": [
    "G2 = -2 * (logreg_reduced.llf - logreg_full.llf)\n",
    "G2"
   ]
  },
  {
   "cell_type": "markdown",
   "metadata": {
    "id": "jd8IvPFI4DqA"
   },
   "source": [
    "Chi Squared Distribution"
   ]
  },
  {
   "cell_type": "code",
   "execution_count": null,
   "metadata": {
    "id": "VIcQiLD34DqA"
   },
   "outputs": [],
   "source": [
    "df = logreg_full.df_model - logreg_reduced.df_model"
   ]
  },
  {
   "cell_type": "code",
   "execution_count": null,
   "metadata": {
    "id": "2wu3uGRX4DqB"
   },
   "outputs": [],
   "source": [
    "chi2.sf(G2, df = df)"
   ]
  },
  {
   "cell_type": "markdown",
   "metadata": {
    "id": "C8ZmrRQs4DqB"
   },
   "source": [
    "Let's consense the logistic regression interference and chi-squared distribution into one cell."
   ]
  },
  {
   "cell_type": "code",
   "execution_count": null,
   "metadata": {
    "id": "Ihrb6KI94DqB"
   },
   "outputs": [],
   "source": [
    "logreg_full = sm.logit('Year ~ Time + Insert_Column_Here', data = event_data_SB).fit()\n",
    "logreg_reduced = sm.logit('Year ~ Time', data = event_data_SB).fit()\n",
    "\n",
    "G2 = -2 * (logreg_reduced.llf - logreg_full.llf)\n",
    "df = logreg_full.df_model - logreg_reduced.df_model\n",
    "print(f'p-value: {chi2.sf(G2, df = df)}')"
   ]
  },
  {
   "cell_type": "markdown",
   "metadata": {
    "id": "drjnzCyx4DqC"
   },
   "source": [
    "Generating Predictions"
   ]
  },
  {
   "cell_type": "markdown",
   "metadata": {
    "id": "cw5Ga7Bc4DqC"
   },
   "source": [
    "We'll stratify to ensure that the proportion of the stratify variable is the same in the training data and in the test data."
   ]
  },
  {
   "cell_type": "code",
   "execution_count": null,
   "metadata": {
    "id": "4nd7o73Y4DqC"
   },
   "outputs": [],
   "source": [
    "SB_train, SB_test = train_test_split(event_data_SB, test_size = 0.25, stratify = event_data_CD['Year'], random_state = 321)"
   ]
  },
  {
   "cell_type": "markdown",
   "metadata": {
    "id": "St-rgLRV4DqC"
   },
   "source": [
    "We'll fit a model using several of our predictor variables."
   ]
  },
  {
   "cell_type": "code",
   "execution_count": null,
   "metadata": {
    "id": "3jDL3a0j4DqD"
   },
   "outputs": [],
   "source": [
    "logreg_pred = sm.logit('Year ~ Time + Insert + Columns + Here + In + These + Blank + Spaces + Check + Dataframe',\n",
    "                       data = event_data_SB).fit()"
   ]
  },
  {
   "cell_type": "code",
   "execution_count": null,
   "metadata": {
    "id": "VItBL5yE4DqD"
   },
   "outputs": [],
   "source": [
    "y_pred = logreg_pred.predict(SB_test) > 0.5"
   ]
  },
  {
   "cell_type": "markdown",
   "metadata": {
    "id": "KlfOMzmp4DqD"
   },
   "source": [
    "Let's see how well the predicted values matche up to the true labels."
   ]
  },
  {
   "cell_type": "code",
   "execution_count": null,
   "metadata": {
    "id": "-Fg7wvLB4DqE"
   },
   "outputs": [],
   "source": [
    "pd.crosstab(SB_test['Year'], y_pred)"
   ]
  },
  {
   "cell_type": "code",
   "execution_count": null,
   "metadata": {
    "id": "QoXK9ywM4DqE"
   },
   "outputs": [],
   "source": [
    "cm_analysis(SB_test['Year'], y_pred, labels = [0, 1], figsize = (7,6))"
   ]
  },
  {
   "cell_type": "markdown",
   "metadata": {
    "id": "k6FIgKVRHsob"
   },
   "source": [
    "Visualizations"
   ]
  },
  {
   "cell_type": "code",
   "execution_count": null,
   "metadata": {
    "id": "oBnQI9TLHsos"
   },
   "outputs": [],
   "source": [
    "SB_400m['Time'].hist();"
   ]
  },
  {
   "cell_type": "code",
   "execution_count": null,
   "metadata": {
    "id": "n6Y6RL99Hsot"
   },
   "outputs": [],
   "source": [
    "probplot(SB_400m['Time'], plot=plt);"
   ]
  },
  {
   "cell_type": "code",
   "execution_count": null,
   "metadata": {
    "id": "_ZoyK_qkHsot"
   },
   "outputs": [],
   "source": [
    "plt.figure(figsize = (10,6))\n",
    "\n",
    "std_plot(SB_400m['Time'], edgecolor = 'black', linewidth = 2)"
   ]
  },
  {
   "cell_type": "code",
   "execution_count": null,
   "metadata": {
    "id": "P2AFdOScHsou"
   },
   "outputs": [],
   "source": [
    "plt.figure(figsize = (10,6))\n",
    "\n",
    "iqr_plot(SB_400m['Time'], bins = 25, edgecolor = 'black', linewidth = 2)"
   ]
  },
  {
   "cell_type": "code",
   "execution_count": null,
   "metadata": {
    "id": "lN2nwULmHsou"
   },
   "outputs": [],
   "source": [
    "plt.figure(figsize = (10,6))\n",
    "sns.boxplot(x = CD_400m['Time']);"
   ]
  },
  {
   "cell_type": "markdown",
   "metadata": {
    "id": "E65CzLiZqpad"
   },
   "source": [
    "# **Analysis of Career Data**"
   ]
  },
  {
   "cell_type": "code",
   "execution_count": null,
   "metadata": {
    "id": "sVlubkcArPfu"
   },
   "outputs": [],
   "source": [
    "CD_400m = sprinters_df3[sprinters_df3['Event'] == '400m']"
   ]
  },
  {
   "cell_type": "code",
   "execution_count": null,
   "metadata": {
    "colab": {
     "base_uri": "https://localhost:8080/",
     "height": 141
    },
    "executionInfo": {
     "elapsed": 23,
     "status": "error",
     "timestamp": 1723675265923,
     "user": {
      "displayName": "Johnny Test",
      "userId": "16509896550579327523"
     },
     "user_tz": 240
    },
    "id": "mWDB0U4PsarG",
    "outputId": "de59986e-b480-4209-a89c-86392ee28332"
   },
   "outputs": [],
   "source": [
    "CD_400m['Time'].mean()"
   ]
  },
  {
   "cell_type": "code",
   "execution_count": null,
   "metadata": {
    "id": "Rf88lwfrsarI"
   },
   "outputs": [],
   "source": [
    "CD_400m['Time'].median()"
   ]
  },
  {
   "cell_type": "code",
   "execution_count": null,
   "metadata": {
    "id": "H0twRuDdsarI"
   },
   "outputs": [],
   "source": [
    "CD_400m['Time'].max()"
   ]
  },
  {
   "cell_type": "code",
   "execution_count": null,
   "metadata": {
    "id": "M_DN17tvsarJ"
   },
   "outputs": [],
   "source": [
    "CD_400m.nlargest(1,'Time')"
   ]
  },
  {
   "cell_type": "code",
   "execution_count": null,
   "metadata": {
    "id": "Gi6jeeNKsarJ"
   },
   "outputs": [],
   "source": [
    "CD_400m.nsmallest(1,'Time')"
   ]
  },
  {
   "cell_type": "code",
   "execution_count": null,
   "metadata": {
    "id": "pkRlJfQisarK"
   },
   "outputs": [],
   "source": [
    "CD_400m['Time'].max()- CD_400m['Time'].min()\n"
   ]
  },
  {
   "cell_type": "markdown",
   "metadata": {
    "id": "uCexHWoasarK"
   },
   "source": [
    "Variance and Standard Devivation\n"
   ]
  },
  {
   "cell_type": "code",
   "execution_count": null,
   "metadata": {
    "id": "KQ4B56DtsarL"
   },
   "outputs": [],
   "source": [
    "CD_400m['400m_CD_deviation'] = CD_400m['Time'] - CD_400m['Time'].mean()\n",
    "CD_400m.head()"
   ]
  },
  {
   "cell_type": "code",
   "execution_count": null,
   "metadata": {
    "id": "NSOvSdBqsarL"
   },
   "outputs": [],
   "source": [
    "CD_400m['Time'].std()\n"
   ]
  },
  {
   "cell_type": "code",
   "execution_count": null,
   "metadata": {
    "id": "qsmkMPowsarM"
   },
   "outputs": [],
   "source": [
    "CD_400m['400m_CD_deviation'].mean()\n"
   ]
  },
  {
   "cell_type": "code",
   "execution_count": null,
   "metadata": {
    "id": "iH56szTPsarM"
   },
   "outputs": [],
   "source": [
    "CD_400m['squared_400m_CD_deviation'] = CD_400m['400m_CD_deviation']**2\n",
    "CD_400m"
   ]
  },
  {
   "cell_type": "markdown",
   "metadata": {
    "id": "d-_nRRy0sarN"
   },
   "source": [
    "Population Standard Deviation\n",
    "\n"
   ]
  },
  {
   "cell_type": "code",
   "execution_count": null,
   "metadata": {
    "id": "QTg2tbxAsarO"
   },
   "outputs": [],
   "source": [
    "np.sqrt(CD_400m['squared_400m_CD_deviation'].mean())"
   ]
  },
  {
   "cell_type": "code",
   "execution_count": null,
   "metadata": {
    "id": "rEuYNGAOsarO"
   },
   "outputs": [],
   "source": [
    "CD_400m['Time'].var(ddof = 0)\n"
   ]
  },
  {
   "cell_type": "code",
   "execution_count": null,
   "metadata": {
    "id": "HBv64Uq-sarP"
   },
   "outputs": [],
   "source": [
    "CD_400m['Time'].std(ddof = 0)\n"
   ]
  },
  {
   "cell_type": "code",
   "execution_count": null,
   "metadata": {
    "id": "UW9Uj9c4sarP"
   },
   "outputs": [],
   "source": [
    "plt.figure(figsize = (10,6))\n",
    "\n",
    "std_plot(CD_400m['Time'], edgecolor = 'black', linewidth = 2)"
   ]
  },
  {
   "cell_type": "markdown",
   "metadata": {
    "id": "HZeyP763sarQ"
   },
   "source": [
    "z-scores"
   ]
  },
  {
   "cell_type": "code",
   "execution_count": null,
   "metadata": {
    "id": "beujEu0tsarR"
   },
   "outputs": [],
   "source": [
    "CD_400m['400m_CD_z-score'] = (CD_400m['Time'] - CD_400m['Time'].mean()) / CD_400m['Time'].std(ddof = 0)\n"
   ]
  },
  {
   "cell_type": "code",
   "execution_count": null,
   "metadata": {
    "id": "xOr6bGsysarR"
   },
   "outputs": [],
   "source": [
    "CD_400m['400m_CD_z-score'].std()\n"
   ]
  },
  {
   "cell_type": "markdown",
   "metadata": {
    "id": "scHzMfKOsarS"
   },
   "source": [
    "Let's look at height z-scores for Usain Bolt"
   ]
  },
  {
   "cell_type": "code",
   "execution_count": null,
   "metadata": {
    "id": "YjZORGIdsarS"
   },
   "outputs": [],
   "source": [
    "CD_400m.loc[(CD_100m.Athlete == 'Usain Bolt')]\n"
   ]
  },
  {
   "cell_type": "markdown",
   "metadata": {
    "id": "B9B_Au2nsarT"
   },
   "source": [
    "Quartiles and Quantiles/Percentiles\n"
   ]
  },
  {
   "cell_type": "code",
   "execution_count": null,
   "metadata": {
    "id": "6eFMWjYpsarT"
   },
   "outputs": [],
   "source": [
    "CD_400m['Time'].quantile(q = 0.25)\n"
   ]
  },
  {
   "cell_type": "code",
   "execution_count": null,
   "metadata": {
    "id": "Ucbyp5wQsarU"
   },
   "outputs": [],
   "source": [
    "CD_400m['Time'].quantile(q = 0.5)\n"
   ]
  },
  {
   "cell_type": "code",
   "execution_count": null,
   "metadata": {
    "id": "T7CPyF5gsarU"
   },
   "outputs": [],
   "source": [
    "CD_400m['Time'].quantile(q = 0.75)\n"
   ]
  },
  {
   "cell_type": "code",
   "execution_count": null,
   "metadata": {
    "id": "RuIF2_dSsarV"
   },
   "outputs": [],
   "source": [
    "CD_400m['Time'].describe()\n"
   ]
  },
  {
   "cell_type": "markdown",
   "metadata": {
    "id": "xQ0cxL_VsarV"
   },
   "source": [
    "Interquartile Range\n",
    "\n"
   ]
  },
  {
   "cell_type": "code",
   "execution_count": null,
   "metadata": {
    "id": "evf9zvESsarW"
   },
   "outputs": [],
   "source": [
    "CD_400m['Time'].quantile(q = 0.75) - CD_400m['Time'].quantile(q = 0.25)\n"
   ]
  },
  {
   "cell_type": "code",
   "execution_count": null,
   "metadata": {
    "id": "ON7PT_3QsarW"
   },
   "outputs": [],
   "source": [
    "plt.figure(figsize = (10,6))\n",
    "\n",
    "iqr_plot(CD_400m['Time'], bins = 25, edgecolor = 'black', linewidth = 2)"
   ]
  },
  {
   "cell_type": "markdown",
   "metadata": {
    "id": "apLqJTM3sarX"
   },
   "source": [
    "Observing Outliers in the Dataset\n",
    "\n"
   ]
  },
  {
   "cell_type": "code",
   "execution_count": null,
   "metadata": {
    "id": "Rukb5jeIsarX"
   },
   "outputs": [],
   "source": [
    "plt.figure(figsize = (10,6))\n",
    "sns.boxplot(x = CD_400m['Time']);"
   ]
  },
  {
   "cell_type": "markdown",
   "metadata": {
    "id": "5uPO3L-kG1KJ"
   },
   "source": [
    "Visualizations"
   ]
  },
  {
   "cell_type": "code",
   "execution_count": null,
   "metadata": {
    "id": "bGVp8COnG6tv"
   },
   "outputs": [],
   "source": [
    "CD_400m['Time'].hist();"
   ]
  },
  {
   "cell_type": "code",
   "execution_count": null,
   "metadata": {
    "id": "zOIl5Bk0G6uG"
   },
   "outputs": [],
   "source": [
    "probplot(CD_400m['Time'], plot=plt);"
   ]
  },
  {
   "cell_type": "code",
   "execution_count": null,
   "metadata": {
    "id": "Omv5krECG6uG"
   },
   "outputs": [],
   "source": [
    "plt.figure(figsize = (10,6))\n",
    "\n",
    "std_plot(CD_400m['Time'], edgecolor = 'black', linewidth = 2)"
   ]
  },
  {
   "cell_type": "code",
   "execution_count": null,
   "metadata": {
    "id": "TWPnTMsJG6uH"
   },
   "outputs": [],
   "source": [
    "plt.figure(figsize = (10,6))\n",
    "\n",
    "iqr_plot(CD_400m['Time'], bins = 25, edgecolor = 'black', linewidth = 2)"
   ]
  },
  {
   "cell_type": "code",
   "execution_count": null,
   "metadata": {
    "id": "h_26Of9mG6uI"
   },
   "outputs": [],
   "source": [
    "plt.figure(figsize = (10,6))\n",
    "sns.boxplot(x = CD_400m['Time']);"
   ]
  },
  {
   "cell_type": "markdown",
   "metadata": {
    "id": "I86jeHGMwQp-"
   },
   "source": [
    "**Statisical Tests**"
   ]
  },
  {
   "cell_type": "markdown",
   "metadata": {
    "id": "oxYrjP22wQqA"
   },
   "source": [
    "400m ANOVA"
   ]
  },
  {
   "cell_type": "code",
   "execution_count": null,
   "metadata": {
    "id": "Gcz3yVP3wQqA"
   },
   "outputs": [],
   "source": [
    "# Create a list of times for each athlete\n",
    "athlete_SB_times_400 = [group['Time'].values for name, group in CD_400m.groupby('Athlete')]\n",
    "\n",
    "# Run one-way ANOVA\n",
    "f_stat, p_val = stats.f_oneway(*athlete_times_400)\n",
    "print(f\"ANOVA result: F-statistic = {f_stat}, p-value = {p_val}\")\n"
   ]
  },
  {
   "cell_type": "markdown",
   "metadata": {
    "id": "FfyODYv9xIMz"
   },
   "source": [
    "400m T-test"
   ]
  },
  {
   "cell_type": "code",
   "execution_count": null,
   "metadata": {
    "id": "L0bmhBWnxIM1"
   },
   "outputs": [],
   "source": [
    "# Filter data for two specific athletes in the 100m event\n",
    "athlete_400_CD_a = sprinters_df3[(sprinters_df3['Athlete'] == 'Athlete A') & (sprinters_df3['Event'] == '400m')]['Time']\n",
    "athlete_400_CD_b = sprinters_df3[(sprinters_df3['Athlete'] == 'Athlete B') & (sprinters_df3['Event'] == '400m')]['Time']\n",
    "\n",
    "# Run independent t-test\n",
    "t_stat, p_val = stats.ttest_ind(athlete_400_CD_a, athlete_400_CD_b)\n",
    "print(f\"T-test result: T-statistic = {t_stat}, p-value = {p_val}\")\n"
   ]
  },
  {
   "cell_type": "markdown",
   "metadata": {
    "id": "jfqE17jUySc3"
   },
   "source": [
    "100m Correlation Analysis"
   ]
  },
  {
   "cell_type": "code",
   "execution_count": null,
   "metadata": {
    "id": "ZWh_KWFBySc5"
   },
   "outputs": [],
   "source": [
    "correlation_400_CD = SB_400m['Year'].corr(CD_400m['Time'])\n",
    "print(f\"Correlation between Year and Time (400m): {correlation}\")\n"
   ]
  },
  {
   "cell_type": "markdown",
   "metadata": {
    "id": "dHOphrhnzpM3"
   },
   "source": [
    "*Time Series Analysis – Track Athlete Performance Over Time*"
   ]
  },
  {
   "cell_type": "code",
   "execution_count": null,
   "metadata": {
    "id": "MyIc0z00zpM3"
   },
   "outputs": [],
   "source": [
    "# Filter data for one athlete\n",
    "athlete_data_CD = sprinters_df3[sprinters_df3['Athlete'] == 'Athlete A'].sort_values(by='Year')\n",
    "\n",
    "# Calculate the rolling average (moving average) for the time over 3 events\n",
    "athlete_data_CD['Moving_Avg'] = athlete_data_CD['Time'].rolling(window=3).mean()\n",
    "\n",
    "# Plot the moving average\n",
    "athlete_data_CD[['Year', 'Moving_Avg']].plot(x='Year', y='Moving_Avg')\n"
   ]
  },
  {
   "cell_type": "markdown",
   "metadata": {
    "id": "c_0lbzRPzpM4"
   },
   "source": [
    "*Linear Regression – Predict Time Based on Year and Other Variables*\n",
    "\n"
   ]
  },
  {
   "cell_type": "markdown",
   "metadata": {
    "id": "LcxubUuvzpM4"
   },
   "source": [
    "*Linear Regression 400m*"
   ]
  },
  {
   "cell_type": "code",
   "execution_count": null,
   "metadata": {
    "id": "4s-FfKkvzpM4"
   },
   "outputs": [],
   "source": [
    "# Prepare the data (for example, predicting time in the 400m event)\n",
    "event_data_CD = sprinters_df3[sprinters_df3['Event'] == '400m']\n",
    "X = event_data_CD[['Year']]  # You can add other features such as 'Location', 'Athlete'\n",
    "y = event_data_CD['Time']\n",
    "\n",
    "# Fit the linear regression model\n",
    "model = LinearRegression()\n",
    "model.fit(X, y)\n",
    "\n",
    "# Print the coefficients and intercept\n",
    "print(f\"Coefficient: {model.coef_}, Intercept: {model.intercept_}\")\n"
   ]
  },
  {
   "cell_type": "markdown",
   "metadata": {
    "id": "0GZakJK60hcK"
   },
   "source": [
    "Logistic Regression Model"
   ]
  },
  {
   "cell_type": "code",
   "execution_count": null,
   "metadata": {
    "id": "23K1WHH7HYXm"
   },
   "outputs": [],
   "source": [
    "logreg = sm.logit('Year ~ Time', data = event_data_CD).fit()"
   ]
  },
  {
   "cell_type": "code",
   "execution_count": null,
   "metadata": {
    "id": "fnKpMKZ2Hpuy"
   },
   "outputs": [],
   "source": [
    "logreg.summary()"
   ]
  },
  {
   "cell_type": "code",
   "execution_count": null,
   "metadata": {
    "id": "1XRMC-GXIRfP"
   },
   "outputs": [],
   "source": [
    "logreg.predict(event_data_CD)"
   ]
  },
  {
   "cell_type": "markdown",
   "metadata": {
    "id": "GpEWGigEIShI"
   },
   "source": [
    "Logistic Regression Interference"
   ]
  },
  {
   "cell_type": "code",
   "execution_count": null,
   "metadata": {
    "id": "BhrMLr6lIS_p"
   },
   "outputs": [],
   "source": [
    "logreg_full = sm.logit('Year ~ Time + Insert_Column_Here', data = event_data_CD).fit()\n",
    "logreg_reduced = sm.logit('Year ~ Time', data = event_data_CD).fit()"
   ]
  },
  {
   "cell_type": "code",
   "execution_count": null,
   "metadata": {
    "id": "QfAgQGg2ITNY"
   },
   "outputs": [],
   "source": [
    "logreg_full.llf"
   ]
  },
  {
   "cell_type": "code",
   "execution_count": null,
   "metadata": {
    "id": "N2DBdHtgIkFj"
   },
   "outputs": [],
   "source": [
    "logreg_reduced.llf"
   ]
  },
  {
   "cell_type": "code",
   "execution_count": null,
   "metadata": {
    "id": "92UyeIffIrqW"
   },
   "outputs": [],
   "source": [
    "G2 = -2 * (logreg_reduced.llf - logreg_full.llf)\n",
    "G2"
   ]
  },
  {
   "cell_type": "markdown",
   "metadata": {
    "id": "-3_wzRGcJvFa"
   },
   "source": [
    "Chi Squared Distribution"
   ]
  },
  {
   "cell_type": "code",
   "execution_count": null,
   "metadata": {
    "id": "9zjIpHtfJtMU"
   },
   "outputs": [],
   "source": [
    "df2 = logreg_full.df_model - logreg_reduced.df_model"
   ]
  },
  {
   "cell_type": "code",
   "execution_count": null,
   "metadata": {
    "id": "nf5cT7HeJzhY"
   },
   "outputs": [],
   "source": [
    "chi2.sf(G2, df2 = df2)"
   ]
  },
  {
   "cell_type": "markdown",
   "metadata": {
    "id": "ZyWZ8gEYJ-UG"
   },
   "source": [
    "Let's consense the logistic regression interference and chi-squared distribution into one cell."
   ]
  },
  {
   "cell_type": "code",
   "execution_count": null,
   "metadata": {
    "id": "PSUYk0j5Jztf"
   },
   "outputs": [],
   "source": [
    "logreg_full = sm.logit('Year ~ Time + Insert_Column_Here', data = event_data_CD).fit()\n",
    "logreg_reduced = sm.logit('Year ~ Time', data = event_data_CD).fit()\n",
    "\n",
    "G2 = -2 * (logreg_reduced.llf - logreg_full.llf)\n",
    "df2 = logreg_full.df_model - logreg_reduced.df_model\n",
    "print(f'p-value: {chi2.sf(G2, df2 = df2)}')"
   ]
  },
  {
   "cell_type": "markdown",
   "metadata": {
    "id": "FZouiXHSKaAL"
   },
   "source": [
    "Generating Predictions"
   ]
  },
  {
   "cell_type": "markdown",
   "metadata": {
    "id": "piHuwvTTLBfL"
   },
   "source": [
    "We'll stratify to ensure that the proportion of the stratify variable is the same in the training data and in the test data."
   ]
  },
  {
   "cell_type": "code",
   "execution_count": null,
   "metadata": {
    "id": "wMcB_n86Jz6N"
   },
   "outputs": [],
   "source": [
    "CD_train, CD_test = train_test_split(event_data_CD, test_size = 0.25, stratify = event_data_CD['Year'], random_state = 321)"
   ]
  },
  {
   "cell_type": "markdown",
   "metadata": {
    "id": "xNVFOo9xLOyE"
   },
   "source": [
    "We'll fit a model using several of our predictor variables."
   ]
  },
  {
   "cell_type": "code",
   "execution_count": null,
   "metadata": {
    "id": "kh7YQDD8KkbR"
   },
   "outputs": [],
   "source": [
    "logreg_pred = sm.logit('Year ~ Time + Insert + Columns + Here + In + These + Blank + Spaces + Check + Dataframe',\n",
    "                       data = event_data_CD).fit()"
   ]
  },
  {
   "cell_type": "code",
   "execution_count": null,
   "metadata": {
    "id": "xonWKoBbKohl"
   },
   "outputs": [],
   "source": [
    "y_pred = logreg_pred.predict(CD_test) > 0.5"
   ]
  },
  {
   "cell_type": "markdown",
   "metadata": {
    "id": "-BkFaVygK3Ag"
   },
   "source": [
    "Let's see how well the predicted values matche up to the true labels."
   ]
  },
  {
   "cell_type": "code",
   "execution_count": null,
   "metadata": {
    "id": "a0SZgfRlKsmR"
   },
   "outputs": [],
   "source": [
    "pd.crosstab(CD_test['Year'], y_pred)"
   ]
  },
  {
   "cell_type": "code",
   "execution_count": null,
   "metadata": {
    "id": "5Rvly0ZCLSDx"
   },
   "outputs": [],
   "source": [
    "cm_analysis(CD_test['Year'], y_pred, labels = [0, 1], figsize = (7,6))"
   ]
  },
  {
   "cell_type": "markdown",
   "metadata": {
    "id": "pBU4V1Y4FpAh"
   },
   "source": [
    "**Update these and place them where necessary (If necessary)**"
   ]
  },
  {
   "cell_type": "markdown",
   "metadata": {
    "id": "5QWnllIVQA2U"
   },
   "source": [
    "Single Linear Regrssion"
   ]
  },
  {
   "cell_type": "code",
   "execution_count": null,
   "metadata": {
    "id": "0Qg4LJjiQDa-"
   },
   "outputs": [],
   "source": [
    "lr = sm.ols(\n",
    "    formula = 'Insert_variable_1 ~ Insert_variable_2',\n",
    "    data = Insert_df\n",
    ").fit()"
   ]
  },
  {
   "cell_type": "code",
   "execution_count": null,
   "metadata": {
    "id": "L6vgqYsRQDov"
   },
   "outputs": [],
   "source": [
    "lr.summary()"
   ]
  },
  {
   "cell_type": "code",
   "execution_count": null,
   "metadata": {
    "id": "Z_OP8v3kQDyk"
   },
   "outputs": [],
   "source": [
    "x_pred = pd.DataFrame({'Insert_variable_2': np.linspace(start = Insert_df['Insert_variable_2'].min(),\n",
    "                                             stop = Insert_df['Insert_variable_2'].max(),\n",
    "                                             num = 250)\n",
    "                      })\n",
    "\n",
    "pred = lr.predict(x_pred)\n",
    "\n",
    "Insert_df.plot(\n",
    "    kind = 'scatter',\n",
    "    x = 'Insert_variable_2',\n",
    "    y = 'Insert_variable_1',\n",
    "    figsize = (10,6)\n",
    ")\n",
    "\n",
    "plt.plot(x_pred['Insert_variable_2'], pred, color = 'black');"
   ]
  },
  {
   "cell_type": "code",
   "execution_count": null,
   "metadata": {
    "id": "I6kCBj9zQN4e"
   },
   "outputs": [],
   "source": [
    "lr.rsquared"
   ]
  },
  {
   "cell_type": "markdown",
   "metadata": {
    "id": "xlAyWrBeQg8R"
   },
   "source": [
    "Let's verify that this is the correct $R^2$ value."
   ]
  },
  {
   "cell_type": "markdown",
   "metadata": {
    "id": "ZR2aNF4tQ7s4"
   },
   "source": [
    "To compute TSS, we need to look at the difference between the target values and the average value of the target variable."
   ]
  },
  {
   "cell_type": "code",
   "execution_count": null,
   "metadata": {
    "id": "DtJEzvolQOCH"
   },
   "outputs": [],
   "source": [
    "tss = ((Insert_df['Insert_variable_1'] - Insert_df['Insert_variable_1'].mean())**2).sum()"
   ]
  },
  {
   "cell_type": "markdown",
   "metadata": {
    "id": "Gr8kGFXSQ9iX"
   },
   "source": [
    "For RSS, we need to consider the difference between the target and the predicted value."
   ]
  },
  {
   "cell_type": "code",
   "execution_count": null,
   "metadata": {
    "id": "mY7QTX9_RHBl"
   },
   "outputs": [],
   "source": [
    "rss = ((Insert_df['Insert_variable_1'] - lr.fittedvalues)**2).sum()"
   ]
  },
  {
   "cell_type": "markdown",
   "metadata": {
    "id": "vtbyaQR2RHQF"
   },
   "source": [
    "Now, we can verify that we get the same result"
   ]
  },
  {
   "cell_type": "code",
   "execution_count": null,
   "metadata": {
    "id": "y4pWER4vRHkI"
   },
   "outputs": [],
   "source": [
    "(tss - rss) / tss"
   ]
  },
  {
   "cell_type": "code",
   "execution_count": null,
   "metadata": {
    "id": "3orIQlICRrBK"
   },
   "outputs": [],
   "source": [
    "lr.pvalues['Insert_variable_2']"
   ]
  },
  {
   "cell_type": "code",
   "execution_count": null,
   "metadata": {
    "id": "mJeiDLXNRvI0"
   },
   "outputs": [],
   "source": [
    "lr.conf_int(0.05)"
   ]
  },
  {
   "cell_type": "code",
   "execution_count": null,
   "metadata": {
    "id": "rXMIp1_XRxMR"
   },
   "outputs": [],
   "source": [
    "Insert_df['Insert_variable_2'].describe()"
   ]
  },
  {
   "cell_type": "markdown",
   "metadata": {
    "id": "KNATawNiShXS"
   },
   "source": [
    "Predictions using the linear regression model"
   ]
  },
  {
   "cell_type": "code",
   "execution_count": null,
   "metadata": {
    "id": "Seu7aPQhR1Yx"
   },
   "outputs": [],
   "source": [
    "lr.predict(pd.DataFrame({'Insert_variable_2': [91]})) #Enter time in Square brackets"
   ]
  },
  {
   "cell_type": "code",
   "execution_count": null,
   "metadata": {
    "id": "7CgqjDh0R-ay"
   },
   "outputs": [],
   "source": [
    "lr.get_prediction(pd.DataFrame({'Insert_variable_2': [91]})).conf_int()"
   ]
  },
  {
   "cell_type": "markdown",
   "metadata": {
    "id": "-CyaGC4XSxLG"
   },
   "source": [
    "To get a prediction interval, which tells us what we can expect for a new observation, we can specify obs = True."
   ]
  },
  {
   "cell_type": "code",
   "execution_count": null,
   "metadata": {
    "id": "GR0-CLkeR-qB"
   },
   "outputs": [],
   "source": [
    "lr.get_prediction(pd.DataFrame({'Insert_variablel_2': [91]})).conf_int(obs = True)"
   ]
  },
  {
   "cell_type": "markdown",
   "metadata": {
    "id": "LVPR6mWeSMcq"
   },
   "source": [
    "Let's get all these predictions in a summary frame method"
   ]
  },
  {
   "cell_type": "code",
   "execution_count": null,
   "metadata": {
    "id": "dqjNmTJUSRak"
   },
   "outputs": [],
   "source": [
    "lr.get_prediction(pd.DataFrame({'Insert_variable_2': [91]})).summary_frame()"
   ]
  },
  {
   "cell_type": "markdown",
   "metadata": {
    "id": "isGWiGvKOW-9"
   },
   "source": [
    "Multi-Linear Regression Models"
   ]
  },
  {
   "cell_type": "code",
   "execution_count": null,
   "metadata": {
    "id": "OVo0-IGaLbu1"
   },
   "outputs": [],
   "source": [
    "lr_reduced = sm.ols('Insert_variable_1 ~ Insert_variable_2', data = possum).fit()\n",
    "lr_full = sm.ols('Insert_variable_1 ~ Insert_variable_2 + Insert_variable_3', data = possum).fit()"
   ]
  },
  {
   "cell_type": "code",
   "execution_count": null,
   "metadata": {
    "id": "JC3bsaXBOejp"
   },
   "outputs": [],
   "source": [
    "stats.stats.anova_lm(lr_reduced, lr_full)"
   ]
  },
  {
   "cell_type": "markdown",
   "metadata": {
    "id": "iLI-u9DOO3jX"
   },
   "source": [
    "Interactions in the multi-linear regression model"
   ]
  },
  {
   "cell_type": "code",
   "execution_count": null,
   "metadata": {
    "id": "jaciwCQ6OesH"
   },
   "outputs": [],
   "source": [
    "lr_full =sm.ols('Insert_variable_1 ~ Insert_variable_2 + Insert_variable_a1 + Insert_variable_2:sex', data = possum).fit()\n",
    "lr_full.summary()"
   ]
  },
  {
   "cell_type": "code",
   "execution_count": null,
   "metadata": {
    "id": "HbCMAuXnPBuR"
   },
   "outputs": [],
   "source": [
    "lr_reduced =sm.ols('Insert_variable_1 ~ Insert_variable_2 + Insert_variable_a1', data = possum).fit()\n",
    "lr_full =sm.ols('Insert_variable_1 ~ Insert_variable_2 + Insert_variable_a1 + Insert_variable_2:sex', data = possum).fit()\n",
    "\n",
    "stats.stats.anova_lm(lr_reduced, lr_full)"
   ]
  },
  {
   "cell_type": "code",
   "execution_count": null,
   "metadata": {
    "id": "f6p0Y4_VPB5H"
   },
   "outputs": [],
   "source": [
    "lr_df = sm.ols('variable_a ~ variable_b', data = cars).fit()\n",
    "\n",
    "plt.figure(figsize = (10,6))\n",
    "plt.scatter(df['variable_b'], lr_df.resid)\n",
    "xmin, xmax = plt.xlim()\n",
    "plt.hlines(y = 0, xmin = xmin, xmax = xmax)\n",
    "plt.xlim(xmin, xmax);"
   ]
  },
  {
   "cell_type": "code",
   "execution_count": null,
   "metadata": {
    "id": "swoHl4G-PYgN"
   },
   "outputs": [],
   "source": [
    "var = 'variable_b'\n",
    "\n",
    "x_pred = pd.DataFrame({\n",
    "    var: np.linspace(start = Insert_df[var].min(),\n",
    "                               stop = Insert_df[var].max(), num = 250)\n",
    "})\n",
    "\n",
    "pred = lr_poly_log.get_prediction(x_pred).summary_frame()\n",
    "\n",
    "Insert_df.plot(kind = 'scatter', x = var, y = 'variable_a', figsize = (10,6))\n",
    "\n",
    "plt.plot(x_pred[var], np.exp(pred['mean']), color = 'grey', label = 'predicted mean')\n",
    "\n",
    "plt.plot(x_pred[var], np.exp(pred['mean_ci_lower']), color = 'blue', label = 'confidence interval')\n",
    "plt.plot(x_pred[var], np.exp(pred['mean_ci_upper']), color = 'blue')\n",
    "\n",
    "plt.plot(x_pred[var], np.exp(pred['obs_ci_lower']), color = 'black', label = 'prediction interval')\n",
    "plt.plot(x_pred[var], np.exp(pred['obs_ci_upper']), color = 'black')\n",
    "\n",
    "plt.legend();"
   ]
  },
  {
   "cell_type": "markdown",
   "metadata": {
    "id": "F3uUSA74293x"
   },
   "source": [
    "# **Let's put all the data frames created into an excel workbook**"
   ]
  },
  {
   "cell_type": "code",
   "execution_count": null,
   "metadata": {
    "id": "5fMA_-v53GUt"
   },
   "outputs": [],
   "source": [
    "xlwriter = pd.ExcelWriter('400M_Analysis.xlsx')\n",
    "df_400m.to_excel(xlwriter, sheet_name='400m')\n",
    "df_400m_stat_analysis.to_excel(xlwriter, sheet_name='400m Statisitcal Analysis')\n",
    "xlwriter.close()"
   ]
  }
 ],
 "metadata": {
  "colab": {
   "authorship_tag": "ABX9TyN38I/Y+EkUNYVGXSH7TjtV",
   "provenance": []
  },
  "kernelspec": {
   "display_name": "Python 3 (ipykernel)",
   "language": "python",
   "name": "python3"
  },
  "language_info": {
   "codemirror_mode": {
    "name": "ipython",
    "version": 3
   },
   "file_extension": ".py",
   "mimetype": "text/x-python",
   "name": "python",
   "nbconvert_exporter": "python",
   "pygments_lexer": "ipython3",
   "version": "3.9.16"
  }
 },
 "nbformat": 4,
 "nbformat_minor": 1
}
