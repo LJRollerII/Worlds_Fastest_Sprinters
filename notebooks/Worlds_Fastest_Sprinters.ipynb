{
 "cells": [
  {
   "cell_type": "code",
   "execution_count": null,
   "metadata": {
    "executionInfo": {
     "elapsed": 148,
     "status": "ok",
     "timestamp": 1726865981024,
     "user": {
      "displayName": "Johnny Test",
      "userId": "16509896550579327523"
     },
     "user_tz": 240
    },
    "id": "0EuVlu9laQdG"
   },
   "outputs": [],
   "source": [
    "import pandas as pd\n",
    "import numpy as np\n",
    "import matplotlib.pyplot as plt\n",
    "import seaborn as sns\n",
    "import plotly.express as px\n",
    "import plotly.figure_factory as ff\n",
    "%matplotlib inline\n",
    "from datetime import datetime\n",
    "import re\n",
    "#from nssstats.plots import std_plot\n",
    "#from nssstats.plots import iqr_plot\n",
    "#from nssstats.plots import quadrant_plot, half_plot\n",
    "#from ipywidgets import interact, FloatSlider"
   ]
  },
  {
   "cell_type": "code",
   "execution_count": null,
   "metadata": {
    "executionInfo": {
     "elapsed": 154,
     "status": "ok",
     "timestamp": 1726865981436,
     "user": {
      "displayName": "Johnny Test",
      "userId": "16509896550579327523"
     },
     "user_tz": 240
    },
    "id": "-mfz1dS8adQk"
   },
   "outputs": [],
   "source": [
    "sprinters = pd.read_csv(\"../data/Worlds_Fastest_Sprinters_Stats.csv\")"
   ]
  },
  {
   "cell_type": "markdown",
   "metadata": {
    "id": "Rj6eEd1CbSE7"
   },
   "source": [
    "# **Data** **Basics**"
   ]
  },
  {
   "cell_type": "code",
   "execution_count": null,
   "metadata": {
    "colab": {
     "base_uri": "https://localhost:8080/",
     "height": 620
    },
    "executionInfo": {
     "elapsed": 7,
     "status": "ok",
     "timestamp": 1726865981437,
     "user": {
      "displayName": "Johnny Test",
      "userId": "16509896550579327523"
     },
     "user_tz": 240
    },
    "id": "wc4J72H7adhm",
    "outputId": "70b8ddc3-f702-4092-dd0e-2d8548ff4a96"
   },
   "outputs": [],
   "source": [
    "sprinters.head()"
   ]
  },
  {
   "cell_type": "code",
   "execution_count": null,
   "metadata": {
    "colab": {
     "base_uri": "https://localhost:8080/",
     "height": 203
    },
    "executionInfo": {
     "elapsed": 5,
     "status": "ok",
     "timestamp": 1726865981437,
     "user": {
      "displayName": "Johnny Test",
      "userId": "16509896550579327523"
     },
     "user_tz": 240
    },
    "id": "5HYov-s3a40z",
    "outputId": "4a10c17e-cb44-4f35-d60f-74a3530f03cf"
   },
   "outputs": [],
   "source": [
    "sprinters.info"
   ]
  },
  {
   "cell_type": "code",
   "execution_count": null,
   "metadata": {
    "colab": {
     "base_uri": "https://localhost:8080/"
    },
    "executionInfo": {
     "elapsed": 209,
     "status": "ok",
     "timestamp": 1726865981642,
     "user": {
      "displayName": "Johnny Test",
      "userId": "16509896550579327523"
     },
     "user_tz": 240
    },
    "id": "nGzrVMNoa4-f",
    "outputId": "ca2bddf0-d524-4a1a-85c5-fa8afd276fdd"
   },
   "outputs": [],
   "source": [
    "sprinters.shape"
   ]
  },
  {
   "cell_type": "code",
   "execution_count": null,
   "metadata": {
    "colab": {
     "base_uri": "https://localhost:8080/"
    },
    "executionInfo": {
     "elapsed": 15,
     "status": "ok",
     "timestamp": 1726865981643,
     "user": {
      "displayName": "Johnny Test",
      "userId": "16509896550579327523"
     },
     "user_tz": 240
    },
    "id": "ER3YH8Gia5H3",
    "outputId": "ada434f4-1aeb-4c67-e57b-2376fbc24df7"
   },
   "outputs": [],
   "source": [
    "print(sprinters.dtypes)\n"
   ]
  },
  {
   "cell_type": "code",
   "execution_count": null,
   "metadata": {
    "colab": {
     "base_uri": "https://localhost:8080/",
     "height": 335
    },
    "executionInfo": {
     "elapsed": 12,
     "status": "ok",
     "timestamp": 1726865981643,
     "user": {
      "displayName": "Johnny Test",
      "userId": "16509896550579327523"
     },
     "user_tz": 240
    },
    "id": "Hi4r7kR7bKnp",
    "outputId": "f3b118bf-e152-49ca-eb67-2e64d29dede9"
   },
   "outputs": [],
   "source": [
    "sprinters.describe()\n"
   ]
  },
  {
   "cell_type": "code",
   "execution_count": null,
   "metadata": {
    "colab": {
     "base_uri": "https://localhost:8080/",
     "height": 203
    },
    "executionInfo": {
     "elapsed": 11,
     "status": "ok",
     "timestamp": 1726865981643,
     "user": {
      "displayName": "Johnny Test",
      "userId": "16509896550579327523"
     },
     "user_tz": 240
    },
    "id": "f82kt78EbKz-",
    "outputId": "df296f56-7c04-40b7-f863-f455b4719bec"
   },
   "outputs": [],
   "source": [
    "sprinters.corr\n"
   ]
  },
  {
   "cell_type": "code",
   "execution_count": null,
   "metadata": {
    "colab": {
     "base_uri": "https://localhost:8080/",
     "height": 742
    },
    "executionInfo": {
     "elapsed": 10,
     "status": "ok",
     "timestamp": 1726865981643,
     "user": {
      "displayName": "Johnny Test",
      "userId": "16509896550579327523"
     },
     "user_tz": 240
    },
    "id": "S7_wpsHMdOMn",
    "outputId": "49e9dad2-12d1-4031-a9ea-9017d20d8daa"
   },
   "outputs": [],
   "source": [
    "sprinters.isnull().sum()\n"
   ]
  },
  {
   "cell_type": "markdown",
   "metadata": {
    "id": "26-aFPB7fZtV"
   },
   "source": [
    "# **General** **EDA**"
   ]
  },
  {
   "cell_type": "markdown",
   "metadata": {
    "id": "99Y4TEKuuEw9"
   },
   "source": [
    "Let's make a column for the total PR time"
   ]
  },
  {
   "cell_type": "code",
   "execution_count": null,
   "metadata": {
    "colab": {
     "base_uri": "https://localhost:8080/",
     "height": 620
    },
    "executionInfo": {
     "elapsed": 9,
     "status": "ok",
     "timestamp": 1726865981643,
     "user": {
      "displayName": "Johnny Test",
      "userId": "16509896550579327523"
     },
     "user_tz": 240
    },
    "id": "0NXGHIZGfcO3",
    "outputId": "57a590a2-c821-4547-d021-df43e40d017d"
   },
   "outputs": [],
   "source": [
    "sprinters['Total_Time_PRs'] = round(sprinters['100_PR'] + sprinters['200_PR'] + sprinters['400_PR'],2)\n",
    "sprinters.head()"
   ]
  },
  {
   "cell_type": "markdown",
   "metadata": {
    "id": "PupbWRW3ucso"
   },
   "source": [
    "Let's make a column for the total career average time"
   ]
  },
  {
   "cell_type": "code",
   "execution_count": null,
   "metadata": {
    "colab": {
     "base_uri": "https://localhost:8080/",
     "height": 620
    },
    "executionInfo": {
     "elapsed": 8,
     "status": "ok",
     "timestamp": 1726865981643,
     "user": {
      "displayName": "Johnny Test",
      "userId": "16509896550579327523"
     },
     "user_tz": 240
    },
    "id": "GgdUNzahgc4l",
    "outputId": "bc11ba12-03a7-4429-dcc8-535ba6386640"
   },
   "outputs": [],
   "source": [
    "sprinters['Total_Time_Career_Avg'] = round(sprinters['Avg Season Best 100m'] + sprinters['Avg Season Best 200m'] + sprinters['Avg Season Best 400m'],2)\n",
    "sprinters.head()"
   ]
  },
  {
   "cell_type": "markdown",
   "metadata": {
    "id": "uH_h1V-X6iyg"
   },
   "source": [
    "Let's make a column for the actual age of the athletes"
   ]
  },
  {
   "cell_type": "code",
   "execution_count": null,
   "metadata": {
    "colab": {
     "base_uri": "https://localhost:8080/"
    },
    "executionInfo": {
     "elapsed": 171,
     "status": "ok",
     "timestamp": 1726865981807,
     "user": {
      "displayName": "Johnny Test",
      "userId": "16509896550579327523"
     },
     "user_tz": 240
    },
    "id": "ckwBzcMz6ooL",
    "outputId": "0b11ac42-0ab8-4f62-ac75-0e26a43e0cd3"
   },
   "outputs": [],
   "source": [
    "# Ensure the DOB column is in datetime format\n",
    "sprinters['DOB'] = pd.to_datetime(sprinters['DOB'], errors='coerce')  # Coerce will handle invalid dates as NaT\n",
    "\n",
    "# Get the current year\n",
    "current_year = datetime.now().year\n",
    "\n",
    "# Calculate the age by subtracting the birth year from the current year\n",
    "sprinters['Age'] = current_year - sprinters['DOB'].dt.year\n",
    "\n",
    "# Display the updated DataFrame with the new 'Age' column\n",
    "print(sprinters[['DOB', 'Age']].head())\n"
   ]
  },
  {
   "cell_type": "markdown",
   "metadata": {
    "id": "lCARFwyDzlNJ"
   },
   "source": [
    "Let's make a code for the average top 25 all-time mark for each athlete"
   ]
  },
  {
   "cell_type": "code",
   "execution_count": null,
   "metadata": {
    "colab": {
     "base_uri": "https://localhost:8080/",
     "height": 1000
    },
    "executionInfo": {
     "elapsed": 9,
     "status": "ok",
     "timestamp": 1726865981807,
     "user": {
      "displayName": "Johnny Test",
      "userId": "16509896550579327523"
     },
     "user_tz": 240
    },
    "id": "mrVCDHtgziM7",
    "outputId": "0ca56345-7a6e-4c2b-c5a9-a238594dd0c3"
   },
   "outputs": [],
   "source": [
    "sprinters['avg_top25_rnk'] = sprinters[['T25_100_AT_RK_NUM', 'T25_200_AT_RK_NUM', 'T25_400_AT_RK_NUM']].mean(axis=1)\n",
    "sprinters"
   ]
  },
  {
   "cell_type": "markdown",
   "metadata": {
    "id": "sSqh7HptvFFB"
   },
   "source": [
    "*Let's make a few dataframes regarding the athletes time*"
   ]
  },
  {
   "cell_type": "markdown",
   "metadata": {
    "id": "3uzqJK6_xiZO"
   },
   "source": [
    "Data Frame 1 (PRs)"
   ]
  },
  {
   "cell_type": "code",
   "execution_count": null,
   "metadata": {
    "colab": {
     "base_uri": "https://localhost:8080/",
     "height": 423
    },
    "executionInfo": {
     "elapsed": 7,
     "status": "ok",
     "timestamp": 1726865981807,
     "user": {
      "displayName": "Johnny Test",
      "userId": "16509896550579327523"
     },
     "user_tz": 240
    },
    "id": "FVqv7xorvoJZ",
    "outputId": "d0303bfd-0dcb-4864-b05a-e532e06ae1d4"
   },
   "outputs": [],
   "source": [
    "sprinters_pr = sprinters[['Athlete','100_PR','200_PR','400_PR','Total_Time_PRs']]\n",
    "sprinters_pr"
   ]
  },
  {
   "cell_type": "code",
   "execution_count": null,
   "metadata": {
    "colab": {
     "base_uri": "https://localhost:8080/",
     "height": 423
    },
    "executionInfo": {
     "elapsed": 6,
     "status": "ok",
     "timestamp": 1726865981807,
     "user": {
      "displayName": "Johnny Test",
      "userId": "16509896550579327523"
     },
     "user_tz": 240
    },
    "id": "2YfyU8Wmw1Vr",
    "outputId": "e3864818-8bd6-45aa-ca68-c7372c53899d"
   },
   "outputs": [],
   "source": [
    "sprinters_pr = sprinters_pr.sort_values(by='Total_Time_PRs', ascending=False)\n",
    "sprinters_pr"
   ]
  },
  {
   "cell_type": "code",
   "execution_count": null,
   "metadata": {
    "executionInfo": {
     "elapsed": 14,
     "status": "ok",
     "timestamp": 1726865981998,
     "user": {
      "displayName": "Johnny Test",
      "userId": "16509896550579327523"
     },
     "user_tz": 240
    },
    "id": "JGinQFyvvWwz"
   },
   "outputs": [],
   "source": [
    "sprinters_pr = pd.DataFrame(sprinters_pr)"
   ]
  },
  {
   "cell_type": "markdown",
   "metadata": {
    "id": "FDK2jRfEOGE_"
   },
   "source": [
    "Let's make a dataframe without null values in the PR"
   ]
  },
  {
   "cell_type": "code",
   "execution_count": null,
   "metadata": {
    "colab": {
     "base_uri": "https://localhost:8080/",
     "height": 1000
    },
    "executionInfo": {
     "elapsed": 13,
     "status": "ok",
     "timestamp": 1726865981998,
     "user": {
      "displayName": "Johnny Test",
      "userId": "16509896550579327523"
     },
     "user_tz": 240
    },
    "id": "fYKmZbrrNEua",
    "outputId": "ede8bf58-bcee-418b-8c55-5f87df1e8b1f"
   },
   "outputs": [],
   "source": [
    "sprinters_pr_clean = sprinters_pr.dropna(subset=['100_PR','200_PR','400_PR'])\n",
    "sprinters_pr_clean"
   ]
  },
  {
   "cell_type": "code",
   "execution_count": null,
   "metadata": {
    "colab": {
     "base_uri": "https://localhost:8080/",
     "height": 143
    },
    "executionInfo": {
     "elapsed": 12,
     "status": "ok",
     "timestamp": 1726865981998,
     "user": {
      "displayName": "Johnny Test",
      "userId": "16509896550579327523"
     },
     "user_tz": 240
    },
    "id": "d5k7L059NjQa",
    "outputId": "ada8fc0a-d952-420b-b116-b4334fa0f747"
   },
   "outputs": [],
   "source": [
    "sprinters_pr_clean = pd.DataFrame(sprinters_pr_clean)\n",
    "sprinters_pr_clean.head(3)"
   ]
  },
  {
   "cell_type": "code",
   "execution_count": null,
   "metadata": {
    "colab": {
     "base_uri": "https://localhost:8080/"
    },
    "executionInfo": {
     "elapsed": 11,
     "status": "ok",
     "timestamp": 1726865981998,
     "user": {
      "displayName": "Johnny Test",
      "userId": "16509896550579327523"
     },
     "user_tz": 240
    },
    "id": "AhYN4xVaOQln",
    "outputId": "f0013e6b-71c9-4843-ade9-d95a3fcaa296"
   },
   "outputs": [],
   "source": [
    "sprinters_pr_clean.shape"
   ]
  },
  {
   "cell_type": "markdown",
   "metadata": {
    "id": "0W9wdf2LOW71"
   },
   "source": [
    "Only 41 athletes (60%) have competed in all three events"
   ]
  },
  {
   "cell_type": "code",
   "execution_count": null,
   "metadata": {
    "colab": {
     "base_uri": "https://localhost:8080/",
     "height": 1000
    },
    "executionInfo": {
     "elapsed": 8,
     "status": "ok",
     "timestamp": 1726865981998,
     "user": {
      "displayName": "Johnny Test",
      "userId": "16509896550579327523"
     },
     "user_tz": 240
    },
    "id": "6UvVjgrbOciB",
    "outputId": "238e187c-684c-41b3-8ede-5fbe84f8aeb7"
   },
   "outputs": [],
   "source": [
    "sprinters_pr_clean = sprinters_pr_clean.sort_values(by='Total_Time_PRs')\n",
    "sprinters_pr_clean"
   ]
  },
  {
   "cell_type": "code",
   "execution_count": null,
   "metadata": {
    "colab": {
     "base_uri": "https://localhost:8080/",
     "height": 367
    },
    "executionInfo": {
     "elapsed": 193,
     "status": "ok",
     "timestamp": 1726865982184,
     "user": {
      "displayName": "Johnny Test",
      "userId": "16509896550579327523"
     },
     "user_tz": 240
    },
    "id": "iRTB6E8SJM_-",
    "outputId": "cb029620-75dd-4b0e-ec75-7dbd482246e9"
   },
   "outputs": [],
   "source": [
    "#What sample size of the dataframe to we want to make into a figure factory table\n",
    "sprinters_pr_clean_sample = sprinters_pr_clean[1:10]\n",
    "\n",
    "#Cusomize Colors (Add colorscale=colorscale in parentheses of ff.create table)\n",
    "#colorscale = [[0, '#4d004c'],[.5, '#f2e5ff'],[1, '#ffffff']]\n",
    "#Cusomize Font Colors (Add font_colors=font in parentheses of ff.create table)\n",
    "#font=['#FCFCFC', '#00EE00', '#008B00', '#004F00', '#660000', '#CD0000', '#FF3030']\n",
    "\n",
    "table_data = sprinters_pr_clean\n",
    "\n",
    "#Adding graphs to the tables (Add table_data in parentheses of ff.create table)\n",
    "'''\n",
    "#Scatter Plot\n",
    "fig.add_trace(go.Scatter(x=Athlete, y=Total_Time_PRs,\n",
    "                    marker=dict(color='#0099ff'),\n",
    "                    name='Goals For<br>Per Game',\n",
    "                    xaxis='x2', yaxis='y2'))\n",
    "\n",
    "\n",
    "\n",
    "fig.update_layout(\n",
    "    title_text = 'Total Time PRs',\n",
    "    margin = {'t':50, 'b':100},\n",
    "    xaxis = {'domain': [0, .5]},\n",
    "    xaxis2 = {'domain': [0.6, 1.]},\n",
    "    yaxis2 = {'anchor': 'x2', 'title': 'Goals'}\n",
    ")\n",
    "'''\n",
    "'''\n",
    "#Bar Chart\n",
    "fig.add_trace(go.Bar(x=Athlete, y=100_PR, xaxis='x2', yaxis='y2',\n",
    "                marker=dict(color='#0099ff'),\n",
    "                name='100M<br>PR'))\n",
    "\n",
    "fig.add_trace(go.Bar(x=Athlete, y=200_PR, xaxis='x2', yaxis='y2',\n",
    "                marker=dict(color='#404040'),\n",
    "                name='200M<br>PR'))\n",
    "\n",
    "fig.add_trace(go.Bar(x=Athlete, y=400_PR, xaxis='x2', yaxis='y2',\n",
    "                marker=dict(color='#404040'),\n",
    "                name='400M<br>PR'))\n",
    "\n",
    "fig.add_trace(go.Bar(x=Athlete, y=Total_Time_PRs, xaxis='x2', yaxis='y2',\n",
    "                marker=dict(color='#404040'),\n",
    "                name='Total PR<br>Time'))\n",
    "\n",
    "fig.update_layout(\n",
    "    title_text = 'Sprinter Personal Records',\n",
    "    height = 800,\n",
    "    margin = {'t':75, 'l':50},\n",
    "    yaxis = {'domain': [0, .45]},\n",
    "    xaxis2 = {'anchor': 'y2'},\n",
    "    yaxis2 = {'domain': [.6, 1], 'anchor': 'x2', 'title': 'Goals'}\n",
    "'''\n",
    "\n",
    "fig =  ff.create_table(sprinters_pr_clean_sample)\n",
    "fig.show()\n",
    "\n",
    "#fig.write_html(\"sprinters_pr_top10_ff.html\")\n",
    "#fig.write_image(\"sprinters_pr_top10_ff.svg\")\n"
   ]
  },
  {
   "cell_type": "code",
   "execution_count": null,
   "metadata": {
    "colab": {
     "base_uri": "https://localhost:8080/",
     "height": 1000
    },
    "executionInfo": {
     "elapsed": 163,
     "status": "ok",
     "timestamp": 1726865982344,
     "user": {
      "displayName": "Johnny Test",
      "userId": "16509896550579327523"
     },
     "user_tz": 240
    },
    "id": "FHrU7K-eJhJJ",
    "outputId": "6dad0d9e-4126-466f-dff3-e9d0087056ec"
   },
   "outputs": [],
   "source": [
    "#Let's make the entire dataframe a figure factory table\n",
    "\n",
    "\n",
    "fig =  ff.create_table(sprinters_pr_clean)\n",
    "fig.show()\n",
    "\n",
    "#fig.write_html(\"sprinters_pr_ff.html\")\n",
    "#fig.write_image(\"sprinters_pr_ff.svg\")"
   ]
  },
  {
   "cell_type": "markdown",
   "metadata": {
    "id": "JMqdg_Z6PvpJ"
   },
   "source": [
    "***Note***:\n",
    "\n",
    "If you go by Personal Records, Micheal Johnson is the fastest short sprinter with the lowest total time.\n",
    "\n",
    "Even with Usain Bolt's world record times in the 100m & 200m, his 400m PR causes hime to fall all the way down to 10th."
   ]
  },
  {
   "cell_type": "markdown",
   "metadata": {
    "id": "fhx0pZRLxpLI"
   },
   "source": [
    "Data Frame 2 (Career Average)"
   ]
  },
  {
   "cell_type": "code",
   "execution_count": null,
   "metadata": {
    "colab": {
     "base_uri": "https://localhost:8080/",
     "height": 423
    },
    "executionInfo": {
     "elapsed": 9,
     "status": "ok",
     "timestamp": 1726865982344,
     "user": {
      "displayName": "Johnny Test",
      "userId": "16509896550579327523"
     },
     "user_tz": 240
    },
    "id": "wpYImM1ExuYn",
    "outputId": "5a8bc331-790d-4fa3-e6a8-518667ac6d5c"
   },
   "outputs": [],
   "source": [
    "sprinters_career_avg = sprinters[['Athlete','Avg Season Best 100m','Avg Season Best 200m','Avg Season Best 400m','Total_Time_Career_Avg']]\n",
    "sprinters_career_avg"
   ]
  },
  {
   "cell_type": "code",
   "execution_count": null,
   "metadata": {
    "colab": {
     "base_uri": "https://localhost:8080/",
     "height": 423
    },
    "executionInfo": {
     "elapsed": 8,
     "status": "ok",
     "timestamp": 1726865982344,
     "user": {
      "displayName": "Johnny Test",
      "userId": "16509896550579327523"
     },
     "user_tz": 240
    },
    "id": "MohSn2ubxuji",
    "outputId": "6ab3eb2a-34dd-401f-ad66-b00161cd325d"
   },
   "outputs": [],
   "source": [
    "sprinters_career_avg = sprinters_career_avg.sort_values(by='Total_Time_Career_Avg', ascending=False)\n",
    "sprinters_career_avg"
   ]
  },
  {
   "cell_type": "code",
   "execution_count": null,
   "metadata": {
    "executionInfo": {
     "elapsed": 7,
     "status": "ok",
     "timestamp": 1726865982344,
     "user": {
      "displayName": "Johnny Test",
      "userId": "16509896550579327523"
     },
     "user_tz": 240
    },
    "id": "1vIceOGVxuth"
   },
   "outputs": [],
   "source": [
    "sprinters_career_avg = pd.DataFrame(sprinters_career_avg)"
   ]
  },
  {
   "cell_type": "markdown",
   "metadata": {
    "id": "XVn5YFTmSgC2"
   },
   "source": [
    "Let's make a dataframe without null values in the Avergae Times"
   ]
  },
  {
   "cell_type": "code",
   "execution_count": null,
   "metadata": {
    "colab": {
     "base_uri": "https://localhost:8080/",
     "height": 1000
    },
    "executionInfo": {
     "elapsed": 185,
     "status": "ok",
     "timestamp": 1726865982523,
     "user": {
      "displayName": "Johnny Test",
      "userId": "16509896550579327523"
     },
     "user_tz": 240
    },
    "id": "GEP02p0DSgDB",
    "outputId": "f1d9ef14-22f6-4939-d11e-3390c2080693"
   },
   "outputs": [],
   "source": [
    "sprinters_career_avg_clean = sprinters_career_avg.dropna(subset=['Avg Season Best 100m','Avg Season Best 200m','Avg Season Best 400m'])\n",
    "sprinters_career_avg_clean"
   ]
  },
  {
   "cell_type": "code",
   "execution_count": null,
   "metadata": {
    "colab": {
     "base_uri": "https://localhost:8080/",
     "height": 143
    },
    "executionInfo": {
     "elapsed": 15,
     "status": "ok",
     "timestamp": 1726865982523,
     "user": {
      "displayName": "Johnny Test",
      "userId": "16509896550579327523"
     },
     "user_tz": 240
    },
    "id": "4pWfQhbVSgDB",
    "outputId": "6bc4b596-f657-4498-aab4-38f3cc624b13"
   },
   "outputs": [],
   "source": [
    "sprinters_career_avg_clean = pd.DataFrame(sprinters_career_avg_clean)\n",
    "sprinters_career_avg_clean.head(3)"
   ]
  },
  {
   "cell_type": "code",
   "execution_count": null,
   "metadata": {
    "colab": {
     "base_uri": "https://localhost:8080/"
    },
    "executionInfo": {
     "elapsed": 14,
     "status": "ok",
     "timestamp": 1726865982524,
     "user": {
      "displayName": "Johnny Test",
      "userId": "16509896550579327523"
     },
     "user_tz": 240
    },
    "id": "pzEjPX16SgDC",
    "outputId": "2e9ab557-29d1-44ad-e043-80a9aff3d8d6"
   },
   "outputs": [],
   "source": [
    "sprinters_career_avg_clean.shape"
   ]
  },
  {
   "cell_type": "code",
   "execution_count": null,
   "metadata": {
    "colab": {
     "base_uri": "https://localhost:8080/",
     "height": 1000
    },
    "executionInfo": {
     "elapsed": 11,
     "status": "ok",
     "timestamp": 1726865982524,
     "user": {
      "displayName": "Johnny Test",
      "userId": "16509896550579327523"
     },
     "user_tz": 240
    },
    "id": "8S4fdHXvSgDC",
    "outputId": "1dfe9576-7ee3-4037-9dc4-81ceaa5e5202"
   },
   "outputs": [],
   "source": [
    "sprinters_career_avg_clean = sprinters_career_avg_clean.sort_values(by='Total_Time_Career_Avg')\n",
    "sprinters_career_avg_clean"
   ]
  },
  {
   "cell_type": "code",
   "execution_count": null,
   "metadata": {
    "colab": {
     "base_uri": "https://localhost:8080/",
     "height": 367
    },
    "executionInfo": {
     "elapsed": 172,
     "status": "ok",
     "timestamp": 1726865982687,
     "user": {
      "displayName": "Johnny Test",
      "userId": "16509896550579327523"
     },
     "user_tz": 240
    },
    "id": "QH2fgrlNGVd6",
    "outputId": "218380cd-0522-4aab-d80e-5132e7186df4"
   },
   "outputs": [],
   "source": [
    "#What sample size of the dataframe to we want to make into a figure factory table\n",
    "sprinters_career_avg_clean_sample = sprinters_career_avg_clean[1:10]\n",
    "\n",
    "#Cusomize Colors (Add colorscale=colorscale in parentheses of ff.create table)\n",
    "#colorscale = [[0, '#4d004c'],[.5, '#f2e5ff'],[1, '#ffffff']]\n",
    "#Cusomize Font Colors (Add font_colors=font in parentheses of ff.create table)\n",
    "#font=['#FCFCFC', '#00EE00', '#008B00', '#004F00', '#660000', '#CD0000', '#FF3030']\n",
    "\n",
    "table_data = sprinters_career_avg_clean\n",
    "\n",
    "#Adding graphs to the tables (Add table_data in parentheses of ff.create table)\n",
    "'''\n",
    "#Scatter Plot\n",
    "fig.add_trace(go.Scatter(x=Athlete, y=Total_Time_Career_Avg,\n",
    "                    marker=dict(color='#0099ff'),\n",
    "                    name='Goals For<br>Per Game',\n",
    "                    xaxis='x2', yaxis='y2'))\n",
    "\n",
    "\n",
    "\n",
    "fig.update_layout(\n",
    "    title_text = 'Total Time Career Average',\n",
    "    margin = {'t':50, 'b':100},\n",
    "    xaxis = {'domain': [0, .5]},\n",
    "    xaxis2 = {'domain': [0.6, 1.]},\n",
    "    yaxis2 = {'anchor': 'x2', 'title': 'Goals'}\n",
    ")\n",
    "'''\n",
    "'''\n",
    "#Bar Chart\n",
    "fig.add_trace(go.Bar(x=Athlete, y=100_PR, xaxis='x2', yaxis='y2',\n",
    "                marker=dict(color='#0099ff'),\n",
    "                name='100M<br>PR'))\n",
    "\n",
    "fig.add_trace(go.Bar(x=Athlete, y=200_PR, xaxis='x2', yaxis='y2',\n",
    "                marker=dict(color='#404040'),\n",
    "                name='200M<br>PR'))\n",
    "\n",
    "fig.add_trace(go.Bar(x=Athlete, y=400_PR, xaxis='x2', yaxis='y2',\n",
    "                marker=dict(color='#404040'),\n",
    "                name='400M<br>PR'))\n",
    "\n",
    "fig.add_trace(go.Bar(x=Athlete, y=Total_Time_Career_Avg, xaxis='x2', yaxis='y2',\n",
    "                marker=dict(color='#404040'),\n",
    "                name='Total PR<br>Time'))\n",
    "\n",
    "fig.update_layout(\n",
    "    title_text = 'Sprinter Career Averages',\n",
    "    height = 800,\n",
    "    margin = {'t':75, 'l':50},\n",
    "    yaxis = {'domain': [0, .45]},\n",
    "    xaxis2 = {'anchor': 'y2'},\n",
    "    yaxis2 = {'domain': [.6, 1], 'anchor': 'x2', 'title': 'Goals'}\n",
    "'''\n",
    "\n",
    "fig =  ff.create_table(sprinters_career_avg_clean_sample)\n",
    "fig.show()\n",
    "\n",
    "#fig.write_html(\"sprinters_career_avg_top10_ff.html\")\n",
    "#fig.write_image(\"sprinters_career_avg_top10_ff.svg\")\n"
   ]
  },
  {
   "cell_type": "code",
   "execution_count": null,
   "metadata": {
    "colab": {
     "base_uri": "https://localhost:8080/",
     "height": 1000
    },
    "executionInfo": {
     "elapsed": 214,
     "status": "ok",
     "timestamp": 1726865982897,
     "user": {
      "displayName": "Johnny Test",
      "userId": "16509896550579327523"
     },
     "user_tz": 240
    },
    "id": "AtX6Qbr8GVeS",
    "outputId": "d62df785-5cba-4146-f91b-593609ac4d24"
   },
   "outputs": [],
   "source": [
    "#Let's make the entire dataframe a figure factory table\n",
    "\n",
    "\n",
    "fig =  ff.create_table(sprinters_career_avg_clean)\n",
    "fig.show()\n",
    "\n",
    "#fig.write_html(\"sprinters_career_avg_ff.html\")\n",
    "#fig.write_image(\"sprinters_career_avg_ff.svg\")"
   ]
  },
  {
   "cell_type": "markdown",
   "metadata": {
    "id": "xDFN4vVJT_gi"
   },
   "source": [
    "***Note***:\n",
    "\n",
    "If you go by Total Career average across all three events, Micheal Johnson is the fastest short sprinter with the lowest total average time.\n",
    "\n",
    "Once again Usian Bolt slower times in the 400m cause in the drop down to 9th, even though has the fastest average 100m & 200m (See code / analysis below)."
   ]
  },
  {
   "cell_type": "markdown",
   "metadata": {
    "id": "4FnoQhqFyWo3"
   },
   "source": [
    "Data Frame 3 (PRs & Career Average)"
   ]
  },
  {
   "cell_type": "code",
   "execution_count": null,
   "metadata": {
    "colab": {
     "base_uri": "https://localhost:8080/",
     "height": 545
    },
    "executionInfo": {
     "elapsed": 14,
     "status": "ok",
     "timestamp": 1726865982897,
     "user": {
      "displayName": "Johnny Test",
      "userId": "16509896550579327523"
     },
     "user_tz": 240
    },
    "id": "hkgschPlyb24",
    "outputId": "65e3226d-5dc4-4b8f-8c64-bb34ca917288"
   },
   "outputs": [],
   "source": [
    "sprint_career = sprinters[['Athlete','Avg Season Best 100m','Avg Season Best 200m','Avg Season Best 400m', '100_PR','200_PR','400_PR', 'Total_Time_PRs', 'Total_Time_Career_Avg', 'avg_top25_rnk']]\n",
    "sprint_career"
   ]
  },
  {
   "cell_type": "code",
   "execution_count": null,
   "metadata": {
    "executionInfo": {
     "elapsed": 13,
     "status": "ok",
     "timestamp": 1726865982897,
     "user": {
      "displayName": "Johnny Test",
      "userId": "16509896550579327523"
     },
     "user_tz": 240
    },
    "id": "46J0pbr7zIda"
   },
   "outputs": [],
   "source": [
    "sprint_career = pd.DataFrame(sprint_career)"
   ]
  },
  {
   "cell_type": "markdown",
   "metadata": {
    "id": "Ug7qflveUWNE"
   },
   "source": [
    "*Let make a data frame for Top 25 All-Time Career Rankings*"
   ]
  },
  {
   "cell_type": "code",
   "execution_count": null,
   "metadata": {
    "colab": {
     "base_uri": "https://localhost:8080/",
     "height": 143
    },
    "executionInfo": {
     "elapsed": 12,
     "status": "ok",
     "timestamp": 1726865982897,
     "user": {
      "displayName": "Johnny Test",
      "userId": "16509896550579327523"
     },
     "user_tz": 240
    },
    "id": "5XLr4JcMUsOK",
    "outputId": "9a69e052-db41-4576-e9fd-029b9d21aa16"
   },
   "outputs": [],
   "source": [
    "sprinters_alltime_rnk = sprinters[['Athlete','Country','DOB','Age', 'T25_100_AT_RK_NUM', 'T25_200_AT_RK_NUM', 'T25_400_AT_RK_NUM','avg_top25_rnk']]\n",
    "sprinters_alltime_rnk.head(3)"
   ]
  },
  {
   "cell_type": "markdown",
   "metadata": {
    "id": "XmHNoxItV3K3"
   },
   "source": [
    "Let's createa a dataframe without any null values"
   ]
  },
  {
   "cell_type": "code",
   "execution_count": null,
   "metadata": {
    "colab": {
     "base_uri": "https://localhost:8080/",
     "height": 89
    },
    "executionInfo": {
     "elapsed": 12,
     "status": "ok",
     "timestamp": 1726865982898,
     "user": {
      "displayName": "Johnny Test",
      "userId": "16509896550579327523"
     },
     "user_tz": 240
    },
    "id": "ND8iRdjdV92l",
    "outputId": "b87e69e8-54e2-4c07-f11a-fa235f2e3b09"
   },
   "outputs": [],
   "source": [
    "sprinters_alltime_rnk_clean = sprinters_alltime_rnk.dropna(subset=['T25_100_AT_RK_NUM', 'T25_200_AT_RK_NUM', 'T25_400_AT_RK_NUM','avg_top25_rnk'])\n",
    "sprinters_alltime_rnk_clean"
   ]
  },
  {
   "cell_type": "code",
   "execution_count": null,
   "metadata": {
    "colab": {
     "base_uri": "https://localhost:8080/"
    },
    "executionInfo": {
     "elapsed": 11,
     "status": "ok",
     "timestamp": 1726865982898,
     "user": {
      "displayName": "Johnny Test",
      "userId": "16509896550579327523"
     },
     "user_tz": 240
    },
    "id": "eNuN1bTNW1iY",
    "outputId": "83887baf-d1b4-4f0a-af0e-b340ad08806b"
   },
   "outputs": [],
   "source": [
    "sprinters_alltime_rnk_clean.shape"
   ]
  },
  {
   "cell_type": "code",
   "execution_count": null,
   "metadata": {
    "colab": {
     "base_uri": "https://localhost:8080/",
     "height": 89
    },
    "executionInfo": {
     "elapsed": 177,
     "status": "ok",
     "timestamp": 1726865983067,
     "user": {
      "displayName": "Johnny Test",
      "userId": "16509896550579327523"
     },
     "user_tz": 240
    },
    "id": "ZviHGjuNW1ia",
    "outputId": "4b4e65da-c311-4bd3-da38-868eeda38c56"
   },
   "outputs": [],
   "source": [
    "sprinters_alltime_rnk_clean = sprinters_alltime_rnk_clean.sort_values(by='avg_top25_rnk')\n",
    "sprinters_alltime_rnk_clean"
   ]
  },
  {
   "cell_type": "markdown",
   "metadata": {
    "id": "6XeCHQm6Fdby"
   },
   "source": [
    "*Let's make a dataframe for each event*"
   ]
  },
  {
   "cell_type": "markdown",
   "metadata": {
    "id": "shKQu0QhBz9V"
   },
   "source": [
    "Let's add second database to join number of season to each events dataframe (For Years Competed in each event)."
   ]
  },
  {
   "cell_type": "code",
   "execution_count": null,
   "metadata": {
    "colab": {
     "base_uri": "https://localhost:8080/",
     "height": 143
    },
    "executionInfo": {
     "elapsed": 13,
     "status": "ok",
     "timestamp": 1726865983068,
     "user": {
      "displayName": "Johnny Test",
      "userId": "16509896550579327523"
     },
     "user_tz": 240
    },
    "id": "o-GMweZEkTAz",
    "outputId": "3eeca5bc-2b99-4aba-b725-313864069657"
   },
   "outputs": [],
   "source": [
    "sprinters_df2 = pd.read_csv(\"../data/Worlds_Fastest_Sprinters_Master_List_Yearly_Progression.csv\")\n",
    "sprinters_df2.head(3)"
   ]
  },
  {
   "cell_type": "code",
   "execution_count": null,
   "metadata": {
    "executionInfo": {
     "elapsed": 12,
     "status": "ok",
     "timestamp": 1726865983068,
     "user": {
      "displayName": "Johnny Test",
      "userId": "16509896550579327523"
     },
     "user_tz": 240
    },
    "id": "1AYSTsnbnwIO"
   },
   "outputs": [],
   "source": [
    "yrs_competed_100m = sprinters_df2[sprinters_df2['Event'] == '100m'].groupby('Athlete').size().reset_index(name='Years')"
   ]
  },
  {
   "cell_type": "code",
   "execution_count": null,
   "metadata": {
    "colab": {
     "base_uri": "https://localhost:8080/",
     "height": 206
    },
    "executionInfo": {
     "elapsed": 12,
     "status": "ok",
     "timestamp": 1726865983068,
     "user": {
      "displayName": "Johnny Test",
      "userId": "16509896550579327523"
     },
     "user_tz": 240
    },
    "id": "TDEfJjpqn_BT",
    "outputId": "250f07cf-ec2e-4bc9-8e7b-524f322b08d8"
   },
   "outputs": [],
   "source": [
    "yrs_competed_100m = yrs_competed_100m.sort_values(by='Years', ascending=False)\n",
    "yrs_competed_100m.head()"
   ]
  },
  {
   "cell_type": "code",
   "execution_count": null,
   "metadata": {
    "executionInfo": {
     "elapsed": 11,
     "status": "ok",
     "timestamp": 1726865983068,
     "user": {
      "displayName": "Johnny Test",
      "userId": "16509896550579327523"
     },
     "user_tz": 240
    },
    "id": "aSaO_PPgqUtk"
   },
   "outputs": [],
   "source": [
    "yrs_competed_200m = sprinters_df2[sprinters_df2['Event'] == '200m'].groupby('Athlete').size().reset_index(name='Years')"
   ]
  },
  {
   "cell_type": "code",
   "execution_count": null,
   "metadata": {
    "colab": {
     "base_uri": "https://localhost:8080/",
     "height": 206
    },
    "executionInfo": {
     "elapsed": 10,
     "status": "ok",
     "timestamp": 1726865983068,
     "user": {
      "displayName": "Johnny Test",
      "userId": "16509896550579327523"
     },
     "user_tz": 240
    },
    "id": "aXzOD-JKqUtl",
    "outputId": "59f342f6-48b6-423e-ed32-388206f60be6"
   },
   "outputs": [],
   "source": [
    "yrs_competed_200m = yrs_competed_200m.sort_values(by='Years', ascending=False)\n",
    "yrs_competed_200m.head()"
   ]
  },
  {
   "cell_type": "code",
   "execution_count": null,
   "metadata": {
    "executionInfo": {
     "elapsed": 9,
     "status": "ok",
     "timestamp": 1726865983068,
     "user": {
      "displayName": "Johnny Test",
      "userId": "16509896550579327523"
     },
     "user_tz": 240
    },
    "id": "6JfeotA1qykS"
   },
   "outputs": [],
   "source": [
    "yrs_competed_400m = sprinters_df2[sprinters_df2['Event'] == '400m'].groupby('Athlete').size().reset_index(name='Years')"
   ]
  },
  {
   "cell_type": "code",
   "execution_count": null,
   "metadata": {
    "colab": {
     "base_uri": "https://localhost:8080/",
     "height": 206
    },
    "executionInfo": {
     "elapsed": 9,
     "status": "ok",
     "timestamp": 1726865983068,
     "user": {
      "displayName": "Johnny Test",
      "userId": "16509896550579327523"
     },
     "user_tz": 240
    },
    "id": "zHJoXnPBqykT",
    "outputId": "5d5aea03-9438-4fe5-9a3d-8ec7176dca7a"
   },
   "outputs": [],
   "source": [
    "yrs_competed_400m = yrs_competed_400m.sort_values(by='Years', ascending=False)\n",
    "yrs_competed_400m.head()"
   ]
  },
  {
   "cell_type": "markdown",
   "metadata": {
    "id": "zyVw_ABwFnYq"
   },
   "source": [
    "100m"
   ]
  },
  {
   "cell_type": "code",
   "execution_count": null,
   "metadata": {
    "colab": {
     "base_uri": "https://localhost:8080/",
     "height": 666
    },
    "executionInfo": {
     "elapsed": 183,
     "status": "ok",
     "timestamp": 1726865983243,
     "user": {
      "displayName": "Johnny Test",
      "userId": "16509896550579327523"
     },
     "user_tz": 240
    },
    "id": "C2AekUbMFkp7",
    "outputId": "e73fe41f-c909-420e-96fd-f3beb90e153e"
   },
   "outputs": [],
   "source": [
    "df_100m= sprinters[['Athlete', 'Country','Continent','Status', 'DOB','Year Born','Month Born','Decade Born','Avg Season Best 100m','100_PR','T25_100_All_Time_Rank','T25_100_AT_RK_NUM']]\n",
    "df_100m"
   ]
  },
  {
   "cell_type": "code",
   "execution_count": null,
   "metadata": {
    "colab": {
     "base_uri": "https://localhost:8080/",
     "height": 267
    },
    "executionInfo": {
     "elapsed": 5,
     "status": "ok",
     "timestamp": 1726865983244,
     "user": {
      "displayName": "Johnny Test",
      "userId": "16509896550579327523"
     },
     "user_tz": 240
    },
    "id": "2yFWLF8OLBfq",
    "outputId": "0fa96d70-800f-4890-d982-5d2401c6ab9a"
   },
   "outputs": [],
   "source": [
    "df_100m['Avg_100m_PR_Diff'] = round(df_100m['Avg Season Best 100m'] - df_100m['100_PR'],2)\n",
    "df_100m.head(3)"
   ]
  },
  {
   "cell_type": "code",
   "execution_count": null,
   "metadata": {
    "colab": {
     "base_uri": "https://localhost:8080/",
     "height": 267
    },
    "executionInfo": {
     "elapsed": 178,
     "status": "ok",
     "timestamp": 1726865983418,
     "user": {
      "displayName": "Johnny Test",
      "userId": "16509896550579327523"
     },
     "user_tz": 240
    },
    "id": "mY0KWl9MEmTV",
    "outputId": "cf16df2e-5425-458d-b8ea-b7567fd79f4a"
   },
   "outputs": [],
   "source": [
    "df_100m = pd.merge(df_100m, yrs_competed_100m, on=['Athlete'],how='left')\n",
    "df_100m.head(3)"
   ]
  },
  {
   "cell_type": "code",
   "execution_count": null,
   "metadata": {
    "colab": {
     "base_uri": "https://localhost:8080/",
     "height": 267
    },
    "executionInfo": {
     "elapsed": 8,
     "status": "ok",
     "timestamp": 1726865983418,
     "user": {
      "displayName": "Johnny Test",
      "userId": "16509896550579327523"
     },
     "user_tz": 240
    },
    "id": "ahvrrd5iI0M4",
    "outputId": "89c38d82-6ade-49d7-dba0-6e9351aa69d9"
   },
   "outputs": [],
   "source": [
    "df_100m = df_100m.rename(columns={'Years': 'Years_Competed_100m'})\n",
    "df_100m.head(3)"
   ]
  },
  {
   "cell_type": "code",
   "execution_count": null,
   "metadata": {
    "executionInfo": {
     "elapsed": 7,
     "status": "ok",
     "timestamp": 1726865983419,
     "user": {
      "displayName": "Johnny Test",
      "userId": "16509896550579327523"
     },
     "user_tz": 240
    },
    "id": "HF9tEpLMKHjQ"
   },
   "outputs": [],
   "source": [
    "#df_100m = df_100m.sort_values(by='Avg Season Best 100m', ascending=False)\n",
    "#df_100m"
   ]
  },
  {
   "cell_type": "code",
   "execution_count": null,
   "metadata": {
    "colab": {
     "base_uri": "https://localhost:8080/",
     "height": 669
    },
    "executionInfo": {
     "elapsed": 7,
     "status": "ok",
     "timestamp": 1726865983419,
     "user": {
      "displayName": "Johnny Test",
      "userId": "16509896550579327523"
     },
     "user_tz": 240
    },
    "id": "-h_RluPnYBoR",
    "outputId": "266604fe-2721-49ad-e7ee-47fa0776cd7f"
   },
   "outputs": [],
   "source": [
    "df_100m = df_100m.sort_values(by='Avg Season Best 100m')\n",
    "df_100m"
   ]
  },
  {
   "cell_type": "markdown",
   "metadata": {
    "id": "NDQpwylvOVff"
   },
   "source": [
    "**Top 5 Career Averages in the 100m (Rounded to the nearest hundreth)**\n",
    "\n",
    "\n",
    "\n",
    "1.   Usain Bolt: 9.80 (11 Seasons)\n",
    "2.   Christian Coleman: 9.93 (9 Seasons)\n",
    "3.   Justin Gatlin: 9.94 (17 Seasons)\n",
    "4.   Asafa Powell: 9.99 (20 Seasons)\n",
    "5.   Ferdidnad Omanyala: 10.00 (6 Seasons)\n",
    "\n",
    "\n",
    "\n",
    "\n",
    "\n",
    "\n"
   ]
  },
  {
   "cell_type": "code",
   "execution_count": null,
   "metadata": {
    "colab": {
     "base_uri": "https://localhost:8080/",
     "height": 452
    },
    "executionInfo": {
     "elapsed": 575,
     "status": "ok",
     "timestamp": 1726865983988,
     "user": {
      "displayName": "Johnny Test",
      "userId": "16509896550579327523"
     },
     "user_tz": 240
    },
    "id": "bJHSDHzpJ-Z7",
    "outputId": "102c8109-878e-47c3-aa32-99c588dac45a"
   },
   "outputs": [],
   "source": [
    "# @title Year Born 100m\n",
    "\n",
    "\n",
    "df_100m['Year Born'].plot(kind='hist', bins=20, title='Year Born')\n",
    "plt.gca().spines[['top', 'right',]].set_visible(False)\n",
    "\n",
    "#plt.savefig('year_born_100.png', format='png', dpi=300)\n",
    "#plt.savefig('year_born_100.jpg', format='jpg', dpi=300)"
   ]
  },
  {
   "cell_type": "code",
   "execution_count": null,
   "metadata": {
    "colab": {
     "base_uri": "https://localhost:8080/",
     "height": 449
    },
    "executionInfo": {
     "elapsed": 210,
     "status": "ok",
     "timestamp": 1726865984194,
     "user": {
      "displayName": "Johnny Test",
      "userId": "16509896550579327523"
     },
     "user_tz": 240
    },
    "id": "nN2XRi1NgGO0",
    "outputId": "2edb7568-06da-4525-8da2-15b553d98afb"
   },
   "outputs": [],
   "source": [
    "# @title Year Born vs Avg Season Best 100m\n",
    "\n",
    "df_100m.plot(kind='scatter', x='Year Born', y='Avg Season Best 100m', s=32, alpha=.8)\n",
    "plt.gca().spines[['top', 'right',]].set_visible(False)\n",
    "\n",
    "#plt.savefig('year_born_avg_100.png', format='png', dpi=300)\n",
    "#plt.savefig('year_born_avg_100.jpg', format='jpg', dpi=300)"
   ]
  },
  {
   "cell_type": "code",
   "execution_count": null,
   "metadata": {
    "colab": {
     "base_uri": "https://localhost:8080/",
     "height": 453
    },
    "executionInfo": {
     "elapsed": 308,
     "status": "ok",
     "timestamp": 1726865984499,
     "user": {
      "displayName": "Johnny Test",
      "userId": "16509896550579327523"
     },
     "user_tz": 240
    },
    "id": "LhgoLLG6fgHa",
    "outputId": "38c298f5-604b-48a2-db97-f2e1883e1c94"
   },
   "outputs": [],
   "source": [
    "# @title Avg Season Best 100m vs 100_PR\n",
    "\n",
    "df_100m.plot(kind='scatter', x='Avg Season Best 100m', y='100_PR', s=32, alpha=.8)\n",
    "plt.gca().spines[['top', 'right',]].set_visible(False)\n",
    "\n",
    "#plt.savefig('avg_100__vs_pr.png', format='png', dpi=300)\n",
    "#plt.savefig('avg_100_vs_pr.jpg', format='jpg', dpi=300)"
   ]
  },
  {
   "cell_type": "markdown",
   "metadata": {
    "id": "Fcoh5m7dJW6a"
   },
   "source": [
    "Version 2"
   ]
  },
  {
   "cell_type": "code",
   "execution_count": null,
   "metadata": {
    "colab": {
     "base_uri": "https://localhost:8080/",
     "height": 373
    },
    "executionInfo": {
     "elapsed": 178,
     "status": "error",
     "timestamp": 1726866145759,
     "user": {
      "displayName": "Johnny Test",
      "userId": "16509896550579327523"
     },
     "user_tz": 240
    },
    "id": "RZZx-RC2JcY0",
    "outputId": "78008942-4157-4cf4-d79a-47c568a55cec"
   },
   "outputs": [],
   "source": [
    "df_100m = px.data.iris() # iris is a pandas DataFrame\n",
    "fig = px.scatter(df_100m, x=\"Avg Season Best 100m\", y=\"100_PR\")\n",
    "fig.show()\n",
    "\n",
    "#fig.write_html(\"100m_avg_vs_pr_scatter.html\")\n",
    "#fig.write_image(\"100m_avg_vs_pr_scatter.svg\")"
   ]
  },
  {
   "cell_type": "markdown",
   "metadata": {
    "id": "6LXk-Pr-Jb_0"
   },
   "source": [
    "Version 3"
   ]
  },
  {
   "cell_type": "code",
   "execution_count": null,
   "metadata": {
    "colab": {
     "base_uri": "https://localhost:8080/",
     "height": 373
    },
    "executionInfo": {
     "elapsed": 174,
     "status": "error",
     "timestamp": 1726866055630,
     "user": {
      "displayName": "Johnny Test",
      "userId": "16509896550579327523"
     },
     "user_tz": 240
    },
    "id": "vCqSUeB1IlF0",
    "outputId": "3ea18482-6ed4-41a1-f0ec-904a5aafe5f3"
   },
   "outputs": [],
   "source": [
    "df_100m = px.data.iris()\n",
    "fig = px.scatter(df_100m, x=\"Avg Season Best 100m\", y=\"100_PR\", color=\"Country\",\n",
    "                 size='Avg Season Best 100m', hover_data=['100_PR'])\n",
    "fig.show()\n",
    "\n",
    "#fig.write_html(\"100m_avg_vs_pr_scatter_2.html\")\n",
    "#fig.write_image(\"100m_avg_vs_pr_scatter_2.svg\")"
   ]
  },
  {
   "cell_type": "markdown",
   "metadata": {
    "id": "QO0S3yJOKsgo"
   },
   "source": [
    "Version 4 (With Error Bars)"
   ]
  },
  {
   "cell_type": "code",
   "execution_count": null,
   "metadata": {
    "executionInfo": {
     "elapsed": 5,
     "status": "aborted",
     "timestamp": 1726865984668,
     "user": {
      "displayName": "Johnny Test",
      "userId": "16509896550579327523"
     },
     "user_tz": 240
    },
    "id": "RNy3bub9Ks0p"
   },
   "outputs": [],
   "source": [
    "df_100m = px.data.iris()\n",
    "df_100m[\"e\"] = df_100m[\"Avg Season Best 100m\"]/100\n",
    "fig = px.scatter(df_100m, x=\"Avg Season Best 100m\", y=\"100_PR\", color=\"Country\",\n",
    "                 error_x=\"e\", error_y=\"e\")\n",
    "fig.show()\n",
    "\n",
    "#fig.write_html(\"100m_avg_vs_pr_scatter_3.html\")\n",
    "#fig.write_image(\"100m_avg_vs_pr_scatter_3.svg\")"
   ]
  },
  {
   "cell_type": "markdown",
   "metadata": {
    "id": "Zoknoe5UKtMX"
   },
   "source": [
    "Version 5 (Using Dash)"
   ]
  },
  {
   "cell_type": "code",
   "execution_count": null,
   "metadata": {
    "executionInfo": {
     "elapsed": 4,
     "status": "aborted",
     "timestamp": 1726865984668,
     "user": {
      "displayName": "Johnny Test",
      "userId": "16509896550579327523"
     },
     "user_tz": 240
    },
    "id": "_W3Cmd5WK5vy"
   },
   "outputs": [],
   "source": [
    "from dash import Dash, dcc, html, Input, Output"
   ]
  },
  {
   "cell_type": "code",
   "execution_count": null,
   "metadata": {
    "executionInfo": {
     "elapsed": 4,
     "status": "aborted",
     "timestamp": 1726865984668,
     "user": {
      "displayName": "Johnny Test",
      "userId": "16509896550579327523"
     },
     "user_tz": 240
    },
    "id": "l_4vFtXxKtfk"
   },
   "outputs": [],
   "source": [
    "\n",
    "\n",
    "app = Dash(__name__)\n",
    "\n",
    "\n",
    "app.layout = html.Div([\n",
    "    html.H4('Career Average 100m vs 100m PR'),\n",
    "    dcc.Graph(id=\"scatter-plot\"),\n",
    "    html.P(\"Filter by Career Average 100m:\"),\n",
    "    dcc.RangeSlider(\n",
    "        id='range-slider',\n",
    "        min=0, max=2.5, step=0.1,\n",
    "        marks={0: '0', 2.5: '2.5'},\n",
    "        value=[0.5, 2]\n",
    "    ),\n",
    "])\n",
    "\n",
    "\n",
    "@app.callback(\n",
    "    Output(\"scatter-plot\", \"figure\"),\n",
    "    Input(\"range-slider\", \"value\"))\n",
    "def update_bar_chart(slider_range):\n",
    "    df_100m = px.data.iris() # replace with your own data source\n",
    "    low, high = slider_range\n",
    "    mask = (df_100m['Avg Season Best 100m'] > low) & (df_100m['Avg Season Best 100m'] < high)\n",
    "    fig = px.scatter(\n",
    "        df[mask], x=\"Avg Season Best 100m\", y=\"100m_PR\",\n",
    "        color=\"Country\", size='Avg Season Best 100m',\n",
    "        hover_data=['100m_PR'])\n",
    "    return fig\n",
    "\n",
    "\n",
    "app.run_server(debug=True)\n",
    "\n",
    "#fig.write_html(\"100m_avg_vs_pr_scatter_dash.html\")\n",
    "#fig.write_image(\"100m_avg_vs_pr_scatter_dash.svg\")"
   ]
  },
  {
   "cell_type": "markdown",
   "metadata": {
    "id": "dYalNUR_SlMf"
   },
   "source": [
    "# ***Statistical Analysis 100m***"
   ]
  },
  {
   "cell_type": "code",
   "execution_count": null,
   "metadata": {
    "executionInfo": {
     "elapsed": 648,
     "status": "ok",
     "timestamp": 1726866169487,
     "user": {
      "displayName": "Johnny Test",
      "userId": "16509896550579327523"
     },
     "user_tz": 240
    },
    "id": "ZKQA3I0jSsUx"
   },
   "outputs": [],
   "source": [
    "from scipy.stats import zscore\n",
    "from sklearn.linear_model import LinearRegression"
   ]
  },
  {
   "cell_type": "markdown",
   "metadata": {
    "id": "T8YT-U2aS9qD"
   },
   "source": [
    "Linear Regression"
   ]
  },
  {
   "cell_type": "code",
   "execution_count": null,
   "metadata": {
    "colab": {
     "base_uri": "https://localhost:8080/",
     "height": 547
    },
    "executionInfo": {
     "elapsed": 147,
     "status": "error",
     "timestamp": 1726866172749,
     "user": {
      "displayName": "Johnny Test",
      "userId": "16509896550579327523"
     },
     "user_tz": 240
    },
    "id": "UknXYw3KTAMi",
    "outputId": "37d0ceb6-c057-4f0d-f6f2-8897dc6d759a"
   },
   "outputs": [],
   "source": [
    "# Function to calculate standard deviation (consistency)\n",
    "df_100m['consistency'] = df_100m['Avg Season Best 100m']  # Placeholder: You could replace with actual std per year data if available\n",
    "\n",
    "### 1. Regression Analysis ###\n",
    "# Linear regression: relationship between average_time and years_competed\n",
    "X = df_100m[['Years_Competed_100m', '100_PR']]\n",
    "y = df_100m['Avg Season Best 100m']\n",
    "\n",
    "# Fit model\n",
    "model = LinearRegression()\n",
    "model.fit(X, y)\n",
    "\n",
    "# Predictions and residuals\n",
    "df_100m['predicted_time'] = model.predict(X)\n",
    "df_100m['residuals'] = df_100m['Avg Season Best 100m'] - df_100m['predicted_time']\n",
    "\n",
    "print(\"Regression coefficients (slope):\", model.coef_)\n",
    "print(\"Intercept:\", model.intercept_)\n"
   ]
  },
  {
   "cell_type": "markdown",
   "metadata": {
    "id": "rEbDG1HQUHob"
   },
   "source": [
    "Z-Score Standardization"
   ]
  },
  {
   "cell_type": "code",
   "execution_count": null,
   "metadata": {
    "colab": {
     "base_uri": "https://localhost:8080/",
     "height": 547
    },
    "executionInfo": {
     "elapsed": 169,
     "status": "error",
     "timestamp": 1726866231846,
     "user": {
      "displayName": "Johnny Test",
      "userId": "16509896550579327523"
     },
     "user_tz": 240
    },
    "id": "qnon0kvuUI3i",
    "outputId": "2b9e9e86-0474-4fca-cf74-8e0e8602cb5c"
   },
   "outputs": [],
   "source": [
    "# Z-score for average_time and years_competed\n",
    "df_100m['z_time'] = zscore(df_100m['Avg Season Best 100m'])\n",
    "df_100m['z_years'] = zscore(df_100m['Years_Competed_100m'])\n",
    "df_100m['z_PR'] = zscore(df_100m['100_PR'])\n",
    "\n",
    "# Z-score comparison (combine time and years)\n",
    "df_100m['z_combined'] = (df_100m['z_time'] + df_100m['z_years']) + df_100m['z_PR'] / 3"
   ]
  },
  {
   "cell_type": "markdown",
   "metadata": {
    "id": "eWbg5YApUJSE"
   },
   "source": [
    "Efficiency / Ratio Analysis"
   ]
  },
  {
   "cell_type": "code",
   "execution_count": null,
   "metadata": {
    "id": "irhRVUgxUnJW"
   },
   "outputs": [],
   "source": [
    "# Efficiency score (average_time per year competed)\n",
    "df_100m['efficiency_score'] = df_100m['Avg Season Best 100m'] / df_100m['Years_Competed_100m']\n",
    "\n",
    "# Efficiency score: How close the sprinter's average time is to their personal best\n",
    "df_100m['efficiency_score_pr'] = df_100m['100_PR'] / df_100m['Avg Season Best 100m']"
   ]
  },
  {
   "cell_type": "markdown",
   "metadata": {
    "id": "xH0D_sEvWBwU"
   },
   "source": [
    "Ranking System"
   ]
  },
  {
   "cell_type": "code",
   "execution_count": null,
   "metadata": {
    "id": "HOn30MP8WCJO"
   },
   "outputs": [],
   "source": [
    "# Combine rankings based on average_time, consistency, and longevity (years_competed)\n",
    "df_100m['rank_personal_best'] = df_100m['100_PR'].rank(ascending=True)  # Lower personal best is better\n",
    "df_100m['rank_average_time'] = df_100m['Avg Season Best 100m'].rank(ascending=True)  # Lower is better\n",
    "df_100m['rank_consistency'] = df_100m['consistency'].rank(ascending=True)  # Lower std dev is better\n",
    "df_100m['rank_years_competed'] = df_100m['Years_Competed_100m'].rank(ascending=False)  # Longer careers are better\n",
    "\n",
    "#Final ranking\n",
    "df_100m['final_rank'] = df_100m[['rank_personal_best','rank_average_time', 'rank_consistency', 'rank_years_competed']].mean(axis=1)"
   ]
  },
  {
   "cell_type": "markdown",
   "metadata": {
    "id": "jryIHuHZWCmc"
   },
   "source": [
    "Scatter Plot Visualization"
   ]
  },
  {
   "cell_type": "code",
   "execution_count": null,
   "metadata": {
    "id": "xlyXqBfOWC-D"
   },
   "outputs": [],
   "source": [
    "plt.figure(figsize=(10, 6))\n",
    "sns.scatterplot(x='Years_Competed_100m', y='Avg Season Best 100m', data=df_100m, s=100, hue='final_rank', palette='coolwarm')\n",
    "plt.title('Years Competed vs. Career Average 100m Time')\n",
    "plt.xlabel('Years Competed')\n",
    "plt.ylabel('Average 100m Time (s)')\n",
    "plt.show()\n",
    "\n",
    "#plt.savefig('avg_100_vs_yrs_competed_ranked.png', format='png', dpi=300)\n",
    "#plt.savefig('avg_100_vs_yrs_competed_ranked.jpg', format='jpg', dpi=300)"
   ]
  },
  {
   "cell_type": "markdown",
   "metadata": {
    "id": "2B3jlcAmYXuO"
   },
   "source": [
    "Interactive Scatter Plot"
   ]
  },
  {
   "cell_type": "code",
   "execution_count": null,
   "metadata": {
    "id": "EFlnsoreYcw1"
   },
   "outputs": [],
   "source": [
    "# @title Years Competed vs. Career Average 100m Time\n",
    "\n",
    "df_100m = px.data.iris()\n",
    "fig = px.scatter(df_100m, x=\"Years_Competed_100m\", y=\"Avg Season Best 100m\", color=\"final_rank\",\n",
    "                 size='Years_Competed_100m', hover_data=['Avg Season Best 100m']) #Potentially switch out career average for personal record regarding hover data.\n",
    "fig.show()\n",
    "\n",
    "#fig.write_html(\"avg_100_vs_yrs_competed_ranked.html\")\n",
    "#fig.write_image(\"avg_100_vs_yrs_competed_ranked.svg\")"
   ]
  },
  {
   "cell_type": "code",
   "execution_count": null,
   "metadata": {
    "id": "fYoTQ7CxZfxA"
   },
   "outputs": [],
   "source": [
    "print(df_100m[['Athlete', 'Avg Season Best 100m', 'Years_Competed_100m', '100_PR', 'residuals', 'z_combined', 'efficiency_score', 'efficiency_score_pr','final_rank']])"
   ]
  },
  {
   "cell_type": "code",
   "execution_count": null,
   "metadata": {
    "id": "Xvx0UaliZgIO"
   },
   "outputs": [],
   "source": [
    "df_100m_stat_analysis = df_100m[['Athlete', 'Avg Season Best 100m', 'Years_Competed_100m', '100_PR', 'residuals', 'z_combined', 'efficiency_score', 'efficiency_score_pr','final_rank']]"
   ]
  },
  {
   "cell_type": "code",
   "execution_count": null,
   "metadata": {
    "id": "yvIELc46Z8jl"
   },
   "outputs": [],
   "source": [
    "df_100m_stat_analysis = df_100m_stat_analysis.sort_values(by='final_rank')\n",
    "df_100m_stat_analysis.head(3)"
   ]
  },
  {
   "cell_type": "code",
   "execution_count": null,
   "metadata": {
    "id": "mjcgLaHXcUkE"
   },
   "outputs": [],
   "source": [
    "#What sample size of the dataframe to we want to make into a figure factory table\n",
    "df_100m_stat_analysis_sample = df_100m_stat_analysis[1:10]\n",
    "\n",
    "#Cusomize Colors (Add colorscale=colorscale in parentheses of ff.create table)\n",
    "#colorscale = [[0, '#4d004c'],[.5, '#f2e5ff'],[1, '#ffffff']]\n",
    "#Cusomize Font Colors (Add font_colors=font in parentheses of ff.create table)\n",
    "#font=['#FCFCFC', '#00EE00', '#008B00', '#004F00', '#660000', '#CD0000', '#FF3030']\n",
    "\n",
    "table_data = df_100m_stat_analysis\n",
    "\n",
    "\n",
    "fig =  ff.create_table(df_100m_stat_analysis_sample)\n",
    "fig.show()\n",
    "\n",
    "#fig.write_html(\"df_100m_stat_analysis_sample_ff.html\")\n",
    "#fig.write_image(\"df_100m_stat_analysis_sample_ff.svg\")\n"
   ]
  },
  {
   "cell_type": "code",
   "execution_count": null,
   "metadata": {
    "id": "DTfRk8w0cUka"
   },
   "outputs": [],
   "source": [
    "fig =  ff.create_table(df_100m_stat_analysis)\n",
    "fig.show()\n",
    "\n",
    "#fig.write_html(\"df_100m_stat_analysis_ff.html\")\n",
    "#fig.write_image(\"df_100m_stat_analysis_ff.svg\")"
   ]
  },
  {
   "cell_type": "code",
   "execution_count": null,
   "metadata": {
    "id": "k1-jSmupcAd2"
   },
   "outputs": [],
   "source": [
    "fig =  ff.create_table(df_100m)\n",
    "fig.show()\n",
    "\n",
    "#fig.write_html(\"df_100m_ff.html\")\n",
    "#fig.write_image(\"df_100m_ff.svg\")"
   ]
  },
  {
   "cell_type": "code",
   "execution_count": null,
   "metadata": {
    "id": "txtRih4CIqy4"
   },
   "outputs": [],
   "source": [
    "df_100m = pd.DataFrame(df_100m)"
   ]
  },
  {
   "cell_type": "code",
   "execution_count": null,
   "metadata": {
    "id": "f2WEyNaUVaCh"
   },
   "outputs": [],
   "source": [
    "df_100m_stat_analysis = pd.DataFrame(df_100m_stat_analysis)"
   ]
  },
  {
   "cell_type": "markdown",
   "metadata": {
    "id": "TMHXSswBIzSV"
   },
   "source": [
    "200m"
   ]
  },
  {
   "cell_type": "code",
   "execution_count": null,
   "metadata": {
    "colab": {
     "base_uri": "https://localhost:8080/",
     "height": 704
    },
    "executionInfo": {
     "elapsed": 8,
     "status": "ok",
     "timestamp": 1726613313150,
     "user": {
      "displayName": "Johnny Test",
      "userId": "16509896550579327523"
     },
     "user_tz": 240
    },
    "id": "_19_-eiDIz3I",
    "outputId": "a456ad2d-80b4-4fbb-b04a-8ae59e288b22"
   },
   "outputs": [],
   "source": [
    "df_200m= sprinters[['Athlete', 'Country','Continent','Status', 'DOB','Year Born','Month Born','Decade Born','Avg Season Best 200m','200_PR','T25_200_All_Time_Rank','T25_200_AT_RK_NUM']]\n",
    "df_200m"
   ]
  },
  {
   "cell_type": "code",
   "execution_count": null,
   "metadata": {
    "colab": {
     "base_uri": "https://localhost:8080/",
     "height": 371
    },
    "executionInfo": {
     "elapsed": 239,
     "status": "ok",
     "timestamp": 1726613313382,
     "user": {
      "displayName": "Johnny Test",
      "userId": "16509896550579327523"
     },
     "user_tz": 240
    },
    "id": "sb32zsjtK8_k",
    "outputId": "f3d68d80-17ea-4536-c9c8-f222d48f66e3"
   },
   "outputs": [],
   "source": [
    "df_200m['Avg_200m_PR_Diff'] = round(df_200m['Avg Season Best 200m'] - df_200m['200_PR'],2)\n",
    "df_200m.head(3)"
   ]
  },
  {
   "cell_type": "code",
   "execution_count": null,
   "metadata": {
    "colab": {
     "base_uri": "https://localhost:8080/",
     "height": 267
    },
    "executionInfo": {
     "elapsed": 6,
     "status": "ok",
     "timestamp": 1726613313383,
     "user": {
      "displayName": "Johnny Test",
      "userId": "16509896550579327523"
     },
     "user_tz": 240
    },
    "id": "ST_DoAPDJBl9",
    "outputId": "645c88ba-2dbd-49e1-965e-21c10ade1e3c"
   },
   "outputs": [],
   "source": [
    "df_200m = pd.merge(df_200m, yrs_competed_200m, on=['Athlete'],how='left')\n",
    "df_200m.head(3)"
   ]
  },
  {
   "cell_type": "code",
   "execution_count": null,
   "metadata": {
    "colab": {
     "base_uri": "https://localhost:8080/",
     "height": 267
    },
    "executionInfo": {
     "elapsed": 231,
     "status": "ok",
     "timestamp": 1726613313609,
     "user": {
      "displayName": "Johnny Test",
      "userId": "16509896550579327523"
     },
     "user_tz": 240
    },
    "id": "YYA8c46oJBmL",
    "outputId": "167f2726-04fc-4f0e-e4fc-ce5cee3f467d"
   },
   "outputs": [],
   "source": [
    "df_200m = df_200m.rename(columns={'Years': 'Years_Competed_200m'})\n",
    "df_200m.head(3)"
   ]
  },
  {
   "cell_type": "code",
   "execution_count": null,
   "metadata": {
    "id": "xac2Esn8KF1z"
   },
   "outputs": [],
   "source": [
    "#df_200m = df_200m.sort_values(by='Avg Season Best 200m', ascending=False)\n",
    "#df_200m"
   ]
  },
  {
   "cell_type": "code",
   "execution_count": null,
   "metadata": {
    "colab": {
     "base_uri": "https://localhost:8080/",
     "height": 669
    },
    "executionInfo": {
     "elapsed": 5,
     "status": "ok",
     "timestamp": 1726613313609,
     "user": {
      "displayName": "Johnny Test",
      "userId": "16509896550579327523"
     },
     "user_tz": 240
    },
    "id": "lF64L73GYU0u",
    "outputId": "f7fa6997-c9e0-47a8-deaf-01e35cd84ce8"
   },
   "outputs": [],
   "source": [
    "df_200m = df_200m.sort_values(by='Avg Season Best 200m')\n",
    "df_200m"
   ]
  },
  {
   "cell_type": "markdown",
   "metadata": {
    "id": "hFEHEh04P4WG"
   },
   "source": [
    "**Top 5 Career Averages in the 200m (Rounded to the nearest hundreth)**\n",
    "\n",
    "\n",
    "\n",
    "1.   Usain Bolt: 19.85 (15 Seasons)\n",
    "2.   Michael Johnson: 19.97 (14 Seasons)\n",
    "3.   Maurice Greene: 19.99 (5 Seasons)\n",
    "4.   Erriyon Knighton: 20.05 (6 Seasons)\n",
    "5.   Noah Lyles: 20.05 (13 Seasons)\n",
    "\n",
    "\n",
    "\n",
    "\n",
    "\n",
    "\n"
   ]
  },
  {
   "cell_type": "code",
   "execution_count": null,
   "metadata": {
    "colab": {
     "base_uri": "https://localhost:8080/",
     "height": 452
    },
    "executionInfo": {
     "elapsed": 458,
     "status": "ok",
     "timestamp": 1726613314063,
     "user": {
      "displayName": "Johnny Test",
      "userId": "16509896550579327523"
     },
     "user_tz": 240
    },
    "id": "ZV_VmlDQKQA7",
    "outputId": "c886e0be-f28e-4171-fa51-d836c050f4eb"
   },
   "outputs": [],
   "source": [
    "# @title Year Born 200m\n",
    "\n",
    "\n",
    "df_200m['Year Born'].plot(kind='hist', bins=20, title='Year Born')\n",
    "plt.gca().spines[['top', 'right',]].set_visible(False)\n",
    "\n",
    "#plt.savefig('year_born_200.png', format='png', dpi=300)\n",
    "#plt.savefig('year_born_200.jpg', format='jpg', dpi=300)"
   ]
  },
  {
   "cell_type": "code",
   "execution_count": null,
   "metadata": {
    "colab": {
     "base_uri": "https://localhost:8080/",
     "height": 449
    },
    "executionInfo": {
     "elapsed": 469,
     "status": "ok",
     "timestamp": 1726613314529,
     "user": {
      "displayName": "Johnny Test",
      "userId": "16509896550579327523"
     },
     "user_tz": 240
    },
    "id": "vFvNpGkM-Pzo",
    "outputId": "746dc9be-5a7a-4aa3-f40d-f17dcaa48c3b"
   },
   "outputs": [],
   "source": [
    "# @title Year Born vs Avg Season Best 200m\n",
    "\n",
    "df_200m.plot(kind='scatter', x='Year Born', y='Avg Season Best 200m', s=32, alpha=.8)\n",
    "plt.gca().spines[['top', 'right',]].set_visible(False)\n",
    "\n",
    "#plt.savefig('year_born_avg_200.png', format='png', dpi=300)\n",
    "#plt.savefig('year_born_avg_200.jpg', format='jpg', dpi=300)"
   ]
  },
  {
   "cell_type": "code",
   "execution_count": null,
   "metadata": {
    "colab": {
     "base_uri": "https://localhost:8080/",
     "height": 449
    },
    "executionInfo": {
     "elapsed": 243,
     "status": "ok",
     "timestamp": 1726613314770,
     "user": {
      "displayName": "Johnny Test",
      "userId": "16509896550579327523"
     },
     "user_tz": 240
    },
    "id": "GxSLAIq1-Pzp",
    "outputId": "1423bce8-0eec-427c-ea94-fb184e31bb67"
   },
   "outputs": [],
   "source": [
    "# @title Avg Season Best 200m vs 200_PR\n",
    "\n",
    "df_200m.plot(kind='scatter', x='Avg Season Best 200m', y='200_PR', s=32, alpha=.8)\n",
    "plt.gca().spines[['top', 'right',]].set_visible(False)\n",
    "\n",
    "#plt.savefig('avg_200_pr.png', format='png', dpi=300)\n",
    "#plt.savefig('avg_200_pr.jpg', format='jpg', dpi=300)"
   ]
  },
  {
   "cell_type": "markdown",
   "metadata": {
    "id": "GBEEhFFkOpWl"
   },
   "source": [
    "Version 2"
   ]
  },
  {
   "cell_type": "code",
   "execution_count": null,
   "metadata": {
    "id": "VY1n6uP6OpW7"
   },
   "outputs": [],
   "source": [
    "df_200m = px.data.iris() # iris is a pandas DataFrame\n",
    "fig = px.scatter(df_200m, x=\"Avg Season Best 200m\", y=\"200_PR\")\n",
    "fig.show()\n",
    "\n",
    "#fig.write_html(\"200m_avg_vs_pr_scatter.html\")\n",
    "#fig.write_image(\"200m_avg_vs_pr_scatter.svg\")"
   ]
  },
  {
   "cell_type": "markdown",
   "metadata": {
    "id": "94JEgSsjOpW8"
   },
   "source": [
    "Version 3"
   ]
  },
  {
   "cell_type": "code",
   "execution_count": null,
   "metadata": {
    "id": "kza5OlJoOpW8"
   },
   "outputs": [],
   "source": [
    "df_200m = px.data.iris()\n",
    "fig = px.scatter(df_200m, x=\"Avg Season Best 200m\", y=\"200_PR\", color=\"Country\",\n",
    "                 size='Avg Season Best 200m', hover_data=['200_PR'])\n",
    "fig.show()\n",
    "\n",
    "#fig.write_html(\"200m_avg_vs_pr_scatter_2.html\")\n",
    "#fig.write_image(\"200m_avg_vs_pr_scatter_2.svg\")"
   ]
  },
  {
   "cell_type": "markdown",
   "metadata": {
    "id": "0deOequXOpW9"
   },
   "source": [
    "Version 4 (With Error Bars)"
   ]
  },
  {
   "cell_type": "code",
   "execution_count": null,
   "metadata": {
    "id": "NPy1m3f2OpW9"
   },
   "outputs": [],
   "source": [
    "df_200m = px.data.iris()\n",
    "df_200m[\"e\"] = df_200m[\"Avg Season Best 200m\"]/100\n",
    "fig = px.scatter(df_200m, x=\"Avg Season Best 200m\", y=\"200_PR\", color=\"Country\",\n",
    "                 error_x=\"e\", error_y=\"e\")\n",
    "fig.show()\n",
    "\n",
    "#fig.write_html(\"200m_avg_vs_pr_scatter_3.html\")\n",
    "#fig.write_image(\"200m_avg_vs_pr_scatter_3.svg\")"
   ]
  },
  {
   "cell_type": "markdown",
   "metadata": {
    "id": "gpdbbRynOpW-"
   },
   "source": [
    "Version 5 (Using Dash)"
   ]
  },
  {
   "cell_type": "code",
   "execution_count": null,
   "metadata": {
    "id": "k_rwETo9OpW-"
   },
   "outputs": [],
   "source": [
    "\n",
    "\n",
    "app = Dash(__name__)\n",
    "\n",
    "\n",
    "app.layout = html.Div([\n",
    "    html.H4('Career Average 200m vs 200m PR'),\n",
    "    dcc.Graph(id=\"scatter-plot\"),\n",
    "    html.P(\"Filter by Career Average 200m:\"),\n",
    "    dcc.RangeSlider(\n",
    "        id='range-slider',\n",
    "        min=0, max=2.5, step=0.1,\n",
    "        marks={0: '0', 2.5: '2.5'},\n",
    "        value=[0.5, 2]\n",
    "    ),\n",
    "])\n",
    "\n",
    "\n",
    "@app.callback(\n",
    "    Output(\"scatter-plot\", \"figure\"),\n",
    "    Input(\"range-slider\", \"value\"))\n",
    "def update_bar_chart(slider_range):\n",
    "    df_200m = px.data.iris() # replace with your own data source\n",
    "    low, high = slider_range\n",
    "    mask = (df_200m['Avg Season Best 200m'] > low) & (df_100m['Avg Season Best 200m'] < high)\n",
    "    fig = px.scatter(\n",
    "        df[mask], x=\"Avg Season Best 100m\", y=\"100m_PR\",\n",
    "        color=\"Country\", size='Avg Season Best 100m',\n",
    "        hover_data=['100m_PR'])\n",
    "    return fig\n",
    "\n",
    "\n",
    "app.run_server(debug=True)\n",
    "\n",
    "#fig.write_html(\"200m_avg_vs_pr_scatter_dash.html\")\n",
    "#fig.write_image(\"200m_avg_vs_pr_scatter_dash.svg\")"
   ]
  },
  {
   "cell_type": "markdown",
   "metadata": {
    "id": "Uyk0OoIvfOfd"
   },
   "source": [
    "# ***Statistical Analysis 200m***"
   ]
  },
  {
   "cell_type": "markdown",
   "metadata": {
    "id": "E5DS4V3JfOf0"
   },
   "source": [
    "Linear Regression"
   ]
  },
  {
   "cell_type": "code",
   "execution_count": null,
   "metadata": {
    "id": "6zmUUmirfOf0"
   },
   "outputs": [],
   "source": [
    "# Function to calculate standard deviation (consistency)\n",
    "df_200m['consistency'] = df_200m['Avg Season Best 200m']  # Placeholder: You could replace with actual std per year data if available\n",
    "\n",
    "### 1. Regression Analysis ###\n",
    "# Linear regression: relationship between average_time and years_competed\n",
    "X = df_200m[['Years_Competed_200m','200_PR']]\n",
    "y = df_200m['Avg Season Best 200m']\n",
    "\n",
    "# Fit model\n",
    "model = LinearRegression()\n",
    "model.fit(X, y)\n",
    "\n",
    "# Predictions and residuals\n",
    "df_200m['predicted_time'] = model.predict(X)\n",
    "df_200m['residuals'] = df_200m['Avg Season Best 200m'] - df_200m['predicted_time']\n",
    "\n",
    "print(\"Regression coefficients (slope):\", model.coef_)\n",
    "print(\"Intercept:\", model.intercept_)\n"
   ]
  },
  {
   "cell_type": "markdown",
   "metadata": {
    "id": "U2L1HKpkfOf1"
   },
   "source": [
    "Z-Score Standardization"
   ]
  },
  {
   "cell_type": "code",
   "execution_count": null,
   "metadata": {
    "id": "oMHTcUyHfOf1"
   },
   "outputs": [],
   "source": [
    "# Z-score for average_time and years_competed\n",
    "df_200m['z_time'] = zscore(df_200m['Avg Season Best 200m'])\n",
    "df_200m['z_years'] = zscore(df_200m['Years_Competed_200m'])\n",
    "df_200m['z_PR'] = zscore(df_200m['200_PR'])\n",
    "\n",
    "# Z-score comparison (combine time and years)\n",
    "df_200m['z_combined'] = (df_200m['z_time'] + df_200m['z_years'] + df_200m['z_PR']) / 3"
   ]
  },
  {
   "cell_type": "markdown",
   "metadata": {
    "id": "qNuZcNwjfOf1"
   },
   "source": [
    "Efficiency / Ratio Analysis"
   ]
  },
  {
   "cell_type": "code",
   "execution_count": null,
   "metadata": {
    "id": "ONGXuMGmfOf1"
   },
   "outputs": [],
   "source": [
    "# Efficiency score (average_time per year competed)\n",
    "df_200m['efficiency_score'] = df_200m['Avg Season Best 200m'] / df_200m['Years_Competed_200m']\n",
    "\n",
    "# Efficiency score: How close the sprinter's average time is to their personal best\n",
    "df_200m['efficiency_score_pr'] = df_200m['200_PR'] / df_200m['Avg Season Best 200m']"
   ]
  },
  {
   "cell_type": "markdown",
   "metadata": {
    "id": "5oUrOtr7fOf2"
   },
   "source": [
    "Ranking System"
   ]
  },
  {
   "cell_type": "code",
   "execution_count": null,
   "metadata": {
    "id": "mgUMl6c7fOf2"
   },
   "outputs": [],
   "source": [
    "# Combine rankings based on average_time, consistency, and longevity (years_competed)\n",
    "df_200m['rank_personal_best'] = df_200m['100_PR'].rank(ascending=True)  # Lower personal best is better\n",
    "df_200m['rank_average_time'] = df_200m['Avg Season Best 200m'].rank(ascending=True)  # Lower is better\n",
    "df_200m['rank_consistency'] = df_200m['consistency'].rank(ascending=True)  # Lower std dev is better\n",
    "df_200m['rank_years_competed'] = df_200m['Years_Competed_200m'].rank(ascending=False)  # Longer careers are better\n",
    "\n",
    "#Final ranking\n",
    "df_200m['final_rank'] = df_200m[['rank_personal_best','rank_average_time', 'rank_consistency', 'rank_years_competed']].mean(axis=1)"
   ]
  },
  {
   "cell_type": "markdown",
   "metadata": {
    "id": "wkgpH0PxfOf2"
   },
   "source": [
    "Scatter Plot Visualization"
   ]
  },
  {
   "cell_type": "code",
   "execution_count": null,
   "metadata": {
    "id": "Ce75IufofOf3"
   },
   "outputs": [],
   "source": [
    "plt.figure(figsize=(10, 6))\n",
    "sns.scatterplot(x='Years_Competed_200m', y='Avg Season Best 200m', data=df_200m, s=100, hue='final_rank', palette='coolwarm')\n",
    "plt.title('Years Competed vs. Career Average 200m Time')\n",
    "plt.xlabel('Years Competed')\n",
    "plt.ylabel('Average 200m Time (s)')\n",
    "plt.show()\n",
    "\n",
    "#plt.savefig('avg_200_vs_yrs_competed_ranked.png', format='png', dpi=300)\n",
    "#plt.savefig('avg_200_vs_yrs_competed_ranked.jpg', format='jpg', dpi=300)"
   ]
  },
  {
   "cell_type": "markdown",
   "metadata": {
    "id": "ZM-PlKCAfOf3"
   },
   "source": [
    "Interactive Scatter Plot"
   ]
  },
  {
   "cell_type": "code",
   "execution_count": null,
   "metadata": {
    "id": "Pr8tFHFufOf3"
   },
   "outputs": [],
   "source": [
    "# @title Years Competed vs. Career Average 200m Time\n",
    "\n",
    "df_200m = px.data.iris()\n",
    "fig = px.scatter(df_200m, x=\"Years_Competed_200m\", y=\"Avg Season Best 200m\", color=\"final_rank\",\n",
    "                 size='Years_Competed_200m', hover_data=['Avg Season Best 200m']) #Potentially switch out career average for personal record regarding hover data.\n",
    "fig.show()\n",
    "\n",
    "#fig.write_html(\"avg_200_vs_yrs_competed_ranked.html\")\n",
    "#fig.write_image(\"avg_200_vs_yrs_competed_ranked.svg\")"
   ]
  },
  {
   "cell_type": "code",
   "execution_count": null,
   "metadata": {
    "id": "9NwlE2fIfOf3"
   },
   "outputs": [],
   "source": [
    "print(df_200m[['Athlete', 'Avg Season Best 200m', 'Years_Competed_200m','200_PR', 'residuals', 'z_combined', 'efficiency_score', 'efficiency_score_pr' 'final_rank']])"
   ]
  },
  {
   "cell_type": "code",
   "execution_count": null,
   "metadata": {
    "id": "8C1mGe9ufOf4"
   },
   "outputs": [],
   "source": [
    "df_200m_stat_analysis = df_200m[['Athlete', 'Avg Season Best 200m', 'Years_Competed_200m',' 200_PR', 'residuals', 'z_combined', 'efficiency_score', 'efficiency_score_pr' 'final_rank']]"
   ]
  },
  {
   "cell_type": "code",
   "execution_count": null,
   "metadata": {
    "id": "At_uIIMcfOf4"
   },
   "outputs": [],
   "source": [
    "df_200m_stat_analysis = df_200m_stat_analysis.sort_values(by='final_rank')\n",
    "df_200m_stat_analysis.head(3)"
   ]
  },
  {
   "cell_type": "code",
   "execution_count": null,
   "metadata": {
    "id": "Ar0qiwsAfOf4"
   },
   "outputs": [],
   "source": [
    "#What sample size of the dataframe to we want to make into a figure factory table\n",
    "df_200m_stat_analysis_sample = df_200m_stat_analysis[1:10]\n",
    "\n",
    "#Cusomize Colors (Add colorscale=colorscale in parentheses of ff.create table)\n",
    "#colorscale = [[0, '#4d004c'],[.5, '#f2e5ff'],[1, '#ffffff']]\n",
    "#Cusomize Font Colors (Add font_colors=font in parentheses of ff.create table)\n",
    "#font=['#FCFCFC', '#00EE00', '#008B00', '#004F00', '#660000', '#CD0000', '#FF3030']\n",
    "\n",
    "table_data = df_200m_stat_analysis\n",
    "\n",
    "\n",
    "fig =  ff.create_table(df_200m_stat_analysis_sample)\n",
    "fig.show()\n",
    "\n",
    "#fig.write_html(\"df_200m_stat_analysis_sample_ff.html\")\n",
    "#fig.write_image(\"df_200m_stat_analysis_sample_ff.svg\")\n"
   ]
  },
  {
   "cell_type": "code",
   "execution_count": null,
   "metadata": {
    "id": "_F4RC4u4fOf4"
   },
   "outputs": [],
   "source": [
    "fig =  ff.create_table(df_200m_stat_analysis)\n",
    "fig.show()\n",
    "\n",
    "#fig.write_html(\"df_200m_stat_analysis_ff.html\")\n",
    "#fig.write_image(\"df_200m_stat_analysis_ff.svg\")"
   ]
  },
  {
   "cell_type": "code",
   "execution_count": null,
   "metadata": {
    "id": "LtLE5UbCfOf5"
   },
   "outputs": [],
   "source": [
    "fig =  ff.create_table(df_200m)\n",
    "fig.show()\n",
    "\n",
    "#fig.write_html(\"df_200m_ff.html\")\n",
    "#fig.write_image(\"df_200m_ff.svg\")"
   ]
  },
  {
   "cell_type": "code",
   "execution_count": null,
   "metadata": {
    "id": "cpJUCssifOf5"
   },
   "outputs": [],
   "source": [
    "df_200m_stat_analysis = pd.DataFrame(df_200m_stat_analysis)"
   ]
  },
  {
   "cell_type": "code",
   "execution_count": null,
   "metadata": {
    "id": "7D00U-XKI0JI"
   },
   "outputs": [],
   "source": [
    "df_200m = pd.DataFrame(df_200m)"
   ]
  },
  {
   "cell_type": "markdown",
   "metadata": {
    "id": "ZcqIpgm0JLFg"
   },
   "source": [
    "400m"
   ]
  },
  {
   "cell_type": "code",
   "execution_count": null,
   "metadata": {
    "colab": {
     "base_uri": "https://localhost:8080/",
     "height": 704
    },
    "executionInfo": {
     "elapsed": 162,
     "status": "ok",
     "timestamp": 1726613314925,
     "user": {
      "displayName": "Johnny Test",
      "userId": "16509896550579327523"
     },
     "user_tz": 240
    },
    "id": "hqt4QjCnJLbS",
    "outputId": "aca76347-fe84-40dc-abca-ccf47cdd1db2"
   },
   "outputs": [],
   "source": [
    "df_400m= sprinters[['Athlete', 'Country','Continent','Status', 'DOB','Year Born','Month Born','Decade Born','Avg Season Best 400m','400_PR','T25_400_All_Time_Rank','T25_400_AT_RK_NUM']]\n",
    "df_400m"
   ]
  },
  {
   "cell_type": "code",
   "execution_count": null,
   "metadata": {
    "colab": {
     "base_uri": "https://localhost:8080/",
     "height": 371
    },
    "executionInfo": {
     "elapsed": 12,
     "status": "ok",
     "timestamp": 1726613314925,
     "user": {
      "displayName": "Johnny Test",
      "userId": "16509896550579327523"
     },
     "user_tz": 240
    },
    "id": "DUup4BykK_Ql",
    "outputId": "4186bb14-db45-4230-d57a-bf63022735b3"
   },
   "outputs": [],
   "source": [
    "df_400m['Avg_400m_PR_Diff'] = round(df_400m['Avg Season Best 400m'] - df_400m['400_PR'],2)\n",
    "df_400m.head(3)"
   ]
  },
  {
   "cell_type": "code",
   "execution_count": null,
   "metadata": {
    "colab": {
     "base_uri": "https://localhost:8080/",
     "height": 267
    },
    "executionInfo": {
     "elapsed": 8,
     "status": "ok",
     "timestamp": 1726613314925,
     "user": {
      "displayName": "Johnny Test",
      "userId": "16509896550579327523"
     },
     "user_tz": 240
    },
    "id": "Bu7K8WW9JKHr",
    "outputId": "50f7f4d7-e231-43a9-f4f3-8fb88809df65"
   },
   "outputs": [],
   "source": [
    "df_400m = pd.merge(df_400m, yrs_competed_400m, on=['Athlete'],how='left')\n",
    "df_400m.head(3)"
   ]
  },
  {
   "cell_type": "code",
   "execution_count": null,
   "metadata": {
    "colab": {
     "base_uri": "https://localhost:8080/",
     "height": 267
    },
    "executionInfo": {
     "elapsed": 7,
     "status": "ok",
     "timestamp": 1726613314926,
     "user": {
      "displayName": "Johnny Test",
      "userId": "16509896550579327523"
     },
     "user_tz": 240
    },
    "id": "VhrLnLqZJKIF",
    "outputId": "df3a2e7c-4719-4367-9cfd-defa782be333"
   },
   "outputs": [],
   "source": [
    "df_400m = df_400m.rename(columns={'Years': 'Years_Competed_400m'})\n",
    "df_400m.head(3)"
   ]
  },
  {
   "cell_type": "code",
   "execution_count": null,
   "metadata": {
    "id": "AjlBF6huKJMB"
   },
   "outputs": [],
   "source": [
    "#df_400m = df_400m.sort_values(by='Avg Season Best 400m', ascending=False)\n",
    "#df_400m"
   ]
  },
  {
   "cell_type": "code",
   "execution_count": null,
   "metadata": {
    "colab": {
     "base_uri": "https://localhost:8080/",
     "height": 704
    },
    "executionInfo": {
     "elapsed": 190,
     "status": "ok",
     "timestamp": 1726613315110,
     "user": {
      "displayName": "Johnny Test",
      "userId": "16509896550579327523"
     },
     "user_tz": 240
    },
    "id": "u3o8iUsxYbZR",
    "outputId": "4f3d4c6b-36a9-4a7e-f597-2fc72f173d93"
   },
   "outputs": [],
   "source": [
    "df_400m = df_400m.sort_values(by='Avg Season Best 400m')\n",
    "df_400m"
   ]
  },
  {
   "cell_type": "markdown",
   "metadata": {
    "id": "zeZX6o3oQ34M"
   },
   "source": [
    "**Top 5 Career Averages in the 400m (Rounded to the nearest hundreth)**\n",
    "\n",
    "\n",
    "\n",
    "1.   Larry James: 43.97 (1 Season)\n",
    "2.   Michael Johnson: 44.22 (14 Seasons)\n",
    "3.   Steven Gardiner: 44.39 (10 Seasons)\n",
    "4.   Lee Evans : 44.41 (2 Seasons)\n",
    "5.   Wayne Van Niekerk: 44.48 (11 Seasons)\n",
    "\n",
    "\n",
    "\n",
    "\n",
    "\n",
    "\n"
   ]
  },
  {
   "cell_type": "code",
   "execution_count": null,
   "metadata": {
    "colab": {
     "base_uri": "https://localhost:8080/",
     "height": 452
    },
    "executionInfo": {
     "elapsed": 654,
     "status": "ok",
     "timestamp": 1726613315761,
     "user": {
      "displayName": "Johnny Test",
      "userId": "16509896550579327523"
     },
     "user_tz": 240
    },
    "id": "ixhc9iywKYxY",
    "outputId": "96524331-1bab-4ffb-bfcf-d523f5ab04fa"
   },
   "outputs": [],
   "source": [
    "# @title Year Born 400m\n",
    "\n",
    "\n",
    "df_400m['Year Born'].plot(kind='hist', bins=20, title='Year Born')\n",
    "plt.gca().spines[['top', 'right',]].set_visible(False)\n",
    "\n",
    "#plt.savefig('year_born_400.png', format='png', dpi=300)\n",
    "#plt.savefig('year_born_400.jpg', format='jpg', dpi=300)"
   ]
  },
  {
   "cell_type": "code",
   "execution_count": null,
   "metadata": {
    "colab": {
     "base_uri": "https://localhost:8080/",
     "height": 449
    },
    "executionInfo": {
     "elapsed": 219,
     "status": "ok",
     "timestamp": 1726613315978,
     "user": {
      "displayName": "Johnny Test",
      "userId": "16509896550579327523"
     },
     "user_tz": 240
    },
    "id": "imT2rrKd-ZYc",
    "outputId": "194e557c-d092-4401-bb37-08eb8798b966"
   },
   "outputs": [],
   "source": [
    "# @title Year Born vs Avg Season Best 400m\n",
    "\n",
    "df_400m.plot(kind='scatter', x='Year Born', y='Avg Season Best 400m', s=32, alpha=.8)\n",
    "plt.gca().spines[['top', 'right',]].set_visible(False)\n",
    "\n",
    "#plt.savefig('year_born_avg_400.png', format='png', dpi=300)\n",
    "#plt.savefig('year_born_avg_400.jpg', format='jpg', dpi=300)"
   ]
  },
  {
   "cell_type": "code",
   "execution_count": null,
   "metadata": {
    "colab": {
     "base_uri": "https://localhost:8080/",
     "height": 449
    },
    "executionInfo": {
     "elapsed": 174,
     "status": "ok",
     "timestamp": 1726613316148,
     "user": {
      "displayName": "Johnny Test",
      "userId": "16509896550579327523"
     },
     "user_tz": 240
    },
    "id": "2QKkKU0D-ZY2",
    "outputId": "87608219-89c7-44bf-8a0e-2944e0067202"
   },
   "outputs": [],
   "source": [
    "# @title Avg Season Best 400m vs 400_PR\n",
    "\n",
    "df_400m.plot(kind='scatter', x='Avg Season Best 400m', y='400_PR', s=32, alpha=.8)\n",
    "plt.gca().spines[['top', 'right',]].set_visible(False)\n",
    "\n",
    "#plt.savefig('avg_400_pr.png', format='png', dpi=300)\n",
    "#plt.savefig('avg_400_pr.jpg', format='jpg', dpi=300)"
   ]
  },
  {
   "cell_type": "markdown",
   "metadata": {
    "id": "NwGiiYsePM9V"
   },
   "source": [
    "Version 2"
   ]
  },
  {
   "cell_type": "code",
   "execution_count": null,
   "metadata": {
    "id": "VMd6FbKOPM9t"
   },
   "outputs": [],
   "source": [
    "df_400m = px.data.iris() # iris is a pandas DataFrame\n",
    "fig = px.scatter(df_400m, x=\"Avg Season Best 400m\", y=\"400_PR\")\n",
    "fig.show()\n",
    "\n",
    "#fig.write_html(\"400m_avg_vs_pr_scatter.html\")\n",
    "#fig.write_image(\"400m_avg_vs_pr_scatter.svg\")"
   ]
  },
  {
   "cell_type": "markdown",
   "metadata": {
    "id": "83r3kkWEPM9u"
   },
   "source": [
    "Version 3"
   ]
  },
  {
   "cell_type": "code",
   "execution_count": null,
   "metadata": {
    "id": "-s8sYq73PM9u"
   },
   "outputs": [],
   "source": [
    "df_400m = px.data.iris()\n",
    "fig = px.scatter(df_400m, x=\"Avg Season Best 400m\", y=\"400_PR\", color=\"Country\",\n",
    "                 size='Avg Season Best 400m', hover_data=['400_PR'])\n",
    "fig.show()\n",
    "\n",
    "#fig.write_html(\"400m_avg_vs_pr_scatter_2.html\")\n",
    "#fig.write_image(\"400m_avg_vs_pr_scatter_2.svg\")"
   ]
  },
  {
   "cell_type": "markdown",
   "metadata": {
    "id": "GLGjvmJUPM9u"
   },
   "source": [
    "Version 4 (With Error Bars)"
   ]
  },
  {
   "cell_type": "code",
   "execution_count": null,
   "metadata": {
    "id": "spEqle0UPM9v"
   },
   "outputs": [],
   "source": [
    "df_400m = px.data.iris()\n",
    "df_400m[\"e\"] = df_400m[\"Avg Season Best 400m\"]/100\n",
    "fig = px.scatter(df_400m, x=\"Avg Season Best 400m\", y=\"400_PR\", color=\"Country\",\n",
    "                 error_x=\"e\", error_y=\"e\")\n",
    "fig.show()\n",
    "\n",
    "#fig.write_html(\"100m_avg_vs_pr_scatter_3.html\")\n",
    "#fig.write_image(\"100m_avg_vs_pr_scatter_3.svg\")"
   ]
  },
  {
   "cell_type": "markdown",
   "metadata": {
    "id": "59EWJvYhPM9v"
   },
   "source": [
    "Version 5 (Using Dash)"
   ]
  },
  {
   "cell_type": "code",
   "execution_count": null,
   "metadata": {
    "id": "nF1cf-sEPM9v"
   },
   "outputs": [],
   "source": [
    "\n",
    "\n",
    "app = Dash(__name__)\n",
    "\n",
    "\n",
    "app.layout = html.Div([\n",
    "    html.H4('Career Average 400m vs 400m PR'),\n",
    "    dcc.Graph(id=\"scatter-plot\"),\n",
    "    html.P(\"Filter by Career Average 400m:\"),\n",
    "    dcc.RangeSlider(\n",
    "        id='range-slider',\n",
    "        min=0, max=2.5, step=0.1,\n",
    "        marks={0: '0', 2.5: '2.5'},\n",
    "        value=[0.5, 2]\n",
    "    ),\n",
    "])\n",
    "\n",
    "\n",
    "@app.callback(\n",
    "    Output(\"scatter-plot\", \"figure\"),\n",
    "    Input(\"range-slider\", \"value\"))\n",
    "def update_bar_chart(slider_range):\n",
    "    df_400m = px.data.iris() # replace with your own data source\n",
    "    low, high = slider_range\n",
    "    mask = (df_400m['Avg Season Best 400m'] > low) & (df_400m['Avg Season Best 400m'] < high)\n",
    "    fig = px.scatter(\n",
    "        df[mask], x=\"Avg Season Best 400m\", y=\"400m_PR\",\n",
    "        color=\"Country\", size='Avg Season Best 400m',\n",
    "        hover_data=['400m_PR'])\n",
    "    return fig\n",
    "\n",
    "\n",
    "app.run_server(debug=True)\n",
    "\n",
    "#fig.write_html(\"400m_avg_vs_pr_scatter_dash.html\")\n",
    "#fig.write_image(\"400m_avg_vs_pr_scatter_dash.svg\")"
   ]
  },
  {
   "cell_type": "markdown",
   "metadata": {
    "id": "Ui2-VZ00ffJx"
   },
   "source": [
    "# ***Statistical Analysis 400m***"
   ]
  },
  {
   "cell_type": "markdown",
   "metadata": {
    "id": "HE7CWM-VffKI"
   },
   "source": [
    "Linear Regression"
   ]
  },
  {
   "cell_type": "code",
   "execution_count": null,
   "metadata": {
    "id": "dlPBx2KlffKJ"
   },
   "outputs": [],
   "source": [
    "# Function to calculate standard deviation (consistency)\n",
    "df_400m['consistency'] = df_400m['Avg Season Best 400m']  # Placeholder: You could replace with actual std per year data if available\n",
    "\n",
    "### 1. Regression Analysis ###\n",
    "# Linear regression: relationship between average_time and years_competed\n",
    "X = df_400m[['Years_Competed_400m', '400_PR']]\n",
    "y = df_400m['Avg Season Best 400m']\n",
    "\n",
    "# Fit model\n",
    "model = LinearRegression()\n",
    "model.fit(X, y)\n",
    "\n",
    "# Predictions and residuals\n",
    "df_400m['predicted_time'] = model.predict(X)\n",
    "df_400m['residuals'] = df_400m['Avg Season Best 400m'] - df_400m['predicted_time']\n",
    "\n",
    "print(\"Regression coefficients (slope):\", model.coef_)\n",
    "print(\"Intercept:\", model.intercept_)\n"
   ]
  },
  {
   "cell_type": "markdown",
   "metadata": {
    "id": "IAM9J91pffKK"
   },
   "source": [
    "Z-Score Standardization"
   ]
  },
  {
   "cell_type": "code",
   "execution_count": null,
   "metadata": {
    "id": "qt7sVhN8ffKL"
   },
   "outputs": [],
   "source": [
    "# Z-score for average_time and years_competed\n",
    "df_400m['z_time'] = zscore(df_400m['Avg Season Best 400m'])\n",
    "df_400m['z_years'] = zscore(df_400m['Years_Competed_400m'])\n",
    "df_400m['z_PR'] = zscore(df_400m['400_PR'])\n",
    "\n",
    "# Z-score comparison (combine time and years)\n",
    "df_400m['z_combined'] = (df_400m['z_time'] + df_400m['z_years'] + df_400m['z_PR']  ) / 3"
   ]
  },
  {
   "cell_type": "markdown",
   "metadata": {
    "id": "qBm9rZIvffKL"
   },
   "source": [
    "Efficiency / Ratio Analysis"
   ]
  },
  {
   "cell_type": "code",
   "execution_count": null,
   "metadata": {
    "id": "mIWK9U54ffKM"
   },
   "outputs": [],
   "source": [
    "# Efficiency score (average_time per year competed)\n",
    "df_400m['efficiency_score'] = df_400m['Avg Season Best 400m'] / df_400m['Years_Competed_400m']\n",
    "\n",
    "# Efficiency score: How close the sprinter's average time is to their personal best\n",
    "df_400m['efficiency_score_pr'] = df_400m['400_PR'] / df_400m['Avg Season Best 400m']"
   ]
  },
  {
   "cell_type": "markdown",
   "metadata": {
    "id": "j5XmlMUcffKM"
   },
   "source": [
    "Ranking System"
   ]
  },
  {
   "cell_type": "code",
   "execution_count": null,
   "metadata": {
    "id": "vNhjTYC4ffKN"
   },
   "outputs": [],
   "source": [
    "# Combine rankings based on average_time, consistency, and longevity (years_competed)\n",
    "df_400m['rank_personal_best'] = df_100m['400_PR'].rank(ascending=True)  # Lower personal best is better\n",
    "df_400m['rank_average_time'] = df_400m['Avg Season Best 400m'].rank(ascending=True)  # Lower is better\n",
    "df_400m['rank_consistency'] = df_400m['consistency'].rank(ascending=True)  # Lower std dev is better\n",
    "df_400m['rank_years_competed'] = df_400m['Years_Competed_400m'].rank(ascending=False)  # Longer careers are better\n",
    "\n",
    "#Final ranking\n",
    "df_400m['final_rank'] = df_400m[['rank_personal_best','rank_average_time', 'rank_consistency', 'rank_years_competed']].mean(axis=1)"
   ]
  },
  {
   "cell_type": "markdown",
   "metadata": {
    "id": "6bVGzWjBffKN"
   },
   "source": [
    "Scatter Plot Visualization"
   ]
  },
  {
   "cell_type": "code",
   "execution_count": null,
   "metadata": {
    "id": "9cpnbCbNffKN"
   },
   "outputs": [],
   "source": [
    "plt.figure(figsize=(10, 6))\n",
    "sns.scatterplot(x='Years_Competed_400m', y='Avg Season Best 400m', data=df_400m, s=100, hue='final_rank', palette='coolwarm')\n",
    "plt.title('Years Competed vs. Career Average 100m Time')\n",
    "plt.xlabel('Years Competed')\n",
    "plt.ylabel('Average 400m Time (s)')\n",
    "plt.show()\n",
    "\n",
    "#plt.savefig('avg_400_vs_yrs_competed_ranked.png', format='png', dpi=300)\n",
    "#plt.savefig('avg_400_vs_yrs_competed_ranked.jpg', format='jpg', dpi=300)"
   ]
  },
  {
   "cell_type": "markdown",
   "metadata": {
    "id": "cnB01hZwffKO"
   },
   "source": [
    "Interactive Scatter Plot"
   ]
  },
  {
   "cell_type": "code",
   "execution_count": null,
   "metadata": {
    "id": "Pxd-sGSCffKO"
   },
   "outputs": [],
   "source": [
    "# @title Years Competed vs. Career Average 400m Time\n",
    "\n",
    "df_400m = px.data.iris()\n",
    "fig = px.scatter(df_400m, x=\"Years_Competed_400m\", y=\"Avg Season Best 400m\", color=\"final_rank\",\n",
    "                 size='Years_Competed_400m', hover_data=['Avg Season Best 400m']) #Potentially switch out career average for personal record regarding hover data.\n",
    "fig.show()\n",
    "\n",
    "#fig.write_html(\"avg_400_vs_yrs_competed_ranked.html\")\n",
    "#fig.write_image(\"avg_400_vs_yrs_competed_ranked.svg\")"
   ]
  },
  {
   "cell_type": "code",
   "execution_count": null,
   "metadata": {
    "id": "-C-2AQYWffKO"
   },
   "outputs": [],
   "source": [
    "print(df_400m[['Athlete', 'Avg Season Best 400m', 'Years_Competed_400m', '400_PR', 'residuals', 'z_combined', 'efficiency_score', 'efficiency_score_pr' 'final_rank']])"
   ]
  },
  {
   "cell_type": "code",
   "execution_count": null,
   "metadata": {
    "id": "GwMGu44EffKO"
   },
   "outputs": [],
   "source": [
    "df_400m_stat_analysis = df_400m[['Athlete', 'Avg Season Best 400m', 'Years_Competed_400m', '400_PR', 'residuals', 'z_combined', 'efficiency_score', 'efficiency_score_pr' 'final_rank']]"
   ]
  },
  {
   "cell_type": "code",
   "execution_count": null,
   "metadata": {
    "id": "2iaPpqtmffKP"
   },
   "outputs": [],
   "source": [
    "df_400m_stat_analysis = df_400m_stat_analysis.sort_values(by='final_rank')\n",
    "df_400m_stat_analysis.head(3)"
   ]
  },
  {
   "cell_type": "code",
   "execution_count": null,
   "metadata": {
    "id": "eHEpyRUCffKP"
   },
   "outputs": [],
   "source": [
    "#What sample size of the dataframe to we want to make into a figure factory table\n",
    "df_400m_stat_analysis_sample = df_400m_stat_analysis[1:10]\n",
    "\n",
    "#Cusomize Colors (Add colorscale=colorscale in parentheses of ff.create table)\n",
    "#colorscale = [[0, '#4d004c'],[.5, '#f2e5ff'],[1, '#ffffff']]\n",
    "#Cusomize Font Colors (Add font_colors=font in parentheses of ff.create table)\n",
    "#font=['#FCFCFC', '#00EE00', '#008B00', '#004F00', '#660000', '#CD0000', '#FF3030']\n",
    "\n",
    "table_data = df_400m_stat_analysis\n",
    "\n",
    "\n",
    "fig =  ff.create_table(df_400m_stat_analysis_sample)\n",
    "fig.show()\n",
    "\n",
    "#fig.write_html(\"df_400m_stat_analysis_sample_ff.html\")\n",
    "#fig.write_image(\"df_400m_stat_analysis_sample_ff.svg\")\n"
   ]
  },
  {
   "cell_type": "code",
   "execution_count": null,
   "metadata": {
    "id": "F5AApaEHffKP"
   },
   "outputs": [],
   "source": [
    "fig =  ff.create_table(df_400m_stat_analysis)\n",
    "fig.show()\n",
    "\n",
    "#fig.write_html(\"df_400m_stat_analysis_ff.html\")\n",
    "#fig.write_image(\"df_400m_stat_analysis_ff.svg\")"
   ]
  },
  {
   "cell_type": "code",
   "execution_count": null,
   "metadata": {
    "id": "gnHdOlFfffKP"
   },
   "outputs": [],
   "source": [
    "fig =  ff.create_table(df_400m)\n",
    "fig.show()\n",
    "\n",
    "#fig.write_html(\"df_400m_ff.html\")\n",
    "#fig.write_image(\"df_400m_ff.svg\")"
   ]
  },
  {
   "cell_type": "code",
   "execution_count": null,
   "metadata": {
    "id": "4wv121BbJLnD"
   },
   "outputs": [],
   "source": [
    "df_400m = pd.DataFrame(df_400m)"
   ]
  },
  {
   "cell_type": "code",
   "execution_count": null,
   "metadata": {
    "id": "0Z9dR02-ffKQ"
   },
   "outputs": [],
   "source": [
    "df_400m_stat_analysis = pd.DataFrame(df_400m_stat_analysis)"
   ]
  },
  {
   "cell_type": "markdown",
   "metadata": {
    "id": "TA6_FFO9JMDE"
   },
   "source": [
    "*Lets's Create an honors dataframe*"
   ]
  },
  {
   "cell_type": "code",
   "execution_count": null,
   "metadata": {
    "colab": {
     "base_uri": "https://localhost:8080/",
     "height": 736
    },
    "executionInfo": {
     "elapsed": 5,
     "status": "ok",
     "timestamp": 1726613316148,
     "user": {
      "displayName": "Johnny Test",
      "userId": "16509896550579327523"
     },
     "user_tz": 240
    },
    "id": "joBwAPbNJMdg",
    "outputId": "3a6af9ac-d6db-4ea4-d4f4-1cf6ad8c6fd2"
   },
   "outputs": [],
   "source": [
    "honors= sprinters[['Athlete', 'Country','Continent','Status', 'DOB','Year Born','Month Born','Decade Born','Honors']]\n",
    "honors"
   ]
  },
  {
   "cell_type": "code",
   "execution_count": null,
   "metadata": {
    "id": "1lQL9_vFJMmk"
   },
   "outputs": [],
   "source": [
    "honors = pd.DataFrame(honors)"
   ]
  },
  {
   "cell_type": "markdown",
   "metadata": {
    "id": "shZNKRSxDFY6"
   },
   "source": [
    "*Let's create a dataframe for sprinters that are ranked in the Top 25 All-time in the 100m, 200m and 400m (Similar to the one above, but with all the columns)*"
   ]
  },
  {
   "cell_type": "code",
   "execution_count": null,
   "metadata": {
    "colab": {
     "base_uri": "https://localhost:8080/",
     "height": 53
    },
    "executionInfo": {
     "elapsed": 17,
     "status": "ok",
     "timestamp": 1726613316324,
     "user": {
      "displayName": "Johnny Test",
      "userId": "16509896550579327523"
     },
     "user_tz": 240
    },
    "id": "oVRz77ucCPig",
    "outputId": "3ae7fc6e-a4fd-4622-a858-8f6e78f47d57"
   },
   "outputs": [],
   "source": [
    "'''\n",
    "all_rnk_sprinters = sprinters.dropna(subset=['T25_100_AT_RK_NUM', 'T25_200_AT_RK_NUM', 'T25_400_AT_RK_NUM'])\n",
    "\n",
    "print(all_rnk_sprinters)\n",
    "'''"
   ]
  },
  {
   "cell_type": "markdown",
   "metadata": {
    "id": "tuVa6VfZ2yNe"
   },
   "source": [
    "How many sprinters are ranked in the top 25 in all three events?"
   ]
  },
  {
   "cell_type": "code",
   "execution_count": null,
   "metadata": {
    "id": "glx0w5nC2jGG"
   },
   "outputs": [],
   "source": [
    "#len(all_rnk_sprinters)"
   ]
  },
  {
   "cell_type": "code",
   "execution_count": null,
   "metadata": {
    "id": "aY0N7mhV3Kyi"
   },
   "outputs": [],
   "source": [
    "#all_rnk_sprinters = pd.DataFrame(all_rnk_sprinters)"
   ]
  },
  {
   "cell_type": "markdown",
   "metadata": {
    "id": "nr3YZVWq3eSb"
   },
   "source": [
    "We are going to make a subset of this data frame"
   ]
  },
  {
   "cell_type": "code",
   "execution_count": null,
   "metadata": {
    "id": "z1PjFnm13lgf"
   },
   "outputs": [],
   "source": [
    "#all_rnk_sprinters_2 = all_rnk_sprinters[['Athlete','T25_100_AT_RK_NUM', 'T25_200_AT_RK_NUM', 'T25_400_AT_RK_NUM']]"
   ]
  },
  {
   "cell_type": "markdown",
   "metadata": {
    "id": "WjlLnTGf6ZFe"
   },
   "source": [
    "Country"
   ]
  },
  {
   "cell_type": "code",
   "execution_count": null,
   "metadata": {
    "colab": {
     "base_uri": "https://localhost:8080/",
     "height": 645
    },
    "executionInfo": {
     "elapsed": 16,
     "status": "ok",
     "timestamp": 1726613316325,
     "user": {
      "displayName": "Johnny Test",
      "userId": "16509896550579327523"
     },
     "user_tz": 240
    },
    "id": "cTOuBlWi7K3_",
    "outputId": "64102eb1-d46b-4619-b707-83b2d4faeaeb"
   },
   "outputs": [],
   "source": [
    "country = pd.DataFrame(sprinters.Country.value_counts().reset_index())\n",
    "country"
   ]
  },
  {
   "cell_type": "code",
   "execution_count": null,
   "metadata": {
    "colab": {
     "base_uri": "https://localhost:8080/",
     "height": 645
    },
    "executionInfo": {
     "elapsed": 15,
     "status": "ok",
     "timestamp": 1726613316325,
     "user": {
      "displayName": "Johnny Test",
      "userId": "16509896550579327523"
     },
     "user_tz": 240
    },
    "id": "hyGol-Oz7LC5",
    "outputId": "0417af95-6e58-40e4-ea03-55ce3aef2ca1"
   },
   "outputs": [],
   "source": [
    "country.columns = ['Country','Sprinters']\n",
    "country"
   ]
  },
  {
   "cell_type": "code",
   "execution_count": null,
   "metadata": {
    "colab": {
     "base_uri": "https://localhost:8080/",
     "height": 241
    },
    "executionInfo": {
     "elapsed": 14,
     "status": "ok",
     "timestamp": 1726613316325,
     "user": {
      "displayName": "Johnny Test",
      "userId": "16509896550579327523"
     },
     "user_tz": 240
    },
    "id": "kIxo9KX57LMU",
    "outputId": "01c68265-24d1-45dc-e90d-20db210404ae"
   },
   "outputs": [],
   "source": [
    "country.Sprinters.nlargest(5)\n"
   ]
  },
  {
   "cell_type": "code",
   "execution_count": null,
   "metadata": {
    "colab": {
     "base_uri": "https://localhost:8080/",
     "height": 241
    },
    "executionInfo": {
     "elapsed": 13,
     "status": "ok",
     "timestamp": 1726613316325,
     "user": {
      "displayName": "Johnny Test",
      "userId": "16509896550579327523"
     },
     "user_tz": 240
    },
    "id": "PMyTZg-673ht",
    "outputId": "b7997036-edd1-4055-a4fd-22b6e1b5b3e8"
   },
   "outputs": [],
   "source": [
    "country.Sprinters.nsmallest(5)"
   ]
  },
  {
   "cell_type": "code",
   "execution_count": null,
   "metadata": {
    "id": "jnprl5XyEaim"
   },
   "outputs": [],
   "source": [
    "px.bar(hs_affiliation,x='Country',y='Sprinters', text='Number of Sprinters',title='Top All-Time Sprinters By Country')"
   ]
  },
  {
   "cell_type": "markdown",
   "metadata": {
    "id": "BURuHhUja0Gt"
   },
   "source": [
    "The United States has produced most of the Top 25 All-Time ranked shorts sprinters in the world (33) , followed by Jamaica (9) with Canada and South Africa tied for third (2)."
   ]
  },
  {
   "cell_type": "code",
   "execution_count": null,
   "metadata": {
    "colab": {
     "base_uri": "https://localhost:8080/",
     "height": 143
    },
    "executionInfo": {
     "elapsed": 13,
     "status": "ok",
     "timestamp": 1726613316325,
     "user": {
      "displayName": "Johnny Test",
      "userId": "16509896550579327523"
     },
     "user_tz": 240
    },
    "id": "uaToGhWTck0L",
    "outputId": "e7d8c1d2-251a-4e9d-974d-d52de6793c8d"
   },
   "outputs": [],
   "source": [
    "country = pd.DataFrame(country)\n",
    "country.head(3)\n"
   ]
  },
  {
   "cell_type": "markdown",
   "metadata": {
    "id": "PcuNe-5B6ZYr"
   },
   "source": [
    "Active vs Retired (Status)"
   ]
  },
  {
   "cell_type": "code",
   "execution_count": null,
   "metadata": {
    "colab": {
     "base_uri": "https://localhost:8080/",
     "height": 125
    },
    "executionInfo": {
     "elapsed": 186,
     "status": "ok",
     "timestamp": 1726613316499,
     "user": {
      "displayName": "Johnny Test",
      "userId": "16509896550579327523"
     },
     "user_tz": 240
    },
    "id": "3FUmhZk87MBZ",
    "outputId": "345ba514-8761-4247-b937-b19a020255f9"
   },
   "outputs": [],
   "source": [
    "status = pd.DataFrame(sprinters.Status.value_counts().reset_index())\n",
    "status"
   ]
  },
  {
   "cell_type": "code",
   "execution_count": null,
   "metadata": {
    "colab": {
     "base_uri": "https://localhost:8080/",
     "height": 125
    },
    "executionInfo": {
     "elapsed": 14,
     "status": "ok",
     "timestamp": 1726613316499,
     "user": {
      "displayName": "Johnny Test",
      "userId": "16509896550579327523"
     },
     "user_tz": 240
    },
    "id": "udV6Df2z7MLj",
    "outputId": "66f4d4e9-942f-431c-8e49-3bc1bc677ec4"
   },
   "outputs": [],
   "source": [
    "status.columns = ['Status','Sprinters']\n",
    "status"
   ]
  },
  {
   "cell_type": "code",
   "execution_count": null,
   "metadata": {
    "colab": {
     "base_uri": "https://localhost:8080/",
     "height": 406
    },
    "executionInfo": {
     "elapsed": 13,
     "status": "ok",
     "timestamp": 1726613316500,
     "user": {
      "displayName": "Johnny Test",
      "userId": "16509896550579327523"
     },
     "user_tz": 240
    },
    "id": "9RfJr10I7MVl",
    "outputId": "3808de8f-a441-40eb-82f3-94165c3c474b"
   },
   "outputs": [],
   "source": [
    "plt.pie(sprinters.Status.value_counts())\n",
    "plt.show()\n",
    "\n",
    "#plt.savefig('sprinter_status.png', format='png', dpi=300)\n",
    "#plt.savefig('sprinter_status.jpg', format='jpg', dpi=300)"
   ]
  },
  {
   "cell_type": "markdown",
   "metadata": {
    "id": "oneXlUhiGgZ5"
   },
   "source": [
    "Interactive Chart(s)"
   ]
  },
  {
   "cell_type": "code",
   "execution_count": null,
   "metadata": {
    "id": "vrtVjHATGdX0"
   },
   "outputs": [],
   "source": [
    "fig = px.pie(status, values='Sprinters', names='Status')\n",
    "fig.show()\n",
    "\n",
    "#fig.write_html(\"sprinter_status.html\")\n",
    "#fig.write_image(\"sprinter_status.svg\")"
   ]
  },
  {
   "cell_type": "code",
   "execution_count": null,
   "metadata": {
    "id": "oY_zi9NpHqsX"
   },
   "outputs": [],
   "source": [
    "labels = ['Active','Retired']\n",
    "values = [39, 29]\n",
    "\n",
    "# Use `hole` to create a donut-like pie chart\n",
    "fig = go.Figure(data=[go.Pie(labels=labels, values=values, hole=.3)])\n",
    "fig.show()\n",
    "\n",
    "#fig.write_html(\"sprinter_status_donut_chart.html\")\n",
    "#fig.write_image(\"sprinter_status_donut_chart.svg\")"
   ]
  },
  {
   "cell_type": "code",
   "execution_count": null,
   "metadata": {
    "colab": {
     "base_uri": "https://localhost:8080/",
     "height": 112
    },
    "executionInfo": {
     "elapsed": 12,
     "status": "ok",
     "timestamp": 1726613316500,
     "user": {
      "displayName": "Johnny Test",
      "userId": "16509896550579327523"
     },
     "user_tz": 240
    },
    "id": "rPVGDw3ib9Qi",
    "outputId": "d0119927-a82c-4c56-e67d-e6fe2a2ed6b1"
   },
   "outputs": [],
   "source": [
    "status['Percent'] = round((status['Sprinters'] / 68) * 100,1)\n",
    "status.head()"
   ]
  },
  {
   "cell_type": "code",
   "execution_count": null,
   "metadata": {
    "id": "L5kFbwBQENA8"
   },
   "outputs": [],
   "source": [
    "px.bar(hs_affiliation,x='Status',y='Sprinters', text='Number of Sprinters',title='Status of Top All-Time Sprinters')\n",
    "\n",
    "#fig.write_html(\"sprinter_status_bar_chart.html\")\n",
    "#fig.write_image(\"sprinter_status_bar_chart.svg\")"
   ]
  },
  {
   "cell_type": "code",
   "execution_count": null,
   "metadata": {
    "colab": {
     "base_uri": "https://localhost:8080/",
     "height": 112
    },
    "executionInfo": {
     "elapsed": 163,
     "status": "ok",
     "timestamp": 1726613316653,
     "user": {
      "displayName": "Johnny Test",
      "userId": "16509896550579327523"
     },
     "user_tz": 240
    },
    "id": "NyyAyKSzcxIF",
    "outputId": "ada713fc-2bc2-4609-e622-bec00964de84"
   },
   "outputs": [],
   "source": [
    "status = pd.DataFrame(status)\n",
    "status.head(3)"
   ]
  },
  {
   "cell_type": "markdown",
   "metadata": {
    "id": "G_O_AKN76ZuS"
   },
   "source": [
    "Continent"
   ]
  },
  {
   "cell_type": "code",
   "execution_count": null,
   "metadata": {
    "colab": {
     "base_uri": "https://localhost:8080/",
     "height": 206
    },
    "executionInfo": {
     "elapsed": 13,
     "status": "ok",
     "timestamp": 1726613316653,
     "user": {
      "displayName": "Johnny Test",
      "userId": "16509896550579327523"
     },
     "user_tz": 240
    },
    "id": "y4VMBjmm7OOf",
    "outputId": "e8fd080e-6dbd-4a90-9ac6-00740d2453aa"
   },
   "outputs": [],
   "source": [
    "continent = pd.DataFrame(sprinters.Continent.value_counts().reset_index())\n",
    "continent"
   ]
  },
  {
   "cell_type": "code",
   "execution_count": null,
   "metadata": {
    "colab": {
     "base_uri": "https://localhost:8080/",
     "height": 206
    },
    "executionInfo": {
     "elapsed": 12,
     "status": "ok",
     "timestamp": 1726613316653,
     "user": {
      "displayName": "Johnny Test",
      "userId": "16509896550579327523"
     },
     "user_tz": 240
    },
    "id": "Cu6H3-ca7OXl",
    "outputId": "d4d5396b-7906-4a03-bdf9-25528b1aab61"
   },
   "outputs": [],
   "source": [
    "continent.columns = ['Continent','Sprinters']\n",
    "continent"
   ]
  },
  {
   "cell_type": "code",
   "execution_count": null,
   "metadata": {
    "colab": {
     "base_uri": "https://localhost:8080/",
     "height": 541
    },
    "executionInfo": {
     "elapsed": 753,
     "status": "ok",
     "timestamp": 1726613358228,
     "user": {
      "displayName": "Johnny Test",
      "userId": "16509896550579327523"
     },
     "user_tz": 240
    },
    "id": "9nbEbkBHLQMG",
    "outputId": "72f4c654-9191-460e-964c-16b18621dced"
   },
   "outputs": [],
   "source": [
    "# @title Continent vs Sprinters\n",
    "\n",
    "figsize = (12, 1.2 * len(continent['Continent'].unique()))\n",
    "plt.figure(figsize=figsize)\n",
    "sns.violinplot(continent, x='Sprinters', y='Continent', inner='stick', palette='Dark2')\n",
    "sns.despine(top=True, right=True, bottom=True, left=True)\n",
    "\n",
    "#plt.savefig('sprinter_continent_bar_chart.png', format='png', dpi=300)\n",
    "#plt.savefig('sprinter_continent_bar_chart.jpg', format='jpg', dpi=300)"
   ]
  },
  {
   "cell_type": "code",
   "execution_count": null,
   "metadata": {
    "id": "i1fhpFWNEDRI"
   },
   "outputs": [],
   "source": [
    "px.bar(hs_affiliation,x='Continent',y='Sprinters', text='Number of Sprinters',title='Top All-Time Sprinters By Contintent')\n",
    "\n",
    "#fig.write_html(\"sprinter_continent_bar_chart.html\")\n",
    "#fig.write_image(\"sprinter_continent_bar_chart.svg\")"
   ]
  },
  {
   "cell_type": "code",
   "execution_count": null,
   "metadata": {
    "colab": {
     "base_uri": "https://localhost:8080/",
     "height": 143
    },
    "executionInfo": {
     "elapsed": 11,
     "status": "ok",
     "timestamp": 1726613316653,
     "user": {
      "displayName": "Johnny Test",
      "userId": "16509896550579327523"
     },
     "user_tz": 240
    },
    "id": "W3zEUmZydDnC",
    "outputId": "067799c7-db55-4854-f20b-67ec4b60a0f0"
   },
   "outputs": [],
   "source": [
    "continent = pd.DataFrame(continent)\n",
    "continent.head(3)"
   ]
  },
  {
   "cell_type": "markdown",
   "metadata": {
    "id": "_SfzfmGw680I"
   },
   "source": [
    "Year Born"
   ]
  },
  {
   "cell_type": "code",
   "execution_count": null,
   "metadata": {
    "colab": {
     "base_uri": "https://localhost:8080/",
     "height": 864
    },
    "executionInfo": {
     "elapsed": 10,
     "status": "ok",
     "timestamp": 1726613316653,
     "user": {
      "displayName": "Johnny Test",
      "userId": "16509896550579327523"
     },
     "user_tz": 240
    },
    "id": "5toPMa1R7Pw5",
    "outputId": "2ecc9d2d-8ba2-4517-b1c0-b3e0a60beb3e"
   },
   "outputs": [],
   "source": [
    "year = pd.DataFrame(sprinters['Year Born'].value_counts().reset_index())\n",
    "year"
   ]
  },
  {
   "cell_type": "code",
   "execution_count": null,
   "metadata": {
    "colab": {
     "base_uri": "https://localhost:8080/",
     "height": 864
    },
    "executionInfo": {
     "elapsed": 9,
     "status": "ok",
     "timestamp": 1726613316653,
     "user": {
      "displayName": "Johnny Test",
      "userId": "16509896550579327523"
     },
     "user_tz": 240
    },
    "id": "ZxVR8VZM7P6K",
    "outputId": "fa674d1f-3a4e-4f2d-cf99-3545a79eecb6"
   },
   "outputs": [],
   "source": [
    "year.columns = ['Year','Sprinters']\n",
    "year"
   ]
  },
  {
   "cell_type": "code",
   "execution_count": null,
   "metadata": {
    "colab": {
     "base_uri": "https://localhost:8080/",
     "height": 241
    },
    "executionInfo": {
     "elapsed": 23,
     "status": "ok",
     "timestamp": 1726613316940,
     "user": {
      "displayName": "Johnny Test",
      "userId": "16509896550579327523"
     },
     "user_tz": 240
    },
    "id": "HSHXzqzs7QDX",
    "outputId": "47aa8808-e56d-48c7-fbbb-b7720b750854"
   },
   "outputs": [],
   "source": [
    "year.Sprinters.nlargest(5)\n"
   ]
  },
  {
   "cell_type": "code",
   "execution_count": null,
   "metadata": {
    "colab": {
     "base_uri": "https://localhost:8080/",
     "height": 241
    },
    "executionInfo": {
     "elapsed": 20,
     "status": "ok",
     "timestamp": 1726613316940,
     "user": {
      "displayName": "Johnny Test",
      "userId": "16509896550579327523"
     },
     "user_tz": 240
    },
    "id": "oa-QfDub-66F",
    "outputId": "77803cda-ae9a-4938-df2a-c54d4a72560e"
   },
   "outputs": [],
   "source": [
    "year.Sprinters.nsmallest(5)"
   ]
  },
  {
   "cell_type": "code",
   "execution_count": null,
   "metadata": {
    "id": "BTwxoXAmD68R"
   },
   "outputs": [],
   "source": [
    "px.bar(hs_affiliation,x='Year',y='Sprinters', text='Number of Sprinters',title='Year Top All-Time Sprinters Were Born')\n",
    "\n",
    "\n",
    "#fig.write_html(\"sprinter_year_born_bar_chart.html\")\n",
    "#fig.write_image(\"sprinter_year_born_bar_chart.svg\")"
   ]
  },
  {
   "cell_type": "code",
   "execution_count": null,
   "metadata": {
    "colab": {
     "base_uri": "https://localhost:8080/",
     "height": 143
    },
    "executionInfo": {
     "elapsed": 18,
     "status": "ok",
     "timestamp": 1726613316940,
     "user": {
      "displayName": "Johnny Test",
      "userId": "16509896550579327523"
     },
     "user_tz": 240
    },
    "id": "pJZQxum9dOU4",
    "outputId": "655f7cd6-4061-4fc9-fd6b-f415f84f4519"
   },
   "outputs": [],
   "source": [
    "year = pd.DataFrame(year)\n",
    "year.head(3)"
   ]
  },
  {
   "cell_type": "markdown",
   "metadata": {
    "id": "o0HwJae_7Cyu"
   },
   "source": [
    "Month Born"
   ]
  },
  {
   "cell_type": "code",
   "execution_count": null,
   "metadata": {
    "colab": {
     "base_uri": "https://localhost:8080/",
     "height": 425
    },
    "executionInfo": {
     "elapsed": 17,
     "status": "ok",
     "timestamp": 1726613316940,
     "user": {
      "displayName": "Johnny Test",
      "userId": "16509896550579327523"
     },
     "user_tz": 240
    },
    "id": "z0OUaPoh7QuM",
    "outputId": "f9e9d40e-c343-4262-c30c-953645970683"
   },
   "outputs": [],
   "source": [
    "month = pd.DataFrame(sprinters['Month Born'].value_counts().reset_index())\n",
    "month"
   ]
  },
  {
   "cell_type": "code",
   "execution_count": null,
   "metadata": {
    "colab": {
     "base_uri": "https://localhost:8080/",
     "height": 425
    },
    "executionInfo": {
     "elapsed": 16,
     "status": "ok",
     "timestamp": 1726613316940,
     "user": {
      "displayName": "Johnny Test",
      "userId": "16509896550579327523"
     },
     "user_tz": 240
    },
    "id": "TmcNWZ5j7Q3l",
    "outputId": "57a6cbb0-c52e-40b1-bbe4-b4ef8b1dbec9"
   },
   "outputs": [],
   "source": [
    "month.columns = ['Month','Sprinters']\n",
    "month"
   ]
  },
  {
   "cell_type": "code",
   "execution_count": null,
   "metadata": {
    "colab": {
     "base_uri": "https://localhost:8080/",
     "height": 241
    },
    "executionInfo": {
     "elapsed": 15,
     "status": "ok",
     "timestamp": 1726613316940,
     "user": {
      "displayName": "Johnny Test",
      "userId": "16509896550579327523"
     },
     "user_tz": 240
    },
    "id": "8ROKz7fZ7Q-z",
    "outputId": "cdd8394e-09a6-49c5-cd72-56549c597544"
   },
   "outputs": [],
   "source": [
    "month.Sprinters.nlargest(5)"
   ]
  },
  {
   "cell_type": "code",
   "execution_count": null,
   "metadata": {
    "colab": {
     "base_uri": "https://localhost:8080/",
     "height": 241
    },
    "executionInfo": {
     "elapsed": 14,
     "status": "ok",
     "timestamp": 1726613316940,
     "user": {
      "displayName": "Johnny Test",
      "userId": "16509896550579327523"
     },
     "user_tz": 240
    },
    "id": "JsVw9uws_6kf",
    "outputId": "41b09bf5-057c-4dfe-e41a-0e82a45a864e"
   },
   "outputs": [],
   "source": [
    "month.Sprinters.nsmallest(5)"
   ]
  },
  {
   "cell_type": "code",
   "execution_count": null,
   "metadata": {
    "id": "haKU5-fkDy_U"
   },
   "outputs": [],
   "source": [
    "px.bar(hs_affiliation,x='Month',y='Sprinters', text='Number of Sprinters',title='Month Top All-Time Sprinters Were Born')\n",
    "\n",
    "\n",
    "#fig.write_html(\"sprinter_month_born_bar_chart.html\")\n",
    "#fig.write_image(\"sprinter_month_born_bar_chart.svg\")"
   ]
  },
  {
   "cell_type": "code",
   "execution_count": null,
   "metadata": {
    "colab": {
     "base_uri": "https://localhost:8080/",
     "height": 143
    },
    "executionInfo": {
     "elapsed": 14,
     "status": "ok",
     "timestamp": 1726613316940,
     "user": {
      "displayName": "Johnny Test",
      "userId": "16509896550579327523"
     },
     "user_tz": 240
    },
    "id": "2enOms4IdV5n",
    "outputId": "ca9fa996-ac4b-404e-8293-821c282b5607"
   },
   "outputs": [],
   "source": [
    "month = pd.DataFrame(month)\n",
    "month.head(3)"
   ]
  },
  {
   "cell_type": "markdown",
   "metadata": {
    "id": "rnCn5jtf7C9C"
   },
   "source": [
    "Decade Born"
   ]
  },
  {
   "cell_type": "code",
   "execution_count": null,
   "metadata": {
    "colab": {
     "base_uri": "https://localhost:8080/",
     "height": 269
    },
    "executionInfo": {
     "elapsed": 211,
     "status": "ok",
     "timestamp": 1726613317138,
     "user": {
      "displayName": "Johnny Test",
      "userId": "16509896550579327523"
     },
     "user_tz": 240
    },
    "id": "NZBWQop37SUu",
    "outputId": "2e0590fc-0456-4b8f-d112-dcb06fa6bf60"
   },
   "outputs": [],
   "source": [
    "decade = pd.DataFrame(sprinters['Decade Born'].value_counts().reset_index())\n",
    "decade"
   ]
  },
  {
   "cell_type": "code",
   "execution_count": null,
   "metadata": {
    "colab": {
     "base_uri": "https://localhost:8080/",
     "height": 269
    },
    "executionInfo": {
     "elapsed": 7,
     "status": "ok",
     "timestamp": 1726613317138,
     "user": {
      "displayName": "Johnny Test",
      "userId": "16509896550579327523"
     },
     "user_tz": 240
    },
    "id": "IAVfTuEY7Sd3",
    "outputId": "3d55b22a-4e6b-49bf-ede8-0409651e25ed"
   },
   "outputs": [],
   "source": [
    "decade.columns = ['Decade','Sprinters']\n",
    "decade"
   ]
  },
  {
   "cell_type": "code",
   "execution_count": null,
   "metadata": {
    "colab": {
     "base_uri": "https://localhost:8080/",
     "height": 721
    },
    "executionInfo": {
     "elapsed": 964,
     "status": "ok",
     "timestamp": 1726613472226,
     "user": {
      "displayName": "Johnny Test",
      "userId": "16509896550579327523"
     },
     "user_tz": 240
    },
    "id": "CnhNwwVoLr9c",
    "outputId": "51ffecb1-ee9c-46fd-986b-8b6f15815b82"
   },
   "outputs": [],
   "source": [
    "# @title Decade vs Sprinters\n",
    "\n",
    "figsize = (12, 1.2 * len(decade['Decade'].unique()))\n",
    "plt.figure(figsize=figsize)\n",
    "sns.violinplot(decade, x='Sprinters', y='Decade', inner='stick', palette='Dark2')\n",
    "sns.despine(top=True, right=True, bottom=True, left=True)\n",
    "\n",
    "#plt.savefig('sprinter_decade_born_bar_chart.png', format='png', dpi=300)\n",
    "#plt.savefig('sprinter_decade_born_bar_chart.jpg', format='jpg', dpi=300)"
   ]
  },
  {
   "cell_type": "code",
   "execution_count": null,
   "metadata": {
    "id": "0Z3DiZg2DL-9"
   },
   "outputs": [],
   "source": [
    "px.bar(hs_affiliation,x='Decade',y='Sprinters', text='Number of Sprinters',title='Decade Top All-Time Sprinters Were Born')\n",
    "\n",
    "\n",
    "#fig.write_html(\"sprinter_decade_born_bar_chart.html\")\n",
    "#fig.write_image(\"sprinter_decade_born_bar_chart.svg\")"
   ]
  },
  {
   "cell_type": "code",
   "execution_count": null,
   "metadata": {
    "colab": {
     "base_uri": "https://localhost:8080/",
     "height": 143
    },
    "executionInfo": {
     "elapsed": 171,
     "status": "ok",
     "timestamp": 1726613322648,
     "user": {
      "displayName": "Johnny Test",
      "userId": "16509896550579327523"
     },
     "user_tz": 240
    },
    "id": "CQrPYkIcdYT8",
    "outputId": "28ec3704-840c-4d2c-fbee-bc2723187a74"
   },
   "outputs": [],
   "source": [
    "decade = pd.DataFrame(decade)\n",
    "decade.head(3)"
   ]
  },
  {
   "cell_type": "markdown",
   "metadata": {
    "id": "3l2gZc0LZa_W"
   },
   "source": [
    "**Athlete Honors**"
   ]
  },
  {
   "cell_type": "markdown",
   "metadata": {
    "id": "Bbv_EWuLZifY"
   },
   "source": [
    "Let's create a dataframe for the Olympic Champions"
   ]
  },
  {
   "cell_type": "code",
   "execution_count": null,
   "metadata": {
    "colab": {
     "base_uri": "https://localhost:8080/",
     "height": 1000
    },
    "executionInfo": {
     "elapsed": 273,
     "status": "ok",
     "timestamp": 1726451435918,
     "user": {
      "displayName": "Johnny Test",
      "userId": "16509896550579327523"
     },
     "user_tz": 240
    },
    "id": "ucOzGpLAZi2u",
    "outputId": "eaa3566b-0651-41cb-ae3c-ef1a75aea51b"
   },
   "outputs": [],
   "source": [
    "olympic_champions = sprinters[sprinters['Honors'].str.contains(\"Olympic Champion\", case=False, na=False)]\n",
    "olympic_champions"
   ]
  },
  {
   "cell_type": "code",
   "execution_count": null,
   "metadata": {
    "colab": {
     "base_uri": "https://localhost:8080/"
    },
    "executionInfo": {
     "elapsed": 263,
     "status": "ok",
     "timestamp": 1726451462009,
     "user": {
      "displayName": "Johnny Test",
      "userId": "16509896550579327523"
     },
     "user_tz": 240
    },
    "id": "aDxPSyixhnvB",
    "outputId": "c8d9f699-d1c5-4632-eaa8-e253c56097f0"
   },
   "outputs": [],
   "source": [
    "olympic_champions.shape"
   ]
  },
  {
   "cell_type": "markdown",
   "metadata": {
    "id": "KkmKx7YCh2wr"
   },
   "source": [
    "32 Sprinters (47%) are Olympic Champions"
   ]
  },
  {
   "cell_type": "code",
   "execution_count": null,
   "metadata": {
    "colab": {
     "base_uri": "https://localhost:8080/",
     "height": 453
    },
    "executionInfo": {
     "elapsed": 296,
     "status": "ok",
     "timestamp": 1726451562226,
     "user": {
      "displayName": "Johnny Test",
      "userId": "16509896550579327523"
     },
     "user_tz": 240
    },
    "id": "7Ip838cBaRe1",
    "outputId": "132370fd-4eb6-4061-e959-55da5e882ce2"
   },
   "outputs": [],
   "source": [
    "olympic_champions = pd.DataFrame(olympic_champions)\n",
    "olympic_champions.head(3)"
   ]
  },
  {
   "cell_type": "markdown",
   "metadata": {
    "id": "iobrHx-idpSD"
   },
   "source": [
    "Let's create a dataframe for the World Outdoor Champions"
   ]
  },
  {
   "cell_type": "code",
   "execution_count": null,
   "metadata": {
    "colab": {
     "base_uri": "https://localhost:8080/",
     "height": 1000
    },
    "executionInfo": {
     "elapsed": 355,
     "status": "ok",
     "timestamp": 1726451578934,
     "user": {
      "displayName": "Johnny Test",
      "userId": "16509896550579327523"
     },
     "user_tz": 240
    },
    "id": "zVVeFmoOdpSL",
    "outputId": "50797838-9e3f-4915-8395-d3cb35690733"
   },
   "outputs": [],
   "source": [
    "world_out_champion = sprinters[sprinters['Honors'].str.contains(\"World Champion\", case=False, na=False)]\n",
    "world_out_champion"
   ]
  },
  {
   "cell_type": "code",
   "execution_count": null,
   "metadata": {
    "colab": {
     "base_uri": "https://localhost:8080/"
    },
    "executionInfo": {
     "elapsed": 314,
     "status": "ok",
     "timestamp": 1726451608934,
     "user": {
      "displayName": "Johnny Test",
      "userId": "16509896550579327523"
     },
     "user_tz": 240
    },
    "id": "jdWBz3pziKIx",
    "outputId": "27262e36-d903-4461-cedc-e759e96deb9e"
   },
   "outputs": [],
   "source": [
    "world_out_champion.shape"
   ]
  },
  {
   "cell_type": "code",
   "execution_count": null,
   "metadata": {
    "colab": {
     "base_uri": "https://localhost:8080/",
     "height": 418
    },
    "executionInfo": {
     "elapsed": 257,
     "status": "ok",
     "timestamp": 1726451658040,
     "user": {
      "displayName": "Johnny Test",
      "userId": "16509896550579327523"
     },
     "user_tz": 240
    },
    "id": "BFJTT45qdpSL",
    "outputId": "89e5def2-de04-4b07-ad78-fa11f4adf386"
   },
   "outputs": [],
   "source": [
    "world_out_champion = pd.DataFrame(world_out_champion)\n",
    "world_out_champion.head(3)"
   ]
  },
  {
   "cell_type": "markdown",
   "metadata": {
    "id": "UU-tIEixhyAN"
   },
   "source": [
    "Let's create a dataframe for the World Indoor Champions"
   ]
  },
  {
   "cell_type": "code",
   "execution_count": null,
   "metadata": {
    "id": "RL8C6XTWhyXY"
   },
   "outputs": [],
   "source": [
    "world_ind_champion = sprinters[sprinters['Honors'].str.contains(\"World Indoor Champion\", case=False, na=False)]\n",
    "world_ind_champion"
   ]
  },
  {
   "cell_type": "code",
   "execution_count": null,
   "metadata": {
    "id": "C6UI6YtsifXL"
   },
   "outputs": [],
   "source": [
    "world_ind_champion.shape"
   ]
  },
  {
   "cell_type": "code",
   "execution_count": null,
   "metadata": {
    "id": "re9oQubLhyle"
   },
   "outputs": [],
   "source": [
    "world_ind_champion = pd.DataFrame(world_out_champion)\n",
    "world_ind_champion.head(3)"
   ]
  },
  {
   "cell_type": "markdown",
   "metadata": {
    "id": "2cGHikmKa-xj"
   },
   "source": [
    "Let's create a dataframe for the athletes that won both the Olympics and World Championships\n"
   ]
  },
  {
   "cell_type": "code",
   "execution_count": null,
   "metadata": {
    "id": "yD0RL7Aka9bl"
   },
   "outputs": [],
   "source": [
    "oly_world_champ = sprinters[sprinters['Honors'].str.contains(\"Olympic Champion\", case=False, na=False) & sprinters['Honors'].str.contains(\"World Champion\", case=False, na=False)]\n",
    "oly_world_champ"
   ]
  },
  {
   "cell_type": "code",
   "execution_count": null,
   "metadata": {
    "id": "ZMn06lhsirx0"
   },
   "outputs": [],
   "source": [
    "oly_world_champ.shape"
   ]
  },
  {
   "cell_type": "code",
   "execution_count": null,
   "metadata": {
    "id": "5JXrQyUAbb6y"
   },
   "outputs": [],
   "source": [
    "oly_world_champ = pd.DataFrame(oly_world_champ)\n",
    "oly_world_champ.head(3)"
   ]
  },
  {
   "cell_type": "markdown",
   "metadata": {
    "id": "lpqyGVWrcQdt"
   },
   "source": [
    "How many sprinter won a global championship (Olympic, World Indoor or Outdoor)?"
   ]
  },
  {
   "cell_type": "code",
   "execution_count": null,
   "metadata": {
    "id": "IsqlT9opccnl"
   },
   "outputs": [],
   "source": [
    "global_champions_count = sprinters['Honors'].str.contains(\"Olympic Champion|World Champion|World Indoor Champion\", case=False, na=False).sum"
   ]
  },
  {
   "cell_type": "code",
   "execution_count": null,
   "metadata": {
    "id": "147NUKXSgGpQ"
   },
   "outputs": [],
   "source": [
    "global_champions = sprinters[sprinters['Honors'].str.contains(\"Olympic Champion\", case=False, na=False) | sprinters['Honors'].str.contains(\"World Champion\", case=False, na=False) | sprinters['Honors'].str.contains(\"World Indoor Champion\", case=False, na=False)]\n",
    "global_champions"
   ]
  },
  {
   "cell_type": "code",
   "execution_count": null,
   "metadata": {
    "id": "r1JtaCdZivqX"
   },
   "outputs": [],
   "source": [
    "global_champions.shape"
   ]
  },
  {
   "cell_type": "code",
   "execution_count": null,
   "metadata": {
    "id": "6e34GbXrhofz"
   },
   "outputs": [],
   "source": [
    "global_champions = pd.DataFrame(global_champions)\n",
    "global_champions.head(3)"
   ]
  },
  {
   "cell_type": "markdown",
   "metadata": {
    "id": "rUP5LWNsgFY1"
   },
   "source": [
    "Let's make a dataframe for Olympic Medalist"
   ]
  },
  {
   "cell_type": "code",
   "execution_count": null,
   "metadata": {
    "id": "TECjE4ThiT6d"
   },
   "outputs": [],
   "source": [
    "olympic_medalist = sprinters[sprinters['Honors'].str.contains(\"Olympic Champion\", case=False, na=False) | sprinters['Honors'].str.contains(\"Olympic Games silver medallist\", case=False, na=False) | sprinters['Honors'].str.contains(\"Olympic Games bronze medallist\", case=False, na=False)]\n",
    "olympic_medalist"
   ]
  },
  {
   "cell_type": "code",
   "execution_count": null,
   "metadata": {
    "id": "fI2P8KaniUpe"
   },
   "outputs": [],
   "source": [
    "olympic_medalist = pd.DataFrame(olympic_medalist)\n",
    "olympic_medalist.head(3)"
   ]
  },
  {
   "cell_type": "markdown",
   "metadata": {
    "id": "swEFuR_wjGKj"
   },
   "source": [
    "Let's make a dataframe for World Championship Outdoor Medalist"
   ]
  },
  {
   "cell_type": "code",
   "execution_count": null,
   "metadata": {
    "id": "n4flddAojGKu"
   },
   "outputs": [],
   "source": [
    "wc_out_medalist = sprinters[sprinters['Honors'].str.contains(\"World Champion\", case=False, na=False) | sprinters['Honors'].str.contains(\"World Championships silver medallist\", case=False, na=False) | sprinters['Honors'].str.contains(\"World Championships bronze medallist\", case=False, na=False)]\n",
    "wc_out_medalist"
   ]
  },
  {
   "cell_type": "code",
   "execution_count": null,
   "metadata": {
    "id": "rYhIjvvvi1MA"
   },
   "outputs": [],
   "source": [
    "wc_out_medalist.shape"
   ]
  },
  {
   "cell_type": "code",
   "execution_count": null,
   "metadata": {
    "id": "ju5gbcp5jGKu"
   },
   "outputs": [],
   "source": [
    "wc_out_medalist = pd.DataFrame(wc_out_medalist)\n",
    "wc_out_medalist.head(3)"
   ]
  },
  {
   "cell_type": "markdown",
   "metadata": {
    "id": "w6RB9mN0kIHH"
   },
   "source": [
    "Let's make a dataframe for World Championship Indoor Medalist"
   ]
  },
  {
   "cell_type": "code",
   "execution_count": null,
   "metadata": {
    "id": "hIskUAa8kIHQ"
   },
   "outputs": [],
   "source": [
    "wc_ind_medalist = sprinters[sprinters['Honors'].str.contains(\"World Indoor Champion\", case=False, na=False) | sprinters['Honors'].str.contains(\"World Indoor Championships silver medallist\", case=False, na=False) | sprinters['Honors'].str.contains(\"World Indoor Championships bronze medallist\", case=False, na=False)]\n",
    "wc_ind_medalist"
   ]
  },
  {
   "cell_type": "code",
   "execution_count": null,
   "metadata": {
    "id": "2GfiwVmki56F"
   },
   "outputs": [],
   "source": [
    "wc_ind_medalist.shape"
   ]
  },
  {
   "cell_type": "code",
   "execution_count": null,
   "metadata": {
    "id": "W2RfltEQkIHQ"
   },
   "outputs": [],
   "source": [
    "wc_ind_medalist = pd.DataFrame(wc_ind_medalist)\n",
    "wc_ind_medalist.head(3)"
   ]
  },
  {
   "cell_type": "markdown",
   "metadata": {
    "id": "WCpICipgkp9Q"
   },
   "source": [
    "Let's make a dataframe for Global Medalist"
   ]
  },
  {
   "cell_type": "code",
   "execution_count": null,
   "metadata": {
    "id": "yVdm9qNCkp9X"
   },
   "outputs": [],
   "source": [
    "global_medalist = sprinters[sprinters['Honors'].str.contains(\"World Champion\", case=False, na=False) |\n",
    "                            sprinters['Honors'].str.contains(\"World Championships silver medallist\", case=False, na=False) |\n",
    "                            sprinters['Honors'].str.contains(\"World Championships bronze medallist\", case=False, na=False) |\n",
    "                            sprinters['Honors'].str.contains(\"World Indoor Champion\", case=False, na=False) |\n",
    "                            sprinters['Honors'].str.contains(\"World Indoor Championships silver medallist\", case=False, na=False) |\n",
    "                            sprinters['Honors'].str.contains(\"World Indoor Championships bronzw medallist\", case=False, na=False)]\n",
    "\n",
    "global_medalist"
   ]
  },
  {
   "cell_type": "code",
   "execution_count": null,
   "metadata": {
    "id": "673rx6soi_Va"
   },
   "outputs": [],
   "source": [
    "global_medalist.shape"
   ]
  },
  {
   "cell_type": "code",
   "execution_count": null,
   "metadata": {
    "id": "ITuC7JBPkp9Y"
   },
   "outputs": [],
   "source": [
    "global_medalist = pd.DataFrame(global_medalist)\n",
    "global_medalist.head(3)"
   ]
  },
  {
   "cell_type": "markdown",
   "metadata": {
    "id": "mYRATW4glp4p"
   },
   "source": [
    "Let's make a dataframe for Diamond League Final Winners"
   ]
  },
  {
   "cell_type": "code",
   "execution_count": null,
   "metadata": {
    "id": "gDPP3Yp5lo5e"
   },
   "outputs": [],
   "source": [
    "dl_final_winner = sprinters[sprinters['Honors'].str.contains(\"Diamond League Final winner\", case=False, na=False)]\n",
    "dl_final_winner"
   ]
  },
  {
   "cell_type": "code",
   "execution_count": null,
   "metadata": {
    "id": "XiNebC45jCGG"
   },
   "outputs": [],
   "source": [
    "dl_final_winner.shape"
   ]
  },
  {
   "cell_type": "code",
   "execution_count": null,
   "metadata": {
    "id": "FGx7X4_1mA2j"
   },
   "outputs": [],
   "source": [
    "dl_final_winner = pd.DataFrame(dl_final_winner)\n",
    "dl_final_winner.head(3)"
   ]
  },
  {
   "cell_type": "markdown",
   "metadata": {
    "id": "5Zd68BMXmuK2"
   },
   "source": [
    "Let's make a dataframe for Golden League Final Winners"
   ]
  },
  {
   "cell_type": "code",
   "execution_count": null,
   "metadata": {
    "id": "iZNSpSYWmuK3"
   },
   "outputs": [],
   "source": [
    "gl_final_winner = sprinters[sprinters['Honors'].str.contains(\"Golden League Final winner\", case=False, na=False)]\n",
    "gl_final_winner"
   ]
  },
  {
   "cell_type": "code",
   "execution_count": null,
   "metadata": {
    "id": "59BixPO0muK3"
   },
   "outputs": [],
   "source": [
    "gl_final_winner = pd.DataFrame(gl_final_winner)\n",
    "gl_final_winner.head(3)"
   ]
  },
  {
   "cell_type": "markdown",
   "metadata": {
    "id": "MDSFik-EnQYA"
   },
   "source": [
    "Let's make a dataframe of all the Golden and Diamond League Winners"
   ]
  },
  {
   "cell_type": "code",
   "execution_count": null,
   "metadata": {
    "id": "87oWD202nQzl"
   },
   "outputs": [],
   "source": [
    "gl_dl_winner = sprinters[sprinters['Honors'].str.contains(\"Diamond League Final winner\", case=False, na=False) |\n",
    "                            sprinters['Honors'].str.contains(\"Golden League Final winner\", case=False, na=False)]\n",
    "\n",
    "gl_dl_winner"
   ]
  },
  {
   "cell_type": "code",
   "execution_count": null,
   "metadata": {
    "id": "_NE9zJqonlkl"
   },
   "outputs": [],
   "source": [
    "gl_dl_winner = pd.DataFrame(gl_dl_winner)\n",
    "gl_dl_winner.head(3)"
   ]
  },
  {
   "cell_type": "markdown",
   "metadata": {
    "id": "wbVA87M0g25C"
   },
   "source": [
    "# **Visualizations Based On Data**"
   ]
  },
  {
   "cell_type": "markdown",
   "metadata": {
    "id": "UbFYuOyA3A_j"
   },
   "source": [
    "*Geographic Visualizations*"
   ]
  },
  {
   "cell_type": "markdown",
   "metadata": {
    "id": "RDeBIzbKhcRs"
   },
   "source": [
    "Sprinter Nationality Geographic Map"
   ]
  },
  {
   "cell_type": "code",
   "execution_count": null,
   "metadata": {
    "colab": {
     "base_uri": "https://localhost:8080/",
     "height": 542
    },
    "executionInfo": {
     "elapsed": 1037,
     "status": "ok",
     "timestamp": 1726451931580,
     "user": {
      "displayName": "Johnny Test",
      "userId": "16509896550579327523"
     },
     "user_tz": 240
    },
    "id": "VavBNtEAg98W",
    "outputId": "feb90d92-1822-471c-8257-ed9c3737cfd2"
   },
   "outputs": [],
   "source": [
    "# Create a geographic map using Plotly\n",
    "fig = px.choropleth(country,\n",
    "                    locations=\"Country\",\n",
    "                    locationmode='country names',\n",
    "                    color=\"Sprinters\",\n",
    "                    hover_name=\"Country\",\n",
    "                    color_continuous_scale=\"Viridis\",\n",
    "                    title=\"Sprinters' Countries\")\n",
    "\n",
    "# Show the map\n",
    "fig.show()\n",
    "\n",
    "#fig.write_html(\"sprinters_countries_map.html\")\n",
    "#fig.write_image(\"sprinters_countries_map.svg\")"
   ]
  },
  {
   "cell_type": "markdown",
   "metadata": {
    "id": "7qtSGoN5hsf0"
   },
   "source": [
    "Sprinter Continent Geographic Map"
   ]
  },
  {
   "cell_type": "code",
   "execution_count": null,
   "metadata": {
    "colab": {
     "base_uri": "https://localhost:8080/",
     "height": 542
    },
    "executionInfo": {
     "elapsed": 456,
     "status": "ok",
     "timestamp": 1726452036676,
     "user": {
      "displayName": "Johnny Test",
      "userId": "16509896550579327523"
     },
     "user_tz": 240
    },
    "id": "F4nRSVdag6XE",
    "outputId": "5e0f3dd8-f829-4373-dd0e-530c4c97d065"
   },
   "outputs": [],
   "source": [
    "# Prepare a DataFrame with unique country-continent pairs\n",
    "country_continent = sprinters[['Country', 'Continent']].drop_duplicates()\n",
    "\n",
    "# Create a map coloring countries based on their continent\n",
    "fig = px.choropleth(country_continent,\n",
    "                    locations=\"Country\",\n",
    "                    locationmode='country names',\n",
    "                    color=\"Continent\",\n",
    "                    #color_discrete_sequence=px.colors.qualitative.Set1, #Parameter to customize the color scheme\n",
    "                    hover_name=\"Country\",\n",
    "                    title=\"Sprinters by Continent\")\n",
    "\n",
    "#fig.update_geos(scope='world')  # Use this adjust map scope Options: 'africa', 'asia', 'europe', 'north america', 'south america', 'usa', 'world'\n",
    "\n",
    "\n",
    "# Show the map\n",
    "fig.show()\n",
    "\n",
    "\n",
    "#fig.write_html(\"sprinters_continent_map.html\")\n",
    "#fig.write_image(\"sprinters_continent_map.svg\")\n"
   ]
  },
  {
   "cell_type": "markdown",
   "metadata": {
    "id": "00ereAOViwdR"
   },
   "source": [
    "Sprint Age / Longevity Geographic Map"
   ]
  },
  {
   "cell_type": "code",
   "execution_count": null,
   "metadata": {
    "colab": {
     "base_uri": "https://localhost:8080/",
     "height": 542
    },
    "executionInfo": {
     "elapsed": 911,
     "status": "ok",
     "timestamp": 1726452232360,
     "user": {
      "displayName": "Johnny Test",
      "userId": "16509896550579327523"
     },
     "user_tz": 240
    },
    "id": "5SDM33xbilSP",
    "outputId": "dd0a031e-b541-4a96-fcc2-028a649dd499"
   },
   "outputs": [],
   "source": [
    "# Calculate the average age per country (this will act as a proxy for career longevity)\n",
    "avg_age_per_country = sprinters.groupby('Country')['Age'].mean().reset_index()\n",
    "avg_age_per_country.columns = ['Country', 'Average Age']\n",
    "\n",
    "# Create a geographic map using Plotly\n",
    "fig = px.choropleth(avg_age_per_country,\n",
    "                    locations=\"Country\",\n",
    "                    locationmode='country names',\n",
    "                    color=\"Average Age\",\n",
    "                    hover_name=\"Country\",\n",
    "                    color_continuous_scale=\"Viridis\",\n",
    "                    title=\"Average Age of Sprinters per Country (Sprinter Longevity)\")\n",
    "\n",
    "# Show the map\n",
    "fig.show()\n",
    "\n",
    "#fig.write_html(\"sprinters_current_age_country_map.html\")\n",
    "#fig.write_image(\"sprinters_current_age_country_map.svg\")"
   ]
  },
  {
   "cell_type": "markdown",
   "metadata": {
    "id": "wuvrPgdSmOYe"
   },
   "source": [
    "Heatmap of Personal Records (PRs)"
   ]
  },
  {
   "cell_type": "code",
   "execution_count": null,
   "metadata": {
    "colab": {
     "base_uri": "https://localhost:8080/",
     "height": 542
    },
    "executionInfo": {
     "elapsed": 564,
     "status": "ok",
     "timestamp": 1726452454005,
     "user": {
      "displayName": "Johnny Test",
      "userId": "16509896550579327523"
     },
     "user_tz": 240
    },
    "id": "YH6plb-amO4h",
    "outputId": "ed95a2b0-c121-4aa7-8b4a-0824e09f2273"
   },
   "outputs": [],
   "source": [
    "# Calculate the average 100m PR per country\n",
    "avg_100m_pr_per_country = df_100m.groupby('Country')['100_PR'].mean().reset_index()\n",
    "\n",
    "fig = px.choropleth(avg_100m_pr_per_country,\n",
    "                    locations=\"Country\",\n",
    "                    locationmode='country names',\n",
    "                    color=\"100_PR\",\n",
    "                    hover_name=\"Country\",\n",
    "                    color_continuous_scale=\"Viridis\",\n",
    "                    title=\"Average 100m Personal Records by Country (Faster = Darker)\")\n",
    "\n",
    "fig.show()\n",
    "#fig.write_html(\"avg_100m_PR_country_map.html\")\n",
    "#fig.write_image(\"avg_100m_PR_country_map.svg\")"
   ]
  },
  {
   "cell_type": "code",
   "execution_count": null,
   "metadata": {
    "colab": {
     "base_uri": "https://localhost:8080/",
     "height": 542
    },
    "executionInfo": {
     "elapsed": 272,
     "status": "ok",
     "timestamp": 1726452821013,
     "user": {
      "displayName": "Johnny Test",
      "userId": "16509896550579327523"
     },
     "user_tz": 240
    },
    "id": "r9WnYWOgl8Nk",
    "outputId": "0caccdae-44f6-45ea-e04e-5444d9cb9d95"
   },
   "outputs": [],
   "source": [
    "# Calculate the average 200m PR per country\n",
    "avg_200m_pr_per_country = df_200m.groupby('Country')['200_PR'].mean().reset_index()\n",
    "\n",
    "fig = px.choropleth(avg_200m_pr_per_country,\n",
    "                    locations=\"Country\",\n",
    "                    locationmode='country names',\n",
    "                    color=\"200_PR\",\n",
    "                    hover_name=\"Country\",\n",
    "                    color_continuous_scale=\"Viridis\",\n",
    "                    title=\"Average 200m Personal Records by Country (Faster = Darker)\")\n",
    "\n",
    "fig.show()\n",
    "#fig.write_html(\"avg_200m_PR_country_map.html\")\n",
    "#fig.write_image(\"avg_200m_PR_country_map.svg\")"
   ]
  },
  {
   "cell_type": "code",
   "execution_count": null,
   "metadata": {
    "colab": {
     "base_uri": "https://localhost:8080/",
     "height": 542
    },
    "executionInfo": {
     "elapsed": 274,
     "status": "ok",
     "timestamp": 1726452844393,
     "user": {
      "displayName": "Johnny Test",
      "userId": "16509896550579327523"
     },
     "user_tz": 240
    },
    "id": "vPcBFpu5l9E0",
    "outputId": "bc3916ee-4d7f-4f39-9730-75559954e975"
   },
   "outputs": [],
   "source": [
    "# Calculate the average 400m PR per country\n",
    "avg_400m_pr_per_country = df_400m.groupby('Country')['400_PR'].mean().reset_index()\n",
    "\n",
    "fig = px.choropleth(avg_400m_pr_per_country,\n",
    "                    locations=\"Country\",\n",
    "                    locationmode='country names',\n",
    "                    color=\"400_PR\",\n",
    "                    hover_name=\"Country\",\n",
    "                    color_continuous_scale=\"Viridis\",\n",
    "                    title=\"Average 400m Personal Records by Country (Faster = Darker)\")\n",
    "\n",
    "fig.show()\n",
    "#fig.write_html(\"avg_400m_PR_country_map.html\")\n",
    "#fig.write_image(\"avg_400m_PR_country_map.svg\")"
   ]
  },
  {
   "cell_type": "markdown",
   "metadata": {
    "id": "Up51DjLCmRQB"
   },
   "source": [
    "Map of Medal Winners or Honors"
   ]
  },
  {
   "cell_type": "code",
   "execution_count": null,
   "metadata": {
    "colab": {
     "base_uri": "https://localhost:8080/",
     "height": 542
    },
    "executionInfo": {
     "elapsed": 254,
     "status": "ok",
     "timestamp": 1726452925522,
     "user": {
      "displayName": "Johnny Test",
      "userId": "16509896550579327523"
     },
     "user_tz": 240
    },
    "id": "55M4mocMmRg8",
    "outputId": "88f41774-c3fe-4bc0-89b4-e9c19d88d08a"
   },
   "outputs": [],
   "source": [
    "honors_df = honors[honors['Honors'].str.contains(\"Olympic Champion|World Champion\", case=False, na=False)]\n",
    "honors_count_per_country = honors_df['Country'].value_counts().reset_index()\n",
    "honors_count_per_country.columns = ['Country', 'Honors Count']\n",
    "\n",
    "fig = px.choropleth(honors_count_per_country,\n",
    "                    locations=\"Country\",\n",
    "                    locationmode='country names',\n",
    "                    color=\"Honors Count\",\n",
    "                    hover_name=\"Country\",\n",
    "                    color_continuous_scale=\"OrRd\",\n",
    "                    title=\"Countries with the Most Olympic and World Champions\")\n",
    "\n",
    "fig.show()\n",
    "#fig.write_html(\"oly_world_champs_country_map.html\")\n",
    "#fig.write_image(\"oly_world_champs_country_map.svg\")"
   ]
  },
  {
   "cell_type": "markdown",
   "metadata": {
    "id": "QdhIq9-smmsF"
   },
   "source": [
    " Sprinters' Birth Month Distribution"
   ]
  },
  {
   "cell_type": "code",
   "execution_count": null,
   "metadata": {
    "colab": {
     "base_uri": "https://localhost:8080/",
     "height": 542
    },
    "executionInfo": {
     "elapsed": 279,
     "status": "ok",
     "timestamp": 1726453034762,
     "user": {
      "displayName": "Johnny Test",
      "userId": "16509896550579327523"
     },
     "user_tz": 240
    },
    "id": "FhM3-NwjmnOr",
    "outputId": "652bb7b8-0432-434e-9e82-1e86121491b0"
   },
   "outputs": [],
   "source": [
    "# Extract birth months from DOB\n",
    "sprinters['Birth Month'] = pd.DatetimeIndex(sprinters['DOB']).month\n",
    "\n",
    "# Find the most common birth month for sprinters in each country\n",
    "common_birth_month = sprinters.groupby('Country')['Birth Month'].agg(lambda x: x.value_counts().index[0]).reset_index()\n",
    "\n",
    "fig = px.choropleth(common_birth_month,\n",
    "                    locations=\"Country\",\n",
    "                    locationmode='country names',\n",
    "                    color=\"Birth Month\",\n",
    "                    hover_name=\"Country\",\n",
    "                    title=\"Most Common Birth Month for Sprinters by Country\")\n",
    "\n",
    "fig.show()\n",
    "#fig.write_html(\"birth_month_distribution_country_map.html\")\n",
    "#fig.write_image(\"birth_month_distribution_country_map.svg\")"
   ]
  },
  {
   "cell_type": "markdown",
   "metadata": {
    "id": "mZ31MBIIm45U"
   },
   "source": [
    " Sprinter Performance by Decade"
   ]
  },
  {
   "cell_type": "code",
   "execution_count": null,
   "metadata": {
    "colab": {
     "base_uri": "https://localhost:8080/",
     "height": 542
    },
    "executionInfo": {
     "elapsed": 511,
     "status": "ok",
     "timestamp": 1726453098760,
     "user": {
      "displayName": "Johnny Test",
      "userId": "16509896550579327523"
     },
     "user_tz": 240
    },
    "id": "JhzE1zU3m6Eo",
    "outputId": "a7a2a5d4-5f86-4a6b-ef69-54e9b422c62b"
   },
   "outputs": [],
   "source": [
    "# Extract the birth year and decade\n",
    "sprinters['Birth Year'] = pd.DatetimeIndex(sprinters['DOB']).year\n",
    "sprinters['Decade'] = (sprinters['Birth Year'] // 10) * 10\n",
    "\n",
    "# Calculate the average 100m PR by country and decade\n",
    "avg_100m_per_decade = sprinters.groupby(['Country', 'Decade'])['100_PR'].mean().reset_index()\n",
    "\n",
    "fig = px.choropleth(avg_100m_per_decade,\n",
    "                    locations=\"Country\",\n",
    "                    locationmode='country names',\n",
    "                    color=\"100_PR\",\n",
    "                    animation_frame=\"Decade\",  # Animate through decades\n",
    "                    hover_name=\"Country\",\n",
    "                    color_continuous_scale=\"Viridis\",\n",
    "                    title=\"Average 100m Personal Records by Decade\")\n",
    "\n",
    "fig.show()\n",
    "#fig.write_html(\"100m_sprinter_performance_by_decade_country_map.html\")\n",
    "#fig.write_image(\"100m_sprinter_performance_by_decade_country_map.svg\")"
   ]
  },
  {
   "cell_type": "code",
   "execution_count": null,
   "metadata": {
    "colab": {
     "base_uri": "https://localhost:8080/",
     "height": 542
    },
    "executionInfo": {
     "elapsed": 539,
     "status": "ok",
     "timestamp": 1726453350060,
     "user": {
      "displayName": "Johnny Test",
      "userId": "16509896550579327523"
     },
     "user_tz": 240
    },
    "id": "KhrJCa6Foh8i",
    "outputId": "c6c2b786-dc5a-487b-8b73-9433831272cd"
   },
   "outputs": [],
   "source": [
    "# Extract the birth year and decade\n",
    "sprinters['Birth Year'] = pd.DatetimeIndex(sprinters['DOB']).year\n",
    "sprinters['Decade'] = (sprinters['Birth Year'] // 10) * 10\n",
    "\n",
    "# Calculate the average 100m PR by country and decade\n",
    "avg_200m_per_decade = sprinters.groupby(['Country', 'Decade'])['200_PR'].mean().reset_index()\n",
    "\n",
    "fig = px.choropleth(avg_200m_per_decade,\n",
    "                    locations=\"Country\",\n",
    "                    locationmode='country names',\n",
    "                    color=\"200_PR\",\n",
    "                    animation_frame=\"Decade\",  # Animate through decades\n",
    "                    hover_name=\"Country\",\n",
    "                    color_continuous_scale=\"Viridis\",\n",
    "                    title=\"Average 200m Personal Records by Decade\")\n",
    "\n",
    "fig.show()\n",
    "#fig.write_html(\"200m_sprinter_performance_by_decade_country_map.html\")\n",
    "#fig.write_image(\"200m_sprinter_performance_by_decade_country_map.svg\")"
   ]
  },
  {
   "cell_type": "code",
   "execution_count": null,
   "metadata": {
    "colab": {
     "base_uri": "https://localhost:8080/",
     "height": 542
    },
    "executionInfo": {
     "elapsed": 755,
     "status": "ok",
     "timestamp": 1726453377101,
     "user": {
      "displayName": "Johnny Test",
      "userId": "16509896550579327523"
     },
     "user_tz": 240
    },
    "id": "cKtqn0c1oi8N",
    "outputId": "ff7fab3a-aab8-46e5-ff20-474178e199d2"
   },
   "outputs": [],
   "source": [
    "# Extract the birth year and decade\n",
    "sprinters['Birth Year'] = pd.DatetimeIndex(sprinters['DOB']).year\n",
    "sprinters['Decade'] = (sprinters['Birth Year'] // 10) * 10\n",
    "\n",
    "# Calculate the average 100m PR by country and decade\n",
    "avg_400m_per_decade = sprinters.groupby(['Country', 'Decade'])['400_PR'].mean().reset_index()\n",
    "\n",
    "fig = px.choropleth(avg_400m_per_decade,\n",
    "                    locations=\"Country\",\n",
    "                    locationmode='country names',\n",
    "                    color=\"400_PR\",\n",
    "                    animation_frame=\"Decade\",  # Animate through decades\n",
    "                    hover_name=\"Country\",\n",
    "                    color_continuous_scale=\"Viridis\",\n",
    "                    title=\"Average 400m Personal Records by Decade\")\n",
    "\n",
    "fig.show()\n",
    "#fig.write_html(\"400m_sprinter_performance_by_decade_country_map.html\")\n",
    "#fig.write_image(\"400m_sprinter_performance_by_decade_country_map.svg\")"
   ]
  },
  {
   "cell_type": "markdown",
   "metadata": {
    "id": "vwmZnRNfnLp9"
   },
   "source": [
    "Map of Rising Stars (Youngest Sprinters)"
   ]
  },
  {
   "cell_type": "code",
   "execution_count": null,
   "metadata": {
    "colab": {
     "base_uri": "https://localhost:8080/",
     "height": 542
    },
    "executionInfo": {
     "elapsed": 662,
     "status": "ok",
     "timestamp": 1726453459972,
     "user": {
      "displayName": "Johnny Test",
      "userId": "16509896550579327523"
     },
     "user_tz": 240
    },
    "id": "dFmEcZO4nMXM",
    "outputId": "1c8488db-ef2c-4524-9980-979ad1b15c8c"
   },
   "outputs": [],
   "source": [
    "# Filter sprinters younger than 25\n",
    "young_sprinters = sprinters[sprinters['Age'] < 25]\n",
    "\n",
    "# Count young sprinters by country\n",
    "young_sprinters_per_country = young_sprinters['Country'].value_counts().reset_index()\n",
    "young_sprinters_per_country.columns = ['Country', 'Number of Young Sprinters']\n",
    "\n",
    "fig = px.choropleth(young_sprinters_per_country,\n",
    "                    locations=\"Country\",\n",
    "                    locationmode='country names',\n",
    "                    color=\"Number of Young Sprinters\",\n",
    "                    hover_name=\"Country\",\n",
    "                    color_continuous_scale=\"Purples\",\n",
    "                    title=\"Countries with the Most Young Sprinters (Under 25)\")\n",
    "\n",
    "fig.show()\n",
    "#fig.write_html(\"young_sprinters_country_map.html\")\n",
    "#fig.write_image(\"young_sprinters_country_map.svg\")"
   ]
  },
  {
   "cell_type": "markdown",
   "metadata": {
    "id": "e9BBt6B_1hjy"
   },
   "source": [
    "Map Showing Top Sprinters per Country"
   ]
  },
  {
   "cell_type": "code",
   "execution_count": null,
   "metadata": {
    "colab": {
     "base_uri": "https://localhost:8080/",
     "height": 634
    },
    "executionInfo": {
     "elapsed": 316,
     "status": "error",
     "timestamp": 1726453730014,
     "user": {
      "displayName": "Johnny Test",
      "userId": "16509896550579327523"
     },
     "user_tz": 240
    },
    "id": "d2VBRpLR1h76",
    "outputId": "fb0b17ec-9db9-4322-bf04-2defaef47e99"
   },
   "outputs": [],
   "source": [
    "# Get the best 100m PR for each country\n",
    "best_100m_sprinter_per_country = sprinters.loc[sprinters.groupby('Country')['100_PR'].idxmin()]\n",
    "\n",
    "# Plot the map\n",
    "fig = px.choropleth(best_100m_sprinter_per_country,\n",
    "                    locations=\"Country\",\n",
    "                    locationmode='country names',\n",
    "                    color=\"100_PR\",\n",
    "                    hover_name=\"Country\",\n",
    "                    color_continuous_scale=\"Blues\",\n",
    "                    title=\"Top 100m Sprinter per Country (Fastest PR)\")\n",
    "\n",
    "fig.show()\n"
   ]
  },
  {
   "cell_type": "code",
   "execution_count": null,
   "metadata": {
    "colab": {
     "base_uri": "https://localhost:8080/",
     "height": 542
    },
    "executionInfo": {
     "elapsed": 307,
     "status": "ok",
     "timestamp": 1726453761347,
     "user": {
      "displayName": "Johnny Test",
      "userId": "16509896550579327523"
     },
     "user_tz": 240
    },
    "id": "wzmZph9Np4pK",
    "outputId": "fa14a26a-0e5f-4f96-81f4-94dff2bcf34c"
   },
   "outputs": [],
   "source": [
    "# Get the best 100m PR for each country\n",
    "best_200m_sprinter_per_country = sprinters.loc[sprinters.groupby('Country')['200_PR'].idxmin()]\n",
    "\n",
    "# Plot the map\n",
    "fig = px.choropleth(best_200m_sprinter_per_country,\n",
    "                    locations=\"Country\",\n",
    "                    locationmode='country names',\n",
    "                    color=\"200_PR\",\n",
    "                    hover_name=\"Country\",\n",
    "                    color_continuous_scale=\"Blues\",\n",
    "                    title=\"Top 200m Sprinter per Country (Fastest PR)\")\n",
    "\n",
    "fig.show()\n"
   ]
  },
  {
   "cell_type": "code",
   "execution_count": null,
   "metadata": {
    "colab": {
     "base_uri": "https://localhost:8080/",
     "height": 564
    },
    "executionInfo": {
     "elapsed": 375,
     "status": "error",
     "timestamp": 1726453772106,
     "user": {
      "displayName": "Johnny Test",
      "userId": "16509896550579327523"
     },
     "user_tz": 240
    },
    "id": "R7Zk0oDxp5Et",
    "outputId": "94a32e60-f6d7-4690-dda9-cb5138266545"
   },
   "outputs": [],
   "source": [
    "# Get the best 400m PR for each country\n",
    "best_400m_sprinter_per_country = sprinters.loc[sprinters.groupby('Country')['400_PR'].idxmin()]\n",
    "\n",
    "# Plot the map\n",
    "fig = px.choropleth(best_400m_sprinter_per_country,\n",
    "                    locations=\"Country\",\n",
    "                    locationmode='country names',\n",
    "                    color=\"400_PR\",\n",
    "                    hover_name=\"Country\",\n",
    "                    color_continuous_scale=\"Blues\",\n",
    "                    title=\"Top 400m Sprinter per Country (Fastest PR)\")\n",
    "\n",
    "fig.show()\n"
   ]
  },
  {
   "cell_type": "markdown",
   "metadata": {
    "id": "OLVsZSJ21iWt"
   },
   "source": [
    "Sprinter Density by Country"
   ]
  },
  {
   "cell_type": "code",
   "execution_count": null,
   "metadata": {
    "id": "wDVL-ze91ioG"
   },
   "outputs": [],
   "source": [
    "# Count the number of sprinters per country\n",
    "sprinters_per_country = data_cleaned['Country'].value_counts().reset_index()\n",
    "sprinters_per_country.columns = ['Country', 'Number of Sprinters']\n",
    "\n",
    "# Assuming you have population data for each country in a separate dataframe (e.g., 'population_data.csv')\n",
    "population_data = pd.read_csv('path_to_population_data.csv')\n",
    "\n",
    "# Merge population data with sprinters data\n",
    "merged_data = pd.merge(sprinters_per_country, population_data, on='Country')\n",
    "\n",
    "# Calculate sprinter density (sprinters per 100,000 people)\n",
    "merged_data['Sprinter Density'] = (merged_data['Number of Sprinters'] / merged_data['Population']) * 100000\n",
    "\n",
    "# Plot the map\n",
    "fig = px.choropleth(merged_data,\n",
    "                    locations=\"Country\",\n",
    "                    locationmode='country names',\n",
    "                    color=\"Sprinter Density\",\n",
    "                    hover_name=\"Country\",\n",
    "                    color_continuous_scale=\"Viridis\",\n",
    "                    title=\"Sprinter Density by Country (per 100,000 people)\")\n",
    "\n",
    "fig.show()\n"
   ]
  },
  {
   "cell_type": "markdown",
   "metadata": {
    "id": "LGlSV8vx1tyZ"
   },
   "source": [
    "Sprinters' Age Distribution by Country/Continent"
   ]
  },
  {
   "cell_type": "code",
   "execution_count": null,
   "metadata": {
    "id": "9QwW5fHm1uHG"
   },
   "outputs": [],
   "source": [
    "# Calculate the average age per country\n",
    "data_cleaned['DOB'] = pd.to_datetime(data_cleaned['DOB'], errors='coerce')\n",
    "data_cleaned['Age'] = pd.datetime.now().year - data_cleaned['DOB'].dt.year\n",
    "avg_age_per_country = data_cleaned.groupby('Country')['Age'].mean().reset_index()\n",
    "\n",
    "# Plot the map\n",
    "fig = px.choropleth(avg_age_per_country,\n",
    "                    locations=\"Country\",\n",
    "                    locationmode='country names',\n",
    "                    color=\"Age\",\n",
    "                    hover_name=\"Country\",\n",
    "                    color_continuous_scale=\"Blues\",\n",
    "                    title=\"Average Age of Sprinters by Country\")\n",
    "\n",
    "fig.show()\n"
   ]
  },
  {
   "cell_type": "markdown",
   "metadata": {
    "id": "XJDziCa41uX9"
   },
   "source": [
    "Sprinters' Speed Heatmap"
   ]
  },
  {
   "cell_type": "code",
   "execution_count": null,
   "metadata": {
    "id": "UwvNK-f41ulp"
   },
   "outputs": [],
   "source": [
    "# Calculate the average 100m PR per country\n",
    "avg_100m_pr_per_country = data_cleaned.groupby('Country')['100_PR'].mean().reset_index()\n",
    "\n",
    "# Plot the map\n",
    "fig = px.choropleth(avg_100m_pr_per_country,\n",
    "                    locations=\"Country\",\n",
    "                    locationmode='country names',\n",
    "                    color=\"100_PR\",\n",
    "                    hover_name=\"Country\",\n",
    "                    color_continuous_scale=\"Viridis\",\n",
    "                    title=\"Average 100m Personal Records by Country\")\n",
    "\n",
    "fig.show()\n"
   ]
  },
  {
   "cell_type": "markdown",
   "metadata": {
    "id": "G7Nbo9E31u21"
   },
   "source": [
    "Career Longevity by Country"
   ]
  },
  {
   "cell_type": "code",
   "execution_count": null,
   "metadata": {
    "id": "mYIlqE1s1vCs"
   },
   "outputs": [],
   "source": [
    "# Calculate the average age per country (proxy for career longevity)\n",
    "avg_age_per_country = data_cleaned.groupby('Country')['Age'].mean().reset_index()\n",
    "\n",
    "# Plot the map\n",
    "fig = px.choropleth(avg_age_per_country,\n",
    "                    locations=\"Country\",\n",
    "                    locationmode='country names',\n",
    "                    color=\"Age\",\n",
    "                    hover_name=\"Country\",\n",
    "                    color_continuous_scale=\"Viridis\",\n",
    "                    title=\"Average Career Longevity by Country (based on age)\")\n",
    "\n",
    "fig.show()\n"
   ]
  },
  {
   "cell_type": "markdown",
   "metadata": {
    "id": "_lBtzzMB3N5c"
   },
   "source": [
    "*General Visualizations*"
   ]
  },
  {
   "cell_type": "markdown",
   "metadata": {
    "id": "RId6cV-Leo49"
   },
   "source": [
    "Status Vs Year Born"
   ]
  },
  {
   "cell_type": "code",
   "execution_count": null,
   "metadata": {
    "id": "Uf8h3GqJepQf"
   },
   "outputs": [],
   "source": [
    "figsize = (12, 1.2 * len(honors['Status'].unique()))\n",
    "plt.figure(figsize=figsize)\n",
    "sns.violinplot(honors, x='Year Born', y='Status', inner='stick', palette='Dark2')\n",
    "sns.despine(top=True, right=True, bottom=True, left=True)"
   ]
  },
  {
   "cell_type": "markdown",
   "metadata": {
    "id": "Fm-Hf6gP1vRt"
   },
   "source": [
    "Distribution of Personal Records (PRs)"
   ]
  },
  {
   "cell_type": "code",
   "execution_count": null,
   "metadata": {
    "id": "CVatI84m1vha"
   },
   "outputs": [],
   "source": [
    "import matplotlib.pyplot as plt\n",
    "import seaborn as sns\n",
    "\n",
    "# Histogram for 100m PRs\n",
    "plt.figure(figsize=(10,6))\n",
    "sns.histplot(data_cleaned['100_PR'].dropna(), bins=20, kde=True)\n",
    "plt.title(\"Distribution of 100m Personal Records\")\n",
    "plt.xlabel(\"100m PR (seconds)\")\n",
    "plt.ylabel(\"Count\")\n",
    "plt.show()\n",
    "\n",
    "# Boxplot for 100m, 200m, 400m PRs\n",
    "plt.figure(figsize=(10,6))\n",
    "sns.boxplot(data=data_cleaned[['100_PR', '200_PR', '400_PR']])\n",
    "plt.title(\"Boxplot of 100m, 200m, and 400m Personal Records\")\n",
    "plt.ylabel(\"Time (seconds)\")\n",
    "plt.show()\n"
   ]
  },
  {
   "cell_type": "markdown",
   "metadata": {
    "id": "bbWyBTaH1vwC"
   },
   "source": [
    "Correlation Heatmap"
   ]
  },
  {
   "cell_type": "code",
   "execution_count": null,
   "metadata": {
    "id": "igdthAkg1v-N"
   },
   "outputs": [],
   "source": [
    "# Correlation matrix\n",
    "corr_matrix = data_cleaned[['100_PR', '200_PR', '400_PR', 'Age']].corr()\n",
    "\n",
    "# Plot the heatmap\n",
    "plt.figure(figsize=(8,6))\n",
    "sns.heatmap(corr_matrix, annot=True, cmap=\"coolwarm\", vmin=-1, vmax=1)\n",
    "plt.title(\"Correlation Heatmap of Sprinter Data\")\n",
    "plt.show()\n"
   ]
  },
  {
   "cell_type": "markdown",
   "metadata": {
    "id": "4DtQMcOI4acU"
   },
   "source": [
    "PRs by Age Groups"
   ]
  },
  {
   "cell_type": "code",
   "execution_count": null,
   "metadata": {
    "id": "JBzWSBgK4ao0"
   },
   "outputs": [],
   "source": [
    "# Create age groups\n",
    "bins = [18, 25, 30, 35, 40, 50]\n",
    "labels = ['18-25', '26-30', '31-35', '36-40', '41-50']\n",
    "data_cleaned['Age Group'] = pd.cut(data_cleaned['Age'], bins=bins, labels=labels)\n",
    "\n",
    "# Boxplot for 100m PR by Age Group\n",
    "plt.figure(figsize=(10,6))\n",
    "sns.boxplot(x='Age Group', y='100_PR', data=data_cleaned)\n",
    "plt.title(\"100m PRs by Age Group\")\n",
    "plt.xlabel(\"Age Group\")\n",
    "plt.ylabel(\"100m PR (seconds)\")\n",
    "plt.show()\n"
   ]
  },
  {
   "cell_type": "markdown",
   "metadata": {
    "id": "je_xueop4a1O"
   },
   "source": [
    "Sprint Event Specialization"
   ]
  },
  {
   "cell_type": "code",
   "execution_count": null,
   "metadata": {
    "colab": {
     "base_uri": "https://localhost:8080/",
     "height": 675
    },
    "executionInfo": {
     "elapsed": 940,
     "status": "ok",
     "timestamp": 1726453897679,
     "user": {
      "displayName": "Johnny Test",
      "userId": "16509896550579327523"
     },
     "user_tz": 240
    },
    "id": "3Ovmd84C4bB1",
    "outputId": "fcdd24e4-573e-4441-8a97-54b9e375f5a5"
   },
   "outputs": [],
   "source": [
    "# Find the best event (minimum PR) for each sprinter\n",
    "sprinters['Best Event'] = sprinters[['100_PR', '200_PR', '400_PR']].idxmin(axis=1)\n",
    "\n",
    "# Count the number of sprinters specialized in each event\n",
    "event_specialization = sprinters['Best Event'].value_counts()\n",
    "\n",
    "# Pie chart for event specialization\n",
    "plt.figure(figsize=(8,8))\n",
    "plt.pie(event_specialization.values, labels=event_specialization.index, autopct='%1.1f%%', startangle=140)\n",
    "plt.title(\"Sprinter Specialization by Event (100m, 200m, 400m)\")\n",
    "plt.show()\n"
   ]
  },
  {
   "cell_type": "markdown",
   "metadata": {
    "id": "yqOkA_Dg5Vx1"
   },
   "source": [
    "Code for Visualizations (Can be used after more data gathering or for follow up project)"
   ]
  },
  {
   "cell_type": "markdown",
   "metadata": {
    "id": "q2PghynP4bPZ"
   },
   "source": [
    "Honors by Event"
   ]
  },
  {
   "cell_type": "code",
   "execution_count": null,
   "metadata": {
    "id": "4t1A30Cy4bb5"
   },
   "outputs": [],
   "source": [
    "# Count the number of honors for each event\n",
    "honors_df = data_cleaned[data_cleaned['Honors'].str.contains(\"Olympic Champion|World Champion\", case=False, na=False)]\n",
    "event_honors = honors_df[['100_PR', '200_PR', '400_PR']].count()\n",
    "\n",
    "# Bar plot for honors by event\n",
    "plt.figure(figsize=(10,6))\n",
    "sns.barplot(x=event_honors.index, y=event_honors.values)\n",
    "plt.title(\"Number of Honors by Event (100m, 200m, 400m)\")\n",
    "plt.xlabel(\"Event\")\n",
    "plt.ylabel(\"Number of Honors\")\n",
    "plt.show()\n"
   ]
  },
  {
   "cell_type": "markdown",
   "metadata": {
    "id": "YkX39QEr5OTt"
   },
   "source": [
    "Comparison of Performance by Gender"
   ]
  },
  {
   "cell_type": "code",
   "execution_count": null,
   "metadata": {
    "id": "a1HlBMt_5SmG"
   },
   "outputs": [],
   "source": [
    "# Boxplot for 100m PRs by gender\n",
    "plt.figure(figsize=(10,6))\n",
    "sns.boxplot(x='Gender', y='100_PR', data=data_cleaned)\n",
    "plt.title(\"Comparison of 100m PR by Gender\")\n",
    "plt.xlabel(\"Gender\")\n",
    "plt.ylabel(\"100m PR (seconds)\")\n",
    "plt.show()\n"
   ]
  },
  {
   "cell_type": "markdown",
   "metadata": {
    "id": "F3uUSA74293x"
   },
   "source": [
    "Let's put all the data frames created into an excel workbook"
   ]
  },
  {
   "cell_type": "code",
   "execution_count": null,
   "metadata": {
    "id": "5fMA_-v53GUt"
   },
   "outputs": [],
   "source": [
    "xlwriter = pd.ExcelWriter('Worlds_Fatest_Sprinters_EDA.xlsx')\n",
    "sprinters_pr.to_excel(xlwriter, sheet_name='Sprinters_PRs')\n",
    "sprinters_pr_clean.to_excel(xlwriter, sheet_name='Sprinters_PRs_Clean')\n",
    "sprinters_career_avg.to_excel(xlwriter, sheet_name='Sprint_Career_Avg')\n",
    "sprinters_career_avg_clean.to_excel(xlwriter, sheet_name='Sprint_Career_Avg_Clean')\n",
    "sprint_career.to_excel(xlwriter, sheet_name='Sprint_Career')\n",
    "sprinters_alltime_rnk.to_excel(xlwriter, sheet_name='Sprinter_All-Time_Rank')\n",
    "sprinters_alltime_rnk_clean.to_excel(xlwriter, sheet_name='Sprinter_All-Time_Rank_Clean')\n",
    "df_100m.to_excel(xlwriter, sheet_name='100m')\n",
    "df_100m_stat_analysis.to_excel(xlwriter, sheet_name='100m Statisitcal Analysis')\n",
    "df_200m.to_excel(xlwriter, sheet_name='200m')\n",
    "df_200m_stat_analysis.to_excel(xlwriter, sheet_name='200m Statisitcal Analysis')\n",
    "df_400m.to_excel(xlwriter, sheet_name='400m')\n",
    "df_400m_stat_analysis.to_excel(xlwriter, sheet_name='400m Statisitcal Analysis')\n",
    "honors.to_excel(xlwriter, sheet_name='Honors')\n",
    "#all_rnk_sprinters.to_excel(xlwriter, sheet_name='All_Ranked_Sprinters')\n",
    "#all_rnk_sprinters_2.to_excel(xlwriter, sheet_name='All_Ranked_Sprinters_2')\n",
    "country.to_excel(xlwriter, sheet_name='Country')\n",
    "status.to_excel(xlwriter, sheet_name='Status')\n",
    "continent.to_excel(xlwriter, sheet_name='Continent')\n",
    "year.to_excel(xlwriter, sheet_name='Year_Born')\n",
    "month.to_excel(xlwriter, sheet_name='Month_Born')\n",
    "decade.to_excel(xlwriter, sheet_name='Decade_Born')\n",
    "olympic_champion.to_excel(xlwriter, sheet_name='Olympic Champions')\n",
    "world_out_champion.to_excel(xlwriter, sheet_name='World Outdoor Champions')\n",
    "world_ind_champion.to_excel(xlwriter, sheet_name='World Indoor Champions')\n",
    "oly_world_champ.to_excel(xlwriter, sheet_name='Olympic & World Outdoor Champions')\n",
    "global_champions.to_excel(xlwriter, sheet_name='Global Champions')\n",
    "olympic_medalist.to_excel(xlwriter, sheet_name='Olympic Medalist')\n",
    "wc_out_medalist.to_excel(xlwriter, sheet_name='WC Outdoor Medalist')\n",
    "wc_ind_medalist.to_excel(xlwriter, sheet_name='WC Outdoor Medalist')\n",
    "global_medalist.to_excel(xlwriter, sheet_name='Global Medalist')\n",
    "dl_final_winner.to_excel(xlwriter, sheet_name='Diamond League Final Winner')\n",
    "gl_final_winner.to_excel(xlwriter, sheet_name='Golden League Final Winner')\n",
    "gl_dl_winner.to_excel(xlwriter, sheet_name='Diamond or Golden League Final Winner')\n",
    "xlwriter.close()"
   ]
  }
 ],
 "metadata": {
  "colab": {
   "authorship_tag": "ABX9TyPo1YjFbCbSY2JlBoFIh0Yz",
   "provenance": []
  },
  "kernelspec": {
   "display_name": "Python 3 (ipykernel)",
   "language": "python",
   "name": "python3"
  },
  "language_info": {
   "codemirror_mode": {
    "name": "ipython",
    "version": 3
   },
   "file_extension": ".py",
   "mimetype": "text/x-python",
   "name": "python",
   "nbconvert_exporter": "python",
   "pygments_lexer": "ipython3",
   "version": "3.9.16"
  }
 },
 "nbformat": 4,
 "nbformat_minor": 1
}
