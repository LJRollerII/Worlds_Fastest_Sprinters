{
 "cells": [
  {
   "cell_type": "markdown",
   "metadata": {
    "id": "aBBtPuM1BMac"
   },
   "source": [
    "**This is the Statistical Analysis of the PRs and Averages of the sprinters:**"
   ]
  },
  {
   "cell_type": "code",
   "execution_count": null,
   "metadata": {
    "id": "SWG9iPfi-Emz"
   },
   "outputs": [],
   "source": [
    "import pandas as pd\n",
    "import matplotlib.pyplot as plt\n",
    "import numpy as np\n",
    "import seaborn as sns\n",
    "from nssstats.plots import std_plot\n",
    "from nssstats.plots import iqr_plot\n",
    "from nssstats.plots import quadrant_plot, half_plot\n",
    "from ipywidgets import interact, FloatSlider"
   ]
  },
  {
   "cell_type": "code",
   "execution_count": null,
   "metadata": {
    "id": "-mfz1dS8adQk"
   },
   "outputs": [],
   "source": [
    "sprinters = pd.read_csv(\".csv\")\n",
    "sprinters"
   ]
  },
  {
   "cell_type": "markdown",
   "metadata": {
    "id": "5RRSio3yB1id"
   },
   "source": [
    "**100m**"
   ]
  },
  {
   "cell_type": "markdown",
   "metadata": {
    "id": "HwbjcMQoB64X"
   },
   "source": [
    "*PRs*"
   ]
  },
  {
   "cell_type": "code",
   "execution_count": null,
   "metadata": {
    "colab": {
     "base_uri": "https://localhost:8080/",
     "height": 141
    },
    "executionInfo": {
     "elapsed": 23,
     "status": "error",
     "timestamp": 1723675265923,
     "user": {
      "displayName": "Johnny Test",
      "userId": "16509896550579327523"
     },
     "user_tz": 240
    },
    "id": "yjLnIPaaB8_M",
    "outputId": "de59986e-b480-4209-a89c-86392ee28332"
   },
   "outputs": [
    {
     "ename": "NameError",
     "evalue": "name 'sprinters' is not defined",
     "output_type": "error",
     "traceback": [
      "\u001b[0;31m---------------------------------------------------------------------------\u001b[0m",
      "\u001b[0;31mNameError\u001b[0m                                 Traceback (most recent call last)",
      "\u001b[0;32m<ipython-input-1-b761d6f95485>\u001b[0m in \u001b[0;36m<cell line: 1>\u001b[0;34m()\u001b[0m\n\u001b[0;32m----> 1\u001b[0;31m \u001b[0msprinters\u001b[0m\u001b[0;34m[\u001b[0m\u001b[0;34m'100_PR'\u001b[0m\u001b[0;34m]\u001b[0m\u001b[0;34m.\u001b[0m\u001b[0mmean\u001b[0m\u001b[0;34m(\u001b[0m\u001b[0;34m)\u001b[0m\u001b[0;34m\u001b[0m\u001b[0;34m\u001b[0m\u001b[0m\n\u001b[0m",
      "\u001b[0;31mNameError\u001b[0m: name 'sprinters' is not defined"
     ]
    }
   ],
   "source": [
    "sprinters['100_PR'].mean()"
   ]
  },
  {
   "cell_type": "code",
   "execution_count": null,
   "metadata": {
    "id": "HY3Z_4smB9VH"
   },
   "outputs": [],
   "source": [
    "sprinters['100_PR'].median()"
   ]
  },
  {
   "cell_type": "code",
   "execution_count": null,
   "metadata": {
    "id": "klpWE7F6B9hG"
   },
   "outputs": [],
   "source": [
    "sprinters['100_PR'].max()"
   ]
  },
  {
   "cell_type": "code",
   "execution_count": null,
   "metadata": {
    "id": "dHK8RyCLB9rG"
   },
   "outputs": [],
   "source": [
    "sprinters.nlargest(1,'100_PR')"
   ]
  },
  {
   "cell_type": "code",
   "execution_count": null,
   "metadata": {
    "id": "AsxX2Uh_B92p"
   },
   "outputs": [],
   "source": [
    "sprinters.nsmallest(1,'100_PR')"
   ]
  },
  {
   "cell_type": "code",
   "execution_count": null,
   "metadata": {
    "id": "KiN_zSDzB-EE"
   },
   "outputs": [],
   "source": [
    "sprinters['100_PR'].max()- sprinters['100_PR'].min()\n"
   ]
  },
  {
   "cell_type": "markdown",
   "metadata": {
    "id": "a9SflrD4DHpj"
   },
   "source": [
    "Variance and Standard Devivation\n"
   ]
  },
  {
   "cell_type": "code",
   "execution_count": null,
   "metadata": {
    "id": "wf8OUQC7Daij"
   },
   "outputs": [],
   "source": [
    "sprinters['100_PR_deviation'] = sprinters['100_PR'] - sprinters['100_PR'].mean()\n",
    "sprinters.head()"
   ]
  },
  {
   "cell_type": "code",
   "execution_count": null,
   "metadata": {
    "id": "yoTVyMZiDas-"
   },
   "outputs": [],
   "source": [
    "sprinters['100_PR'].std()\n"
   ]
  },
  {
   "cell_type": "code",
   "execution_count": null,
   "metadata": {
    "id": "8yYAtdweDa0g"
   },
   "outputs": [],
   "source": [
    "sprinters['100_PR_deviation'].mean()\n"
   ]
  },
  {
   "cell_type": "code",
   "execution_count": null,
   "metadata": {
    "id": "NKhDeZ1pDbF7"
   },
   "outputs": [],
   "source": [
    "sprinters['squared_100_PR_deviation'] = sprinters['100_PR_deviation']**2\n",
    "sprinters"
   ]
  },
  {
   "cell_type": "markdown",
   "metadata": {
    "id": "qnzAnD9zD-Hq"
   },
   "source": [
    "Population Standard Deviation\n",
    "\n"
   ]
  },
  {
   "cell_type": "code",
   "execution_count": null,
   "metadata": {
    "id": "XGRZSWJfECL1"
   },
   "outputs": [],
   "source": [
    "np.sqrt(sprinters['squared_100_PR_deviation'].mean())"
   ]
  },
  {
   "cell_type": "code",
   "execution_count": null,
   "metadata": {
    "id": "LRXab83OECbh"
   },
   "outputs": [],
   "source": [
    "sprinters['100_PR'].var(ddof = 0)\n"
   ]
  },
  {
   "cell_type": "code",
   "execution_count": null,
   "metadata": {
    "id": "fJ2ap6lHECjc"
   },
   "outputs": [],
   "source": [
    "sprinters['100_PR'].std(ddof = 0)\n"
   ]
  },
  {
   "cell_type": "code",
   "execution_count": null,
   "metadata": {
    "id": "NzFQdZ_zECrK"
   },
   "outputs": [],
   "source": [
    "plt.figure(figsize = (10,6))\n",
    "\n",
    "std_plot(sprinters['100_PR'], edgecolor = 'black', linewidth = 2)"
   ]
  },
  {
   "cell_type": "markdown",
   "metadata": {
    "id": "pPNMzEoqFH_6"
   },
   "source": [
    "z-scores"
   ]
  },
  {
   "cell_type": "code",
   "execution_count": null,
   "metadata": {
    "id": "_Gr_VaA_FIjI"
   },
   "outputs": [],
   "source": [
    "sprinters['100_PR_z-score'] = (sprinters['100_PR'] - sprinters['100_PR'].mean()) / sprinters['100_PR'].std(ddof = 0)\n"
   ]
  },
  {
   "cell_type": "code",
   "execution_count": null,
   "metadata": {
    "id": "NARN2qniFIwh"
   },
   "outputs": [],
   "source": [
    "sprinters['100_PR_z-score'].std()\n"
   ]
  },
  {
   "cell_type": "markdown",
   "metadata": {
    "id": "Jl3g82k5GhE4"
   },
   "source": [
    "Let's look at height z-scores for Usain Bolt"
   ]
  },
  {
   "cell_type": "code",
   "execution_count": null,
   "metadata": {
    "id": "Gyoyx7rTGUnv"
   },
   "outputs": [],
   "source": [
    "sprinters.loc[(sprinters.Athlete == 'Usain Bolt')]\n"
   ]
  },
  {
   "cell_type": "markdown",
   "metadata": {
    "id": "lY4PjiLuHCRF"
   },
   "source": [
    "Quartiles and Quantiles/Percentiles\n"
   ]
  },
  {
   "cell_type": "code",
   "execution_count": null,
   "metadata": {
    "id": "o7cxCO2kFI6h"
   },
   "outputs": [],
   "source": [
    "sprinters['100_PR'].quantile(q = 0.25)\n"
   ]
  },
  {
   "cell_type": "code",
   "execution_count": null,
   "metadata": {
    "id": "3WdEN6mYFJEn"
   },
   "outputs": [],
   "source": [
    "sprinters['100_PR'].quantile(q = 0.5)\n"
   ]
  },
  {
   "cell_type": "code",
   "execution_count": null,
   "metadata": {
    "id": "fD7crYnqHNhq"
   },
   "outputs": [],
   "source": [
    "sprinters['100_PR'].quantile(q = 0.75)\n"
   ]
  },
  {
   "cell_type": "code",
   "execution_count": null,
   "metadata": {
    "id": "Z_4vGiWJHPoz"
   },
   "outputs": [],
   "source": [
    "sprinters['100_PR'].describe()\n"
   ]
  },
  {
   "cell_type": "markdown",
   "metadata": {
    "id": "zNZMhujvHhNH"
   },
   "source": [
    "Interquartile Range\n",
    "\n"
   ]
  },
  {
   "cell_type": "code",
   "execution_count": null,
   "metadata": {
    "id": "5lfWw53AHkrA"
   },
   "outputs": [],
   "source": [
    "sprinters['100_PR'].quantile(q = 0.75) - sprinters['100_PR'].quantile(q = 0.25)\n"
   ]
  },
  {
   "cell_type": "code",
   "execution_count": null,
   "metadata": {
    "id": "SiLcJWbpHk5p"
   },
   "outputs": [],
   "source": [
    "plt.figure(figsize = (10,6))\n",
    "\n",
    "iqr_plot(sprinters['100_PR'], bins = 25, edgecolor = 'black', linewidth = 2)"
   ]
  },
  {
   "cell_type": "markdown",
   "metadata": {
    "id": "TRDIwwNOHlZg"
   },
   "source": [
    "Observing Outliers in the Dataset\n",
    "\n"
   ]
  },
  {
   "cell_type": "code",
   "execution_count": null,
   "metadata": {
    "id": "sgAuB4GuHoh6"
   },
   "outputs": [],
   "source": [
    "plt.figure(figsize = (10,6))\n",
    "sns.boxplot(x = sprinters['100_PR']);"
   ]
  },
  {
   "cell_type": "markdown",
   "metadata": {
    "id": "TQuaM5sSIHli"
   },
   "source": [
    "*100m Career Average*"
   ]
  },
  {
   "cell_type": "code",
   "execution_count": null,
   "metadata": {
    "colab": {
     "base_uri": "https://localhost:8080/",
     "height": 141
    },
    "executionInfo": {
     "elapsed": 23,
     "status": "error",
     "timestamp": 1723675265923,
     "user": {
      "displayName": "Johnny Test",
      "userId": "16509896550579327523"
     },
     "user_tz": 240
    },
    "id": "uDFpfCHLdiaD",
    "outputId": "de59986e-b480-4209-a89c-86392ee28332"
   },
   "outputs": [
    {
     "ename": "NameError",
     "evalue": "name 'sprinters' is not defined",
     "output_type": "error",
     "traceback": [
      "\u001b[0;31m---------------------------------------------------------------------------\u001b[0m",
      "\u001b[0;31mNameError\u001b[0m                                 Traceback (most recent call last)",
      "\u001b[0;32m<ipython-input-1-b761d6f95485>\u001b[0m in \u001b[0;36m<cell line: 1>\u001b[0;34m()\u001b[0m\n\u001b[0;32m----> 1\u001b[0;31m \u001b[0msprinters\u001b[0m\u001b[0;34m[\u001b[0m\u001b[0;34m'100_PR'\u001b[0m\u001b[0;34m]\u001b[0m\u001b[0;34m.\u001b[0m\u001b[0mmean\u001b[0m\u001b[0;34m(\u001b[0m\u001b[0;34m)\u001b[0m\u001b[0;34m\u001b[0m\u001b[0;34m\u001b[0m\u001b[0m\n\u001b[0m",
      "\u001b[0;31mNameError\u001b[0m: name 'sprinters' is not defined"
     ]
    }
   ],
   "source": [
    "sprinters['Avg Season Best 100m'].mean()"
   ]
  },
  {
   "cell_type": "code",
   "execution_count": null,
   "metadata": {
    "id": "tZqDG7jZdiaH"
   },
   "outputs": [],
   "source": [
    "sprinters['Avg Season Best 100m'].median()"
   ]
  },
  {
   "cell_type": "code",
   "execution_count": null,
   "metadata": {
    "id": "F-HMbmCediaI"
   },
   "outputs": [],
   "source": [
    "sprinters['Avg Season Best 100m'].max()"
   ]
  },
  {
   "cell_type": "code",
   "execution_count": null,
   "metadata": {
    "id": "fv5eQFDpdiaJ"
   },
   "outputs": [],
   "source": [
    "sprinters.nlargest(1,'Avg Season Best 100m')"
   ]
  },
  {
   "cell_type": "code",
   "execution_count": null,
   "metadata": {
    "id": "-6czd82qdiaJ"
   },
   "outputs": [],
   "source": [
    "sprinters.nsmallest(1,'Avg Season Best 100m')"
   ]
  },
  {
   "cell_type": "code",
   "execution_count": null,
   "metadata": {
    "id": "wxMC8rTpdiaK"
   },
   "outputs": [],
   "source": [
    "sprinters['100_PR'].max()- sprinters['Avg Season Best 100m'].min()\n"
   ]
  },
  {
   "cell_type": "markdown",
   "metadata": {
    "id": "Tu9dG_wAdiaL"
   },
   "source": [
    "Variance and Standard Devivation\n"
   ]
  },
  {
   "cell_type": "code",
   "execution_count": null,
   "metadata": {
    "id": "CDHVaxYjdiaL"
   },
   "outputs": [],
   "source": [
    "sprinters['100_PR_AVG_deviation'] = sprinters['Avg Season Best 100m'] - sprinters['Avg Season Best 100m'].mean()\n",
    "sprinters.head()"
   ]
  },
  {
   "cell_type": "code",
   "execution_count": null,
   "metadata": {
    "id": "gQ_4X-4BdiaM"
   },
   "outputs": [],
   "source": [
    "sprinters['Avg Season Best 100m'].std()\n"
   ]
  },
  {
   "cell_type": "code",
   "execution_count": null,
   "metadata": {
    "id": "3SdebwKKdiaN"
   },
   "outputs": [],
   "source": [
    "sprinters['100_PR_AVG_deviation'].mean()\n"
   ]
  },
  {
   "cell_type": "code",
   "execution_count": null,
   "metadata": {
    "id": "1jvSq0ymdiaO"
   },
   "outputs": [],
   "source": [
    "sprinters['squared_100_PR_AVG_deviation'] = sprinters['100_PR_AVG_deviation']**2\n",
    "sprinters"
   ]
  },
  {
   "cell_type": "markdown",
   "metadata": {
    "id": "jUjF4B1SdiaO"
   },
   "source": [
    "Population Standard Deviation\n",
    "\n"
   ]
  },
  {
   "cell_type": "code",
   "execution_count": null,
   "metadata": {
    "id": "dbT7RhL9diaP"
   },
   "outputs": [],
   "source": [
    "np.sqrt(sprinters['squared_100_PR_AVG_deviation'].mean())"
   ]
  },
  {
   "cell_type": "code",
   "execution_count": null,
   "metadata": {
    "id": "IuT7WsF-diaP"
   },
   "outputs": [],
   "source": [
    "sprinters['Avg Season Best 100m'].var(ddof = 0)\n"
   ]
  },
  {
   "cell_type": "code",
   "execution_count": null,
   "metadata": {
    "id": "Blw89IWJdiaQ"
   },
   "outputs": [],
   "source": [
    "sprinters['Avg Season Best 100m'].std(ddof = 0)\n"
   ]
  },
  {
   "cell_type": "code",
   "execution_count": null,
   "metadata": {
    "id": "ZNNuD9sKdiaQ"
   },
   "outputs": [],
   "source": [
    "plt.figure(figsize = (10,6))\n",
    "\n",
    "std_plot(sprinters['Avg Season Best 100m'], edgecolor = 'black', linewidth = 2)"
   ]
  },
  {
   "cell_type": "markdown",
   "metadata": {
    "id": "4PhM9bwddiaQ"
   },
   "source": [
    "z-scores"
   ]
  },
  {
   "cell_type": "code",
   "execution_count": null,
   "metadata": {
    "id": "7RfQbJfYdiaR"
   },
   "outputs": [],
   "source": [
    "sprinters['100_PR_AVG_z-score'] = (sprinters['100_PR'] - sprinters['Avg Season Best 100m'].mean()) / sprinters['Avg Season Best 100m'].std(ddof = 0)\n"
   ]
  },
  {
   "cell_type": "code",
   "execution_count": null,
   "metadata": {
    "id": "9QpjlBGzdiaR"
   },
   "outputs": [],
   "source": [
    "sprinters['100_PR_AVG_z-score'].std()\n"
   ]
  },
  {
   "cell_type": "markdown",
   "metadata": {
    "id": "oZaqgdz3diaR"
   },
   "source": [
    "Let's look at height z-scores for Usain Bolt"
   ]
  },
  {
   "cell_type": "code",
   "execution_count": null,
   "metadata": {
    "id": "wh6X4ve3diaS"
   },
   "outputs": [],
   "source": [
    "sprinters.loc[(sprinters.Athlete == 'Usain Bolt')]\n"
   ]
  },
  {
   "cell_type": "markdown",
   "metadata": {
    "id": "_NtCk7WvdiaS"
   },
   "source": [
    "Quartiles and Quantiles/Percentiles\n"
   ]
  },
  {
   "cell_type": "code",
   "execution_count": null,
   "metadata": {
    "id": "YH_IOSYqdiaS"
   },
   "outputs": [],
   "source": [
    "sprinters['Avg Season Best 100m'].quantile(q = 0.25)\n"
   ]
  },
  {
   "cell_type": "code",
   "execution_count": null,
   "metadata": {
    "id": "FYUzAVR5diaT"
   },
   "outputs": [],
   "source": [
    "sprinters['Avg Season Best 100m'].quantile(q = 0.5)\n"
   ]
  },
  {
   "cell_type": "code",
   "execution_count": null,
   "metadata": {
    "id": "amQh3KpPdiaT"
   },
   "outputs": [],
   "source": [
    "sprinters['Avg Season Best 100m'].quantile(q = 0.75)\n"
   ]
  },
  {
   "cell_type": "code",
   "execution_count": null,
   "metadata": {
    "id": "UHcTCU85diaT"
   },
   "outputs": [],
   "source": [
    "sprinters['Avg Season Best 100m'].describe()\n"
   ]
  },
  {
   "cell_type": "markdown",
   "metadata": {
    "id": "xpNitmiYdiaU"
   },
   "source": [
    "Interquartile Range\n",
    "\n"
   ]
  },
  {
   "cell_type": "code",
   "execution_count": null,
   "metadata": {
    "id": "lQfPm2a9diaU"
   },
   "outputs": [],
   "source": [
    "sprinters['Avg Season Best 100m'].quantile(q = 0.75) - sprinters['Avg Season Best 100m'].quantile(q = 0.25)\n"
   ]
  },
  {
   "cell_type": "code",
   "execution_count": null,
   "metadata": {
    "id": "oe00W5BudiaU"
   },
   "outputs": [],
   "source": [
    "plt.figure(figsize = (10,6))\n",
    "\n",
    "iqr_plot(sprinters['Avg Season Best 100m'], bins = 25, edgecolor = 'black', linewidth = 2)"
   ]
  },
  {
   "cell_type": "markdown",
   "metadata": {
    "id": "Jz5k4NlZdiaU"
   },
   "source": [
    "Observing Outliers in the Dataset\n",
    "\n"
   ]
  },
  {
   "cell_type": "code",
   "execution_count": null,
   "metadata": {
    "id": "K_Vh3PGRdiaV"
   },
   "outputs": [],
   "source": [
    "plt.figure(figsize = (10,6))\n",
    "sns.boxplot(x = sprinters['Avg Season Best 100m']);"
   ]
  },
  {
   "cell_type": "markdown",
   "metadata": {
    "id": "pKucgWlufqTl"
   },
   "source": [
    "**200m**"
   ]
  },
  {
   "cell_type": "markdown",
   "metadata": {
    "id": "dmjCJSK3fqT8"
   },
   "source": [
    "*PRs*"
   ]
  },
  {
   "cell_type": "code",
   "execution_count": null,
   "metadata": {
    "colab": {
     "base_uri": "https://localhost:8080/",
     "height": 141
    },
    "executionInfo": {
     "elapsed": 23,
     "status": "error",
     "timestamp": 1723675265923,
     "user": {
      "displayName": "Johnny Test",
      "userId": "16509896550579327523"
     },
     "user_tz": 240
    },
    "id": "NnQpZZCBfqT9",
    "outputId": "de59986e-b480-4209-a89c-86392ee28332"
   },
   "outputs": [
    {
     "ename": "NameError",
     "evalue": "name 'sprinters' is not defined",
     "output_type": "error",
     "traceback": [
      "\u001b[0;31m---------------------------------------------------------------------------\u001b[0m",
      "\u001b[0;31mNameError\u001b[0m                                 Traceback (most recent call last)",
      "\u001b[0;32m<ipython-input-1-b761d6f95485>\u001b[0m in \u001b[0;36m<cell line: 1>\u001b[0;34m()\u001b[0m\n\u001b[0;32m----> 1\u001b[0;31m \u001b[0msprinters\u001b[0m\u001b[0;34m[\u001b[0m\u001b[0;34m'100_PR'\u001b[0m\u001b[0;34m]\u001b[0m\u001b[0;34m.\u001b[0m\u001b[0mmean\u001b[0m\u001b[0;34m(\u001b[0m\u001b[0;34m)\u001b[0m\u001b[0;34m\u001b[0m\u001b[0;34m\u001b[0m\u001b[0m\n\u001b[0m",
      "\u001b[0;31mNameError\u001b[0m: name 'sprinters' is not defined"
     ]
    }
   ],
   "source": [
    "sprinters['200_PR'].mean()"
   ]
  },
  {
   "cell_type": "code",
   "execution_count": null,
   "metadata": {
    "id": "JNmieTqvfqT-"
   },
   "outputs": [],
   "source": [
    "sprinters['200_PR'].median()"
   ]
  },
  {
   "cell_type": "code",
   "execution_count": null,
   "metadata": {
    "id": "PYGv1mUJfqT_"
   },
   "outputs": [],
   "source": [
    "sprinters['200_PR'].max()"
   ]
  },
  {
   "cell_type": "code",
   "execution_count": null,
   "metadata": {
    "id": "P6-RHsr2fqT_"
   },
   "outputs": [],
   "source": [
    "sprinters.nlargest(1,'200_PR')"
   ]
  },
  {
   "cell_type": "code",
   "execution_count": null,
   "metadata": {
    "id": "DVmsZ4rXfqT_"
   },
   "outputs": [],
   "source": [
    "sprinters.nsmallest(1,'200_PR')"
   ]
  },
  {
   "cell_type": "code",
   "execution_count": null,
   "metadata": {
    "id": "7XdU1Kw3fqUA"
   },
   "outputs": [],
   "source": [
    "sprinters['200_PR'].max()- sprinters['200_PR'].min()\n"
   ]
  },
  {
   "cell_type": "markdown",
   "metadata": {
    "id": "z5wkMyrPfqUA"
   },
   "source": [
    "Variance and Standard Devivation\n"
   ]
  },
  {
   "cell_type": "code",
   "execution_count": null,
   "metadata": {
    "id": "S4gAEdvIfqUA"
   },
   "outputs": [],
   "source": [
    "sprinters['200_PR_deviation'] = sprinters['200_PR'] - sprinters['200_PR'].mean()\n",
    "sprinters.head()"
   ]
  },
  {
   "cell_type": "code",
   "execution_count": null,
   "metadata": {
    "id": "xKu3IKEifqUB"
   },
   "outputs": [],
   "source": [
    "sprinters['200_PR'].std()\n"
   ]
  },
  {
   "cell_type": "code",
   "execution_count": null,
   "metadata": {
    "id": "K_9psbNHfqUB"
   },
   "outputs": [],
   "source": [
    "sprinters['100_PR_deviation'].mean()\n"
   ]
  },
  {
   "cell_type": "code",
   "execution_count": null,
   "metadata": {
    "id": "_pWuGnYTfqUB"
   },
   "outputs": [],
   "source": [
    "sprinters['squared_200_PR_deviation'] = sprinters['200_PR_deviation']**2\n",
    "sprinters"
   ]
  },
  {
   "cell_type": "markdown",
   "metadata": {
    "id": "TaUmzj3vfqUC"
   },
   "source": [
    "Population Standard Deviation\n",
    "\n"
   ]
  },
  {
   "cell_type": "code",
   "execution_count": null,
   "metadata": {
    "id": "mWim4SBqfqUC"
   },
   "outputs": [],
   "source": [
    "np.sqrt(sprinters['squared_200_PR_deviation'].mean())"
   ]
  },
  {
   "cell_type": "code",
   "execution_count": null,
   "metadata": {
    "id": "HRY-JIc5fqUC"
   },
   "outputs": [],
   "source": [
    "sprinters['200_PR'].var(ddof = 0)\n"
   ]
  },
  {
   "cell_type": "code",
   "execution_count": null,
   "metadata": {
    "id": "Q9kIBXTWfqUD"
   },
   "outputs": [],
   "source": [
    "sprinters['200_PR'].std(ddof = 0)\n"
   ]
  },
  {
   "cell_type": "code",
   "execution_count": null,
   "metadata": {
    "id": "zxDZBEj3fqUD"
   },
   "outputs": [],
   "source": [
    "plt.figure(figsize = (10,6))\n",
    "\n",
    "std_plot(sprinters['200_PR'], edgecolor = 'black', linewidth = 2)"
   ]
  },
  {
   "cell_type": "markdown",
   "metadata": {
    "id": "ZL2DlhyzfqUD"
   },
   "source": [
    "z-scores"
   ]
  },
  {
   "cell_type": "code",
   "execution_count": null,
   "metadata": {
    "id": "47rEEynIfqUE"
   },
   "outputs": [],
   "source": [
    "sprinters['200_PR_z-score'] = (sprinters['200_PR'] - sprinters['200_PR'].mean()) / sprinters['200_PR'].std(ddof = 0)\n"
   ]
  },
  {
   "cell_type": "code",
   "execution_count": null,
   "metadata": {
    "id": "lXxNqDblfqUE"
   },
   "outputs": [],
   "source": [
    "sprinters['200_PR_z-score'].std()\n"
   ]
  },
  {
   "cell_type": "markdown",
   "metadata": {
    "id": "YKq9m453fqUF"
   },
   "source": [
    "Let's look at height z-scores for Usain Bolt"
   ]
  },
  {
   "cell_type": "code",
   "execution_count": null,
   "metadata": {
    "id": "DPBBSn6pfqUF"
   },
   "outputs": [],
   "source": [
    "sprinters.loc[(sprinters.Athlete == 'Usain Bolt')]\n"
   ]
  },
  {
   "cell_type": "markdown",
   "metadata": {
    "id": "fJsmIiFbfqUG"
   },
   "source": [
    "Quartiles and Quantiles/Percentiles\n"
   ]
  },
  {
   "cell_type": "code",
   "execution_count": null,
   "metadata": {
    "id": "0PGjuwtgfqUG"
   },
   "outputs": [],
   "source": [
    "sprinters['200_PR'].quantile(q = 0.25)\n"
   ]
  },
  {
   "cell_type": "code",
   "execution_count": null,
   "metadata": {
    "id": "hsP-scnafqUG"
   },
   "outputs": [],
   "source": [
    "sprinters['200_PR'].quantile(q = 0.5)\n"
   ]
  },
  {
   "cell_type": "code",
   "execution_count": null,
   "metadata": {
    "id": "ycK7K8z-fqUH"
   },
   "outputs": [],
   "source": [
    "sprinters['200_PR'].quantile(q = 0.75)\n"
   ]
  },
  {
   "cell_type": "code",
   "execution_count": null,
   "metadata": {
    "id": "oSXPAcy4fqUH"
   },
   "outputs": [],
   "source": [
    "sprinters['200_PR'].describe()\n"
   ]
  },
  {
   "cell_type": "markdown",
   "metadata": {
    "id": "hQs0HYpGfqUH"
   },
   "source": [
    "Interquartile Range\n",
    "\n"
   ]
  },
  {
   "cell_type": "code",
   "execution_count": null,
   "metadata": {
    "id": "6tZmCrOIfqUI"
   },
   "outputs": [],
   "source": [
    "sprinters['200_PR'].quantile(q = 0.75) - sprinters['200_PR'].quantile(q = 0.25)\n"
   ]
  },
  {
   "cell_type": "code",
   "execution_count": null,
   "metadata": {
    "id": "p7D9_wV1fqUI"
   },
   "outputs": [],
   "source": [
    "plt.figure(figsize = (10,6))\n",
    "\n",
    "iqr_plot(sprinters['200_PR'], bins = 25, edgecolor = 'black', linewidth = 2)"
   ]
  },
  {
   "cell_type": "markdown",
   "metadata": {
    "id": "J6j7uXnafqUJ"
   },
   "source": [
    "Observing Outliers in the Dataset\n",
    "\n"
   ]
  },
  {
   "cell_type": "code",
   "execution_count": null,
   "metadata": {
    "id": "PAqP17WJfqUJ"
   },
   "outputs": [],
   "source": [
    "plt.figure(figsize = (10,6))\n",
    "sns.boxplot(x = sprinters['200_PR']);"
   ]
  },
  {
   "cell_type": "markdown",
   "metadata": {
    "id": "Kw_Dj1F5fqUJ"
   },
   "source": [
    " *200m Career Average*"
   ]
  },
  {
   "cell_type": "code",
   "execution_count": null,
   "metadata": {
    "colab": {
     "base_uri": "https://localhost:8080/",
     "height": 141
    },
    "executionInfo": {
     "elapsed": 23,
     "status": "error",
     "timestamp": 1723675265923,
     "user": {
      "displayName": "Johnny Test",
      "userId": "16509896550579327523"
     },
     "user_tz": 240
    },
    "id": "zXh2cSzffqUK",
    "outputId": "de59986e-b480-4209-a89c-86392ee28332"
   },
   "outputs": [
    {
     "ename": "NameError",
     "evalue": "name 'sprinters' is not defined",
     "output_type": "error",
     "traceback": [
      "\u001b[0;31m---------------------------------------------------------------------------\u001b[0m",
      "\u001b[0;31mNameError\u001b[0m                                 Traceback (most recent call last)",
      "\u001b[0;32m<ipython-input-1-b761d6f95485>\u001b[0m in \u001b[0;36m<cell line: 1>\u001b[0;34m()\u001b[0m\n\u001b[0;32m----> 1\u001b[0;31m \u001b[0msprinters\u001b[0m\u001b[0;34m[\u001b[0m\u001b[0;34m'100_PR'\u001b[0m\u001b[0;34m]\u001b[0m\u001b[0;34m.\u001b[0m\u001b[0mmean\u001b[0m\u001b[0;34m(\u001b[0m\u001b[0;34m)\u001b[0m\u001b[0;34m\u001b[0m\u001b[0;34m\u001b[0m\u001b[0m\n\u001b[0m",
      "\u001b[0;31mNameError\u001b[0m: name 'sprinters' is not defined"
     ]
    }
   ],
   "source": [
    "sprinters['Avg Season Best 200m'].mean()"
   ]
  },
  {
   "cell_type": "code",
   "execution_count": null,
   "metadata": {
    "id": "bhCZeP4AfqUK"
   },
   "outputs": [],
   "source": [
    "sprinters['Avg Season Best 200m'].median()"
   ]
  },
  {
   "cell_type": "code",
   "execution_count": null,
   "metadata": {
    "id": "NscpSthXfqUK"
   },
   "outputs": [],
   "source": [
    "sprinters['Avg Season Best 200m'].max()"
   ]
  },
  {
   "cell_type": "code",
   "execution_count": null,
   "metadata": {
    "id": "wEbEIPJrfqUL"
   },
   "outputs": [],
   "source": [
    "sprinters.nlargest(1,'Avg Season Best 200m')"
   ]
  },
  {
   "cell_type": "code",
   "execution_count": null,
   "metadata": {
    "id": "eIJwNi_4fqUL"
   },
   "outputs": [],
   "source": [
    "sprinters.nsmallest(1,'Avg Season Best 100m')"
   ]
  },
  {
   "cell_type": "code",
   "execution_count": null,
   "metadata": {
    "id": "1jQvMMVmfqUL"
   },
   "outputs": [],
   "source": [
    "sprinters['200_PR'].max()- sprinters['Avg Season Best 200m'].min()\n"
   ]
  },
  {
   "cell_type": "markdown",
   "metadata": {
    "id": "xkSXYwPgfqUM"
   },
   "source": [
    "Variance and Standard Devivation\n"
   ]
  },
  {
   "cell_type": "code",
   "execution_count": null,
   "metadata": {
    "id": "l6Msxm4ffqUM"
   },
   "outputs": [],
   "source": [
    "sprinters['200_PR_AVG_deviation'] = sprinters['Avg Season Best 200m'] - sprinters['Avg Season Best 200m'].mean()\n",
    "sprinters.head()"
   ]
  },
  {
   "cell_type": "code",
   "execution_count": null,
   "metadata": {
    "id": "SnFnnX1wfqUM"
   },
   "outputs": [],
   "source": [
    "sprinters['Avg Season Best 200m'].std()\n"
   ]
  },
  {
   "cell_type": "code",
   "execution_count": null,
   "metadata": {
    "id": "7Sn4aO9mfqUN"
   },
   "outputs": [],
   "source": [
    "sprinters['200_PR_AVG_deviation'].mean()\n"
   ]
  },
  {
   "cell_type": "code",
   "execution_count": null,
   "metadata": {
    "id": "YXzFZhCafqUN"
   },
   "outputs": [],
   "source": [
    "sprinters['squared_200_PR_AVG_deviation'] = sprinters['200_PR_AVG_deviation']**2\n",
    "sprinters"
   ]
  },
  {
   "cell_type": "markdown",
   "metadata": {
    "id": "C5d202w4fqUN"
   },
   "source": [
    "Population Standard Deviation\n",
    "\n"
   ]
  },
  {
   "cell_type": "code",
   "execution_count": null,
   "metadata": {
    "id": "ySCi1CWkfqUO"
   },
   "outputs": [],
   "source": [
    "np.sqrt(sprinters['squared_200_PR_AVG_deviation'].mean())"
   ]
  },
  {
   "cell_type": "code",
   "execution_count": null,
   "metadata": {
    "id": "aT5QYp6qfqUO"
   },
   "outputs": [],
   "source": [
    "sprinters['Avg Season Best 200m'].var(ddof = 0)\n"
   ]
  },
  {
   "cell_type": "code",
   "execution_count": null,
   "metadata": {
    "id": "EstZWkhOfqUO"
   },
   "outputs": [],
   "source": [
    "sprinters['Avg Season Best 200m'].std(ddof = 0)\n"
   ]
  },
  {
   "cell_type": "code",
   "execution_count": null,
   "metadata": {
    "id": "YiOhszmBfqUP"
   },
   "outputs": [],
   "source": [
    "plt.figure(figsize = (10,6))\n",
    "\n",
    "std_plot(sprinters['Avg Season Best 200m'], edgecolor = 'black', linewidth = 2)"
   ]
  },
  {
   "cell_type": "markdown",
   "metadata": {
    "id": "1jtj_Y6CfqUP"
   },
   "source": [
    "z-scores"
   ]
  },
  {
   "cell_type": "code",
   "execution_count": null,
   "metadata": {
    "id": "VvgSShe5fqUP"
   },
   "outputs": [],
   "source": [
    "sprinters['200_PR_AVG_z-score'] = (sprinters['200_PR'] - sprinters['Avg Season Best 200m'].mean()) / sprinters['Avg Season Best 200m'].std(ddof = 0)\n"
   ]
  },
  {
   "cell_type": "code",
   "execution_count": null,
   "metadata": {
    "id": "utZzV14lfqUQ"
   },
   "outputs": [],
   "source": [
    "sprinters['200_PR_AVG_z-score'].std()\n"
   ]
  },
  {
   "cell_type": "markdown",
   "metadata": {
    "id": "fnUZUa4jfqUQ"
   },
   "source": [
    "Let's look at height z-scores for Usain Bolt"
   ]
  },
  {
   "cell_type": "code",
   "execution_count": null,
   "metadata": {
    "id": "88vhioYsfqUR"
   },
   "outputs": [],
   "source": [
    "sprinters.loc[(sprinters.Athlete == 'Usain Bolt')]\n"
   ]
  },
  {
   "cell_type": "markdown",
   "metadata": {
    "id": "6RKq-tGtfqUR"
   },
   "source": [
    "Quartiles and Quantiles/Percentiles\n"
   ]
  },
  {
   "cell_type": "code",
   "execution_count": null,
   "metadata": {
    "id": "AYdQLEQdfqUR"
   },
   "outputs": [],
   "source": [
    "sprinters['Avg Season Best 200m'].quantile(q = 0.25)\n"
   ]
  },
  {
   "cell_type": "code",
   "execution_count": null,
   "metadata": {
    "id": "MS4m6GGAfqUS"
   },
   "outputs": [],
   "source": [
    "sprinters['Avg Season Best 200m'].quantile(q = 0.5)\n"
   ]
  },
  {
   "cell_type": "code",
   "execution_count": null,
   "metadata": {
    "id": "v7Z2k55mfqUS"
   },
   "outputs": [],
   "source": [
    "sprinters['Avg Season Best 200m'].quantile(q = 0.75)\n"
   ]
  },
  {
   "cell_type": "code",
   "execution_count": null,
   "metadata": {
    "id": "7tCwGTycfqUS"
   },
   "outputs": [],
   "source": [
    "sprinters['Avg Season Best 200m'].describe()\n"
   ]
  },
  {
   "cell_type": "markdown",
   "metadata": {
    "id": "-qtD_6dzfqUT"
   },
   "source": [
    "Interquartile Range\n",
    "\n"
   ]
  },
  {
   "cell_type": "code",
   "execution_count": null,
   "metadata": {
    "id": "i2zW-YqmfqUT"
   },
   "outputs": [],
   "source": [
    "sprinters['Avg Season Best 200m'].quantile(q = 0.75) - sprinters['Avg Season Best 200m'].quantile(q = 0.25)\n"
   ]
  },
  {
   "cell_type": "code",
   "execution_count": null,
   "metadata": {
    "id": "4_PkNX_ofqUT"
   },
   "outputs": [],
   "source": [
    "plt.figure(figsize = (10,6))\n",
    "\n",
    "iqr_plot(sprinters['Avg Season Best 200m'], bins = 25, edgecolor = 'black', linewidth = 2)"
   ]
  },
  {
   "cell_type": "markdown",
   "metadata": {
    "id": "vM49IGKHfqUU"
   },
   "source": [
    "Observing Outliers in the Dataset\n",
    "\n"
   ]
  },
  {
   "cell_type": "code",
   "execution_count": null,
   "metadata": {
    "id": "OizjS3H2fqUU"
   },
   "outputs": [],
   "source": [
    "plt.figure(figsize = (10,6))\n",
    "sns.boxplot(x = sprinters['Avg Season Best 200m']);"
   ]
  },
  {
   "cell_type": "markdown",
   "metadata": {
    "id": "JIdUy8qvfvM8"
   },
   "source": [
    "**400m**"
   ]
  },
  {
   "cell_type": "markdown",
   "metadata": {
    "id": "zQs6fjLOfvNl"
   },
   "source": [
    "*PRs*"
   ]
  },
  {
   "cell_type": "code",
   "execution_count": null,
   "metadata": {
    "colab": {
     "base_uri": "https://localhost:8080/",
     "height": 141
    },
    "executionInfo": {
     "elapsed": 23,
     "status": "error",
     "timestamp": 1723675265923,
     "user": {
      "displayName": "Johnny Test",
      "userId": "16509896550579327523"
     },
     "user_tz": 240
    },
    "id": "rV3XMT77fvNl",
    "outputId": "de59986e-b480-4209-a89c-86392ee28332"
   },
   "outputs": [
    {
     "ename": "NameError",
     "evalue": "name 'sprinters' is not defined",
     "output_type": "error",
     "traceback": [
      "\u001b[0;31m---------------------------------------------------------------------------\u001b[0m",
      "\u001b[0;31mNameError\u001b[0m                                 Traceback (most recent call last)",
      "\u001b[0;32m<ipython-input-1-b761d6f95485>\u001b[0m in \u001b[0;36m<cell line: 1>\u001b[0;34m()\u001b[0m\n\u001b[0;32m----> 1\u001b[0;31m \u001b[0msprinters\u001b[0m\u001b[0;34m[\u001b[0m\u001b[0;34m'100_PR'\u001b[0m\u001b[0;34m]\u001b[0m\u001b[0;34m.\u001b[0m\u001b[0mmean\u001b[0m\u001b[0;34m(\u001b[0m\u001b[0;34m)\u001b[0m\u001b[0;34m\u001b[0m\u001b[0;34m\u001b[0m\u001b[0m\n\u001b[0m",
      "\u001b[0;31mNameError\u001b[0m: name 'sprinters' is not defined"
     ]
    }
   ],
   "source": [
    "sprinters['400_PR'].mean()"
   ]
  },
  {
   "cell_type": "code",
   "execution_count": null,
   "metadata": {
    "id": "rBicwme8fvNm"
   },
   "outputs": [],
   "source": [
    "sprinters['400_PR'].median()"
   ]
  },
  {
   "cell_type": "code",
   "execution_count": null,
   "metadata": {
    "id": "rFUyGlx5fvNm"
   },
   "outputs": [],
   "source": [
    "sprinters['400_PR'].max()"
   ]
  },
  {
   "cell_type": "code",
   "execution_count": null,
   "metadata": {
    "id": "wBdAUHbffvNn"
   },
   "outputs": [],
   "source": [
    "sprinters.nlargest(1,'400_PR')"
   ]
  },
  {
   "cell_type": "code",
   "execution_count": null,
   "metadata": {
    "id": "jDSOU1HbfvNn"
   },
   "outputs": [],
   "source": [
    "sprinters.nsmallest(1,'400_PR')"
   ]
  },
  {
   "cell_type": "code",
   "execution_count": null,
   "metadata": {
    "id": "G7ZgYXEffvNn"
   },
   "outputs": [],
   "source": [
    "sprinters['400_PR'].max()- sprinters['400_PR'].min()\n"
   ]
  },
  {
   "cell_type": "markdown",
   "metadata": {
    "id": "7KCtDBSwfvNn"
   },
   "source": [
    "Variance and Standard Devivation\n"
   ]
  },
  {
   "cell_type": "code",
   "execution_count": null,
   "metadata": {
    "id": "L3W_79FGfvNo"
   },
   "outputs": [],
   "source": [
    "sprinters['400_PR_deviation'] = sprinters['400_PR'] - sprinters['400_PR'].mean()\n",
    "sprinters.head()"
   ]
  },
  {
   "cell_type": "code",
   "execution_count": null,
   "metadata": {
    "id": "t9-3Rth5fvNo"
   },
   "outputs": [],
   "source": [
    "sprinters['400_PR'].std()\n"
   ]
  },
  {
   "cell_type": "code",
   "execution_count": null,
   "metadata": {
    "id": "Crg6TuvMfvNo"
   },
   "outputs": [],
   "source": [
    "sprinters['400_PR_deviation'].mean()\n"
   ]
  },
  {
   "cell_type": "code",
   "execution_count": null,
   "metadata": {
    "id": "TUfy4HNQfvNo"
   },
   "outputs": [],
   "source": [
    "sprinters['squared_400_PR_deviation'] = sprinters['400_PR_deviation']**2\n",
    "sprinters"
   ]
  },
  {
   "cell_type": "markdown",
   "metadata": {
    "id": "arnUeXVWfvNp"
   },
   "source": [
    "Population Standard Deviation\n",
    "\n"
   ]
  },
  {
   "cell_type": "code",
   "execution_count": null,
   "metadata": {
    "id": "4A5MXU51fvNp"
   },
   "outputs": [],
   "source": [
    "np.sqrt(sprinters['squared_400_PR_deviation'].mean())"
   ]
  },
  {
   "cell_type": "code",
   "execution_count": null,
   "metadata": {
    "id": "9DJy131SfvNp"
   },
   "outputs": [],
   "source": [
    "sprinters['400_PR'].var(ddof = 0)\n"
   ]
  },
  {
   "cell_type": "code",
   "execution_count": null,
   "metadata": {
    "id": "RAEGOBGQfvNp"
   },
   "outputs": [],
   "source": [
    "sprinters['400_PR'].std(ddof = 0)\n"
   ]
  },
  {
   "cell_type": "code",
   "execution_count": null,
   "metadata": {
    "id": "5iXizj6DfvNp"
   },
   "outputs": [],
   "source": [
    "plt.figure(figsize = (10,6))\n",
    "\n",
    "std_plot(sprinters['400_PR'], edgecolor = 'black', linewidth = 2)"
   ]
  },
  {
   "cell_type": "markdown",
   "metadata": {
    "id": "LOHJcxTifvNq"
   },
   "source": [
    "z-scores"
   ]
  },
  {
   "cell_type": "code",
   "execution_count": null,
   "metadata": {
    "id": "KT-IFK65fvNq"
   },
   "outputs": [],
   "source": [
    "sprinters['400_PR_z-score'] = (sprinters['400_PR'] - sprinters['400_PR'].mean()) / sprinters['400_PR'].std(ddof = 0)\n"
   ]
  },
  {
   "cell_type": "code",
   "execution_count": null,
   "metadata": {
    "id": "JqA8JH2JfvNq"
   },
   "outputs": [],
   "source": [
    "sprinters['400_PR_z-score'].std()\n"
   ]
  },
  {
   "cell_type": "markdown",
   "metadata": {
    "id": "tc4A1DnnfvNq"
   },
   "source": [
    "Let's look at height z-scores for Usain Bolt"
   ]
  },
  {
   "cell_type": "code",
   "execution_count": null,
   "metadata": {
    "id": "f-c6UBHefvNr"
   },
   "outputs": [],
   "source": [
    "sprinters.loc[(sprinters.Athlete == 'Usain Bolt')]\n"
   ]
  },
  {
   "cell_type": "markdown",
   "metadata": {
    "id": "Hfua3PBCfvNr"
   },
   "source": [
    "Quartiles and Quantiles/Percentiles\n"
   ]
  },
  {
   "cell_type": "code",
   "execution_count": null,
   "metadata": {
    "id": "wUVvE8mqfvNr"
   },
   "outputs": [],
   "source": [
    "sprinters['400_PR'].quantile(q = 0.25)\n"
   ]
  },
  {
   "cell_type": "code",
   "execution_count": null,
   "metadata": {
    "id": "rP218_W_fvNr"
   },
   "outputs": [],
   "source": [
    "sprinters['400_PR'].quantile(q = 0.5)\n"
   ]
  },
  {
   "cell_type": "code",
   "execution_count": null,
   "metadata": {
    "id": "eNkkfYSGfvNr"
   },
   "outputs": [],
   "source": [
    "sprinters['400_PR'].quantile(q = 0.75)\n"
   ]
  },
  {
   "cell_type": "code",
   "execution_count": null,
   "metadata": {
    "id": "Trj-My3IfvNs"
   },
   "outputs": [],
   "source": [
    "sprinters['400_PR'].describe()\n"
   ]
  },
  {
   "cell_type": "markdown",
   "metadata": {
    "id": "AJDTvHSgfvNs"
   },
   "source": [
    "Interquartile Range\n",
    "\n"
   ]
  },
  {
   "cell_type": "code",
   "execution_count": null,
   "metadata": {
    "id": "8M-eG9_nfvNs"
   },
   "outputs": [],
   "source": [
    "sprinters['400_PR'].quantile(q = 0.75) - sprinters['400_PR'].quantile(q = 0.25)\n"
   ]
  },
  {
   "cell_type": "code",
   "execution_count": null,
   "metadata": {
    "id": "iMAJHB3VfvNs"
   },
   "outputs": [],
   "source": [
    "plt.figure(figsize = (10,6))\n",
    "\n",
    "iqr_plot(sprinters['400_PR'], bins = 25, edgecolor = 'black', linewidth = 2)"
   ]
  },
  {
   "cell_type": "markdown",
   "metadata": {
    "id": "JcLstpoZfvNt"
   },
   "source": [
    "Observing Outliers in the Dataset\n",
    "\n"
   ]
  },
  {
   "cell_type": "code",
   "execution_count": null,
   "metadata": {
    "id": "uOQ8IK9kfvNt"
   },
   "outputs": [],
   "source": [
    "plt.figure(figsize = (10,6))\n",
    "sns.boxplot(x = sprinters['400_PR']);"
   ]
  },
  {
   "cell_type": "markdown",
   "metadata": {
    "id": "tzH-0nEzfvNt"
   },
   "source": [
    "*400m Career Average*"
   ]
  },
  {
   "cell_type": "code",
   "execution_count": null,
   "metadata": {
    "colab": {
     "base_uri": "https://localhost:8080/",
     "height": 141
    },
    "executionInfo": {
     "elapsed": 23,
     "status": "error",
     "timestamp": 1723675265923,
     "user": {
      "displayName": "Johnny Test",
      "userId": "16509896550579327523"
     },
     "user_tz": 240
    },
    "id": "eD6IL9bdfvNu",
    "outputId": "de59986e-b480-4209-a89c-86392ee28332"
   },
   "outputs": [
    {
     "ename": "NameError",
     "evalue": "name 'sprinters' is not defined",
     "output_type": "error",
     "traceback": [
      "\u001b[0;31m---------------------------------------------------------------------------\u001b[0m",
      "\u001b[0;31mNameError\u001b[0m                                 Traceback (most recent call last)",
      "\u001b[0;32m<ipython-input-1-b761d6f95485>\u001b[0m in \u001b[0;36m<cell line: 1>\u001b[0;34m()\u001b[0m\n\u001b[0;32m----> 1\u001b[0;31m \u001b[0msprinters\u001b[0m\u001b[0;34m[\u001b[0m\u001b[0;34m'100_PR'\u001b[0m\u001b[0;34m]\u001b[0m\u001b[0;34m.\u001b[0m\u001b[0mmean\u001b[0m\u001b[0;34m(\u001b[0m\u001b[0;34m)\u001b[0m\u001b[0;34m\u001b[0m\u001b[0;34m\u001b[0m\u001b[0m\n\u001b[0m",
      "\u001b[0;31mNameError\u001b[0m: name 'sprinters' is not defined"
     ]
    }
   ],
   "source": [
    "sprinters['Avg Season Best 400m'].mean()"
   ]
  },
  {
   "cell_type": "code",
   "execution_count": null,
   "metadata": {
    "id": "IkpxCIM4fvNu"
   },
   "outputs": [],
   "source": [
    "sprinters['Avg Season Best 400m'].median()"
   ]
  },
  {
   "cell_type": "code",
   "execution_count": null,
   "metadata": {
    "id": "UjhQlJ6ZfvNu"
   },
   "outputs": [],
   "source": [
    "sprinters['Avg Season Best 400m'].max()"
   ]
  },
  {
   "cell_type": "code",
   "execution_count": null,
   "metadata": {
    "id": "V-0Ofb_UfvNu"
   },
   "outputs": [],
   "source": [
    "sprinters.nlargest(1,'Avg Season Best 400m')"
   ]
  },
  {
   "cell_type": "code",
   "execution_count": null,
   "metadata": {
    "id": "R8nHSA16fvNv"
   },
   "outputs": [],
   "source": [
    "sprinters.nsmallest(1,'Avg Season Best 400m')"
   ]
  },
  {
   "cell_type": "code",
   "execution_count": null,
   "metadata": {
    "id": "spO_x5RdfvNv"
   },
   "outputs": [],
   "source": [
    "sprinters['100_PR'].max()- sprinters['Avg Season Best 400m'].min()\n"
   ]
  },
  {
   "cell_type": "markdown",
   "metadata": {
    "id": "eNOCpCQrfvNv"
   },
   "source": [
    "Variance and Standard Devivation\n"
   ]
  },
  {
   "cell_type": "code",
   "execution_count": null,
   "metadata": {
    "id": "CyRsni3ZfvNv"
   },
   "outputs": [],
   "source": [
    "sprinters['400_PR_AVG_deviation'] = sprinters['Avg Season Best 400m'] - sprinters['Avg Season Best 400m'].mean()\n",
    "sprinters.head()"
   ]
  },
  {
   "cell_type": "code",
   "execution_count": null,
   "metadata": {
    "id": "ehrR6kXKfvNv"
   },
   "outputs": [],
   "source": [
    "sprinters['Avg Season Best 400m'].std()\n"
   ]
  },
  {
   "cell_type": "code",
   "execution_count": null,
   "metadata": {
    "id": "MNSpTF_qfvNw"
   },
   "outputs": [],
   "source": [
    "sprinters['400_PR_AVG_deviation'].mean()\n"
   ]
  },
  {
   "cell_type": "code",
   "execution_count": null,
   "metadata": {
    "id": "3xLEa5eNfvNw"
   },
   "outputs": [],
   "source": [
    "sprinters['squared_400_PR_AVG_deviation'] = sprinters['400_PR_AVG_deviation']**2\n",
    "sprinters"
   ]
  },
  {
   "cell_type": "markdown",
   "metadata": {
    "id": "TNInNO0vfvNw"
   },
   "source": [
    "Population Standard Deviation\n",
    "\n"
   ]
  },
  {
   "cell_type": "code",
   "execution_count": null,
   "metadata": {
    "id": "LR3x6Nv-fvNw"
   },
   "outputs": [],
   "source": [
    "np.sqrt(sprinters['squared_400_PR_AVG_deviation'].mean())"
   ]
  },
  {
   "cell_type": "code",
   "execution_count": null,
   "metadata": {
    "id": "oSQZ8qmZfvNx"
   },
   "outputs": [],
   "source": [
    "sprinters['Avg Season Best 400m'].var(ddof = 0)\n"
   ]
  },
  {
   "cell_type": "code",
   "execution_count": null,
   "metadata": {
    "id": "DBm5ijYQfvNx"
   },
   "outputs": [],
   "source": [
    "sprinters['Avg Season Best 400m'].std(ddof = 0)\n"
   ]
  },
  {
   "cell_type": "code",
   "execution_count": null,
   "metadata": {
    "id": "TLC9ZqAhfvNx"
   },
   "outputs": [],
   "source": [
    "plt.figure(figsize = (10,6))\n",
    "\n",
    "std_plot(sprinters['Avg Season Best 400m'], edgecolor = 'black', linewidth = 2)"
   ]
  },
  {
   "cell_type": "markdown",
   "metadata": {
    "id": "vf4KJMlefvNx"
   },
   "source": [
    "z-scores"
   ]
  },
  {
   "cell_type": "code",
   "execution_count": null,
   "metadata": {
    "id": "etpx1g2NfvNy"
   },
   "outputs": [],
   "source": [
    "sprinters['400_PR_AVG_z-score'] = (sprinters['400_PR'] - sprinters['Avg Season Best 400m'].mean()) / sprinters['Avg Season Best 400m'].std(ddof = 0)\n"
   ]
  },
  {
   "cell_type": "code",
   "execution_count": null,
   "metadata": {
    "id": "grVajv_7fvNy"
   },
   "outputs": [],
   "source": [
    "sprinters['400_PR_AVG_z-score'].std()\n"
   ]
  },
  {
   "cell_type": "markdown",
   "metadata": {
    "id": "0mYC5Fa0fvNy"
   },
   "source": [
    "Let's look at height z-scores for Usain Bolt"
   ]
  },
  {
   "cell_type": "code",
   "execution_count": null,
   "metadata": {
    "id": "goI33-PtfvNy"
   },
   "outputs": [],
   "source": [
    "sprinters.loc[(sprinters.Athlete == 'Usain Bolt')]\n"
   ]
  },
  {
   "cell_type": "markdown",
   "metadata": {
    "id": "U1ZLaA1efvNz"
   },
   "source": [
    "Quartiles and Quantiles/Percentiles\n"
   ]
  },
  {
   "cell_type": "code",
   "execution_count": null,
   "metadata": {
    "id": "jVPkTsQbfvNz"
   },
   "outputs": [],
   "source": [
    "sprinters['Avg Season Best 400m'].quantile(q = 0.25)\n"
   ]
  },
  {
   "cell_type": "code",
   "execution_count": null,
   "metadata": {
    "id": "w58_RVrAfvNz"
   },
   "outputs": [],
   "source": [
    "sprinters['Avg Season Best 400m'].quantile(q = 0.5)\n"
   ]
  },
  {
   "cell_type": "code",
   "execution_count": null,
   "metadata": {
    "id": "FZ6XR59MfvNz"
   },
   "outputs": [],
   "source": [
    "sprinters['Avg Season Best 400m'].quantile(q = 0.75)\n"
   ]
  },
  {
   "cell_type": "code",
   "execution_count": null,
   "metadata": {
    "id": "gRwd_lvufvN0"
   },
   "outputs": [],
   "source": [
    "sprinters['Avg Season Best 400m'].describe()\n"
   ]
  },
  {
   "cell_type": "markdown",
   "metadata": {
    "id": "X6tqXGebfvN0"
   },
   "source": [
    "Interquartile Range\n",
    "\n"
   ]
  },
  {
   "cell_type": "code",
   "execution_count": null,
   "metadata": {
    "id": "yq7nYgx7fvN0"
   },
   "outputs": [],
   "source": [
    "sprinters['Avg Season Best 400m'].quantile(q = 0.75) - sprinters['Avg Season Best 400m'].quantile(q = 0.25)\n"
   ]
  },
  {
   "cell_type": "code",
   "execution_count": null,
   "metadata": {
    "id": "TMa-onGEfvN1"
   },
   "outputs": [],
   "source": [
    "plt.figure(figsize = (10,6))\n",
    "\n",
    "iqr_plot(sprinters['Avg Season Best 400m'], bins = 25, edgecolor = 'black', linewidth = 2)"
   ]
  },
  {
   "cell_type": "markdown",
   "metadata": {
    "id": "HyNo2u23fvN1"
   },
   "source": [
    "Observing Outliers in the Dataset\n",
    "\n"
   ]
  },
  {
   "cell_type": "code",
   "execution_count": null,
   "metadata": {
    "id": "DOoxwiDXfvN1"
   },
   "outputs": [],
   "source": [
    "plt.figure(figsize = (10,6))\n",
    "sns.boxplot(x = sprinters['Avg Season Best 400m']);"
   ]
  }
 ],
 "metadata": {
  "colab": {
   "authorship_tag": "ABX9TyM12mG1YDRkwlCD6mayQ/U5",
   "provenance": []
  },
  "kernelspec": {
   "display_name": "Python 3 (ipykernel)",
   "language": "python",
   "name": "python3"
  },
  "language_info": {
   "codemirror_mode": {
    "name": "ipython",
    "version": 3
   },
   "file_extension": ".py",
   "mimetype": "text/x-python",
   "name": "python",
   "nbconvert_exporter": "python",
   "pygments_lexer": "ipython3",
   "version": "3.9.16"
  }
 },
 "nbformat": 4,
 "nbformat_minor": 1
}
