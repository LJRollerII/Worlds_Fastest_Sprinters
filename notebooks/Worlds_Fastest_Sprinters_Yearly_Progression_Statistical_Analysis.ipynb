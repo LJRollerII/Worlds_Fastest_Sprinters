{
 "cells": [
  {
   "cell_type": "code",
   "execution_count": null,
   "metadata": {
    "id": "jiBagYByjpS1"
   },
   "outputs": [],
   "source": [
    "import pandas as pd\n",
    "import numpy as np\n",
    "import matplotlib.pyplot as plt\n",
    "import seaborn as sns\n",
    "%matplotlib inline\n",
    "import re\n",
    "import plotly.express as px\n",
    "import scipy.stats as stats\n",
    "from sklearn.linear_model import LinearRegression\n",
    "from scipy.stats import chi2_contingency\n",
    "from sklearn.cluster import KMeans\n",
    "from nssstats.plots import std_plot\n",
    "from nssstats.plots import iqr_plot\n",
    "from nssstats.plots import quadrant_plot, half_plot\n",
    "from ipywidgets import interact, FloatSlider"
   ]
  },
  {
   "cell_type": "code",
   "execution_count": null,
   "metadata": {
    "id": "o-GMweZEkTAz"
   },
   "outputs": [],
   "source": [
    "sprinters = pd.read_csv(\"../data/Worlds_Fastest_Sprinters_Master_List_Yearly_Progression.csv\")\n",
    "sprinters"
   ]
  },
  {
   "cell_type": "markdown",
   "metadata": {
    "id": "VzdTih99kZ_b"
   },
   "source": [
    "**Data Basics**"
   ]
  },
  {
   "cell_type": "code",
   "execution_count": null,
   "metadata": {
    "id": "wc4J72H7adhm"
   },
   "outputs": [],
   "source": [
    "sprinters.head()"
   ]
  },
  {
   "cell_type": "code",
   "execution_count": null,
   "metadata": {
    "id": "5HYov-s3a40z"
   },
   "outputs": [],
   "source": [
    "sprinters.info"
   ]
  },
  {
   "cell_type": "code",
   "execution_count": null,
   "metadata": {
    "id": "nGzrVMNoa4-f"
   },
   "outputs": [],
   "source": [
    "sprinters.shape"
   ]
  },
  {
   "cell_type": "code",
   "execution_count": null,
   "metadata": {
    "id": "ER3YH8Gia5H3"
   },
   "outputs": [],
   "source": [
    "print(sprinters.dtypes)\n"
   ]
  },
  {
   "cell_type": "code",
   "execution_count": null,
   "metadata": {
    "id": "Hi4r7kR7bKnp"
   },
   "outputs": [],
   "source": [
    "sprinters.describe()\n"
   ]
  },
  {
   "cell_type": "code",
   "execution_count": null,
   "metadata": {
    "id": "f82kt78EbKz-"
   },
   "outputs": [],
   "source": [
    "sprinters.corr\n"
   ]
  },
  {
   "cell_type": "markdown",
   "metadata": {
    "id": "2xUn2fWyj8Ss"
   },
   "source": [
    "**Statistical Analysis**"
   ]
  },
  {
   "cell_type": "markdown",
   "metadata": {
    "id": "HwbjcMQoB64X"
   },
   "source": [
    "*100m*"
   ]
  },
  {
   "cell_type": "code",
   "execution_count": null,
   "metadata": {
    "id": "nSQYWt6sxKV2"
   },
   "outputs": [],
   "source": [
    "df_100m = sprinters[sprinters['Event'] == '100m']\n",
    "df_100m"
   ]
  },
  {
   "cell_type": "code",
   "execution_count": null,
   "metadata": {
    "colab": {
     "base_uri": "https://localhost:8080/",
     "height": 141
    },
    "executionInfo": {
     "elapsed": 23,
     "status": "error",
     "timestamp": 1723675265923,
     "user": {
      "displayName": "Johnny Test",
      "userId": "16509896550579327523"
     },
     "user_tz": 240
    },
    "id": "yjLnIPaaB8_M",
    "outputId": "de59986e-b480-4209-a89c-86392ee28332"
   },
   "outputs": [],
   "source": [
    "df_100m['Time'].mean()"
   ]
  },
  {
   "cell_type": "code",
   "execution_count": null,
   "metadata": {
    "id": "HY3Z_4smB9VH"
   },
   "outputs": [],
   "source": [
    "df_100m['Time'].median()"
   ]
  },
  {
   "cell_type": "code",
   "execution_count": null,
   "metadata": {
    "id": "klpWE7F6B9hG"
   },
   "outputs": [],
   "source": [
    "df_100m['Time'].max()"
   ]
  },
  {
   "cell_type": "code",
   "execution_count": null,
   "metadata": {
    "id": "dHK8RyCLB9rG"
   },
   "outputs": [],
   "source": [
    "df_100m.nlargest(1,'Time')"
   ]
  },
  {
   "cell_type": "code",
   "execution_count": null,
   "metadata": {
    "id": "AsxX2Uh_B92p"
   },
   "outputs": [],
   "source": [
    "df_100m.nsmallest(1,'Time')"
   ]
  },
  {
   "cell_type": "code",
   "execution_count": null,
   "metadata": {
    "id": "KiN_zSDzB-EE"
   },
   "outputs": [],
   "source": [
    "df_100m['Time'].max()- df_100m['Time'].min()\n"
   ]
  },
  {
   "cell_type": "markdown",
   "metadata": {
    "id": "a9SflrD4DHpj"
   },
   "source": [
    "Variance and Standard Devivation\n"
   ]
  },
  {
   "cell_type": "code",
   "execution_count": null,
   "metadata": {
    "id": "wf8OUQC7Daij"
   },
   "outputs": [],
   "source": [
    "df_100m['100m_deviation'] = df_100m['Time'] - df_100m['Time'].mean()\n",
    "df_100m.head()"
   ]
  },
  {
   "cell_type": "code",
   "execution_count": null,
   "metadata": {
    "id": "yoTVyMZiDas-"
   },
   "outputs": [],
   "source": [
    "df_100m['Time'].std()\n"
   ]
  },
  {
   "cell_type": "code",
   "execution_count": null,
   "metadata": {
    "id": "8yYAtdweDa0g"
   },
   "outputs": [],
   "source": [
    "df_100m['100m_deviation'].mean()\n"
   ]
  },
  {
   "cell_type": "code",
   "execution_count": null,
   "metadata": {
    "id": "NKhDeZ1pDbF7"
   },
   "outputs": [],
   "source": [
    "df_100m['squared_100m_deviation'] = df_100m['100m_deviation']**2\n",
    "df_100m"
   ]
  },
  {
   "cell_type": "markdown",
   "metadata": {
    "id": "qnzAnD9zD-Hq"
   },
   "source": [
    "Population Standard Deviation\n",
    "\n"
   ]
  },
  {
   "cell_type": "code",
   "execution_count": null,
   "metadata": {
    "id": "XGRZSWJfECL1"
   },
   "outputs": [],
   "source": [
    "np.sqrt(df_100m['squared_100m_deviation'].mean())"
   ]
  },
  {
   "cell_type": "code",
   "execution_count": null,
   "metadata": {
    "id": "LRXab83OECbh"
   },
   "outputs": [],
   "source": [
    "df_100m['Time'].var(ddof = 0)\n"
   ]
  },
  {
   "cell_type": "code",
   "execution_count": null,
   "metadata": {
    "id": "fJ2ap6lHECjc"
   },
   "outputs": [],
   "source": [
    "df_100m['Time'].std(ddof = 0)\n"
   ]
  },
  {
   "cell_type": "code",
   "execution_count": null,
   "metadata": {
    "id": "NzFQdZ_zECrK"
   },
   "outputs": [],
   "source": [
    "plt.figure(figsize = (10,6))\n",
    "\n",
    "std_plot(sprinters['Time'], edgecolor = 'black', linewidth = 2)"
   ]
  },
  {
   "cell_type": "markdown",
   "metadata": {
    "id": "pPNMzEoqFH_6"
   },
   "source": [
    "z-scores"
   ]
  },
  {
   "cell_type": "code",
   "execution_count": null,
   "metadata": {
    "id": "_Gr_VaA_FIjI"
   },
   "outputs": [],
   "source": [
    "df_100m['100m_z-score'] = (df_100m['Time'] - df_100m['Time'].mean()) / df_100m['Time'].std(ddof = 0)\n"
   ]
  },
  {
   "cell_type": "code",
   "execution_count": null,
   "metadata": {
    "id": "NARN2qniFIwh"
   },
   "outputs": [],
   "source": [
    "df_100m['100m_z-score'].std()\n"
   ]
  },
  {
   "cell_type": "markdown",
   "metadata": {
    "id": "Jl3g82k5GhE4"
   },
   "source": [
    "Let's look at height z-scores for Usain Bolt"
   ]
  },
  {
   "cell_type": "code",
   "execution_count": null,
   "metadata": {
    "id": "Gyoyx7rTGUnv"
   },
   "outputs": [],
   "source": [
    "df_100m.loc[(df_100m.Athlete == 'Usain Bolt')]\n"
   ]
  },
  {
   "cell_type": "markdown",
   "metadata": {
    "id": "lY4PjiLuHCRF"
   },
   "source": [
    "Quartiles and Quantiles/Percentiles\n"
   ]
  },
  {
   "cell_type": "code",
   "execution_count": null,
   "metadata": {
    "id": "o7cxCO2kFI6h"
   },
   "outputs": [],
   "source": [
    "df_100m['Time'].quantile(q = 0.25)\n"
   ]
  },
  {
   "cell_type": "code",
   "execution_count": null,
   "metadata": {
    "id": "3WdEN6mYFJEn"
   },
   "outputs": [],
   "source": [
    "df_100m['Time'].quantile(q = 0.5)\n"
   ]
  },
  {
   "cell_type": "code",
   "execution_count": null,
   "metadata": {
    "id": "fD7crYnqHNhq"
   },
   "outputs": [],
   "source": [
    "df_100m['Time'].quantile(q = 0.75)\n"
   ]
  },
  {
   "cell_type": "code",
   "execution_count": null,
   "metadata": {
    "id": "Z_4vGiWJHPoz"
   },
   "outputs": [],
   "source": [
    "df_100m['Time'].describe()\n"
   ]
  },
  {
   "cell_type": "markdown",
   "metadata": {
    "id": "zNZMhujvHhNH"
   },
   "source": [
    "Interquartile Range\n",
    "\n"
   ]
  },
  {
   "cell_type": "code",
   "execution_count": null,
   "metadata": {
    "id": "5lfWw53AHkrA"
   },
   "outputs": [],
   "source": [
    "df_100m['Time'].quantile(q = 0.75) - df_100m['Time'].quantile(q = 0.25)\n"
   ]
  },
  {
   "cell_type": "code",
   "execution_count": null,
   "metadata": {
    "id": "SiLcJWbpHk5p"
   },
   "outputs": [],
   "source": [
    "plt.figure(figsize = (10,6))\n",
    "\n",
    "iqr_plot(df_100m['Time'], bins = 25, edgecolor = 'black', linewidth = 2)"
   ]
  },
  {
   "cell_type": "markdown",
   "metadata": {
    "id": "TRDIwwNOHlZg"
   },
   "source": [
    "Observing Outliers in the Dataset\n",
    "\n"
   ]
  },
  {
   "cell_type": "code",
   "execution_count": null,
   "metadata": {
    "id": "sgAuB4GuHoh6"
   },
   "outputs": [],
   "source": [
    "plt.figure(figsize = (10,6))\n",
    "sns.boxplot(x = df_100m['Time']);"
   ]
  },
  {
   "cell_type": "markdown",
   "metadata": {
    "id": "8cHlpAZf1K-J"
   },
   "source": [
    "*100m*"
   ]
  },
  {
   "cell_type": "code",
   "execution_count": null,
   "metadata": {
    "id": "1XBK1s_d1K-h"
   },
   "outputs": [],
   "source": [
    "df_200m = sprinters[sprinters['Event'] == '200m']\n",
    "df_200m"
   ]
  },
  {
   "cell_type": "code",
   "execution_count": null,
   "metadata": {
    "colab": {
     "base_uri": "https://localhost:8080/",
     "height": 141
    },
    "executionInfo": {
     "elapsed": 23,
     "status": "error",
     "timestamp": 1723675265923,
     "user": {
      "displayName": "Johnny Test",
      "userId": "16509896550579327523"
     },
     "user_tz": 240
    },
    "id": "gBIlan8Z1K-i",
    "outputId": "de59986e-b480-4209-a89c-86392ee28332"
   },
   "outputs": [],
   "source": [
    "df_200m['Time'].mean()"
   ]
  },
  {
   "cell_type": "code",
   "execution_count": null,
   "metadata": {
    "id": "0Q97bizQ1K-k"
   },
   "outputs": [],
   "source": [
    "df_200m['Time'].median()"
   ]
  },
  {
   "cell_type": "code",
   "execution_count": null,
   "metadata": {
    "id": "38yLiCGb1K-l"
   },
   "outputs": [],
   "source": [
    "df_200m['Time'].max()"
   ]
  },
  {
   "cell_type": "code",
   "execution_count": null,
   "metadata": {
    "id": "LyIYNqWe1K-l"
   },
   "outputs": [],
   "source": [
    "df_200m.nlargest(1,'Time')"
   ]
  },
  {
   "cell_type": "code",
   "execution_count": null,
   "metadata": {
    "id": "3bT85Q0f1K-m"
   },
   "outputs": [],
   "source": [
    "df_200m.nsmallest(1,'Time')"
   ]
  },
  {
   "cell_type": "code",
   "execution_count": null,
   "metadata": {
    "id": "3rIigWso1K-n"
   },
   "outputs": [],
   "source": [
    "df_200m['Time'].max()- df_200m['Time'].min()\n"
   ]
  },
  {
   "cell_type": "markdown",
   "metadata": {
    "id": "zi0Y6pIO1K-n"
   },
   "source": [
    "Variance and Standard Devivation\n"
   ]
  },
  {
   "cell_type": "code",
   "execution_count": null,
   "metadata": {
    "id": "8b8czhpY1K-n"
   },
   "outputs": [],
   "source": [
    "df_200m['200m_deviation'] = df_200m['Time'] - df_200m['Time'].mean()\n",
    "df_200m.head()"
   ]
  },
  {
   "cell_type": "code",
   "execution_count": null,
   "metadata": {
    "id": "6j__GbtV1K-n"
   },
   "outputs": [],
   "source": [
    "df_200m['Time'].std()\n"
   ]
  },
  {
   "cell_type": "code",
   "execution_count": null,
   "metadata": {
    "id": "PdQ6dKEe1K-o"
   },
   "outputs": [],
   "source": [
    "df_200m['200m_deviation'].mean()\n"
   ]
  },
  {
   "cell_type": "code",
   "execution_count": null,
   "metadata": {
    "id": "MVFsNvrA1K-o"
   },
   "outputs": [],
   "source": [
    "df_200m['squared_200m_deviation'] = df_200m['200m_deviation']**2\n",
    "df_200m"
   ]
  },
  {
   "cell_type": "markdown",
   "metadata": {
    "id": "hFNmsrce1K-o"
   },
   "source": [
    "Population Standard Deviation\n",
    "\n"
   ]
  },
  {
   "cell_type": "code",
   "execution_count": null,
   "metadata": {
    "id": "_EpL4jqg1K-o"
   },
   "outputs": [],
   "source": [
    "np.sqrt(df_200m['squared_200m_deviation'].mean())"
   ]
  },
  {
   "cell_type": "code",
   "execution_count": null,
   "metadata": {
    "id": "QTOH-JHG1K-p"
   },
   "outputs": [],
   "source": [
    "df_200m['Time'].var(ddof = 0)\n"
   ]
  },
  {
   "cell_type": "code",
   "execution_count": null,
   "metadata": {
    "id": "faRzVXJx1K-p"
   },
   "outputs": [],
   "source": [
    "df_200m['Time'].std(ddof = 0)\n"
   ]
  },
  {
   "cell_type": "code",
   "execution_count": null,
   "metadata": {
    "id": "ykKD6DbU1K-p"
   },
   "outputs": [],
   "source": [
    "plt.figure(figsize = (10,6))\n",
    "\n",
    "std_plot(df_200m['Time'], edgecolor = 'black', linewidth = 2)"
   ]
  },
  {
   "cell_type": "markdown",
   "metadata": {
    "id": "dBnKmCmS1K-p"
   },
   "source": [
    "z-scores"
   ]
  },
  {
   "cell_type": "code",
   "execution_count": null,
   "metadata": {
    "id": "CrKtucCf1K-q"
   },
   "outputs": [],
   "source": [
    "df_200m['200m_z-score'] = (df_200m['Time'] - df_200m['Time'].mean()) / sprinters['Time'].std(ddof = 0)\n"
   ]
  },
  {
   "cell_type": "code",
   "execution_count": null,
   "metadata": {
    "id": "TibHqIKD1K-q"
   },
   "outputs": [],
   "source": [
    "df_200m['200m_z-score'].std()\n"
   ]
  },
  {
   "cell_type": "markdown",
   "metadata": {
    "id": "qsqG31CT1K-q"
   },
   "source": [
    "Let's look at height z-scores for Usain Bolt"
   ]
  },
  {
   "cell_type": "code",
   "execution_count": null,
   "metadata": {
    "id": "1Aazuayt1K-q"
   },
   "outputs": [],
   "source": [
    "df_100m.loc[(df_100m.Athlete == 'Usain Bolt')]\n"
   ]
  },
  {
   "cell_type": "markdown",
   "metadata": {
    "id": "I0clIu7K1K-q"
   },
   "source": [
    "Quartiles and Quantiles/Percentiles\n"
   ]
  },
  {
   "cell_type": "code",
   "execution_count": null,
   "metadata": {
    "id": "RjhMz9g71K-r"
   },
   "outputs": [],
   "source": [
    "df_200m['Time'].quantile(q = 0.25)\n"
   ]
  },
  {
   "cell_type": "code",
   "execution_count": null,
   "metadata": {
    "id": "Fc0jR9PF1K-r"
   },
   "outputs": [],
   "source": [
    "df_200m['Time'].quantile(q = 0.5)\n"
   ]
  },
  {
   "cell_type": "code",
   "execution_count": null,
   "metadata": {
    "id": "AnFXOgGV1K-r"
   },
   "outputs": [],
   "source": [
    "df_200m['Time'].quantile(q = 0.75)\n"
   ]
  },
  {
   "cell_type": "code",
   "execution_count": null,
   "metadata": {
    "id": "M15JH7Qa1K-r"
   },
   "outputs": [],
   "source": [
    "df_200m['Time'].describe()\n"
   ]
  },
  {
   "cell_type": "markdown",
   "metadata": {
    "id": "H76h0e041K-s"
   },
   "source": [
    "Interquartile Range\n",
    "\n"
   ]
  },
  {
   "cell_type": "code",
   "execution_count": null,
   "metadata": {
    "id": "lwahhsaR1K-s"
   },
   "outputs": [],
   "source": [
    "df_200m['Time'].quantile(q = 0.75) - df_200m['Time'].quantile(q = 0.25)\n"
   ]
  },
  {
   "cell_type": "code",
   "execution_count": null,
   "metadata": {
    "id": "UCU_eWmf1K-s"
   },
   "outputs": [],
   "source": [
    "plt.figure(figsize = (10,6))\n",
    "\n",
    "iqr_plot(df_200m['Time'], bins = 25, edgecolor = 'black', linewidth = 2)"
   ]
  },
  {
   "cell_type": "markdown",
   "metadata": {
    "id": "VDd5woay1K-s"
   },
   "source": [
    "Observing Outliers in the Dataset\n",
    "\n"
   ]
  },
  {
   "cell_type": "code",
   "execution_count": null,
   "metadata": {
    "id": "_isN_aSP1K-s"
   },
   "outputs": [],
   "source": [
    "plt.figure(figsize = (10,6))\n",
    "sns.boxplot(x = df_200m['Time']);"
   ]
  },
  {
   "cell_type": "markdown",
   "metadata": {
    "id": "45woqLWQ1OWg"
   },
   "source": [
    "*400m*"
   ]
  },
  {
   "cell_type": "code",
   "execution_count": null,
   "metadata": {
    "id": "slb81P9P1OWi"
   },
   "outputs": [],
   "source": [
    "df_400m = sprinters[sprinters['Event'] == '400m']\n",
    "df_400m"
   ]
  },
  {
   "cell_type": "code",
   "execution_count": null,
   "metadata": {
    "colab": {
     "base_uri": "https://localhost:8080/",
     "height": 141
    },
    "executionInfo": {
     "elapsed": 23,
     "status": "error",
     "timestamp": 1723675265923,
     "user": {
      "displayName": "Johnny Test",
      "userId": "16509896550579327523"
     },
     "user_tz": 240
    },
    "id": "WhKUj3q31OWj",
    "outputId": "de59986e-b480-4209-a89c-86392ee28332"
   },
   "outputs": [],
   "source": [
    "df_400m['Time'].mean()"
   ]
  },
  {
   "cell_type": "code",
   "execution_count": null,
   "metadata": {
    "id": "fyxij7V61OWk"
   },
   "outputs": [],
   "source": [
    "df_400m['Time'].median()"
   ]
  },
  {
   "cell_type": "code",
   "execution_count": null,
   "metadata": {
    "id": "KJ19_Kp61OWk"
   },
   "outputs": [],
   "source": [
    "df_400m['Time'].max()"
   ]
  },
  {
   "cell_type": "code",
   "execution_count": null,
   "metadata": {
    "id": "5MnTPegi1OWl"
   },
   "outputs": [],
   "source": [
    "df_400m.nlargest(1,'Time')"
   ]
  },
  {
   "cell_type": "code",
   "execution_count": null,
   "metadata": {
    "id": "olnLmwFG1OWl"
   },
   "outputs": [],
   "source": [
    "df_400m.nsmallest(1,'Time')"
   ]
  },
  {
   "cell_type": "code",
   "execution_count": null,
   "metadata": {
    "id": "NqF8KQu31OWm"
   },
   "outputs": [],
   "source": [
    "df_400m['Time'].max()- df_400m['Time'].min()\n"
   ]
  },
  {
   "cell_type": "markdown",
   "metadata": {
    "id": "FqAdvu1A1OWn"
   },
   "source": [
    "Variance and Standard Devivation\n"
   ]
  },
  {
   "cell_type": "code",
   "execution_count": null,
   "metadata": {
    "id": "N81oL3xb1OWn"
   },
   "outputs": [],
   "source": [
    "df_400m['400m_deviation'] = df_400m['Time'] - df_400m['Time'].mean()\n",
    "df_400m.head()"
   ]
  },
  {
   "cell_type": "code",
   "execution_count": null,
   "metadata": {
    "id": "rzXFGv_N1OWo"
   },
   "outputs": [],
   "source": [
    "df_400m['Time'].std()\n"
   ]
  },
  {
   "cell_type": "code",
   "execution_count": null,
   "metadata": {
    "id": "N6RlypCg1OWo"
   },
   "outputs": [],
   "source": [
    "df_400m['400m_deviation'].mean()\n"
   ]
  },
  {
   "cell_type": "code",
   "execution_count": null,
   "metadata": {
    "id": "OZJAMwDU1OWp"
   },
   "outputs": [],
   "source": [
    "df_400m['squared_400m_deviation'] = df_400m['400m_deviation']**2\n",
    "df_400m"
   ]
  },
  {
   "cell_type": "markdown",
   "metadata": {
    "id": "KK6dxqpj1OWp"
   },
   "source": [
    "Population Standard Deviation\n",
    "\n"
   ]
  },
  {
   "cell_type": "code",
   "execution_count": null,
   "metadata": {
    "id": "Bv_Qyvf01OWq"
   },
   "outputs": [],
   "source": [
    "np.sqrt(df_400m['squared_400m_deviation'].mean())"
   ]
  },
  {
   "cell_type": "code",
   "execution_count": null,
   "metadata": {
    "id": "sLiQ0WKL1OWr"
   },
   "outputs": [],
   "source": [
    "df_400m['Time'].var(ddof = 0)\n"
   ]
  },
  {
   "cell_type": "code",
   "execution_count": null,
   "metadata": {
    "id": "B51T-aSO1OWr"
   },
   "outputs": [],
   "source": [
    "df_400m['Time'].std(ddof = 0)\n"
   ]
  },
  {
   "cell_type": "code",
   "execution_count": null,
   "metadata": {
    "id": "oz1quBiJ1OWs"
   },
   "outputs": [],
   "source": [
    "plt.figure(figsize = (10,6))\n",
    "\n",
    "std_plot(df_400m['Time'], edgecolor = 'black', linewidth = 2)"
   ]
  },
  {
   "cell_type": "markdown",
   "metadata": {
    "id": "X3Dl8GUq1OWt"
   },
   "source": [
    "z-scores"
   ]
  },
  {
   "cell_type": "code",
   "execution_count": null,
   "metadata": {
    "id": "BrJBVrH31OWu"
   },
   "outputs": [],
   "source": [
    "df_400m['400m_z-score'] = (df_400m['Time'] - df_400m['Time'].mean()) / df_400m['Time'].std(ddof = 0)\n"
   ]
  },
  {
   "cell_type": "code",
   "execution_count": null,
   "metadata": {
    "id": "PakkjKtZ1OWv"
   },
   "outputs": [],
   "source": [
    "df_400m['400m_z-score'].std()\n"
   ]
  },
  {
   "cell_type": "markdown",
   "metadata": {
    "id": "PXTQALlM1OWv"
   },
   "source": [
    "Let's look at height z-scores for Usain Bolt"
   ]
  },
  {
   "cell_type": "code",
   "execution_count": null,
   "metadata": {
    "id": "1P26mVUg1OWw"
   },
   "outputs": [],
   "source": [
    "df_400m.loc[(df_400m.Athlete == 'Usain Bolt')]\n"
   ]
  },
  {
   "cell_type": "markdown",
   "metadata": {
    "id": "5yDToOKI1OWw"
   },
   "source": [
    "Quartiles and Quantiles/Percentiles\n"
   ]
  },
  {
   "cell_type": "code",
   "execution_count": null,
   "metadata": {
    "id": "Fk7NLf2k1OWx"
   },
   "outputs": [],
   "source": [
    "df_400m['Time'].quantile(q = 0.25)\n"
   ]
  },
  {
   "cell_type": "code",
   "execution_count": null,
   "metadata": {
    "id": "RPHCfF851OWx"
   },
   "outputs": [],
   "source": [
    "df_400m['Time'].quantile(q = 0.5)\n"
   ]
  },
  {
   "cell_type": "code",
   "execution_count": null,
   "metadata": {
    "id": "Htw0Bbfn1OWy"
   },
   "outputs": [],
   "source": [
    "df_400m['Time'].quantile(q = 0.75)\n"
   ]
  },
  {
   "cell_type": "code",
   "execution_count": null,
   "metadata": {
    "id": "npcNf2pz1OWz"
   },
   "outputs": [],
   "source": [
    "df_400m['Time'].describe()\n"
   ]
  },
  {
   "cell_type": "markdown",
   "metadata": {
    "id": "It49rZ4X1OWz"
   },
   "source": [
    "Interquartile Range\n",
    "\n"
   ]
  },
  {
   "cell_type": "code",
   "execution_count": null,
   "metadata": {
    "id": "NlyMQbL-1OW0"
   },
   "outputs": [],
   "source": [
    "df_400m['Time'].quantile(q = 0.75) - df_400m['Time'].quantile(q = 0.25)\n"
   ]
  },
  {
   "cell_type": "code",
   "execution_count": null,
   "metadata": {
    "id": "4h8FKVw_1OW1"
   },
   "outputs": [],
   "source": [
    "plt.figure(figsize = (10,6))\n",
    "\n",
    "iqr_plot(df_400m['Time'], bins = 25, edgecolor = 'black', linewidth = 2)"
   ]
  },
  {
   "cell_type": "markdown",
   "metadata": {
    "id": "nt1RAXFJ1OW1"
   },
   "source": [
    "Observing Outliers in the Dataset\n",
    "\n"
   ]
  },
  {
   "cell_type": "code",
   "execution_count": null,
   "metadata": {
    "id": "n-XAg6NL1OW2"
   },
   "outputs": [],
   "source": [
    "plt.figure(figsize = (10,6))\n",
    "sns.boxplot(x = df_400m['Time']);"
   ]
  },
  {
   "cell_type": "markdown",
   "metadata": {
    "id": "_m2Qy5yE8T9k"
   },
   "source": [
    "# **Statisical Tests**\n"
   ]
  },
  {
   "cell_type": "markdown",
   "metadata": {
    "id": "aIO5k27h8iQp"
   },
   "source": [
    "*ANOVA test comparing event times across athletes*"
   ]
  },
  {
   "cell_type": "markdown",
   "metadata": {
    "id": "Rjcl__wY8y5y"
   },
   "source": [
    "This test will check if there are statistically significant differences in the average times for different athletes in a specific event.\n",
    "\n",
    "It will identify whether the differences in mean times between athletes are greater than would be expected by random chance."
   ]
  },
  {
   "cell_type": "markdown",
   "metadata": {
    "id": "odrywZwQ9sEm"
   },
   "source": [
    "100m ANOVA"
   ]
  },
  {
   "cell_type": "code",
   "execution_count": null,
   "metadata": {
    "id": "2xt9yMlr8VFl"
   },
   "outputs": [],
   "source": [
    "# Create a list of times for each athlete\n",
    "athlete_times_100 = [group['Time'].values for name, group in df_100m.groupby('Athlete')]\n",
    "\n",
    "# Run one-way ANOVA\n",
    "f_stat, p_val = stats.f_oneway(*athlete_times_100)\n",
    "print(f\"ANOVA result: F-statistic = {f_stat}, p-value = {p_val}\")\n"
   ]
  },
  {
   "cell_type": "markdown",
   "metadata": {
    "id": "3rNQ92BF9y_D"
   },
   "source": [
    "200m ANOVA"
   ]
  },
  {
   "cell_type": "code",
   "execution_count": null,
   "metadata": {
    "id": "tht51xd58ViC"
   },
   "outputs": [],
   "source": [
    "athlete_times_200 = [group['Time'].values for name, group in df_200m.groupby('Athlete')]\n",
    "\n",
    "# Run one-way ANOVA\n",
    "f_stat, p_val = stats.f_oneway(*athlete_times_200)\n",
    "print(f\"ANOVA result: F-statistic = {f_stat}, p-value = {p_val}\")\n"
   ]
  },
  {
   "cell_type": "markdown",
   "metadata": {
    "id": "p3juJnrz907k"
   },
   "source": [
    "400m ANOVA"
   ]
  },
  {
   "cell_type": "code",
   "execution_count": null,
   "metadata": {
    "id": "lONiq9Qp9Z3G"
   },
   "outputs": [],
   "source": [
    "athlete_times_400 = [group['Time'].values for name, group in df_400m.groupby('Athlete')]\n",
    "\n",
    "# Run one-way ANOVA\n",
    "f_stat, p_val = stats.f_oneway(*athlete_times_400)\n",
    "print(f\"ANOVA result: F-statistic = {f_stat}, p-value = {p_val}\")\n"
   ]
  },
  {
   "cell_type": "markdown",
   "metadata": {
    "id": "tP2IjeMiBFJD"
   },
   "source": [
    "*T-test - Compare Two Athletes' Performances*\n",
    "\n"
   ]
  },
  {
   "cell_type": "markdown",
   "metadata": {
    "id": "duVXjd8EC6th"
   },
   "source": [
    "We will use the T-test to T-test to compare the performance of two athletes in a particular event. This will assess if the difference between the two athletes' performance is statistically significant."
   ]
  },
  {
   "cell_type": "markdown",
   "metadata": {
    "id": "gyRUOwM9BImm"
   },
   "source": [
    "100m T-test"
   ]
  },
  {
   "cell_type": "code",
   "execution_count": null,
   "metadata": {
    "id": "P003hQjWBFox"
   },
   "outputs": [],
   "source": [
    "# Filter data for two specific athletes in the 100m event\n",
    "athlete_100_a = sprinters[(sprinters['Athlete'] == 'Athlete A') & (sprinters['Event'] == '100m')]['Time']\n",
    "athlete_100_b = sprinters[(sprinters['Athlete'] == 'Athlete B') & (sprinters['Event'] == '100m')]['Time']\n",
    "\n",
    "# Run independent t-test\n",
    "t_stat, p_val = stats.ttest_ind(athlete_100_a, athlete_100_b)\n",
    "print(f\"T-test result: T-statistic = {t_stat}, p-value = {p_val}\")\n"
   ]
  },
  {
   "cell_type": "markdown",
   "metadata": {
    "id": "JRUnbDlNBNu-"
   },
   "source": [
    "200m T-test"
   ]
  },
  {
   "cell_type": "code",
   "execution_count": null,
   "metadata": {
    "id": "-t1ok6ycBP_q"
   },
   "outputs": [],
   "source": [
    "athlete_200_a = sprinters[(sprinters['Athlete'] == 'Athlete A') & (sprinters['Event'] == '200m')]['Time']\n",
    "athlete_200_b = sprinters[(sprinters['Athlete'] == 'Athlete B') & (sprinters['Event'] == '200m')]['Time']\n",
    "\n",
    "t_stat, p_val = stats.ttest_ind(athlete_200_a, athlete_200_b)\n",
    "print(f\"T-test result: T-statistic = {t_stat}, p-value = {p_val}\")"
   ]
  },
  {
   "cell_type": "markdown",
   "metadata": {
    "id": "uqw1e5G0BQgT"
   },
   "source": [
    "400m T-test"
   ]
  },
  {
   "cell_type": "code",
   "execution_count": null,
   "metadata": {
    "id": "lwhaZ3RzClvX"
   },
   "outputs": [],
   "source": [
    "athlete_400_a = sprinters[(sprinters['Athlete'] == 'Athlete A') & (sprinters['Event'] == '400m')]['Time']\n",
    "athlete_400_b = sprinters[(sprinters['Athlete'] == 'Athlete B') & (sprinters['Event'] == '400m')]['Time']\n",
    "\n",
    "t_stat, p_val = stats.ttest_ind(athlete_400_a, athlete_400_b)\n",
    "print(f\"T-test result: T-statistic = {t_stat}, p-value = {p_val}\")"
   ]
  },
  {
   "cell_type": "markdown",
   "metadata": {
    "id": "POGCnc80Efvv"
   },
   "source": [
    "*Correlation Analysis – Time vs. Year for a Specific Event*"
   ]
  },
  {
   "cell_type": "markdown",
   "metadata": {
    "id": "1SLoBO5MEhRN"
   },
   "source": [
    "This will allow us to explore whether there's a trend in athletes' performance over time by checking the correlation between Year and Time in different events."
   ]
  },
  {
   "cell_type": "markdown",
   "metadata": {
    "id": "9HhxghhxE1rr"
   },
   "source": [
    "100m Correlation Analysis"
   ]
  },
  {
   "cell_type": "code",
   "execution_count": null,
   "metadata": {
    "id": "dKgBZR56EgHw"
   },
   "outputs": [],
   "source": [
    "correlation_100 = df_100m['Year'].corr(df_100m['Time'])\n",
    "print(f\"Correlation between Year and Time (100m): {correlation}\")\n"
   ]
  },
  {
   "cell_type": "markdown",
   "metadata": {
    "id": "0CNa5UBIE7Fj"
   },
   "source": [
    "200m Correlation Analysis"
   ]
  },
  {
   "cell_type": "code",
   "execution_count": null,
   "metadata": {
    "id": "Ky-snnH2E7zC"
   },
   "outputs": [],
   "source": [
    "correlation_200 = df_200m['Year'].corr(df_200m['Time'])\n",
    "print(f\"Correlation between Year and Time (200m): {correlation}\")"
   ]
  },
  {
   "cell_type": "markdown",
   "metadata": {
    "id": "1ba3wUTQE79_"
   },
   "source": [
    "400m Correlation Analysis"
   ]
  },
  {
   "cell_type": "code",
   "execution_count": null,
   "metadata": {
    "id": "mbYTX7tAE8qV"
   },
   "outputs": [],
   "source": [
    "correlation_400 = df_400m['Year'].corr(df_400m['Time'])\n",
    "print(f\"Correlation between Year and Time (400m): {correlation}\")"
   ]
  },
  {
   "cell_type": "markdown",
   "metadata": {
    "id": "tcsR6kPBGp0K"
   },
   "source": [
    "Chi-Square Test – Analyze Event Participation Across Different Countries"
   ]
  },
  {
   "cell_type": "markdown",
   "metadata": {
    "id": "8cwKw2fLGpfY"
   },
   "source": [
    "We can use a Chi-Square test to determine if there's an association between the event type and country."
   ]
  },
  {
   "cell_type": "markdown",
   "metadata": {
    "id": "H7-vxUFcHQhE"
   },
   "source": [
    "We'll need to import and merge our data that provides the countries of these athletes"
   ]
  },
  {
   "cell_type": "code",
   "execution_count": null,
   "metadata": {
    "id": "BW8KC6XO7Lwu"
   },
   "outputs": [],
   "source": [
    "sprinters_df2 = pd.read_csv(\"../data/Worlds_Fastest_Sprinters_Stats.csv\")\n",
    "sprinters_df2.head(3)"
   ]
  },
  {
   "cell_type": "code",
   "execution_count": null,
   "metadata": {
    "id": "Vf6Mrbsz6wXJ"
   },
   "outputs": [],
   "source": [
    "sprinters_df3 = pd.merge(sprinters,sprinters_df2, on=['Athlete'],how='outer')\n",
    "sprinters_df3.head()\n"
   ]
  },
  {
   "cell_type": "markdown",
   "metadata": {
    "id": "29kk4SiwIrd1"
   },
   "source": [
    "Let's adjust the dataframe to provide only the colums we want."
   ]
  },
  {
   "cell_type": "code",
   "execution_count": null,
   "metadata": {
    "id": "uQnzfI3JIjX6"
   },
   "outputs": [],
   "source": [
    "sprinters_df3 = sprinters_df3[['Athlete', 'Country','Continent', 'DOB','Event','Year','Time','Location','Date']]\n",
    "sprinters_df3.head()"
   ]
  },
  {
   "cell_type": "markdown",
   "metadata": {
    "id": "gEYXwAOlHbqS"
   },
   "source": [
    "Now that the data has been merged, let's conduct the Chi-Square Test"
   ]
  },
  {
   "cell_type": "code",
   "execution_count": null,
   "metadata": {
    "id": "b94vIfplGse_"
   },
   "outputs": [],
   "source": [
    "# Create a contingency table for event type vs. country\n",
    "contingency_table = pd.crosstab(sprinters_df3['Event'], sprinters_df3['Country'])\n",
    "\n",
    "# Run Chi-Square test\n",
    "chi2, p, dof, expected = chi2_contingency(contingency_table)\n",
    "print(f\"Chi-Square test: chi2 = {chi2}, p-value = {p}\")\n"
   ]
  },
  {
   "cell_type": "markdown",
   "metadata": {
    "id": "26HEaix7SGEX"
   },
   "source": [
    "*Time Series Analysis – Track Athlete Performance Over Time*"
   ]
  },
  {
   "cell_type": "markdown",
   "metadata": {
    "id": "8zUD6tOVSGVI"
   },
   "source": [
    "Let's perform time series analysis to track an individual athlete’s performance. This will allow us to detect patterns, trends, or seasonal effects in an athlete's performance over time."
   ]
  },
  {
   "cell_type": "code",
   "execution_count": null,
   "metadata": {
    "id": "rijzbHBrSInG"
   },
   "outputs": [],
   "source": [
    "# Filter data for one athlete\n",
    "athlete_data = sprinters[sprinters['Athlete'] == 'Athlete A'].sort_values(by='Year')\n",
    "\n",
    "# Calculate the rolling average (moving average) for the time over 3 events\n",
    "athlete_data['Moving_Avg'] = athlete_data['Time'].rolling(window=3).mean()\n",
    "\n",
    "# Plot the moving average\n",
    "athlete_data[['Year', 'Moving_Avg']].plot(x='Year', y='Moving_Avg')\n"
   ]
  },
  {
   "cell_type": "markdown",
   "metadata": {
    "id": "QUFTH4NmS8u5"
   },
   "source": [
    "*K-Means Clustering – Group Athletes Based on Performance*"
   ]
  },
  {
   "cell_type": "markdown",
   "metadata": {
    "id": "q5qIrwc2S-f4"
   },
   "source": [
    "We want to group athletes based on their performance metrics across multiple events. This is useful for identifying similar performance profiles among athletes."
   ]
  },
  {
   "cell_type": "code",
   "execution_count": null,
   "metadata": {
    "id": "6ixpF_PCTJZS"
   },
   "outputs": [],
   "source": [
    "# Select performance data (for example, average times for 100m, 200m, and 400m)\n",
    "performance_data = sprinters.groupby('Athlete').mean()[['Time']].dropna()\n",
    "\n",
    "# Fit KMeans clustering with 3 clusters\n",
    "kmeans = KMeans(n_clusters=3)\n",
    "performance_data['Cluster'] = kmeans.fit_predict(performance_data)\n",
    "\n",
    "# Display cluster assignments\n",
    "print(performance_data)\n"
   ]
  },
  {
   "cell_type": "markdown",
   "metadata": {
    "id": "xvLE1JozDYgc"
   },
   "source": [
    "*Linear Regression – Predict Time Based on Year and Other Variables*\n",
    "\n"
   ]
  },
  {
   "cell_type": "markdown",
   "metadata": {
    "id": "sUOl7w--Dac4"
   },
   "source": [
    "We can use linear regression to predict race times based on year, athlete, location, or other factors. This can help us model how times change over time or in different conditions."
   ]
  },
  {
   "cell_type": "markdown",
   "metadata": {
    "id": "Xa_b-ZbitSme"
   },
   "source": [
    "*Linear Regression 100m*"
   ]
  },
  {
   "cell_type": "code",
   "execution_count": null,
   "metadata": {
    "id": "4iTImHE5DdoD"
   },
   "outputs": [],
   "source": [
    "# Prepare the data (for example, predicting time in the 100m event)\n",
    "event_data = sprinters[sprinters['Event'] == '100m']\n",
    "X = event_data[['Year']]  # You can add other features such as 'Location', 'Athlete'\n",
    "y = event_data['Time']\n",
    "\n",
    "# Fit the linear regression model\n",
    "model = LinearRegression()\n",
    "model.fit(X, y)\n",
    "\n",
    "# Print the coefficients and intercept\n",
    "print(f\"Coefficient: {model.coef_}, Intercept: {model.intercept_}\")\n"
   ]
  },
  {
   "cell_type": "markdown",
   "metadata": {
    "id": "OWFmYc0JtPA5"
   },
   "source": [
    "*Linear Regression 200m*"
   ]
  },
  {
   "cell_type": "code",
   "execution_count": null,
   "metadata": {
    "id": "UmquAnsZtBDj"
   },
   "outputs": [],
   "source": [
    "# Prepare the data (for example, predicting time in the 200m event)\n",
    "event_data = sprinters[sprinters['Event'] == '200m']\n",
    "X = event_data[['Year']]  # You can add other features such as 'Location', 'Athlete'\n",
    "y = event_data['Time']\n",
    "\n",
    "# Fit the linear regression model\n",
    "model = LinearRegression()\n",
    "model.fit(X, y)\n",
    "\n",
    "# Print the coefficients and intercept\n",
    "print(f\"Coefficient: {model.coef_}, Intercept: {model.intercept_}\")\n"
   ]
  },
  {
   "cell_type": "markdown",
   "metadata": {
    "id": "wvF5CBOHtLvb"
   },
   "source": [
    "*Linear Regression 400m*"
   ]
  },
  {
   "cell_type": "code",
   "execution_count": null,
   "metadata": {
    "colab": {
     "base_uri": "https://localhost:8080/",
     "height": 211
    },
    "executionInfo": {
     "elapsed": 412,
     "status": "error",
     "timestamp": 1726353893666,
     "user": {
      "displayName": "Johnny Test",
      "userId": "16509896550579327523"
     },
     "user_tz": 240
    },
    "id": "2m-bmZ3ctB6Y",
    "outputId": "cb694eec-0d1a-4c54-c927-56d13adb4fa2"
   },
   "outputs": [],
   "source": [
    "# Prepare the data (for example, predicting time in the 100m event)\n",
    "event_data = sprinters[sprinters['Event'] == '400m']\n",
    "X = event_data[['Year']]  # You can add other features such as 'Location', 'Athlete'\n",
    "y = event_data['Time']\n",
    "\n",
    "# Fit the linear regression model\n",
    "model = LinearRegression()\n",
    "model.fit(X, y)\n",
    "\n",
    "# Print the coefficients and intercept\n",
    "print(f\"Coefficient: {model.coef_}, Intercept: {model.intercept_}\")\n"
   ]
  }
 ],
 "metadata": {
  "colab": {
   "authorship_tag": "ABX9TyMktX49w0D61oigSE487u7P",
   "provenance": []
  },
  "kernelspec": {
   "display_name": "Python 3 (ipykernel)",
   "language": "python",
   "name": "python3"
  },
  "language_info": {
   "codemirror_mode": {
    "name": "ipython",
    "version": 3
   },
   "file_extension": ".py",
   "mimetype": "text/x-python",
   "name": "python",
   "nbconvert_exporter": "python",
   "pygments_lexer": "ipython3",
   "version": "3.9.16"
  }
 },
 "nbformat": 4,
 "nbformat_minor": 1
}
