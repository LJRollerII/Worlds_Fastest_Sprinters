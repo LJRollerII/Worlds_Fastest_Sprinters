{
 "cells": [
  {
   "cell_type": "markdown",
   "metadata": {
    "id": "ni14X_A7Z8Lk"
   },
   "source": [
    "# **100m Career Data**"
   ]
  },
  {
   "cell_type": "code",
   "execution_count": null,
   "metadata": {
    "executionInfo": {
     "elapsed": 6682,
     "status": "ok",
     "timestamp": 1729643873955,
     "user": {
      "displayName": "Johnny Test",
      "userId": "16509896550579327523"
     },
     "user_tz": 240
    },
    "id": "0EuVlu9laQdG"
   },
   "outputs": [],
   "source": [
    "import pandas as pd\n",
    "import numpy as np\n",
    "import matplotlib.pyplot as plt\n",
    "import seaborn as sns\n",
    "import plotly.express as px\n",
    "import plotly.figure_factory as ff\n",
    "%matplotlib inline\n",
    "from datetime import datetime\n",
    "import re\n",
    "from nssstats.plots import std_plot\n",
    "from nssstats.plots import iqr_plot\n",
    "from nssstats.plots import quadrant_plot, half_plot\n",
    "from nssstats.cm import cm_analysis\n",
    "from ipywidgets import interact, FloatSlider\n",
    "from sklearn.model_selection import train_test_split\n",
    "from scipy.stats import probplot\n",
    "from scipy.stats import t, sem\n",
    "from scipy.stats import chi2\n",
    "from statsmodels.stats.proportion import proportion_confint\n",
    "import statsmodels.formula.api as sm"
   ]
  },
  {
   "cell_type": "code",
   "execution_count": null,
   "metadata": {
    "executionInfo": {
     "elapsed": 220,
     "status": "ok",
     "timestamp": 1729643876954,
     "user": {
      "displayName": "Johnny Test",
      "userId": "16509896550579327523"
     },
     "user_tz": 240
    },
    "id": "-mfz1dS8adQk"
   },
   "outputs": [],
   "source": [
    "sprinters = pd.read_csv(\"../data/Worlds_Fastest_Sprinters_Stats.csv\")"
   ]
  },
  {
   "cell_type": "markdown",
   "metadata": {
    "id": "Rj6eEd1CbSE7"
   },
   "source": [
    "# **Data** **Basics**"
   ]
  },
  {
   "cell_type": "code",
   "execution_count": null,
   "metadata": {
    "colab": {
     "base_uri": "https://localhost:8080/",
     "height": 585
    },
    "executionInfo": {
     "elapsed": 317,
     "status": "ok",
     "timestamp": 1729643883623,
     "user": {
      "displayName": "Johnny Test",
      "userId": "16509896550579327523"
     },
     "user_tz": 240
    },
    "id": "wc4J72H7adhm",
    "outputId": "4b8c3e47-9fd3-4c19-adad-3c4d4882e1dd"
   },
   "outputs": [],
   "source": [
    "sprinters.head()"
   ]
  },
  {
   "cell_type": "code",
   "execution_count": null,
   "metadata": {
    "colab": {
     "base_uri": "https://localhost:8080/",
     "height": 203
    },
    "executionInfo": {
     "elapsed": 192,
     "status": "ok",
     "timestamp": 1729643890975,
     "user": {
      "displayName": "Johnny Test",
      "userId": "16509896550579327523"
     },
     "user_tz": 240
    },
    "id": "5HYov-s3a40z",
    "outputId": "0c59add6-1f0d-476c-bd94-b5cbd73965bb"
   },
   "outputs": [],
   "source": [
    "sprinters.info"
   ]
  },
  {
   "cell_type": "code",
   "execution_count": null,
   "metadata": {
    "colab": {
     "base_uri": "https://localhost:8080/"
    },
    "executionInfo": {
     "elapsed": 319,
     "status": "ok",
     "timestamp": 1729643893216,
     "user": {
      "displayName": "Johnny Test",
      "userId": "16509896550579327523"
     },
     "user_tz": 240
    },
    "id": "nGzrVMNoa4-f",
    "outputId": "837436b6-76de-4dfb-a23c-d5cd4fa08fea"
   },
   "outputs": [],
   "source": [
    "sprinters.shape"
   ]
  },
  {
   "cell_type": "code",
   "execution_count": null,
   "metadata": {
    "colab": {
     "base_uri": "https://localhost:8080/"
    },
    "executionInfo": {
     "elapsed": 205,
     "status": "ok",
     "timestamp": 1729643895084,
     "user": {
      "displayName": "Johnny Test",
      "userId": "16509896550579327523"
     },
     "user_tz": 240
    },
    "id": "ER3YH8Gia5H3",
    "outputId": "034424b5-8a9d-4292-9ec4-e3a5e8ad53ad"
   },
   "outputs": [],
   "source": [
    "print(sprinters.dtypes)\n"
   ]
  },
  {
   "cell_type": "code",
   "execution_count": null,
   "metadata": {
    "colab": {
     "base_uri": "https://localhost:8080/",
     "height": 320
    },
    "executionInfo": {
     "elapsed": 356,
     "status": "ok",
     "timestamp": 1729643901873,
     "user": {
      "displayName": "Johnny Test",
      "userId": "16509896550579327523"
     },
     "user_tz": 240
    },
    "id": "Hi4r7kR7bKnp",
    "outputId": "1b7fec5e-04b5-469f-e2fb-6364374ef739"
   },
   "outputs": [],
   "source": [
    "sprinters.describe()\n"
   ]
  },
  {
   "cell_type": "code",
   "execution_count": null,
   "metadata": {
    "colab": {
     "base_uri": "https://localhost:8080/",
     "height": 203
    },
    "executionInfo": {
     "elapsed": 268,
     "status": "ok",
     "timestamp": 1729643908868,
     "user": {
      "displayName": "Johnny Test",
      "userId": "16509896550579327523"
     },
     "user_tz": 240
    },
    "id": "f82kt78EbKz-",
    "outputId": "7347afac-41c1-4be9-b65f-01724f664acf"
   },
   "outputs": [],
   "source": [
    "sprinters.corr\n"
   ]
  },
  {
   "cell_type": "code",
   "execution_count": null,
   "metadata": {
    "colab": {
     "base_uri": "https://localhost:8080/",
     "height": 742
    },
    "executionInfo": {
     "elapsed": 205,
     "status": "ok",
     "timestamp": 1729643910723,
     "user": {
      "displayName": "Johnny Test",
      "userId": "16509896550579327523"
     },
     "user_tz": 240
    },
    "id": "S7_wpsHMdOMn",
    "outputId": "f9f1449c-17ed-4364-ba17-a78f372c89fb"
   },
   "outputs": [],
   "source": [
    "sprinters.isnull().sum()\n"
   ]
  },
  {
   "cell_type": "markdown",
   "metadata": {
    "id": "26-aFPB7fZtV"
   },
   "source": [
    "# **General** **EDA**"
   ]
  },
  {
   "cell_type": "markdown",
   "metadata": {
    "id": "99Y4TEKuuEw9"
   },
   "source": [
    "Let's make a column for the total PR time"
   ]
  },
  {
   "cell_type": "code",
   "execution_count": null,
   "metadata": {
    "colab": {
     "base_uri": "https://localhost:8080/",
     "height": 585
    },
    "executionInfo": {
     "elapsed": 239,
     "status": "ok",
     "timestamp": 1729643920616,
     "user": {
      "displayName": "Johnny Test",
      "userId": "16509896550579327523"
     },
     "user_tz": 240
    },
    "id": "0NXGHIZGfcO3",
    "outputId": "ca8d6879-2ad2-475e-f6dc-eac37318fbf3"
   },
   "outputs": [],
   "source": [
    "sprinters['Total_Time_PRs'] = round(sprinters['100_PR'] + sprinters['200_PR'] + sprinters['400_PR'],2)\n",
    "sprinters.head()"
   ]
  },
  {
   "cell_type": "markdown",
   "metadata": {
    "id": "PupbWRW3ucso"
   },
   "source": [
    "Let's make a column for the total career average time"
   ]
  },
  {
   "cell_type": "code",
   "execution_count": null,
   "metadata": {
    "colab": {
     "base_uri": "https://localhost:8080/",
     "height": 585
    },
    "executionInfo": {
     "elapsed": 304,
     "status": "ok",
     "timestamp": 1729643927690,
     "user": {
      "displayName": "Johnny Test",
      "userId": "16509896550579327523"
     },
     "user_tz": 240
    },
    "id": "GgdUNzahgc4l",
    "outputId": "e06db6ba-c6b2-4b79-ee61-1d23290a29a1"
   },
   "outputs": [],
   "source": [
    "sprinters['Total_Time_SB_Avg'] = round(sprinters['Avg_Season_Best_100m'] + sprinters['Avg_Season_Best_200m'] + sprinters['Avg_Season_Best_400m'],2)\n",
    "sprinters.head()"
   ]
  },
  {
   "cell_type": "markdown",
   "metadata": {
    "id": "uH_h1V-X6iyg"
   },
   "source": [
    "Let's make a column for the actual age of the athletes"
   ]
  },
  {
   "cell_type": "code",
   "execution_count": null,
   "metadata": {
    "colab": {
     "base_uri": "https://localhost:8080/"
    },
    "executionInfo": {
     "elapsed": 271,
     "status": "ok",
     "timestamp": 1729643936336,
     "user": {
      "displayName": "Johnny Test",
      "userId": "16509896550579327523"
     },
     "user_tz": 240
    },
    "id": "ckwBzcMz6ooL",
    "outputId": "a62f9416-e978-4897-f4a4-6cbbaf3b106b"
   },
   "outputs": [],
   "source": [
    "# Ensure the DOB column is in datetime format\n",
    "sprinters['DOB'] = pd.to_datetime(sprinters['DOB'], errors='coerce')  # Coerce will handle invalid dates as NaT\n",
    "\n",
    "# Get the current year\n",
    "current_year = datetime.now().year\n",
    "\n",
    "# Calculate the age by subtracting the birth year from the current year\n",
    "sprinters['Age'] = current_year - sprinters['DOB'].dt.year\n",
    "\n",
    "# Display the updated DataFrame with the new 'Age' column\n",
    "print(sprinters[['DOB', 'Age']].head())\n"
   ]
  },
  {
   "cell_type": "markdown",
   "metadata": {
    "id": "SE229VJa2cYS"
   },
   "source": [
    "Let's add the sprinter's photo to the database by merging it with the photo csv"
   ]
  },
  {
   "cell_type": "code",
   "execution_count": null,
   "metadata": {
    "executionInfo": {
     "elapsed": 302,
     "status": "ok",
     "timestamp": 1729643943418,
     "user": {
      "displayName": "Johnny Test",
      "userId": "16509896550579327523"
     },
     "user_tz": 240
    },
    "id": "08X8fNn-21bP"
   },
   "outputs": [],
   "source": [
    "sprinter_photo = pd.read_csv(\"../data/Sprinter_Photo.csv\")"
   ]
  },
  {
   "cell_type": "code",
   "execution_count": null,
   "metadata": {
    "colab": {
     "base_uri": "https://localhost:8080/",
     "height": 143
    },
    "executionInfo": {
     "elapsed": 454,
     "status": "ok",
     "timestamp": 1729643946366,
     "user": {
      "displayName": "Johnny Test",
      "userId": "16509896550579327523"
     },
     "user_tz": 240
    },
    "id": "JrZnZd9O3htf",
    "outputId": "ed8c31db-1bdd-4e3c-e858-64eec9f0c4af"
   },
   "outputs": [],
   "source": [
    "sprinter_photo.head(3)"
   ]
  },
  {
   "cell_type": "code",
   "execution_count": null,
   "metadata": {
    "colab": {
     "base_uri": "https://localhost:8080/",
     "height": 383
    },
    "executionInfo": {
     "elapsed": 191,
     "status": "ok",
     "timestamp": 1729643949970,
     "user": {
      "displayName": "Johnny Test",
      "userId": "16509896550579327523"
     },
     "user_tz": 240
    },
    "id": "kfLPNfF42oCY",
    "outputId": "542044fe-f3bc-471f-a84e-cdedb5e8f1af"
   },
   "outputs": [],
   "source": [
    "sprinters = pd.merge(sprinters, sprinter_photo, on=['Athlete'],how='left')\n",
    "sprinters.head(3)"
   ]
  },
  {
   "cell_type": "markdown",
   "metadata": {
    "id": "shKQu0QhBz9V"
   },
   "source": [
    "Let's add second database to join number of season to each events dataframe (For Years Competed in each event)."
   ]
  },
  {
   "cell_type": "code",
   "execution_count": null,
   "metadata": {
    "colab": {
     "base_uri": "https://localhost:8080/",
     "height": 143
    },
    "executionInfo": {
     "elapsed": 266,
     "status": "ok",
     "timestamp": 1729643964927,
     "user": {
      "displayName": "Johnny Test",
      "userId": "16509896550579327523"
     },
     "user_tz": 240
    },
    "id": "o-GMweZEkTAz",
    "outputId": "a2693968-8408-4979-8f02-e8e9e5e76b63"
   },
   "outputs": [],
   "source": [
    "sprinters_df2 = pd.read_csv(\"../data/Worlds_Fastest_Sprinters_Master_List_Yearly_Progression.csv\")\n",
    "sprinters_df2.head(3)"
   ]
  },
  {
   "cell_type": "code",
   "execution_count": null,
   "metadata": {
    "executionInfo": {
     "elapsed": 242,
     "status": "ok",
     "timestamp": 1729643972873,
     "user": {
      "displayName": "Johnny Test",
      "userId": "16509896550579327523"
     },
     "user_tz": 240
    },
    "id": "1AYSTsnbnwIO"
   },
   "outputs": [],
   "source": [
    "yrs_competed_100m = sprinters_df2[sprinters_df2['Event'] == '100m'].groupby('Athlete').size().reset_index(name='Years')"
   ]
  },
  {
   "cell_type": "code",
   "execution_count": null,
   "metadata": {
    "colab": {
     "base_uri": "https://localhost:8080/",
     "height": 206
    },
    "executionInfo": {
     "elapsed": 234,
     "status": "ok",
     "timestamp": 1729643974720,
     "user": {
      "displayName": "Johnny Test",
      "userId": "16509896550579327523"
     },
     "user_tz": 240
    },
    "id": "TDEfJjpqn_BT",
    "outputId": "d657dec7-a737-46e9-97a5-d71e474d01af"
   },
   "outputs": [],
   "source": [
    "yrs_competed_100m = yrs_competed_100m.sort_values(by='Years', ascending=False)\n",
    "yrs_competed_100m.head()"
   ]
  },
  {
   "cell_type": "markdown",
   "metadata": {
    "id": "FmQNjnyu6neV"
   },
   "source": [
    "Let's add a third database which incorporate's every race in each athletes's career."
   ]
  },
  {
   "cell_type": "code",
   "execution_count": null,
   "metadata": {
    "colab": {
     "base_uri": "https://localhost:8080/",
     "height": 143
    },
    "executionInfo": {
     "elapsed": 206,
     "status": "ok",
     "timestamp": 1729644295194,
     "user": {
      "displayName": "Johnny Test",
      "userId": "16509896550579327523"
     },
     "user_tz": 240
    },
    "id": "QVf-iKTB8WWB",
    "outputId": "e1559e96-9cd8-42bd-86ce-1f4ba41d484c"
   },
   "outputs": [],
   "source": [
    "sprinters_df3 = pd.read_csv(\"../data/Sprinter_Career.csv\")\n",
    "sprinters_df3.head(3)"
   ]
  },
  {
   "cell_type": "code",
   "execution_count": null,
   "metadata": {
    "colab": {
     "base_uri": "https://localhost:8080/",
     "height": 143
    },
    "executionInfo": {
     "elapsed": 241,
     "status": "ok",
     "timestamp": 1729644316281,
     "user": {
      "displayName": "Johnny Test",
      "userId": "16509896550579327523"
     },
     "user_tz": 240
    },
    "id": "8_cQk3NUC1ix",
    "outputId": "f803f883-d80c-4647-d70d-a1e4e0b81b49"
   },
   "outputs": [],
   "source": [
    "All_100m_Races = sprinters_df3[sprinters_df3['Event'] == '100m']\n",
    "All_100m_Races.head(3)"
   ]
  },
  {
   "cell_type": "markdown",
   "metadata": {
    "id": "ARB5WCMrr1qn"
   },
   "source": [
    "Let's drop all the races that were DNS, DNF, or DQ"
   ]
  },
  {
   "cell_type": "code",
   "execution_count": null,
   "metadata": {
    "colab": {
     "base_uri": "https://localhost:8080/",
     "height": 143
    },
    "executionInfo": {
     "elapsed": 272,
     "status": "ok",
     "timestamp": 1729644322343,
     "user": {
      "displayName": "Johnny Test",
      "userId": "16509896550579327523"
     },
     "user_tz": 240
    },
    "id": "-dV5LnSgr1Qv",
    "outputId": "849074f7-671f-4e6d-cdea-b431d93f8687"
   },
   "outputs": [],
   "source": [
    "All_100m_Races = All_100m_Races[~All_100m_Races['Time'].isin(['DNS', 'DNF', 'DQ'])]\n",
    "All_100m_Races.head(3)"
   ]
  },
  {
   "cell_type": "markdown",
   "metadata": {
    "id": "GcHOOduts2o3"
   },
   "source": [
    "Let's make sure that the time column is now a numeric datatype"
   ]
  },
  {
   "cell_type": "code",
   "execution_count": null,
   "metadata": {
    "executionInfo": {
     "elapsed": 169,
     "status": "ok",
     "timestamp": 1729644331062,
     "user": {
      "displayName": "Johnny Test",
      "userId": "16509896550579327523"
     },
     "user_tz": 240
    },
    "id": "ATcwvYMos8Y5"
   },
   "outputs": [],
   "source": [
    "All_100m_Races['Time'] = pd.to_numeric(All_100m_Races['Time'], errors='coerce')"
   ]
  },
  {
   "cell_type": "markdown",
   "metadata": {
    "id": "V9jWbP2hrxyl"
   },
   "source": [
    "Let's drop all the Indoor marks"
   ]
  },
  {
   "cell_type": "code",
   "execution_count": null,
   "metadata": {
    "colab": {
     "base_uri": "https://localhost:8080/",
     "height": 143
    },
    "executionInfo": {
     "elapsed": 262,
     "status": "ok",
     "timestamp": 1729644338338,
     "user": {
      "displayName": "Johnny Test",
      "userId": "16509896550579327523"
     },
     "user_tz": 240
    },
    "id": "frnKQ_1UsWxZ",
    "outputId": "ad951116-a57f-42b5-cc94-d79235f91fb4"
   },
   "outputs": [],
   "source": [
    "All_100m_Races = All_100m_Races[All_100m_Races['Meet_Type'] != 'Indoor']\n",
    "All_100m_Races.head(3)"
   ]
  },
  {
   "cell_type": "markdown",
   "metadata": {
    "id": "E2VmZJveq6RY"
   },
   "source": [
    "Let's drop times that aren't legal from the dataframe"
   ]
  },
  {
   "cell_type": "code",
   "execution_count": null,
   "metadata": {
    "colab": {
     "base_uri": "https://localhost:8080/",
     "height": 143
    },
    "executionInfo": {
     "elapsed": 284,
     "status": "ok",
     "timestamp": 1729644344606,
     "user": {
      "displayName": "Johnny Test",
      "userId": "16509896550579327523"
     },
     "user_tz": 240
    },
    "id": "UbrRDVk-qzSi",
    "outputId": "ee84dbf3-84e7-46a4-9d4d-3fa61e89588d"
   },
   "outputs": [],
   "source": [
    "All_100m_Races = All_100m_Races[All_100m_Races['Legal'] != 'NO']\n",
    "All_100m_Races.head(3)"
   ]
  },
  {
   "cell_type": "markdown",
   "metadata": {
    "id": "pMChsNe65R8X"
   },
   "source": [
    "Let's look at a couple of visualizations of this dataframe"
   ]
  },
  {
   "cell_type": "code",
   "execution_count": null,
   "metadata": {
    "colab": {
     "base_uri": "https://localhost:8080/",
     "height": 434
    },
    "executionInfo": {
     "elapsed": 660,
     "status": "ok",
     "timestamp": 1729644358869,
     "user": {
      "displayName": "Johnny Test",
      "userId": "16509896550579327523"
     },
     "user_tz": 240
    },
    "id": "owTtYg-Kr5t9",
    "outputId": "94510b38-1c33-4e8c-fd58-2cd16180f0eb"
   },
   "outputs": [],
   "source": [
    "All_100m_Races['Time'].hist();"
   ]
  },
  {
   "cell_type": "code",
   "execution_count": null,
   "metadata": {
    "colab": {
     "base_uri": "https://localhost:8080/",
     "height": 472
    },
    "executionInfo": {
     "elapsed": 410,
     "status": "ok",
     "timestamp": 1729644371718,
     "user": {
      "displayName": "Johnny Test",
      "userId": "16509896550579327523"
     },
     "user_tz": 240
    },
    "id": "0Z4FuGeCFyhC",
    "outputId": "7668ff63-02c3-48f6-f96e-f157d325c94a"
   },
   "outputs": [],
   "source": [
    "probplot(All_100m_Races['Time'], plot=plt);"
   ]
  },
  {
   "cell_type": "code",
   "execution_count": null,
   "metadata": {
    "id": "IkLtSsY9GgVy"
   },
   "outputs": [],
   "source": [
    "plt.figure(figsize = (10,6))\n",
    "\n",
    "std_plot(All_100m_Races['Time'], edgecolor = 'black', linewidth = 2)"
   ]
  },
  {
   "cell_type": "code",
   "execution_count": null,
   "metadata": {
    "id": "3ffGgls9GqXY"
   },
   "outputs": [],
   "source": [
    "plt.figure(figsize = (10,6))\n",
    "\n",
    "iqr_plot(All_100m_Races['Time'], bins = 25, edgecolor = 'black', linewidth = 2)"
   ]
  },
  {
   "cell_type": "code",
   "execution_count": null,
   "metadata": {
    "id": "uKv9_g9VHFCd"
   },
   "outputs": [],
   "source": [
    "plt.figure(figsize = (10,6))\n",
    "sns.boxplot(x = All_100m_Races['Time']);"
   ]
  },
  {
   "cell_type": "code",
   "execution_count": null,
   "metadata": {
    "id": "_c1THDG2HQnE"
   },
   "outputs": [],
   "source": [
    "sns.boxplot(data = All_100m_Races, y = 'Athlete', x = 'Time')\n",
    "plt.xticks([0,1], ['', ''])\n",
    "plt.xlabel('100m Time')\n",
    "plt.title('100m Times Over Entire Career');"
   ]
  },
  {
   "cell_type": "markdown",
   "metadata": {
    "id": "RUM2KOSwvD2D"
   },
   "source": [
    "Let's get the Caeer Average for Each Athlete"
   ]
  },
  {
   "cell_type": "code",
   "execution_count": null,
   "metadata": {
    "colab": {
     "base_uri": "https://localhost:8080/",
     "height": 143
    },
    "executionInfo": {
     "elapsed": 190,
     "status": "ok",
     "timestamp": 1729644419332,
     "user": {
      "displayName": "Johnny Test",
      "userId": "16509896550579327523"
     },
     "user_tz": 240
    },
    "id": "6USj4S4ivZtm",
    "outputId": "e5360c45-6eb9-4d02-d890-e33a872f47b7"
   },
   "outputs": [],
   "source": [
    "Career_average_100m = All_100m_Races.groupby('Athlete')['Time'].mean().reset_index(name='Career_Avg_100m')\n",
    "Career_average_100m.head(3)"
   ]
  },
  {
   "cell_type": "code",
   "execution_count": null,
   "metadata": {
    "id": "eGGJnQD4vJWN"
   },
   "outputs": [],
   "source": [
    "#All_100m_Races = pd.merge(All_100m_Races, Career_average_100m, on=['Athlete'],how='left')\n",
    "#All_100m_Races.head(3)"
   ]
  },
  {
   "cell_type": "markdown",
   "metadata": {
    "id": "v4bEp-guyt7s"
   },
   "source": [
    "Total Races for Each Athlete"
   ]
  },
  {
   "cell_type": "code",
   "execution_count": null,
   "metadata": {
    "colab": {
     "base_uri": "https://localhost:8080/",
     "height": 143
    },
    "executionInfo": {
     "elapsed": 196,
     "status": "ok",
     "timestamp": 1729644434857,
     "user": {
      "displayName": "Johnny Test",
      "userId": "16509896550579327523"
     },
     "user_tz": 240
    },
    "id": "SUSKP1fhOp9R",
    "outputId": "056072c0-42a2-4a11-8306-964610be9637"
   },
   "outputs": [],
   "source": [
    "athlete_race_count_100m = All_100m_Races.groupby('Athlete').size().reset_index(name='total_races_100m')\n",
    "athlete_race_count_100m.head(3)"
   ]
  },
  {
   "cell_type": "markdown",
   "metadata": {
    "id": "yjbGRfNmyzZm"
   },
   "source": [
    "Number of races for each athlete by year"
   ]
  },
  {
   "cell_type": "code",
   "execution_count": null,
   "metadata": {
    "id": "p-peb0xoPbaL"
   },
   "outputs": [],
   "source": [
    "#athlete_race_count_per_year_100m = All_100m_Races.groupby(['Athlete', 'Year']).size().reset_index(name='races_per_year_100m')\n",
    "#athlete_race_count_per_year_100m.head(3)"
   ]
  },
  {
   "cell_type": "markdown",
   "metadata": {
    "id": "FZ6Gl96oQ-N7"
   },
   "source": [
    "Merge Data Season and total races data next"
   ]
  },
  {
   "cell_type": "code",
   "execution_count": null,
   "metadata": {
    "colab": {
     "base_uri": "https://localhost:8080/",
     "height": 143
    },
    "executionInfo": {
     "elapsed": 240,
     "status": "ok",
     "timestamp": 1729644464620,
     "user": {
      "displayName": "Johnny Test",
      "userId": "16509896550579327523"
     },
     "user_tz": 240
    },
    "id": "5gILxEubgNhU",
    "outputId": "fe15c5f9-58fb-47b8-a089-1070d5b9e15c"
   },
   "outputs": [],
   "source": [
    "seasons_and_races_100m = pd.merge(athlete_race_count_100m, yrs_competed_100m, on=['Athlete'],how='left')\n",
    "seasons_and_races_100m.head(3)"
   ]
  },
  {
   "cell_type": "markdown",
   "metadata": {
    "id": "D0iciiyKyfzp"
   },
   "source": [
    "Let's add the career average for each athlete"
   ]
  },
  {
   "cell_type": "code",
   "execution_count": null,
   "metadata": {
    "colab": {
     "base_uri": "https://localhost:8080/",
     "height": 143
    },
    "executionInfo": {
     "elapsed": 290,
     "status": "ok",
     "timestamp": 1729644485271,
     "user": {
      "displayName": "Johnny Test",
      "userId": "16509896550579327523"
     },
     "user_tz": 240
    },
    "id": "D-koaU5wyOZB",
    "outputId": "c81a15d1-37e0-4c56-8f60-77c0b1fa189b"
   },
   "outputs": [],
   "source": [
    "seasons_and_races_100m = pd.merge(seasons_and_races_100m, Career_average_100m, on=['Athlete'],how='left')\n",
    "seasons_and_races_100m.head(3)"
   ]
  },
  {
   "cell_type": "code",
   "execution_count": null,
   "metadata": {
    "colab": {
     "base_uri": "https://localhost:8080/",
     "height": 206
    },
    "executionInfo": {
     "elapsed": 242,
     "status": "ok",
     "timestamp": 1729644524163,
     "user": {
      "displayName": "Johnny Test",
      "userId": "16509896550579327523"
     },
     "user_tz": 240
    },
    "id": "CofsZG4pg-ya",
    "outputId": "675c0b87-1e3d-46f7-eb10-8af4c6969386"
   },
   "outputs": [],
   "source": [
    "seasons_and_races_100m['Avg_Races_Year_100m'] = round(seasons_and_races_100m['total_races_100m'] / seasons_and_races_100m['Years'],2)\n",
    "seasons_and_races_100m.head()"
   ]
  },
  {
   "cell_type": "code",
   "execution_count": null,
   "metadata": {
    "colab": {
     "base_uri": "https://localhost:8080/",
     "height": 669
    },
    "executionInfo": {
     "elapsed": 290,
     "status": "ok",
     "timestamp": 1729644543185,
     "user": {
      "displayName": "Johnny Test",
      "userId": "16509896550579327523"
     },
     "user_tz": 240
    },
    "id": "C2AekUbMFkp7",
    "outputId": "a130ec70-d65b-4301-810f-2266b918e1b8"
   },
   "outputs": [],
   "source": [
    "df_100m = sprinters[['Athlete', 'Country','Continent','Status', 'DOB','Year Born','Month Born','Decade Born','Avg_Season_Best_100m','100_PR','T25_100_All_Time_Rank','T25_100_AT_RK_NUM']]\n",
    "df_100m"
   ]
  },
  {
   "cell_type": "code",
   "execution_count": null,
   "metadata": {
    "colab": {
     "base_uri": "https://localhost:8080/",
     "height": 233
    },
    "executionInfo": {
     "elapsed": 173,
     "status": "ok",
     "timestamp": 1729644560884,
     "user": {
      "displayName": "Johnny Test",
      "userId": "16509896550579327523"
     },
     "user_tz": 240
    },
    "id": "2yFWLF8OLBfq",
    "outputId": "757ac820-6e8e-41c6-e936-2e02753f0388"
   },
   "outputs": [],
   "source": [
    "df_100m['SB_Avg_100m_PR_Diff'] = round(df_100m['Avg_Season_Best_100m'] - df_100m['100_PR'],2)\n",
    "df_100m.head(3)"
   ]
  },
  {
   "cell_type": "code",
   "execution_count": null,
   "metadata": {
    "colab": {
     "base_uri": "https://localhost:8080/",
     "height": 233
    },
    "executionInfo": {
     "elapsed": 165,
     "status": "ok",
     "timestamp": 1729644579476,
     "user": {
      "displayName": "Johnny Test",
      "userId": "16509896550579327523"
     },
     "user_tz": 240
    },
    "id": "mY0KWl9MEmTV",
    "outputId": "a1e80296-0722-489b-ce29-613bb26ad6bb"
   },
   "outputs": [],
   "source": [
    "df_100m = pd.merge(df_100m, seasons_and_races_100m, on=['Athlete'],how='left')\n",
    "df_100m.head(3)"
   ]
  },
  {
   "cell_type": "code",
   "execution_count": null,
   "metadata": {
    "colab": {
     "base_uri": "https://localhost:8080/",
     "height": 233
    },
    "executionInfo": {
     "elapsed": 291,
     "status": "ok",
     "timestamp": 1729644601160,
     "user": {
      "displayName": "Johnny Test",
      "userId": "16509896550579327523"
     },
     "user_tz": 240
    },
    "id": "ahvrrd5iI0M4",
    "outputId": "12e5589a-382f-4c94-9fb0-f7fbb96f1e5e"
   },
   "outputs": [],
   "source": [
    "df_100m = df_100m.rename(columns={'Years': 'Years_Competed_100m'})\n",
    "df_100m.head(3)"
   ]
  },
  {
   "cell_type": "code",
   "execution_count": null,
   "metadata": {
    "colab": {
     "base_uri": "https://localhost:8080/",
     "height": 233
    },
    "executionInfo": {
     "elapsed": 256,
     "status": "ok",
     "timestamp": 1729644621437,
     "user": {
      "displayName": "Johnny Test",
      "userId": "16509896550579327523"
     },
     "user_tz": 240
    },
    "id": "OrtiEI4ozSat",
    "outputId": "c94032f8-6978-41b0-a855-2c558a2ffc8b"
   },
   "outputs": [],
   "source": [
    "df_100m['Career_Avg_100m_PR_Diff'] = round(df_100m['Career_Avg_100m'] - df_100m['100_PR'],2)\n",
    "df_100m.head(3)"
   ]
  },
  {
   "cell_type": "code",
   "execution_count": null,
   "metadata": {
    "id": "HF9tEpLMKHjQ"
   },
   "outputs": [],
   "source": [
    "#df_100m = df_100m.sort_values(by='Avg_Season_Best_100m', ascending=False)\n",
    "#df_100m"
   ]
  },
  {
   "cell_type": "code",
   "execution_count": null,
   "metadata": {
    "executionInfo": {
     "elapsed": 207,
     "status": "ok",
     "timestamp": 1729644628916,
     "user": {
      "displayName": "Johnny Test",
      "userId": "16509896550579327523"
     },
     "user_tz": 240
    },
    "id": "-h_RluPnYBoR"
   },
   "outputs": [],
   "source": [
    "#df_100m = df_100m.sort_values(by='Avg_Season_Best_100m')\n",
    "#df_100m"
   ]
  },
  {
   "cell_type": "code",
   "execution_count": null,
   "metadata": {
    "colab": {
     "base_uri": "https://localhost:8080/",
     "height": 634
    },
    "executionInfo": {
     "elapsed": 191,
     "status": "ok",
     "timestamp": 1729644638543,
     "user": {
      "displayName": "Johnny Test",
      "userId": "16509896550579327523"
     },
     "user_tz": 240
    },
    "id": "A_Sj2vLdzyIG",
    "outputId": "fd9270d9-22a3-4b47-a93f-11d6da38c1a6"
   },
   "outputs": [],
   "source": [
    "df_100m = df_100m.sort_values(by='Career_Avg_100m')\n",
    "df_100m"
   ]
  },
  {
   "cell_type": "markdown",
   "metadata": {
    "id": "jnzneLbn57OM"
   },
   "source": [
    "**Top 5 100m Times (PRs)**\n",
    "\n",
    "\n",
    "\n",
    "1.   Usain Bolt: 9.58 (11 Seasons)\n",
    "2.   Tyson Gay: 9.69 ( Seasons)\n",
    "3.   Yohan Blake: 9.69 ( Seasons)\n",
    "4.   Asafa Powell: 9.72 (20 Seasons)\n",
    "5.   Justin Gatlin: 9.74 (17 Seasons)\n",
    "\n",
    "\n",
    "\n",
    "\n",
    "\n",
    "\n"
   ]
  },
  {
   "cell_type": "markdown",
   "metadata": {
    "id": "NDQpwylvOVff"
   },
   "source": [
    "**Top 5 Career Season Best Averages in the 100m (Rounded to the nearest hundreth)**\n",
    "\n",
    "\n",
    "\n",
    "1.   Usain Bolt: 9.80 (11 Seasons)\n",
    "2.   Christian Coleman: 9.93 (9 Seasons)\n",
    "3.   Justin Gatlin: 9.94 (17 Seasons)\n",
    "4.   Asafa Powell: 9.99 (20 Seasons)\n",
    "5.   Ferdidnad Omanyala: 10.00 (6 Seasons)\n",
    "\n",
    "\n",
    "\n",
    "\n",
    "\n",
    "\n"
   ]
  },
  {
   "cell_type": "markdown",
   "metadata": {
    "id": "cl2_2-sI5pd7"
   },
   "source": [
    "**Top 5 Career Averages in the 100m (Rounded to the nearest hundreth)**\n",
    "\n",
    "\n",
    "\n",
    "1.   Usain Bolt: 9.94 (11 Seasons)\n",
    "2.   Fred Kerley: 10.00 ( 7 Seasons)\n",
    "3.   Justin Gatlin: 10.06 (17 Seasons)\n",
    "4.   Christian Coleman: 10.06 (9 Seasons)\n",
    "5.   Maurice Greene: 10.10 (13 Seasons)\n",
    "\n",
    "\n",
    "\n",
    "\n",
    "\n",
    "\n"
   ]
  },
  {
   "cell_type": "markdown",
   "metadata": {
    "id": "kVNjz31foPUq"
   },
   "source": [
    "# ***EDA Visualizations***"
   ]
  },
  {
   "cell_type": "code",
   "execution_count": null,
   "metadata": {
    "colab": {
     "base_uri": "https://localhost:8080/",
     "height": 452
    },
    "executionInfo": {
     "elapsed": 485,
     "status": "ok",
     "timestamp": 1729645052333,
     "user": {
      "displayName": "Johnny Test",
      "userId": "16509896550579327523"
     },
     "user_tz": 240
    },
    "id": "bJHSDHzpJ-Z7",
    "outputId": "39a5a85d-1b6b-45e7-d514-fc6687384f55"
   },
   "outputs": [],
   "source": [
    "# @title Year Born 100m\n",
    "\n",
    "\n",
    "df_100m['Year Born'].plot(kind='hist', bins=20, title='Year Born')\n",
    "plt.gca().spines[['top', 'right',]].set_visible(False)\n",
    "\n",
    "#plt.savefig('year_born_100.png', format='png', dpi=300)\n",
    "#plt.savefig('year_born_100.jpg', format='jpg', dpi=300)"
   ]
  },
  {
   "cell_type": "code",
   "execution_count": null,
   "metadata": {
    "colab": {
     "base_uri": "https://localhost:8080/",
     "height": 564
    },
    "executionInfo": {
     "elapsed": 722,
     "status": "ok",
     "timestamp": 1729645061053,
     "user": {
      "displayName": "Johnny Test",
      "userId": "16509896550579327523"
     },
     "user_tz": 240
    },
    "id": "X_Ev4-5xUA-2",
    "outputId": "9f39dcdb-f7b7-4506-f839-71ae767bbde3"
   },
   "outputs": [],
   "source": [
    "plt.figure(figsize = (10,6))\n",
    "\n",
    "df_100m.groupby('Country')['Athlete'].count().plot(kind = 'bar')\n",
    "plt.title('100m Sprinters By 100m BY Country')\n",
    "plt.ylabel('count')\n",
    "plt.xticks(rotation = 0);"
   ]
  },
  {
   "cell_type": "code",
   "execution_count": null,
   "metadata": {
    "colab": {
     "base_uri": "https://localhost:8080/",
     "height": 564
    },
    "executionInfo": {
     "elapsed": 525,
     "status": "ok",
     "timestamp": 1729645069157,
     "user": {
      "displayName": "Johnny Test",
      "userId": "16509896550579327523"
     },
     "user_tz": 240
    },
    "id": "7HlRnmAVzoqG",
    "outputId": "4a7956f9-876e-4e4b-d0b3-315f366e159c"
   },
   "outputs": [],
   "source": [
    "plt.figure(figsize = (10,6))\n",
    "\n",
    "df_100m.groupby('Continent')['Athlete'].count().plot(kind = 'bar')\n",
    "plt.title('100m Sprinters By 100m BY Continent')\n",
    "plt.ylabel('count')\n",
    "plt.xticks(rotation = 0);"
   ]
  },
  {
   "cell_type": "code",
   "execution_count": null,
   "metadata": {
    "colab": {
     "base_uri": "https://localhost:8080/",
     "height": 449
    },
    "executionInfo": {
     "elapsed": 1100,
     "status": "ok",
     "timestamp": 1729645078312,
     "user": {
      "displayName": "Johnny Test",
      "userId": "16509896550579327523"
     },
     "user_tz": 240
    },
    "id": "nN2XRi1NgGO0",
    "outputId": "fec93b91-5a03-4419-877a-52e5db04adc0"
   },
   "outputs": [],
   "source": [
    "# @title Year Born vs Avg Season Best 100m\n",
    "\n",
    "df_100m.plot(kind='scatter', x='Year Born', y='Avg_Season_Best_100m', s=32, alpha=.8)\n",
    "plt.gca().spines[['top', 'right',]].set_visible(False)\n",
    "\n",
    "#plt.savefig('year_born_SB_avg_100.png', format='png', dpi=300)\n",
    "#plt.savefig('year_born_SB_avg_100.jpg', format='jpg', dpi=300)"
   ]
  },
  {
   "cell_type": "code",
   "execution_count": null,
   "metadata": {
    "colab": {
     "base_uri": "https://localhost:8080/",
     "height": 449
    },
    "executionInfo": {
     "elapsed": 409,
     "status": "ok",
     "timestamp": 1729645087674,
     "user": {
      "displayName": "Johnny Test",
      "userId": "16509896550579327523"
     },
     "user_tz": 240
    },
    "id": "F9FibzJY0NVl",
    "outputId": "8737ad1f-3ff6-44ea-f32e-a3fe748c0af9"
   },
   "outputs": [],
   "source": [
    "# @title Year Born vs Career Avg  100m\n",
    "\n",
    "df_100m.plot(kind='scatter', x='Year Born', y='Career_Avg_100m', s=32, alpha=.8)\n",
    "plt.gca().spines[['top', 'right',]].set_visible(False)\n",
    "\n",
    "#plt.savefig('year_born_Career_avg_100.png', format='png', dpi=300)\n",
    "#plt.savefig('year_born_Career_avg_100.jpg', format='jpg', dpi=300)"
   ]
  },
  {
   "cell_type": "code",
   "execution_count": null,
   "metadata": {
    "colab": {
     "base_uri": "https://localhost:8080/",
     "height": 453
    },
    "executionInfo": {
     "elapsed": 766,
     "status": "ok",
     "timestamp": 1729645099555,
     "user": {
      "displayName": "Johnny Test",
      "userId": "16509896550579327523"
     },
     "user_tz": 240
    },
    "id": "LhgoLLG6fgHa",
    "outputId": "53ab2e1e-db1b-4edc-8900-e04318ae93a9"
   },
   "outputs": [],
   "source": [
    "# @title Avg Season Best 100m vs 100_PR\n",
    "\n",
    "df_100m.plot(kind='scatter', x='Avg_Season_Best_100m', y='100_PR', s=32, alpha=.8)\n",
    "plt.gca().spines[['top', 'right',]].set_visible(False)\n",
    "\n",
    "#plt.savefig('SB_avg_100__vs_pr.png', format='png', dpi=300)\n",
    "#plt.savefig('SB_avg_100_vs_pr.jpg', format='jpg', dpi=300)"
   ]
  },
  {
   "cell_type": "markdown",
   "metadata": {
    "id": "Fcoh5m7dJW6a"
   },
   "source": [
    "Version 2"
   ]
  },
  {
   "cell_type": "code",
   "execution_count": null,
   "metadata": {
    "colab": {
     "base_uri": "https://localhost:8080/",
     "height": 211
    },
    "executionInfo": {
     "elapsed": 215,
     "status": "error",
     "timestamp": 1729645264187,
     "user": {
      "displayName": "Johnny Test",
      "userId": "16509896550579327523"
     },
     "user_tz": 240
    },
    "id": "RZZx-RC2JcY0",
    "outputId": "f514404f-5da9-4ddd-bcee-50cd8299d04d"
   },
   "outputs": [],
   "source": [
    "df_100m = px.data.iris() # iris is a pandas DataFrame\n",
    "fig = px.scatter(df_100m, x=\"Avg_Season_Best_100m\", y=\"100_PR\")\n",
    "fig.show()\n",
    "\n",
    "#fig.write_html(\"SB_100m_avg_vs_pr_scatter.html\")\n",
    "#fig.write_image(\"SB_100m_avg_vs_pr_scatter.svg\")"
   ]
  },
  {
   "cell_type": "markdown",
   "metadata": {
    "id": "6LXk-Pr-Jb_0"
   },
   "source": [
    "Version 3"
   ]
  },
  {
   "cell_type": "code",
   "execution_count": null,
   "metadata": {
    "colab": {
     "base_uri": "https://localhost:8080/",
     "height": 211
    },
    "executionInfo": {
     "elapsed": 259,
     "status": "error",
     "timestamp": 1729645293515,
     "user": {
      "displayName": "Johnny Test",
      "userId": "16509896550579327523"
     },
     "user_tz": 240
    },
    "id": "vCqSUeB1IlF0",
    "outputId": "9442f8ac-2ee7-4a46-97dd-742045ea1447"
   },
   "outputs": [],
   "source": [
    "df_100m = px.data.iris()\n",
    "fig = px.scatter(df_100m, x=\"Avg_Season_Best_100m\", y=\"100_PR\", color=\"Country\",\n",
    "                 size='Avg_Season_Best_100m', hover_data=['100_PR'])\n",
    "fig.show()\n",
    "\n",
    "#fig.write_html(\"SB_100m_avg_vs_pr_scatter_2.html\")\n",
    "#fig.write_image(\"SB_100m_avg_vs_pr_scatter_2.svg\")"
   ]
  },
  {
   "cell_type": "markdown",
   "metadata": {
    "id": "QO0S3yJOKsgo"
   },
   "source": [
    "Version 4 (With Error Bars)"
   ]
  },
  {
   "cell_type": "code",
   "execution_count": null,
   "metadata": {
    "id": "RNy3bub9Ks0p"
   },
   "outputs": [],
   "source": [
    "df_100m = px.data.iris()\n",
    "df_100m[\"e\"] = df_100m[\"Avg_Season_Best_100m\"]/100\n",
    "fig = px.scatter(df_100m, x=\"Avg_Season_Best_100m\", y=\"100_PR\", color=\"Country\",\n",
    "                 error_x=\"e\", error_y=\"e\")\n",
    "fig.show()\n",
    "\n",
    "#fig.write_html(\"SB_100m_avg_vs_pr_scatter_3.html\")\n",
    "#fig.write_image(\"SB_100m_avg_vs_pr_scatter_3.svg\")"
   ]
  },
  {
   "cell_type": "markdown",
   "metadata": {
    "id": "Zoknoe5UKtMX"
   },
   "source": [
    "Version 5 (Using Dash)"
   ]
  },
  {
   "cell_type": "code",
   "execution_count": null,
   "metadata": {
    "id": "_W3Cmd5WK5vy"
   },
   "outputs": [],
   "source": [
    "from dash import Dash, dcc, html, Input, Output"
   ]
  },
  {
   "cell_type": "code",
   "execution_count": null,
   "metadata": {
    "id": "l_4vFtXxKtfk"
   },
   "outputs": [],
   "source": [
    "\n",
    "\n",
    "app = Dash(__name__)\n",
    "\n",
    "\n",
    "app.layout = html.Div([\n",
    "    html.H4('Career Average 100m vs 100m PR'),\n",
    "    dcc.Graph(id=\"scatter-plot\"),\n",
    "    html.P(\"Filter by Career Season Best 100m:\"),\n",
    "    dcc.RangeSlider(\n",
    "        id='range-slider',\n",
    "        min=0, max=2.5, step=0.1,\n",
    "        marks={0: '0', 2.5: '2.5'},\n",
    "        value=[0.5, 2]\n",
    "    ),\n",
    "])\n",
    "\n",
    "\n",
    "@app.callback(\n",
    "    Output(\"scatter-plot\", \"figure\"),\n",
    "    Input(\"range-slider\", \"value\"))\n",
    "def update_bar_chart(slider_range):\n",
    "    df_100m = px.data.iris() # replace with your own data source\n",
    "    low, high = slider_range\n",
    "    mask = (df_100m['Avg_Season_Best_100m'] > low) & (df_100m['Avg_Season_Best_100m'] < high)\n",
    "    fig = px.scatter(\n",
    "        df[mask], x=\"Avg_Season_Best_100m\", y=\"100m_PR\",\n",
    "        color=\"Country\", size='Avg_Season_Best_100m',\n",
    "        hover_data=['100m_PR'])\n",
    "    return fig\n",
    "\n",
    "\n",
    "app.run_server(debug=True)\n",
    "\n",
    "#fig.write_html(\"SB_100m_avg_vs_pr_scatter_dash.html\")\n",
    "#fig.write_image(\"SB_100m_avg_vs_pr_scatter_dash.svg\")"
   ]
  },
  {
   "cell_type": "code",
   "execution_count": null,
   "metadata": {
    "colab": {
     "base_uri": "https://localhost:8080/",
     "height": 965
    },
    "executionInfo": {
     "elapsed": 405,
     "status": "error",
     "timestamp": 1729645335642,
     "user": {
      "displayName": "Johnny Test",
      "userId": "16509896550579327523"
     },
     "user_tz": 240
    },
    "id": "ZviyMlfp0m4E",
    "outputId": "ce2018b1-0f33-4b54-b206-4f274ee3fa48"
   },
   "outputs": [],
   "source": [
    "# @title Career Avg 100m vs 100_PR\n",
    "\n",
    "df_100m.plot(kind='scatter', x='Career_Avg_100m', y='100_PR', s=32, alpha=.8)\n",
    "plt.gca().spines[['top', 'right',]].set_visible(False)\n",
    "\n",
    "#plt.savefig('career_avg_100__vs_pr.png', format='png', dpi=300)\n",
    "#plt.savefig('career_avg_100_vs_pr.jpg', format='jpg', dpi=300)"
   ]
  },
  {
   "cell_type": "markdown",
   "metadata": {
    "id": "t4o_FZE92Vm0"
   },
   "source": [
    "Let's look at this more in depth"
   ]
  },
  {
   "cell_type": "code",
   "execution_count": null,
   "metadata": {
    "colab": {
     "base_uri": "https://localhost:8080/",
     "height": 373
    },
    "executionInfo": {
     "elapsed": 7,
     "status": "error",
     "timestamp": 1729645178101,
     "user": {
      "displayName": "Johnny Test",
      "userId": "16509896550579327523"
     },
     "user_tz": 240
    },
    "id": "S7ZE6QVBTKYA",
    "outputId": "842adcb7-720a-4c75-9c3e-da15e8435790"
   },
   "outputs": [],
   "source": [
    "plt.figure(figsize = (12,8))\n",
    "\n",
    "sns.scatterplot(data = df_100m, x = 'Career_Avg_100m', y = '100_PR',\n",
    "                hue = 'cylinders', palette = 'Blues', edgecolor = 'black'\n",
    "               )\n",
    "plt.title('Career Average 100m vs. 100m PR');"
   ]
  },
  {
   "cell_type": "code",
   "execution_count": null,
   "metadata": {
    "id": "i7VZrfIsTLUa"
   },
   "outputs": [],
   "source": [
    "quadrant_plot(df_100m['Career_Avg_100m'], df_100m['100_PR'], labels = ['Career Average 100m', '100m PR'], figsize = (12,8))"
   ]
  },
  {
   "cell_type": "code",
   "execution_count": null,
   "metadata": {
    "id": "r8KYmkC81UNk"
   },
   "outputs": [],
   "source": [
    "quadrant_plot(df_100m['Career_Avg_100m'],\n",
    "              df_100m['100_PR'],\n",
    "              labels = ['Career Average 100m', '100m PR'],\n",
    "              quadrant = 4,\n",
    "              figsize = (12,8))"
   ]
  },
  {
   "cell_type": "code",
   "execution_count": null,
   "metadata": {
    "id": "Q-2d8Yjn1UN4"
   },
   "outputs": [],
   "source": [
    "quadrant_plot(df_100m['Career_Avg_100m'],\n",
    "              df_100m['100_PR'],\n",
    "              labels = ['Career Average 100m', '100m PR'],\n",
    "              quadrant = 2,\n",
    "              figsize = (12,8))"
   ]
  },
  {
   "cell_type": "code",
   "execution_count": null,
   "metadata": {
    "id": "aU0fjAyu1UN5"
   },
   "outputs": [],
   "source": [
    "quadrant_plot(df_100m['Career_Avg_100m'],\n",
    "              df_100m['100_PR'],\n",
    "              labels = ['Career Average 100m', '100m PR'],\n",
    "              quadrant = 3,\n",
    "              figsize = (12,8))"
   ]
  },
  {
   "cell_type": "code",
   "execution_count": null,
   "metadata": {
    "id": "etSy_wC31UN5"
   },
   "outputs": [],
   "source": [
    "quadrant_plot(df_100m['Career_Avg_100m'],\n",
    "              df_100m['100_PR'],\n",
    "              labels = ['Career Average 100m', '100m PR'],\n",
    "              quadrant = 1,\n",
    "              figsize = (12,8))"
   ]
  },
  {
   "cell_type": "code",
   "execution_count": null,
   "metadata": {
    "id": "PFoKxnuI3Bgo"
   },
   "outputs": [],
   "source": [
    "half_plot(df_100m['Career_Avg_100m'], df_100m['100_PR'], labels = ['Career_Avg_100m', '100_PR'],\n",
    "          figsize = (12,8), half = 'left')"
   ]
  },
  {
   "cell_type": "code",
   "execution_count": null,
   "metadata": {
    "id": "Ry2IvR2t3Bg6"
   },
   "outputs": [],
   "source": [
    "half_plot(df_100m['Career_Avg_100m'], df_100m['100_PR'], labels = ['Career_Avg_100m', '100_PR'],\n",
    "          figsize = (12,8), half = 'right')"
   ]
  },
  {
   "cell_type": "code",
   "execution_count": null,
   "metadata": {
    "colab": {
     "base_uri": "https://localhost:8080/",
     "height": 1000
    },
    "executionInfo": {
     "elapsed": 985,
     "status": "error",
     "timestamp": 1729645385990,
     "user": {
      "displayName": "Johnny Test",
      "userId": "16509896550579327523"
     },
     "user_tz": 240
    },
    "id": "FbQXQz_fT0MA",
    "outputId": "3bd7f15d-c25d-4b35-daf2-85e7f4412e1a"
   },
   "outputs": [],
   "source": [
    "fig, ax = plt.subplots(figsize = (12,8))\n",
    "df_100m.plot(kind = 'scatter', x = 'Career_Avg_100m', y = '100_PR', ax = ax)\n",
    "\n",
    "x = np.linspace(df_100m['Career_Avg_100m'].min(), df_100m['100_PR'].max(), 100)\n",
    "z = np.polyfit(df_100m['Career_Avg_100m'], df_100m['100_PR'], 1)\n",
    "p = np.poly1d(z)\n",
    "plt.plot(x,p(x),\"r--\")\n",
    "\n",
    "plt.title('Career Average 100m vs. 100m PR');"
   ]
  },
  {
   "cell_type": "markdown",
   "metadata": {
    "id": "wuvrPgdSmOYe"
   },
   "source": [
    "Heatmaps"
   ]
  },
  {
   "cell_type": "code",
   "execution_count": null,
   "metadata": {
    "colab": {
     "base_uri": "https://localhost:8080/",
     "height": 356
    },
    "executionInfo": {
     "elapsed": 259,
     "status": "error",
     "timestamp": 1729645398500,
     "user": {
      "displayName": "Johnny Test",
      "userId": "16509896550579327523"
     },
     "user_tz": 240
    },
    "id": "YH6plb-amO4h",
    "outputId": "0eaaa4c4-aa7a-4a30-a08f-0beb7739396a"
   },
   "outputs": [],
   "source": [
    "# Calculate the average 100m PR per country\n",
    "avg_100m_pr_per_country = df_100m.groupby('Country')['100_PR'].mean().reset_index()\n",
    "\n",
    "fig = px.choropleth(avg_100m_pr_per_country,\n",
    "                    locations=\"Country\",\n",
    "                    locationmode='country names',\n",
    "                    color=\"100_PR\",\n",
    "                    hover_name=\"Country\",\n",
    "                    color_continuous_scale=\"Viridis\",\n",
    "                    title=\"Average 100m Personal Records by Country (Faster = Darker)\")\n",
    "\n",
    "fig.show()\n",
    "#fig.write_html(\"avg_100m_PR_country_map.html\")\n",
    "#fig.write_image(\"avg_100m_PR_country_map.svg\")"
   ]
  },
  {
   "cell_type": "code",
   "execution_count": null,
   "metadata": {
    "colab": {
     "base_uri": "https://localhost:8080/",
     "height": 542
    },
    "executionInfo": {
     "elapsed": 2382,
     "status": "ok",
     "timestamp": 1729645425552,
     "user": {
      "displayName": "Johnny Test",
      "userId": "16509896550579327523"
     },
     "user_tz": 240
    },
    "id": "FhM3-NwjmnOr",
    "outputId": "860a747f-c5a5-4995-a9d1-46d5913d7c06"
   },
   "outputs": [],
   "source": [
    "# Extract birth months from DOB\n",
    "sprinters['Birth Month'] = pd.DatetimeIndex(sprinters['DOB']).month\n",
    "\n",
    "# Find the most common birth month for sprinters in each country\n",
    "common_birth_month = sprinters.groupby('Country')['Birth Month'].agg(lambda x: x.value_counts().index[0]).reset_index()\n",
    "\n",
    "fig = px.choropleth(common_birth_month,\n",
    "                    locations=\"Country\",\n",
    "                    locationmode='country names',\n",
    "                    color=\"Birth Month\",\n",
    "                    hover_name=\"Country\",\n",
    "                    title=\"Most Common Birth Month for Sprinters by Country\")\n",
    "\n",
    "fig.show()\n",
    "#fig.write_html(\"birth_month_distribution_country_map.html\")\n",
    "#fig.write_image(\"birth_month_distribution_country_map.svg\")"
   ]
  },
  {
   "cell_type": "code",
   "execution_count": null,
   "metadata": {
    "colab": {
     "base_uri": "https://localhost:8080/",
     "height": 542
    },
    "executionInfo": {
     "elapsed": 343,
     "status": "ok",
     "timestamp": 1729645440740,
     "user": {
      "displayName": "Johnny Test",
      "userId": "16509896550579327523"
     },
     "user_tz": 240
    },
    "id": "JhzE1zU3m6Eo",
    "outputId": "d18c0b19-b670-43d5-8001-ec4e24f1e44f"
   },
   "outputs": [],
   "source": [
    "# Extract the birth year and decade\n",
    "sprinters['Birth Year'] = pd.DatetimeIndex(sprinters['DOB']).year\n",
    "sprinters['Decade'] = (sprinters['Birth Year'] // 10) * 10\n",
    "\n",
    "# Calculate the average 100m PR by country and decade\n",
    "avg_100m_per_decade = sprinters.groupby(['Country', 'Decade'])['100_PR'].mean().reset_index()\n",
    "\n",
    "fig = px.choropleth(avg_100m_per_decade,\n",
    "                    locations=\"Country\",\n",
    "                    locationmode='country names',\n",
    "                    color=\"100_PR\",\n",
    "                    animation_frame=\"Decade\",  # Animate through decades\n",
    "                    hover_name=\"Country\",\n",
    "                    color_continuous_scale=\"Viridis\",\n",
    "                    title=\"Average 100m Personal Records by Decade\")\n",
    "\n",
    "fig.show()\n",
    "#fig.write_html(\"100m_sprinter_performance_by_decade_country_map.html\")\n",
    "#fig.write_image(\"100m_sprinter_performance_by_decade_country_map.svg\")"
   ]
  },
  {
   "cell_type": "markdown",
   "metadata": {
    "id": "dYalNUR_SlMf"
   },
   "source": [
    "# ***Statistical Analysis 100m***"
   ]
  },
  {
   "cell_type": "code",
   "execution_count": null,
   "metadata": {
    "executionInfo": {
     "elapsed": 586,
     "status": "ok",
     "timestamp": 1729645479382,
     "user": {
      "displayName": "Johnny Test",
      "userId": "16509896550579327523"
     },
     "user_tz": 240
    },
    "id": "ZKQA3I0jSsUx"
   },
   "outputs": [],
   "source": [
    "from scipy.stats import zscore\n",
    "from sklearn.linear_model import LinearRegression"
   ]
  },
  {
   "cell_type": "markdown",
   "metadata": {
    "id": "T8YT-U2aS9qD"
   },
   "source": [
    "Linear Regression"
   ]
  },
  {
   "cell_type": "code",
   "execution_count": null,
   "metadata": {
    "colab": {
     "base_uri": "https://localhost:8080/",
     "height": 547
    },
    "executionInfo": {
     "elapsed": 459,
     "status": "error",
     "timestamp": 1729645482090,
     "user": {
      "displayName": "Johnny Test",
      "userId": "16509896550579327523"
     },
     "user_tz": 240
    },
    "id": "UknXYw3KTAMi",
    "outputId": "0801a4bf-844b-41f6-c881-c06a35b3eef8"
   },
   "outputs": [],
   "source": [
    "# Function to calculate standard deviation (consistency)\n",
    "df_100m['consistency'] = df_100m['Avg_Season_Best_100m']  # Placeholder: You could replace with actual std per year data if available\n",
    "\n",
    "### 1. Regression Analysis ###\n",
    "# Linear regression: relationship between average_time and years_competed\n",
    "X = df_100m[['Years_Competed_100m', '100_PR']]\n",
    "y = df_100m['Avg_Season_Best_100m']\n",
    "\n",
    "# Fit model\n",
    "model = LinearRegression()\n",
    "model.fit(X, y)\n",
    "\n",
    "# Predictions and residuals\n",
    "df_100m['predicted_time'] = model.predict(X)\n",
    "df_100m['residuals'] = df_100m['Avg_Season_Best_100m'] - df_100m['predicted_time']\n",
    "\n",
    "print(\"Regression coefficients (slope):\", model.coef_)\n",
    "print(\"Intercept:\", model.intercept_)\n"
   ]
  },
  {
   "cell_type": "markdown",
   "metadata": {
    "id": "rEbDG1HQUHob"
   },
   "source": [
    "Z-Score Standardization"
   ]
  },
  {
   "cell_type": "code",
   "execution_count": null,
   "metadata": {
    "colab": {
     "base_uri": "https://localhost:8080/",
     "height": 547
    },
    "executionInfo": {
     "elapsed": 387,
     "status": "error",
     "timestamp": 1729645512749,
     "user": {
      "displayName": "Johnny Test",
      "userId": "16509896550579327523"
     },
     "user_tz": 240
    },
    "id": "qnon0kvuUI3i",
    "outputId": "40711947-ab3e-4824-de15-970066e2ce92"
   },
   "outputs": [],
   "source": [
    "# Z-score for average_time and years_competed\n",
    "df_100m['z_time'] = zscore(df_100m['Avg_Season_Best_100m'])\n",
    "df_100m['z_years'] = zscore(df_100m['Years_Competed_100m'])\n",
    "df_100m['z_PR'] = zscore(df_100m['100_PR'])\n",
    "df_100m['z_career_avg_season'] = zscore(df_100m['Career_Avg_100m'])\n",
    "df_100m['z_total_races'] = zscore(df_100m['total_races_100m'])\n",
    "df_100m['z_races_per_year'] = zscore(df_100m['Avg_Races_Year_100m'])\n",
    "\n",
    "# Z-score comparison (combine time and years)\n",
    "df_100m['z_combined'] = (df_100m['z_time'] + df_100m['z_years'] + df_100m['z_PR'] + df_100m['z_career_avg_season'] + df_100m['z_total_races'] + df_100m['z_races_per_year'])  / 6"
   ]
  },
  {
   "cell_type": "markdown",
   "metadata": {
    "id": "eWbg5YApUJSE"
   },
   "source": [
    "Efficiency / Ratio Analysis"
   ]
  },
  {
   "cell_type": "code",
   "execution_count": null,
   "metadata": {
    "id": "irhRVUgxUnJW"
   },
   "outputs": [],
   "source": [
    "# Efficiency score (average_time per year competed)\n",
    "df_100m['efficiency_score'] = df_100m['Avg_Season_Best_100m'] / df_100m['Years_Competed_100m']\n",
    "\n",
    "# Efficiency score: How close the sprinter's average season best is to their personal best\n",
    "df_100m['efficiency_score_sb'] = df_100m['100_PR'] / df_100m['Avg_Season_Best_100m']\n",
    "\n",
    "# Efficiency score: How close the sprinter's average is to their personal best\n",
    "df_100m['efficiency_score_pr'] = df_100m['100_PR'] / df_100m['Career_Avg_100m']"
   ]
  },
  {
   "cell_type": "markdown",
   "metadata": {
    "id": "xH0D_sEvWBwU"
   },
   "source": [
    "Ranking System"
   ]
  },
  {
   "cell_type": "code",
   "execution_count": null,
   "metadata": {
    "id": "HOn30MP8WCJO"
   },
   "outputs": [],
   "source": [
    "# Combine rankings based on average_time, consistency, and longevity (years_competed)\n",
    "df_100m['rank_personal_best'] = df_100m['100_PR'].rank(ascending=True)  # Lower personal best is better\n",
    "df_100m['rank_average_sb'] = df_100m['Avg_Season_Best_100m'].rank(ascending=True)  # Lower is better\n",
    "df_100m['rank_career_avg'] = df_100m['Career_Avg_100m'].rank(ascending=True)\n",
    "#df_100m['rank_consistency'] = df_100m['consistency'].rank(ascending=True)  # Lower std dev is better\n",
    "df_100m['rank_consistency'] = df_100m['consistency'].abs().rank(ascending=True) # Lower residuals (consistency) is better\n",
    "df_100m['rank_years_competed'] = df_100m['Years_Competed_100m'].rank(ascending=False)  # Longer careers are better\n",
    "df_100m['rank_total_races'] = df_100m['total_races_100m'].rank(ascending=False)  # More races is better\n",
    "df_100m['rank_races_per_year'] = df_100m['Avg_Races_Year_100m'].rank(ascending=False)  # More races per year is better\n",
    "\n",
    "#Final ranking\n",
    "df_100m['final_rank'] = df_100m[['rank_personal_best','rank_average_sb', 'rank_career_avg', 'rank_consistency', 'rank_years_competed','rank_total_races','rank_races_per_year']].mean(axis=1)"
   ]
  },
  {
   "cell_type": "markdown",
   "metadata": {
    "id": "jryIHuHZWCmc"
   },
   "source": [
    "Scatter Plot Visualization"
   ]
  },
  {
   "cell_type": "code",
   "execution_count": null,
   "metadata": {
    "id": "xlyXqBfOWC-D"
   },
   "outputs": [],
   "source": [
    "plt.figure(figsize=(10, 6))\n",
    "sns.scatterplot(x='Years_Competed_100m', y='Avg_Season_Best_100m', data=df_100m, s=100, hue='final_rank', palette='coolwarm')\n",
    "plt.title('Years Competed vs. Season Best Average 100m Time')\n",
    "plt.xlabel('Years Competed')\n",
    "plt.ylabel('Season Best Average 100m Time (s)')\n",
    "plt.show()\n",
    "\n",
    "#plt.savefig('SB_avg_100_vs_yrs_competed_ranked.png', format='png', dpi=300)\n",
    "#plt.savefig('SB_avg_100_vs_yrs_competed_ranked.jpg', format='jpg', dpi=300)"
   ]
  },
  {
   "cell_type": "code",
   "execution_count": null,
   "metadata": {
    "id": "w_4v0XIV6gSP"
   },
   "outputs": [],
   "source": [
    "plt.figure(figsize=(10, 6))\n",
    "sns.scatterplot(x='Years_Competed_100m', y='Career_Avg_100m', data=df_100m, s=100, hue='final_rank', palette='coolwarm')\n",
    "plt.title('Years Competed vs. Career Average 100m Time')\n",
    "plt.xlabel('Years Competed')\n",
    "plt.ylabel('Career Average 100m Time (s)')\n",
    "plt.show()\n",
    "\n",
    "#plt.savefig('Career_avg_100_vs_yrs_competed_ranked.png', format='png', dpi=300)\n",
    "#plt.savefig('Career_avg_100_vs_yrs_competed_ranked.jpg', format='jpg', dpi=300)"
   ]
  },
  {
   "cell_type": "code",
   "execution_count": null,
   "metadata": {
    "id": "3b0Nk2Y67wh9"
   },
   "outputs": [],
   "source": [
    "plt.figure(figsize=(10, 6))\n",
    "sns.scatterplot(x='Years_Competed_100m', y='100_PR', data=df_100m, s=100, hue='final_rank', palette='coolwarm')\n",
    "plt.title('Years Competed vs. 100m PR')\n",
    "plt.xlabel('Years Competed')\n",
    "plt.ylabel('100m PR (s)')\n",
    "plt.show()\n",
    "\n",
    "#plt.savefig('100_PR_vs_yrs_competed_ranked.png', format='png', dpi=300)\n",
    "#plt.savefig('100m_PR_vs_yrs_competed_ranked.jpg', format='jpg', dpi=300)"
   ]
  },
  {
   "cell_type": "markdown",
   "metadata": {
    "id": "2B3jlcAmYXuO"
   },
   "source": [
    "Interactive Scatter Plot"
   ]
  },
  {
   "cell_type": "code",
   "execution_count": null,
   "metadata": {
    "id": "EFlnsoreYcw1"
   },
   "outputs": [],
   "source": [
    "# @title Years Competed vs. Season Best Average 100m Time\n",
    "\n",
    "df_100m = px.data.iris()\n",
    "fig = px.scatter(df_100m, x=\"Years_Competed_100m\", y=\"Avg_Season_Best_100m\", color=\"final_rank\",\n",
    "                 size='Years_Competed_100m', hover_data=['Avg_Season_Best_100m']) #Potentially switch out career average for personal record regarding hover data.\n",
    "fig.show()\n",
    "\n",
    "#fig.write_html(\"SB_avg_100_vs_yrs_competed_ranked.html\")\n",
    "#fig.write_image(\"SB_avg_100_vs_yrs_competed_ranked.svg\")"
   ]
  },
  {
   "cell_type": "code",
   "execution_count": null,
   "metadata": {
    "id": "MG00C14c69Tt"
   },
   "outputs": [],
   "source": [
    "# @title Years Competed vs. Career Average 100m Time\n",
    "\n",
    "df_100m = px.data.iris()\n",
    "fig = px.scatter(df_100m, x=\"Years_Competed_100m\", y=\"Career_Avg_100m\", color=\"final_rank\",\n",
    "                 size='Years_Competed_100m', hover_data=['Career_Avg_100m']) #Potentially switch out career average for personal record regarding hover data.\n",
    "fig.show()\n",
    "\n",
    "#fig.write_html(\"Career_avg_100_vs_yrs_competed_ranked.html\")\n",
    "#fig.write_image(\"Career_avg_100_vs_yrs_competed_ranked.svg\")"
   ]
  },
  {
   "cell_type": "code",
   "execution_count": null,
   "metadata": {
    "id": "JPT0jFGL7Q0P"
   },
   "outputs": [],
   "source": [
    "# @title Years Competed vs. 100m PR\n",
    "\n",
    "df_100m = px.data.iris()\n",
    "fig = px.scatter(df_100m, x=\"Years_Competed_100m\", y=\"100_PR\", color=\"final_rank\",\n",
    "                 size='Years_Competed_100m', hover_data=['100_PR'])\n",
    "fig.show()\n",
    "\n",
    "#fig.write_html(\"100m_PR_vs_yrs_competed_ranked.html\")\n",
    "#fig.write_image(\"100m_PR_vs_yrs_competed_ranked.svg\")"
   ]
  },
  {
   "cell_type": "code",
   "execution_count": null,
   "metadata": {
    "id": "fYoTQ7CxZfxA"
   },
   "outputs": [],
   "source": [
    "print(df_100m[['Athlete', 'Avg_Season_Best_100m', 'Career_Avg_100m', '100_PR', 'Years_Competed_100m','total_races_100m', 'Avg_Races_Year_100m', 'residuals', 'z_combined', 'efficiency_score', 'efficiency_score_sb','efficiency_score_pr','final_rank']])"
   ]
  },
  {
   "cell_type": "code",
   "execution_count": null,
   "metadata": {
    "id": "Xvx0UaliZgIO"
   },
   "outputs": [],
   "source": [
    "df_100m_stat_analysis = df_100m[['Athlete', 'Avg_Season_Best_100m', 'Career_Avg_100m', '100_PR', 'Years_Competed_100m', 'total_races_100m', 'races_per_year_100m','residuals', 'z_combined', 'efficiency_score', 'efficiency_score_sb', 'efficiency_score_pr','final_rank']]"
   ]
  },
  {
   "cell_type": "code",
   "execution_count": null,
   "metadata": {
    "id": "yvIELc46Z8jl"
   },
   "outputs": [],
   "source": [
    "df_100m_stat_analysis = df_100m_stat_analysis.sort_values(by='final_rank')\n",
    "df_100m_stat_analysis.head(3)"
   ]
  },
  {
   "cell_type": "code",
   "execution_count": null,
   "metadata": {
    "id": "mjcgLaHXcUkE"
   },
   "outputs": [],
   "source": [
    "#What sample size of the dataframe to we want to make into a figure factory table\n",
    "df_100m_stat_analysis_sample = df_100m_stat_analysis[1:10]\n",
    "\n",
    "#Cusomize Colors (Add colorscale=colorscale in parentheses of ff.create table)\n",
    "#colorscale = [[0, '#4d004c'],[.5, '#f2e5ff'],[1, '#ffffff']]\n",
    "#Cusomize Font Colors (Add font_colors=font in parentheses of ff.create table)\n",
    "#font=['#FCFCFC', '#00EE00', '#008B00', '#004F00', '#660000', '#CD0000', '#FF3030']\n",
    "\n",
    "table_data = df_100m_stat_analysis\n",
    "\n",
    "\n",
    "fig =  ff.create_table(df_100m_stat_analysis_sample)\n",
    "fig.show()\n",
    "\n",
    "#fig.write_html(\"df_100m_stat_analysis_sample_ff.html\")\n",
    "#fig.write_image(\"df_100m_stat_analysis_sample_ff.svg\")\n"
   ]
  },
  {
   "cell_type": "code",
   "execution_count": null,
   "metadata": {
    "id": "DTfRk8w0cUka"
   },
   "outputs": [],
   "source": [
    "fig =  ff.create_table(df_100m_stat_analysis)\n",
    "fig.show()\n",
    "\n",
    "#fig.write_html(\"df_100m_stat_analysis_ff.html\")\n",
    "#fig.write_image(\"df_100m_stat_analysis_ff.svg\")"
   ]
  },
  {
   "cell_type": "code",
   "execution_count": null,
   "metadata": {
    "id": "k1-jSmupcAd2"
   },
   "outputs": [],
   "source": [
    "fig =  ff.create_table(df_100m)\n",
    "fig.show()\n",
    "\n",
    "#fig.write_html(\"df_100m_ff.html\")\n",
    "#fig.write_image(\"df_100m_ff.svg\")"
   ]
  },
  {
   "cell_type": "code",
   "execution_count": null,
   "metadata": {
    "id": "txtRih4CIqy4"
   },
   "outputs": [],
   "source": [
    "df_100m = pd.DataFrame(df_100m)"
   ]
  },
  {
   "cell_type": "code",
   "execution_count": null,
   "metadata": {
    "id": "f2WEyNaUVaCh"
   },
   "outputs": [],
   "source": [
    "df_100m_stat_analysis = pd.DataFrame(df_100m_stat_analysis)"
   ]
  },
  {
   "cell_type": "markdown",
   "metadata": {
    "id": "GcOy5is8zNLT"
   },
   "source": [
    "# **Analysis of Personal Best Data (PB/PR)**"
   ]
  },
  {
   "cell_type": "code",
   "execution_count": null,
   "metadata": {
    "colab": {
     "base_uri": "https://localhost:8080/",
     "height": 141
    },
    "executionInfo": {
     "elapsed": 23,
     "status": "error",
     "timestamp": 1723675265923,
     "user": {
      "displayName": "Johnny Test",
      "userId": "16509896550579327523"
     },
     "user_tz": 240
    },
    "id": "1Hi6covq0D8I",
    "outputId": "de59986e-b480-4209-a89c-86392ee28332"
   },
   "outputs": [],
   "source": [
    "sprinters['100_PR'].mean()"
   ]
  },
  {
   "cell_type": "code",
   "execution_count": null,
   "metadata": {
    "id": "84KbLl4s0D8Z"
   },
   "outputs": [],
   "source": [
    "sprinters['100_PR'].median()"
   ]
  },
  {
   "cell_type": "code",
   "execution_count": null,
   "metadata": {
    "id": "L1LhtTK70D8a"
   },
   "outputs": [],
   "source": [
    "sprinters['100_PR'].max()"
   ]
  },
  {
   "cell_type": "code",
   "execution_count": null,
   "metadata": {
    "id": "ZL4esLsq0D8a"
   },
   "outputs": [],
   "source": [
    "sprinters.nlargest(1,'100_PR')"
   ]
  },
  {
   "cell_type": "code",
   "execution_count": null,
   "metadata": {
    "id": "hg737bj-0D8a"
   },
   "outputs": [],
   "source": [
    "sprinters.nsmallest(1,'100_PR')"
   ]
  },
  {
   "cell_type": "code",
   "execution_count": null,
   "metadata": {
    "id": "M1EwmnvA0D8a"
   },
   "outputs": [],
   "source": [
    "sprinters['100_PR'].max()- sprinters['100_PR'].min()\n"
   ]
  },
  {
   "cell_type": "markdown",
   "metadata": {
    "id": "CcAH8m8o0D8b"
   },
   "source": [
    "Variance and Standard Devivation\n"
   ]
  },
  {
   "cell_type": "code",
   "execution_count": null,
   "metadata": {
    "id": "IqMXpX3g0D8b"
   },
   "outputs": [],
   "source": [
    "sprinters['100_PR_deviation'] = sprinters['100_PR'] - sprinters['100_PR'].mean()\n",
    "sprinters.head()"
   ]
  },
  {
   "cell_type": "code",
   "execution_count": null,
   "metadata": {
    "id": "n1brpe2n0D8b"
   },
   "outputs": [],
   "source": [
    "sprinters['100_PR'].std()\n"
   ]
  },
  {
   "cell_type": "code",
   "execution_count": null,
   "metadata": {
    "id": "qprkzvak0D8b"
   },
   "outputs": [],
   "source": [
    "sprinters['100_PR_deviation'].mean()\n"
   ]
  },
  {
   "cell_type": "code",
   "execution_count": null,
   "metadata": {
    "id": "mln9xYtd0D8c"
   },
   "outputs": [],
   "source": [
    "sprinters['squared_100_PR_deviation'] = sprinters['100_PR_deviation']**2\n",
    "sprinters"
   ]
  },
  {
   "cell_type": "markdown",
   "metadata": {
    "id": "hgsAvSA30D8c"
   },
   "source": [
    "Population Standard Deviation\n",
    "\n"
   ]
  },
  {
   "cell_type": "code",
   "execution_count": null,
   "metadata": {
    "id": "dReaPuK60D8c"
   },
   "outputs": [],
   "source": [
    "np.sqrt(sprinters['squared_100_PR_deviation'].mean())"
   ]
  },
  {
   "cell_type": "code",
   "execution_count": null,
   "metadata": {
    "id": "57SA9Zqw0D8d"
   },
   "outputs": [],
   "source": [
    "sprinters['100_PR'].var(ddof = 0)\n"
   ]
  },
  {
   "cell_type": "code",
   "execution_count": null,
   "metadata": {
    "id": "M0vTmqCX0D8d"
   },
   "outputs": [],
   "source": [
    "sprinters['100_PR'].std(ddof = 0)\n"
   ]
  },
  {
   "cell_type": "code",
   "execution_count": null,
   "metadata": {
    "id": "DP1NJqfX0D8d"
   },
   "outputs": [],
   "source": [
    "plt.figure(figsize = (10,6))\n",
    "\n",
    "std_plot(sprinters['100_PR'], edgecolor = 'black', linewidth = 2)"
   ]
  },
  {
   "cell_type": "markdown",
   "metadata": {
    "id": "LdUc2wmb0D8d"
   },
   "source": [
    "z-scores"
   ]
  },
  {
   "cell_type": "code",
   "execution_count": null,
   "metadata": {
    "id": "w6wmSs0Y0D8e"
   },
   "outputs": [],
   "source": [
    "sprinters['100_PR_z-score'] = (sprinters['100_PR'] - sprinters['100_PR'].mean()) / sprinters['100_PR'].std(ddof = 0)\n"
   ]
  },
  {
   "cell_type": "code",
   "execution_count": null,
   "metadata": {
    "id": "QZ2jZ5-p0D8e"
   },
   "outputs": [],
   "source": [
    "sprinters['100_PR_z-score'].std()\n"
   ]
  },
  {
   "cell_type": "markdown",
   "metadata": {
    "id": "6zyLZt6u0D8e"
   },
   "source": [
    "Let's look at height z-scores for Usain Bolt"
   ]
  },
  {
   "cell_type": "code",
   "execution_count": null,
   "metadata": {
    "id": "zcJW7Ski0D8e"
   },
   "outputs": [],
   "source": [
    "sprinters.loc[(sprinters.Athlete == 'Usain Bolt')]\n"
   ]
  },
  {
   "cell_type": "markdown",
   "metadata": {
    "id": "tiUafser0D8f"
   },
   "source": [
    "Quartiles and Quantiles/Percentiles\n"
   ]
  },
  {
   "cell_type": "code",
   "execution_count": null,
   "metadata": {
    "id": "81C6OGK30D8f"
   },
   "outputs": [],
   "source": [
    "sprinters['100_PR'].quantile(q = 0.25)\n"
   ]
  },
  {
   "cell_type": "code",
   "execution_count": null,
   "metadata": {
    "id": "XYqJZav60D8f"
   },
   "outputs": [],
   "source": [
    "sprinters['100_PR'].quantile(q = 0.5)\n"
   ]
  },
  {
   "cell_type": "code",
   "execution_count": null,
   "metadata": {
    "id": "crIgN2ul0D8f"
   },
   "outputs": [],
   "source": [
    "sprinters['100_PR'].quantile(q = 0.75)\n"
   ]
  },
  {
   "cell_type": "code",
   "execution_count": null,
   "metadata": {
    "id": "EhHicfmE0D8g"
   },
   "outputs": [],
   "source": [
    "sprinters['100_PR'].describe()\n"
   ]
  },
  {
   "cell_type": "markdown",
   "metadata": {
    "id": "oH00iwGb0D8g"
   },
   "source": [
    "Interquartile Range\n",
    "\n"
   ]
  },
  {
   "cell_type": "code",
   "execution_count": null,
   "metadata": {
    "id": "eiThHVZn0D8h"
   },
   "outputs": [],
   "source": [
    "sprinters['100_PR'].quantile(q = 0.75) - sprinters['100_PR'].quantile(q = 0.25)\n"
   ]
  },
  {
   "cell_type": "code",
   "execution_count": null,
   "metadata": {
    "id": "0i9UnQwx0D8h"
   },
   "outputs": [],
   "source": [
    "plt.figure(figsize = (10,6))\n",
    "\n",
    "iqr_plot(sprinters['100_PR'], bins = 25, edgecolor = 'black', linewidth = 2)"
   ]
  },
  {
   "cell_type": "markdown",
   "metadata": {
    "id": "8C_YG4Qa0D8h"
   },
   "source": [
    "Observing Outliers in the Dataset\n",
    "\n"
   ]
  },
  {
   "cell_type": "code",
   "execution_count": null,
   "metadata": {
    "id": "YqIMNg-t0D8h"
   },
   "outputs": [],
   "source": [
    "plt.figure(figsize = (10,6))\n",
    "sns.boxplot(x = sprinters['100_PR']);"
   ]
  },
  {
   "cell_type": "markdown",
   "metadata": {
    "id": "BmOm11wQH_v3"
   },
   "source": [
    "Visualizations"
   ]
  },
  {
   "cell_type": "code",
   "execution_count": null,
   "metadata": {
    "id": "ZhHFX6gfH_wi"
   },
   "outputs": [],
   "source": [
    "sprinters['100_PR'].hist();"
   ]
  },
  {
   "cell_type": "code",
   "execution_count": null,
   "metadata": {
    "id": "U45tfuypH_wj"
   },
   "outputs": [],
   "source": [
    "probplot(sprinters['100_PR'], plot=plt);"
   ]
  },
  {
   "cell_type": "code",
   "execution_count": null,
   "metadata": {
    "id": "eX1NRXp-H_wj"
   },
   "outputs": [],
   "source": [
    "plt.figure(figsize = (10,6))\n",
    "\n",
    "std_plot(sprinters['100_PR'], edgecolor = 'black', linewidth = 2)"
   ]
  },
  {
   "cell_type": "code",
   "execution_count": null,
   "metadata": {
    "id": "gYLig3A1H_wj"
   },
   "outputs": [],
   "source": [
    "plt.figure(figsize = (10,6))\n",
    "\n",
    "iqr_plot(sprinters['100_PR'], bins = 25, edgecolor = 'black', linewidth = 2)"
   ]
  },
  {
   "cell_type": "code",
   "execution_count": null,
   "metadata": {
    "id": "jPARGU9KH_wk"
   },
   "outputs": [],
   "source": [
    "plt.figure(figsize = (10,6))\n",
    "sns.boxplot(x = sprinters['100_PR']);"
   ]
  },
  {
   "cell_type": "markdown",
   "metadata": {
    "id": "Enwi65b6qZO9"
   },
   "source": [
    "# **Analysis of Season Best Data**"
   ]
  },
  {
   "cell_type": "code",
   "execution_count": null,
   "metadata": {
    "id": "S-kiMkLLrHgu"
   },
   "outputs": [],
   "source": [
    "SB_100m = sprinters_df2[sprinters_df2['Event'] == '100m']"
   ]
  },
  {
   "cell_type": "code",
   "execution_count": null,
   "metadata": {
    "colab": {
     "base_uri": "https://localhost:8080/",
     "height": 141
    },
    "executionInfo": {
     "elapsed": 23,
     "status": "error",
     "timestamp": 1723675265923,
     "user": {
      "displayName": "Johnny Test",
      "userId": "16509896550579327523"
     },
     "user_tz": 240
    },
    "id": "yjLnIPaaB8_M",
    "outputId": "de59986e-b480-4209-a89c-86392ee28332"
   },
   "outputs": [],
   "source": [
    "SB_100m['Time'].mean()"
   ]
  },
  {
   "cell_type": "code",
   "execution_count": null,
   "metadata": {
    "id": "HY3Z_4smB9VH"
   },
   "outputs": [],
   "source": [
    "SB_100m['Time'].median()"
   ]
  },
  {
   "cell_type": "code",
   "execution_count": null,
   "metadata": {
    "id": "klpWE7F6B9hG"
   },
   "outputs": [],
   "source": [
    "SB_100m['Time'].max()"
   ]
  },
  {
   "cell_type": "code",
   "execution_count": null,
   "metadata": {
    "id": "dHK8RyCLB9rG"
   },
   "outputs": [],
   "source": [
    "SB_100m.nlargest(1,'Time')"
   ]
  },
  {
   "cell_type": "code",
   "execution_count": null,
   "metadata": {
    "id": "AsxX2Uh_B92p"
   },
   "outputs": [],
   "source": [
    "SB_100m.nsmallest(1,'Time')"
   ]
  },
  {
   "cell_type": "code",
   "execution_count": null,
   "metadata": {
    "id": "KiN_zSDzB-EE"
   },
   "outputs": [],
   "source": [
    "SB_100m['Time'].max()- SB_100m['Time'].min()\n"
   ]
  },
  {
   "cell_type": "markdown",
   "metadata": {
    "id": "a9SflrD4DHpj"
   },
   "source": [
    "Variance and Standard Devivation\n"
   ]
  },
  {
   "cell_type": "code",
   "execution_count": null,
   "metadata": {
    "id": "wf8OUQC7Daij"
   },
   "outputs": [],
   "source": [
    "SB_100m['100m_SB_deviation'] = SB_100m['Time'] - SB_100m['Time'].mean()\n",
    "SB_100m.head()"
   ]
  },
  {
   "cell_type": "code",
   "execution_count": null,
   "metadata": {
    "id": "yoTVyMZiDas-"
   },
   "outputs": [],
   "source": [
    "SB_100m['Time'].std()\n"
   ]
  },
  {
   "cell_type": "code",
   "execution_count": null,
   "metadata": {
    "id": "8yYAtdweDa0g"
   },
   "outputs": [],
   "source": [
    "SB_100m['100m_SB_deviation'].mean()\n"
   ]
  },
  {
   "cell_type": "code",
   "execution_count": null,
   "metadata": {
    "id": "NKhDeZ1pDbF7"
   },
   "outputs": [],
   "source": [
    "SB_100m['squared_100m_SB_deviation'] = SB_100m['100m_SB_deviation']**2\n",
    "SB_100m"
   ]
  },
  {
   "cell_type": "markdown",
   "metadata": {
    "id": "qnzAnD9zD-Hq"
   },
   "source": [
    "Population Standard Deviation\n",
    "\n"
   ]
  },
  {
   "cell_type": "code",
   "execution_count": null,
   "metadata": {
    "id": "XGRZSWJfECL1"
   },
   "outputs": [],
   "source": [
    "np.sqrt(SB_100m['squared_100m_SB_deviation'].mean())"
   ]
  },
  {
   "cell_type": "code",
   "execution_count": null,
   "metadata": {
    "id": "LRXab83OECbh"
   },
   "outputs": [],
   "source": [
    "SB_100m['Time'].var(ddof = 0)\n"
   ]
  },
  {
   "cell_type": "code",
   "execution_count": null,
   "metadata": {
    "id": "fJ2ap6lHECjc"
   },
   "outputs": [],
   "source": [
    "SB_100m['Time'].std(ddof = 0)\n"
   ]
  },
  {
   "cell_type": "code",
   "execution_count": null,
   "metadata": {
    "id": "NzFQdZ_zECrK"
   },
   "outputs": [],
   "source": [
    "plt.figure(figsize = (10,6))\n",
    "\n",
    "std_plot(SB_100m['Time'], edgecolor = 'black', linewidth = 2)"
   ]
  },
  {
   "cell_type": "markdown",
   "metadata": {
    "id": "pPNMzEoqFH_6"
   },
   "source": [
    "z-scores"
   ]
  },
  {
   "cell_type": "code",
   "execution_count": null,
   "metadata": {
    "id": "_Gr_VaA_FIjI"
   },
   "outputs": [],
   "source": [
    "SB_100m['100m_SB_z-score'] = (SB_100m['Time'] - SB_100m['Time'].mean()) / SB_100m['Time'].std(ddof = 0)\n"
   ]
  },
  {
   "cell_type": "code",
   "execution_count": null,
   "metadata": {
    "id": "NARN2qniFIwh"
   },
   "outputs": [],
   "source": [
    "SB_100m['100m_SB_z-score'].std()\n"
   ]
  },
  {
   "cell_type": "markdown",
   "metadata": {
    "id": "Jl3g82k5GhE4"
   },
   "source": [
    "Let's look at height z-scores for Usain Bolt"
   ]
  },
  {
   "cell_type": "code",
   "execution_count": null,
   "metadata": {
    "id": "Gyoyx7rTGUnv"
   },
   "outputs": [],
   "source": [
    "SB_100m.loc[(SB_100m.Athlete == 'Usain Bolt')]\n"
   ]
  },
  {
   "cell_type": "markdown",
   "metadata": {
    "id": "lY4PjiLuHCRF"
   },
   "source": [
    "Quartiles and Quantiles/Percentiles\n"
   ]
  },
  {
   "cell_type": "code",
   "execution_count": null,
   "metadata": {
    "id": "o7cxCO2kFI6h"
   },
   "outputs": [],
   "source": [
    "SB_100m['Time'].quantile(q = 0.25)\n"
   ]
  },
  {
   "cell_type": "code",
   "execution_count": null,
   "metadata": {
    "id": "3WdEN6mYFJEn"
   },
   "outputs": [],
   "source": [
    "SB_100m['Time'].quantile(q = 0.5)\n"
   ]
  },
  {
   "cell_type": "code",
   "execution_count": null,
   "metadata": {
    "id": "fD7crYnqHNhq"
   },
   "outputs": [],
   "source": [
    "SB_100m['Time'].quantile(q = 0.75)\n"
   ]
  },
  {
   "cell_type": "code",
   "execution_count": null,
   "metadata": {
    "id": "Z_4vGiWJHPoz"
   },
   "outputs": [],
   "source": [
    "SB_100m['Time'].describe()\n"
   ]
  },
  {
   "cell_type": "markdown",
   "metadata": {
    "id": "zNZMhujvHhNH"
   },
   "source": [
    "Interquartile Range\n",
    "\n"
   ]
  },
  {
   "cell_type": "code",
   "execution_count": null,
   "metadata": {
    "id": "5lfWw53AHkrA"
   },
   "outputs": [],
   "source": [
    "SB_100m['Time'].quantile(q = 0.75) - SB_100m['Time'].quantile(q = 0.25)\n"
   ]
  },
  {
   "cell_type": "code",
   "execution_count": null,
   "metadata": {
    "id": "SiLcJWbpHk5p"
   },
   "outputs": [],
   "source": [
    "plt.figure(figsize = (10,6))\n",
    "\n",
    "iqr_plot(SB_100m['Time'], bins = 25, edgecolor = 'black', linewidth = 2)"
   ]
  },
  {
   "cell_type": "markdown",
   "metadata": {
    "id": "TRDIwwNOHlZg"
   },
   "source": [
    "Observing Outliers in the Dataset\n",
    "\n"
   ]
  },
  {
   "cell_type": "code",
   "execution_count": null,
   "metadata": {
    "id": "sgAuB4GuHoh6"
   },
   "outputs": [],
   "source": [
    "plt.figure(figsize = (10,6))\n",
    "sns.boxplot(x = SB_100m['Time']);"
   ]
  },
  {
   "cell_type": "markdown",
   "metadata": {
    "id": "_m2Qy5yE8T9k"
   },
   "source": [
    "**Statisical Tests**"
   ]
  },
  {
   "cell_type": "markdown",
   "metadata": {
    "id": "aIO5k27h8iQp"
   },
   "source": [
    "*ANOVA test comparing event times across athletes*"
   ]
  },
  {
   "cell_type": "markdown",
   "metadata": {
    "id": "Rjcl__wY8y5y"
   },
   "source": [
    "This test will check if there are statistically significant differences in the average times for different athletes in a specific event.\n",
    "\n",
    "It will identify whether the differences in mean times between athletes are greater than would be expected by random chance."
   ]
  },
  {
   "cell_type": "markdown",
   "metadata": {
    "id": "odrywZwQ9sEm"
   },
   "source": [
    "100m ANOVA"
   ]
  },
  {
   "cell_type": "code",
   "execution_count": null,
   "metadata": {
    "id": "2xt9yMlr8VFl"
   },
   "outputs": [],
   "source": [
    "# Create a list of times for each athlete\n",
    "athlete_SB_times_100 = [group['Time'].values for name, group in SB_100m.groupby('Athlete')]\n",
    "\n",
    "# Run one-way ANOVA\n",
    "f_stat, p_val = stats.f_oneway(*athlete_times_100)\n",
    "print(f\"ANOVA result: F-statistic = {f_stat}, p-value = {p_val}\")\n"
   ]
  },
  {
   "cell_type": "markdown",
   "metadata": {
    "id": "tP2IjeMiBFJD"
   },
   "source": [
    "*T-test - Compare Two Athletes' Performances*\n",
    "\n"
   ]
  },
  {
   "cell_type": "markdown",
   "metadata": {
    "id": "duVXjd8EC6th"
   },
   "source": [
    "We will use the T-test to T-test to compare the performance of two athletes in a particular event. This will assess if the difference between the two athletes' performance is statistically significant."
   ]
  },
  {
   "cell_type": "markdown",
   "metadata": {
    "id": "gyRUOwM9BImm"
   },
   "source": [
    "100m T-test"
   ]
  },
  {
   "cell_type": "code",
   "execution_count": null,
   "metadata": {
    "id": "P003hQjWBFox"
   },
   "outputs": [],
   "source": [
    "# Filter data for two specific athletes in the 100m event\n",
    "athlete_100_SB_a = sprinters_df2[(sprinters_df2['Athlete'] == 'Athlete A') & (sprinters_df2['Event'] == '100m')]['Time']\n",
    "athlete_100_SB_b = sprinters_df2[(sprinters_df2['Athlete'] == 'Athlete B') & (sprinters_df2['Event'] == '100m')]['Time']\n",
    "\n",
    "# Run independent t-test\n",
    "t_stat, p_val = stats.ttest_ind(athlete_100_SB_a, athlete_100_SB_b)\n",
    "print(f\"T-test result: T-statistic = {t_stat}, p-value = {p_val}\")\n"
   ]
  },
  {
   "cell_type": "markdown",
   "metadata": {
    "id": "POGCnc80Efvv"
   },
   "source": [
    "*Correlation Analysis – Time vs. Year for a Specific Event*"
   ]
  },
  {
   "cell_type": "markdown",
   "metadata": {
    "id": "1SLoBO5MEhRN"
   },
   "source": [
    "This will allow us to explore whether there's a trend in athletes' performance over time by checking the correlation between Year and Time in different events."
   ]
  },
  {
   "cell_type": "markdown",
   "metadata": {
    "id": "9HhxghhxE1rr"
   },
   "source": [
    "100m Correlation Analysis"
   ]
  },
  {
   "cell_type": "code",
   "execution_count": null,
   "metadata": {
    "id": "dKgBZR56EgHw"
   },
   "outputs": [],
   "source": [
    "correlation_100_SB = SB_100m['Year'].corr(SB_100m['Time'])\n",
    "print(f\"Correlation between Year and Time (100m): {correlation}\")\n"
   ]
  },
  {
   "cell_type": "markdown",
   "metadata": {
    "id": "26HEaix7SGEX"
   },
   "source": [
    "*Time Series Analysis – Track Athlete Performance Over Time*"
   ]
  },
  {
   "cell_type": "markdown",
   "metadata": {
    "id": "8zUD6tOVSGVI"
   },
   "source": [
    "Let's perform time series analysis to track an individual athlete’s performance. This will allow us to detect patterns, trends, or seasonal effects in an athlete's performance over time."
   ]
  },
  {
   "cell_type": "code",
   "execution_count": null,
   "metadata": {
    "id": "rijzbHBrSInG"
   },
   "outputs": [],
   "source": [
    "# Filter data for one athlete\n",
    "athlete_data_SB = sprinters_df2[sprinters_df2['Athlete'] == 'Athlete A'].sort_values(by='Year')\n",
    "\n",
    "# Calculate the rolling average (moving average) for the time over 3 events\n",
    "athlete_data_SB['Moving_Avg'] = athlete_data_SB['Time'].rolling(window=3).mean()\n",
    "\n",
    "# Plot the moving average\n",
    "athlete_data_SB[['Year', 'Moving_Avg']].plot(x='Year', y='Moving_Avg')\n"
   ]
  },
  {
   "cell_type": "markdown",
   "metadata": {
    "id": "xvLE1JozDYgc"
   },
   "source": [
    "*Linear Regression – Predict Time Based on Year and Other Variables*\n",
    "\n"
   ]
  },
  {
   "cell_type": "markdown",
   "metadata": {
    "id": "sUOl7w--Dac4"
   },
   "source": [
    "We can use linear regression to predict race times based on year, athlete, location, or other factors. This can help us model how times change over time or in different conditions."
   ]
  },
  {
   "cell_type": "markdown",
   "metadata": {
    "id": "Xa_b-ZbitSme"
   },
   "source": [
    "*Linear Regression 100m*"
   ]
  },
  {
   "cell_type": "code",
   "execution_count": null,
   "metadata": {
    "id": "4iTImHE5DdoD"
   },
   "outputs": [],
   "source": [
    "# Prepare the data (for example, predicting time in the 100m event)\n",
    "event_data_SB = sprinters_df2[sprinters_df2['Event'] == '100m']\n",
    "X = event_data_SB[['Year']]  # You can add other features such as 'Location', 'Athlete'\n",
    "y = event_data_SB['Time']\n",
    "\n",
    "# Fit the linear regression model\n",
    "model = LinearRegression()\n",
    "model.fit(X, y)\n",
    "\n",
    "# Print the coefficients and intercept\n",
    "print(f\"Coefficient: {model.coef_}, Intercept: {model.intercept_}\")\n"
   ]
  },
  {
   "cell_type": "markdown",
   "metadata": {
    "id": "yinHHZNF4Dpy"
   },
   "source": [
    "Logistic Regression Model"
   ]
  },
  {
   "cell_type": "code",
   "execution_count": null,
   "metadata": {
    "id": "ML4A98ps4Dp-"
   },
   "outputs": [],
   "source": [
    "logreg = sm.logit('Year ~ Time', data = event_data_SB).fit()"
   ]
  },
  {
   "cell_type": "code",
   "execution_count": null,
   "metadata": {
    "id": "d-cZ1HWo4Dp-"
   },
   "outputs": [],
   "source": [
    "logreg.summary()"
   ]
  },
  {
   "cell_type": "code",
   "execution_count": null,
   "metadata": {
    "id": "zMc3XMtK4Dp-"
   },
   "outputs": [],
   "source": [
    "logreg.predict(event_data_SB)"
   ]
  },
  {
   "cell_type": "markdown",
   "metadata": {
    "id": "rHdD0bTp4Dp_"
   },
   "source": [
    "Logistic Regression Interference"
   ]
  },
  {
   "cell_type": "code",
   "execution_count": null,
   "metadata": {
    "id": "4Lo3U2hf4Dp_"
   },
   "outputs": [],
   "source": [
    "logreg_full = sm.logit('Year ~ Time + Insert_Column_Here', data = event_data_SB).fit()\n",
    "logreg_reduced = sm.logit('Year ~ Time', data = event_data_SB).fit()"
   ]
  },
  {
   "cell_type": "code",
   "execution_count": null,
   "metadata": {
    "id": "tm-JWX_O4Dp_"
   },
   "outputs": [],
   "source": [
    "logreg_full.llf"
   ]
  },
  {
   "cell_type": "code",
   "execution_count": null,
   "metadata": {
    "id": "BL0jTOJl4DqA"
   },
   "outputs": [],
   "source": [
    "logreg_reduced.llf"
   ]
  },
  {
   "cell_type": "code",
   "execution_count": null,
   "metadata": {
    "id": "qNIzDi2R4DqA"
   },
   "outputs": [],
   "source": [
    "G2 = -2 * (logreg_reduced.llf - logreg_full.llf)\n",
    "G2"
   ]
  },
  {
   "cell_type": "markdown",
   "metadata": {
    "id": "jd8IvPFI4DqA"
   },
   "source": [
    "Chi Squared Distribution"
   ]
  },
  {
   "cell_type": "code",
   "execution_count": null,
   "metadata": {
    "id": "VIcQiLD34DqA"
   },
   "outputs": [],
   "source": [
    "df = logreg_full.df_model - logreg_reduced.df_model"
   ]
  },
  {
   "cell_type": "code",
   "execution_count": null,
   "metadata": {
    "id": "2wu3uGRX4DqB"
   },
   "outputs": [],
   "source": [
    "chi2.sf(G2, df = df)"
   ]
  },
  {
   "cell_type": "markdown",
   "metadata": {
    "id": "C8ZmrRQs4DqB"
   },
   "source": [
    "Let's consense the logistic regression interference and chi-squared distribution into one cell."
   ]
  },
  {
   "cell_type": "code",
   "execution_count": null,
   "metadata": {
    "id": "Ihrb6KI94DqB"
   },
   "outputs": [],
   "source": [
    "logreg_full = sm.logit('Year ~ Time + Insert_Column_Here', data = event_data_SB).fit()\n",
    "logreg_reduced = sm.logit('Year ~ Time', data = event_data_SB).fit()\n",
    "\n",
    "G2 = -2 * (logreg_reduced.llf - logreg_full.llf)\n",
    "df = logreg_full.df_model - logreg_reduced.df_model\n",
    "print(f'p-value: {chi2.sf(G2, df = df)}')"
   ]
  },
  {
   "cell_type": "markdown",
   "metadata": {
    "id": "drjnzCyx4DqC"
   },
   "source": [
    "Generating Predictions"
   ]
  },
  {
   "cell_type": "markdown",
   "metadata": {
    "id": "cw5Ga7Bc4DqC"
   },
   "source": [
    "We'll stratify to ensure that the proportion of the stratify variable is the same in the training data and in the test data."
   ]
  },
  {
   "cell_type": "code",
   "execution_count": null,
   "metadata": {
    "id": "4nd7o73Y4DqC"
   },
   "outputs": [],
   "source": [
    "SB_train, SB_test = train_test_split(event_data_SB, test_size = 0.25, stratify = event_data_CD['Year'], random_state = 321)"
   ]
  },
  {
   "cell_type": "markdown",
   "metadata": {
    "id": "St-rgLRV4DqC"
   },
   "source": [
    "We'll fit a model using several of our predictor variables."
   ]
  },
  {
   "cell_type": "code",
   "execution_count": null,
   "metadata": {
    "id": "3jDL3a0j4DqD"
   },
   "outputs": [],
   "source": [
    "logreg_pred = sm.logit('Year ~ Time + Insert + Columns + Here + In + These + Blank + Spaces + Check + Dataframe',\n",
    "                       data = event_data_SB).fit()"
   ]
  },
  {
   "cell_type": "code",
   "execution_count": null,
   "metadata": {
    "id": "VItBL5yE4DqD"
   },
   "outputs": [],
   "source": [
    "y_pred = logreg_pred.predict(CD_test) > 0.5"
   ]
  },
  {
   "cell_type": "markdown",
   "metadata": {
    "id": "KlfOMzmp4DqD"
   },
   "source": [
    "Let's see how well the predicted values matche up to the true labels."
   ]
  },
  {
   "cell_type": "code",
   "execution_count": null,
   "metadata": {
    "id": "-Fg7wvLB4DqE"
   },
   "outputs": [],
   "source": [
    "pd.crosstab(SB_test['Year'], y_pred)"
   ]
  },
  {
   "cell_type": "code",
   "execution_count": null,
   "metadata": {
    "id": "QoXK9ywM4DqE"
   },
   "outputs": [],
   "source": [
    "cm_analysis(SB_test['Year'], y_pred, labels = [0, 1], figsize = (7,6))"
   ]
  },
  {
   "cell_type": "markdown",
   "metadata": {
    "id": "k6FIgKVRHsob"
   },
   "source": [
    "Visualizations"
   ]
  },
  {
   "cell_type": "code",
   "execution_count": null,
   "metadata": {
    "id": "oBnQI9TLHsos"
   },
   "outputs": [],
   "source": [
    "SB_100m['Time'].hist();"
   ]
  },
  {
   "cell_type": "code",
   "execution_count": null,
   "metadata": {
    "id": "n6Y6RL99Hsot"
   },
   "outputs": [],
   "source": [
    "probplot(SB_100m['Time'], plot=plt);"
   ]
  },
  {
   "cell_type": "code",
   "execution_count": null,
   "metadata": {
    "id": "_ZoyK_qkHsot"
   },
   "outputs": [],
   "source": [
    "plt.figure(figsize = (10,6))\n",
    "\n",
    "std_plot(SB_100m['Time'], edgecolor = 'black', linewidth = 2)"
   ]
  },
  {
   "cell_type": "code",
   "execution_count": null,
   "metadata": {
    "id": "P2AFdOScHsou"
   },
   "outputs": [],
   "source": [
    "plt.figure(figsize = (10,6))\n",
    "\n",
    "iqr_plot(SB_100m['Time'], bins = 25, edgecolor = 'black', linewidth = 2)"
   ]
  },
  {
   "cell_type": "code",
   "execution_count": null,
   "metadata": {
    "id": "lN2nwULmHsou"
   },
   "outputs": [],
   "source": [
    "plt.figure(figsize = (10,6))\n",
    "sns.boxplot(x = CD_100m['Time']);"
   ]
  },
  {
   "cell_type": "markdown",
   "metadata": {
    "id": "E65CzLiZqpad"
   },
   "source": [
    "# **Analysis of Career Data**"
   ]
  },
  {
   "cell_type": "code",
   "execution_count": null,
   "metadata": {
    "id": "sVlubkcArPfu"
   },
   "outputs": [],
   "source": [
    "CD_100m = sprinters_df3[sprinters_df3['Event'] == '100m']"
   ]
  },
  {
   "cell_type": "code",
   "execution_count": null,
   "metadata": {
    "colab": {
     "base_uri": "https://localhost:8080/",
     "height": 141
    },
    "executionInfo": {
     "elapsed": 23,
     "status": "error",
     "timestamp": 1723675265923,
     "user": {
      "displayName": "Johnny Test",
      "userId": "16509896550579327523"
     },
     "user_tz": 240
    },
    "id": "mWDB0U4PsarG",
    "outputId": "de59986e-b480-4209-a89c-86392ee28332"
   },
   "outputs": [],
   "source": [
    "CD_100m['Time'].mean()"
   ]
  },
  {
   "cell_type": "code",
   "execution_count": null,
   "metadata": {
    "id": "Rf88lwfrsarI"
   },
   "outputs": [],
   "source": [
    "CD_100m['Time'].median()"
   ]
  },
  {
   "cell_type": "code",
   "execution_count": null,
   "metadata": {
    "id": "H0twRuDdsarI"
   },
   "outputs": [],
   "source": [
    "CD_100m['Time'].max()"
   ]
  },
  {
   "cell_type": "code",
   "execution_count": null,
   "metadata": {
    "id": "M_DN17tvsarJ"
   },
   "outputs": [],
   "source": [
    "CD_100m.nlargest(1,'Time')"
   ]
  },
  {
   "cell_type": "code",
   "execution_count": null,
   "metadata": {
    "id": "Gi6jeeNKsarJ"
   },
   "outputs": [],
   "source": [
    "CD_100m.nsmallest(1,'Time')"
   ]
  },
  {
   "cell_type": "code",
   "execution_count": null,
   "metadata": {
    "id": "pkRlJfQisarK"
   },
   "outputs": [],
   "source": [
    "CD_100m['Time'].max()- CD_100m['Time'].min()\n"
   ]
  },
  {
   "cell_type": "markdown",
   "metadata": {
    "id": "uCexHWoasarK"
   },
   "source": [
    "Variance and Standard Devivation\n"
   ]
  },
  {
   "cell_type": "code",
   "execution_count": null,
   "metadata": {
    "id": "KQ4B56DtsarL"
   },
   "outputs": [],
   "source": [
    "CD_100m['100m_CD_deviation'] = CD_100m['Time'] - CD_100m['Time'].mean()\n",
    "CD_100m.head()"
   ]
  },
  {
   "cell_type": "code",
   "execution_count": null,
   "metadata": {
    "id": "NSOvSdBqsarL"
   },
   "outputs": [],
   "source": [
    "CD_100m['Time'].std()\n"
   ]
  },
  {
   "cell_type": "code",
   "execution_count": null,
   "metadata": {
    "id": "qsmkMPowsarM"
   },
   "outputs": [],
   "source": [
    "CD_100m['100m_CD_deviation'].mean()\n"
   ]
  },
  {
   "cell_type": "code",
   "execution_count": null,
   "metadata": {
    "id": "iH56szTPsarM"
   },
   "outputs": [],
   "source": [
    "CD_100m['squared_100m_CD_deviation'] = CD_100m['100m_CD_deviation']**2\n",
    "CD_100m"
   ]
  },
  {
   "cell_type": "markdown",
   "metadata": {
    "id": "d-_nRRy0sarN"
   },
   "source": [
    "Population Standard Deviation\n",
    "\n"
   ]
  },
  {
   "cell_type": "code",
   "execution_count": null,
   "metadata": {
    "id": "QTg2tbxAsarO"
   },
   "outputs": [],
   "source": [
    "np.sqrt(CD_100m['squared_100m_CD_deviation'].mean())"
   ]
  },
  {
   "cell_type": "code",
   "execution_count": null,
   "metadata": {
    "id": "rEuYNGAOsarO"
   },
   "outputs": [],
   "source": [
    "CD_100m['Time'].var(ddof = 0)\n"
   ]
  },
  {
   "cell_type": "code",
   "execution_count": null,
   "metadata": {
    "id": "HBv64Uq-sarP"
   },
   "outputs": [],
   "source": [
    "CD_100m['Time'].std(ddof = 0)\n"
   ]
  },
  {
   "cell_type": "code",
   "execution_count": null,
   "metadata": {
    "id": "UW9Uj9c4sarP"
   },
   "outputs": [],
   "source": [
    "plt.figure(figsize = (10,6))\n",
    "\n",
    "std_plot(CD_100m['Time'], edgecolor = 'black', linewidth = 2)"
   ]
  },
  {
   "cell_type": "markdown",
   "metadata": {
    "id": "HZeyP763sarQ"
   },
   "source": [
    "z-scores"
   ]
  },
  {
   "cell_type": "code",
   "execution_count": null,
   "metadata": {
    "id": "beujEu0tsarR"
   },
   "outputs": [],
   "source": [
    "CD_100m['100m_CD_z-score'] = (CD_100m['Time'] - CD_100m['Time'].mean()) / CD_100m['Time'].std(ddof = 0)\n"
   ]
  },
  {
   "cell_type": "code",
   "execution_count": null,
   "metadata": {
    "id": "xOr6bGsysarR"
   },
   "outputs": [],
   "source": [
    "CD_100m['100m_CD_z-score'].std()\n"
   ]
  },
  {
   "cell_type": "markdown",
   "metadata": {
    "id": "scHzMfKOsarS"
   },
   "source": [
    "Let's look at height z-scores for Usain Bolt"
   ]
  },
  {
   "cell_type": "code",
   "execution_count": null,
   "metadata": {
    "id": "YjZORGIdsarS"
   },
   "outputs": [],
   "source": [
    "CD_100m.loc[(CD_100m.Athlete == 'Usain Bolt')]\n"
   ]
  },
  {
   "cell_type": "markdown",
   "metadata": {
    "id": "B9B_Au2nsarT"
   },
   "source": [
    "Quartiles and Quantiles/Percentiles\n"
   ]
  },
  {
   "cell_type": "code",
   "execution_count": null,
   "metadata": {
    "id": "6eFMWjYpsarT"
   },
   "outputs": [],
   "source": [
    "CD_100m['Time'].quantile(q = 0.25)\n"
   ]
  },
  {
   "cell_type": "code",
   "execution_count": null,
   "metadata": {
    "id": "Ucbyp5wQsarU"
   },
   "outputs": [],
   "source": [
    "CD_100m['Time'].quantile(q = 0.5)\n"
   ]
  },
  {
   "cell_type": "code",
   "execution_count": null,
   "metadata": {
    "id": "T7CPyF5gsarU"
   },
   "outputs": [],
   "source": [
    "CD_100m['Time'].quantile(q = 0.75)\n"
   ]
  },
  {
   "cell_type": "code",
   "execution_count": null,
   "metadata": {
    "id": "RuIF2_dSsarV"
   },
   "outputs": [],
   "source": [
    "CD_100m['Time'].describe()\n"
   ]
  },
  {
   "cell_type": "markdown",
   "metadata": {
    "id": "xQ0cxL_VsarV"
   },
   "source": [
    "Interquartile Range\n",
    "\n"
   ]
  },
  {
   "cell_type": "code",
   "execution_count": null,
   "metadata": {
    "id": "evf9zvESsarW"
   },
   "outputs": [],
   "source": [
    "CD_100m['Time'].quantile(q = 0.75) - CD_100m['Time'].quantile(q = 0.25)\n"
   ]
  },
  {
   "cell_type": "code",
   "execution_count": null,
   "metadata": {
    "id": "ON7PT_3QsarW"
   },
   "outputs": [],
   "source": [
    "plt.figure(figsize = (10,6))\n",
    "\n",
    "iqr_plot(CD_100m['Time'], bins = 25, edgecolor = 'black', linewidth = 2)"
   ]
  },
  {
   "cell_type": "markdown",
   "metadata": {
    "id": "apLqJTM3sarX"
   },
   "source": [
    "Observing Outliers in the Dataset\n",
    "\n"
   ]
  },
  {
   "cell_type": "code",
   "execution_count": null,
   "metadata": {
    "id": "Rukb5jeIsarX"
   },
   "outputs": [],
   "source": [
    "plt.figure(figsize = (10,6))\n",
    "sns.boxplot(x = CD_100m['Time']);"
   ]
  },
  {
   "cell_type": "markdown",
   "metadata": {
    "id": "5uPO3L-kG1KJ"
   },
   "source": [
    "Visualizations"
   ]
  },
  {
   "cell_type": "code",
   "execution_count": null,
   "metadata": {
    "id": "bGVp8COnG6tv"
   },
   "outputs": [],
   "source": [
    "CD_100m['Time'].hist();"
   ]
  },
  {
   "cell_type": "code",
   "execution_count": null,
   "metadata": {
    "id": "zOIl5Bk0G6uG"
   },
   "outputs": [],
   "source": [
    "probplot(CD_100m['Time'], plot=plt);"
   ]
  },
  {
   "cell_type": "code",
   "execution_count": null,
   "metadata": {
    "id": "Omv5krECG6uG"
   },
   "outputs": [],
   "source": [
    "plt.figure(figsize = (10,6))\n",
    "\n",
    "std_plot(CD_100m['Time'], edgecolor = 'black', linewidth = 2)"
   ]
  },
  {
   "cell_type": "code",
   "execution_count": null,
   "metadata": {
    "id": "TWPnTMsJG6uH"
   },
   "outputs": [],
   "source": [
    "plt.figure(figsize = (10,6))\n",
    "\n",
    "iqr_plot(CD_100m['Time'], bins = 25, edgecolor = 'black', linewidth = 2)"
   ]
  },
  {
   "cell_type": "code",
   "execution_count": null,
   "metadata": {
    "id": "h_26Of9mG6uI"
   },
   "outputs": [],
   "source": [
    "plt.figure(figsize = (10,6))\n",
    "sns.boxplot(x = CD_100m['Time']);"
   ]
  },
  {
   "cell_type": "markdown",
   "metadata": {
    "id": "I86jeHGMwQp-"
   },
   "source": [
    "**Statisical Tests**"
   ]
  },
  {
   "cell_type": "markdown",
   "metadata": {
    "id": "oxYrjP22wQqA"
   },
   "source": [
    "100m ANOVA"
   ]
  },
  {
   "cell_type": "code",
   "execution_count": null,
   "metadata": {
    "id": "Gcz3yVP3wQqA"
   },
   "outputs": [],
   "source": [
    "# Create a list of times for each athlete\n",
    "athlete_SB_times_100 = [group['Time'].values for name, group in CD_100m.groupby('Athlete')]\n",
    "\n",
    "# Run one-way ANOVA\n",
    "f_stat, p_val = stats.f_oneway(*athlete_times_100)\n",
    "print(f\"ANOVA result: F-statistic = {f_stat}, p-value = {p_val}\")\n"
   ]
  },
  {
   "cell_type": "markdown",
   "metadata": {
    "id": "FfyODYv9xIMz"
   },
   "source": [
    "100m T-test"
   ]
  },
  {
   "cell_type": "code",
   "execution_count": null,
   "metadata": {
    "id": "L0bmhBWnxIM1"
   },
   "outputs": [],
   "source": [
    "# Filter data for two specific athletes in the 100m event\n",
    "athlete_100_CD_a = sprinters_df3[(sprinters_df3['Athlete'] == 'Athlete A') & (sprinters_df3['Event'] == '100m')]['Time']\n",
    "athlete_100_CD_b = sprinters_df3[(sprinters_df3['Athlete'] == 'Athlete B') & (sprinters_df3['Event'] == '100m')]['Time']\n",
    "\n",
    "# Run independent t-test\n",
    "t_stat, p_val = stats.ttest_ind(athlete_100_CD_a, athlete_100_CD_b)\n",
    "print(f\"T-test result: T-statistic = {t_stat}, p-value = {p_val}\")\n"
   ]
  },
  {
   "cell_type": "markdown",
   "metadata": {
    "id": "jfqE17jUySc3"
   },
   "source": [
    "100m Correlation Analysis"
   ]
  },
  {
   "cell_type": "code",
   "execution_count": null,
   "metadata": {
    "id": "ZWh_KWFBySc5"
   },
   "outputs": [],
   "source": [
    "correlation_100_CD = SB_100m['Year'].corr(CD_100m['Time'])\n",
    "print(f\"Correlation between Year and Time (100m): {correlation}\")\n"
   ]
  },
  {
   "cell_type": "markdown",
   "metadata": {
    "id": "dHOphrhnzpM3"
   },
   "source": [
    "*Time Series Analysis – Track Athlete Performance Over Time*"
   ]
  },
  {
   "cell_type": "code",
   "execution_count": null,
   "metadata": {
    "id": "MyIc0z00zpM3"
   },
   "outputs": [],
   "source": [
    "# Filter data for one athlete\n",
    "athlete_data_CD = sprinters_df3[sprinters_df3['Athlete'] == 'Athlete A'].sort_values(by='Year')\n",
    "\n",
    "# Calculate the rolling average (moving average) for the time over 3 events\n",
    "athlete_data_CD['Moving_Avg'] = athlete_data_CD['Time'].rolling(window=3).mean()\n",
    "\n",
    "# Plot the moving average\n",
    "athlete_data_CD[['Year', 'Moving_Avg']].plot(x='Year', y='Moving_Avg')\n"
   ]
  },
  {
   "cell_type": "markdown",
   "metadata": {
    "id": "c_0lbzRPzpM4"
   },
   "source": [
    "*Linear Regression – Predict Time Based on Year and Other Variables*\n",
    "\n"
   ]
  },
  {
   "cell_type": "markdown",
   "metadata": {
    "id": "LcxubUuvzpM4"
   },
   "source": [
    "*Linear Regression 100m*"
   ]
  },
  {
   "cell_type": "code",
   "execution_count": null,
   "metadata": {
    "id": "4s-FfKkvzpM4"
   },
   "outputs": [],
   "source": [
    "# Prepare the data (for example, predicting time in the 100m event)\n",
    "event_data_CD = sprinters_df3[sprinters_df3['Event'] == '100m']\n",
    "X = event_data_CD[['Year']]  # You can add other features such as 'Location', 'Athlete'\n",
    "y = event_data_CD['Time']\n",
    "\n",
    "# Fit the linear regression model\n",
    "model = LinearRegression()\n",
    "model.fit(X, y)\n",
    "\n",
    "# Print the coefficients and intercept\n",
    "print(f\"Coefficient: {model.coef_}, Intercept: {model.intercept_}\")\n"
   ]
  },
  {
   "cell_type": "markdown",
   "metadata": {
    "id": "0GZakJK60hcK"
   },
   "source": [
    "Logistic Regression Model"
   ]
  },
  {
   "cell_type": "code",
   "execution_count": null,
   "metadata": {
    "id": "23K1WHH7HYXm"
   },
   "outputs": [],
   "source": [
    "logreg = sm.logit('Year ~ Time', data = event_data_CD).fit()"
   ]
  },
  {
   "cell_type": "code",
   "execution_count": null,
   "metadata": {
    "id": "fnKpMKZ2Hpuy"
   },
   "outputs": [],
   "source": [
    "logreg.summary()"
   ]
  },
  {
   "cell_type": "code",
   "execution_count": null,
   "metadata": {
    "id": "1XRMC-GXIRfP"
   },
   "outputs": [],
   "source": [
    "logreg.predict(event_data_CD)"
   ]
  },
  {
   "cell_type": "markdown",
   "metadata": {
    "id": "GpEWGigEIShI"
   },
   "source": [
    "Logistic Regression Interference"
   ]
  },
  {
   "cell_type": "code",
   "execution_count": null,
   "metadata": {
    "id": "BhrMLr6lIS_p"
   },
   "outputs": [],
   "source": [
    "logreg_full = sm.logit('Year ~ Time + Insert_Column_Here', data = event_data_CD).fit()\n",
    "logreg_reduced = sm.logit('Year ~ Time', data = event_data_CD).fit()"
   ]
  },
  {
   "cell_type": "code",
   "execution_count": null,
   "metadata": {
    "id": "QfAgQGg2ITNY"
   },
   "outputs": [],
   "source": [
    "logreg_full.llf"
   ]
  },
  {
   "cell_type": "code",
   "execution_count": null,
   "metadata": {
    "id": "N2DBdHtgIkFj"
   },
   "outputs": [],
   "source": [
    "logreg_reduced.llf"
   ]
  },
  {
   "cell_type": "code",
   "execution_count": null,
   "metadata": {
    "id": "92UyeIffIrqW"
   },
   "outputs": [],
   "source": [
    "G2 = -2 * (logreg_reduced.llf - logreg_full.llf)\n",
    "G2"
   ]
  },
  {
   "cell_type": "markdown",
   "metadata": {
    "id": "-3_wzRGcJvFa"
   },
   "source": [
    "Chi Squared Distribution"
   ]
  },
  {
   "cell_type": "code",
   "execution_count": null,
   "metadata": {
    "id": "9zjIpHtfJtMU"
   },
   "outputs": [],
   "source": [
    "df2 = logreg_full.df_model - logreg_reduced.df_model"
   ]
  },
  {
   "cell_type": "code",
   "execution_count": null,
   "metadata": {
    "id": "nf5cT7HeJzhY"
   },
   "outputs": [],
   "source": [
    "chi2.sf(G2, df2 = df2)"
   ]
  },
  {
   "cell_type": "markdown",
   "metadata": {
    "id": "ZyWZ8gEYJ-UG"
   },
   "source": [
    "Let's consense the logistic regression interference and chi-squared distribution into one cell."
   ]
  },
  {
   "cell_type": "code",
   "execution_count": null,
   "metadata": {
    "id": "PSUYk0j5Jztf"
   },
   "outputs": [],
   "source": [
    "logreg_full = sm.logit('Year ~ Time + Insert_Column_Here', data = event_data_CD).fit()\n",
    "logreg_reduced = sm.logit('Year ~ Time', data = event_data_CD).fit()\n",
    "\n",
    "G2 = -2 * (logreg_reduced.llf - logreg_full.llf)\n",
    "df2 = logreg_full.df_model - logreg_reduced.df_model\n",
    "print(f'p-value: {chi2.sf(G2, df2 = df2)}')"
   ]
  },
  {
   "cell_type": "markdown",
   "metadata": {
    "id": "FZouiXHSKaAL"
   },
   "source": [
    "Generating Predictions"
   ]
  },
  {
   "cell_type": "markdown",
   "metadata": {
    "id": "piHuwvTTLBfL"
   },
   "source": [
    "We'll stratify to ensure that the proportion of the stratify variable is the same in the training data and in the test data."
   ]
  },
  {
   "cell_type": "code",
   "execution_count": null,
   "metadata": {
    "id": "wMcB_n86Jz6N"
   },
   "outputs": [],
   "source": [
    "CD_train, CD_test = train_test_split(event_data_CD, test_size = 0.25, stratify = event_data_CD['Year'], random_state = 321)"
   ]
  },
  {
   "cell_type": "markdown",
   "metadata": {
    "id": "xNVFOo9xLOyE"
   },
   "source": [
    "We'll fit a model using several of our predictor variables."
   ]
  },
  {
   "cell_type": "code",
   "execution_count": null,
   "metadata": {
    "id": "kh7YQDD8KkbR"
   },
   "outputs": [],
   "source": [
    "logreg_pred = sm.logit('Year ~ Time + Insert + Columns + Here + In + These + Blank + Spaces + Check + Dataframe',\n",
    "                       data = event_data_CD).fit()"
   ]
  },
  {
   "cell_type": "code",
   "execution_count": null,
   "metadata": {
    "id": "xonWKoBbKohl"
   },
   "outputs": [],
   "source": [
    "y_pred = logreg_pred.predict(CD_test) > 0.5"
   ]
  },
  {
   "cell_type": "markdown",
   "metadata": {
    "id": "-BkFaVygK3Ag"
   },
   "source": [
    "Let's see how well the predicted values matche up to the true labels."
   ]
  },
  {
   "cell_type": "code",
   "execution_count": null,
   "metadata": {
    "id": "a0SZgfRlKsmR"
   },
   "outputs": [],
   "source": [
    "pd.crosstab(CD_test['Year'], y_pred)"
   ]
  },
  {
   "cell_type": "code",
   "execution_count": null,
   "metadata": {
    "id": "5Rvly0ZCLSDx"
   },
   "outputs": [],
   "source": [
    "cm_analysis(CD_test['Year'], y_pred, labels = [0, 1], figsize = (7,6))"
   ]
  },
  {
   "cell_type": "markdown",
   "metadata": {
    "id": "pBU4V1Y4FpAh"
   },
   "source": [
    "**Update these and place them where necessary (If necessary)**"
   ]
  },
  {
   "cell_type": "markdown",
   "metadata": {
    "id": "5QWnllIVQA2U"
   },
   "source": [
    "Single Linear Regrssion"
   ]
  },
  {
   "cell_type": "code",
   "execution_count": null,
   "metadata": {
    "id": "0Qg4LJjiQDa-"
   },
   "outputs": [],
   "source": [
    "lr = sm.ols(\n",
    "    formula = 'Insert_variable_1 ~ Insert_variable_2',\n",
    "    data = possum\n",
    ").fit()"
   ]
  },
  {
   "cell_type": "code",
   "execution_count": null,
   "metadata": {
    "id": "L6vgqYsRQDov"
   },
   "outputs": [],
   "source": [
    "lr.summary()"
   ]
  },
  {
   "cell_type": "code",
   "execution_count": null,
   "metadata": {
    "id": "Z_OP8v3kQDyk"
   },
   "outputs": [],
   "source": [
    "x_pred = pd.DataFrame({'Insert_variable_2': np.linspace(start = possum['Insert_variable_2'].min(),\n",
    "                                             stop = possum['Insert_variable_2'].max(),\n",
    "                                             num = 250)\n",
    "                      })\n",
    "\n",
    "pred = lr.predict(x_pred)\n",
    "\n",
    "possum.plot(\n",
    "    kind = 'scatter',\n",
    "    x = 'Insert_variable_2',\n",
    "    y = 'Insert_variable_1',\n",
    "    figsize = (10,6)\n",
    ")\n",
    "\n",
    "plt.plot(x_pred['Insert_variable_2'], pred, color = 'black');"
   ]
  },
  {
   "cell_type": "code",
   "execution_count": null,
   "metadata": {
    "id": "I6kCBj9zQN4e"
   },
   "outputs": [],
   "source": [
    "lr.rsquared"
   ]
  },
  {
   "cell_type": "markdown",
   "metadata": {
    "id": "xlAyWrBeQg8R"
   },
   "source": [
    "Let's verify that this is the correct $R^2$ value."
   ]
  },
  {
   "cell_type": "markdown",
   "metadata": {
    "id": "ZR2aNF4tQ7s4"
   },
   "source": [
    "To compute TSS, we need to look at the difference between the target values and the average value of the target variable."
   ]
  },
  {
   "cell_type": "code",
   "execution_count": null,
   "metadata": {
    "id": "DtJEzvolQOCH"
   },
   "outputs": [],
   "source": [
    "tss = ((possum['Insert_variable_1'] - possum['Insert_variable_1'].mean())**2).sum()"
   ]
  },
  {
   "cell_type": "markdown",
   "metadata": {
    "id": "Gr8kGFXSQ9iX"
   },
   "source": [
    "For RSS, we need to consider the difference between the target and the predicted value."
   ]
  },
  {
   "cell_type": "code",
   "execution_count": null,
   "metadata": {
    "id": "mY7QTX9_RHBl"
   },
   "outputs": [],
   "source": [
    "rss = ((possum['Insert_variable_1'] - lr.fittedvalues)**2).sum()"
   ]
  },
  {
   "cell_type": "markdown",
   "metadata": {
    "id": "vtbyaQR2RHQF"
   },
   "source": [
    "Now, we can verify that we get the same result"
   ]
  },
  {
   "cell_type": "code",
   "execution_count": null,
   "metadata": {
    "id": "y4pWER4vRHkI"
   },
   "outputs": [],
   "source": [
    "(tss - rss) / tss"
   ]
  },
  {
   "cell_type": "code",
   "execution_count": null,
   "metadata": {
    "id": "3orIQlICRrBK"
   },
   "outputs": [],
   "source": [
    "lr.pvalues['Insert_variable_2']"
   ]
  },
  {
   "cell_type": "code",
   "execution_count": null,
   "metadata": {
    "id": "mJeiDLXNRvI0"
   },
   "outputs": [],
   "source": [
    "lr.conf_int(0.05)"
   ]
  },
  {
   "cell_type": "code",
   "execution_count": null,
   "metadata": {
    "id": "rXMIp1_XRxMR"
   },
   "outputs": [],
   "source": [
    "possum['Insert_variable_2'].describe()"
   ]
  },
  {
   "cell_type": "markdown",
   "metadata": {
    "id": "KNATawNiShXS"
   },
   "source": [
    "Predictions using the linear regression model"
   ]
  },
  {
   "cell_type": "code",
   "execution_count": null,
   "metadata": {
    "id": "Seu7aPQhR1Yx"
   },
   "outputs": [],
   "source": [
    "lr.predict(pd.DataFrame({'Insert_variable_2': [91]})) #Enter time in Square brackets"
   ]
  },
  {
   "cell_type": "code",
   "execution_count": null,
   "metadata": {
    "id": "7CgqjDh0R-ay"
   },
   "outputs": [],
   "source": [
    "lr.get_prediction(pd.DataFrame({'Insert_variable_2': [91]})).conf_int()"
   ]
  },
  {
   "cell_type": "markdown",
   "metadata": {
    "id": "-CyaGC4XSxLG"
   },
   "source": [
    "To get a prediction interval, which tells us what we can expect for a new observation, we can specify obs = True."
   ]
  },
  {
   "cell_type": "code",
   "execution_count": null,
   "metadata": {
    "id": "GR0-CLkeR-qB"
   },
   "outputs": [],
   "source": [
    "lr.get_prediction(pd.DataFrame({'Insert_variablel_2': [91]})).conf_int(obs = True)"
   ]
  },
  {
   "cell_type": "markdown",
   "metadata": {
    "id": "LVPR6mWeSMcq"
   },
   "source": [
    "Let's get all these predictions in a summary frame method"
   ]
  },
  {
   "cell_type": "code",
   "execution_count": null,
   "metadata": {
    "id": "dqjNmTJUSRak"
   },
   "outputs": [],
   "source": [
    "lr.get_prediction(pd.DataFrame({'Insert_variable_2': [91]})).summary_frame()"
   ]
  },
  {
   "cell_type": "markdown",
   "metadata": {
    "id": "isGWiGvKOW-9"
   },
   "source": [
    "Multi-Linear Regression Models"
   ]
  },
  {
   "cell_type": "code",
   "execution_count": null,
   "metadata": {
    "id": "OVo0-IGaLbu1"
   },
   "outputs": [],
   "source": [
    "lr_reduced = sm.ols('Insert_variable_1 ~ Insert_variable_2', data = possum).fit()\n",
    "lr_full = sm.ols('Insert_variable_1 ~ Insert_variable_2 + Insert_variable_3', data = possum).fit()"
   ]
  },
  {
   "cell_type": "code",
   "execution_count": null,
   "metadata": {
    "id": "JC3bsaXBOejp"
   },
   "outputs": [],
   "source": [
    "stats.stats.anova_lm(lr_reduced, lr_full)"
   ]
  },
  {
   "cell_type": "markdown",
   "metadata": {
    "id": "iLI-u9DOO3jX"
   },
   "source": [
    "Interactions in the multi-linear regression model"
   ]
  },
  {
   "cell_type": "code",
   "execution_count": null,
   "metadata": {
    "id": "jaciwCQ6OesH"
   },
   "outputs": [],
   "source": [
    "lr_full =sm.ols('Insert_variable_1 ~ Insert_variable_2 + Insert_variable_a1 + Insert_variable_2:sex', data = possum).fit()\n",
    "lr_full.summary()"
   ]
  },
  {
   "cell_type": "code",
   "execution_count": null,
   "metadata": {
    "id": "HbCMAuXnPBuR"
   },
   "outputs": [],
   "source": [
    "lr_reduced =sm.ols('Insert_variable_1 ~ Insert_variable_2 + Insert_variable_a1', data = possum).fit()\n",
    "lr_full =sm.ols('Insert_variable_1 ~ Insert_variable_2 + Insert_variable_a1 + Insert_variable_2:sex', data = possum).fit()\n",
    "\n",
    "stats.stats.anova_lm(lr_reduced, lr_full)"
   ]
  },
  {
   "cell_type": "code",
   "execution_count": null,
   "metadata": {
    "id": "f6p0Y4_VPB5H"
   },
   "outputs": [],
   "source": [
    "lr_df = sm.ols('variable_a ~ variable_b', data = cars).fit()\n",
    "\n",
    "plt.figure(figsize = (10,6))\n",
    "plt.scatter(df['variable_b'], lr_df.resid)\n",
    "xmin, xmax = plt.xlim()\n",
    "plt.hlines(y = 0, xmin = xmin, xmax = xmax)\n",
    "plt.xlim(xmin, xmax);"
   ]
  },
  {
   "cell_type": "code",
   "execution_count": null,
   "metadata": {
    "id": "swoHl4G-PYgN"
   },
   "outputs": [],
   "source": [
    "var = 'variable_b'\n",
    "\n",
    "x_pred = pd.DataFrame({\n",
    "    var: np.linspace(start = cars[var].min(),\n",
    "                               stop = cars[var].max(), num = 250)\n",
    "})\n",
    "\n",
    "pred = lr_poly_log.get_prediction(x_pred).summary_frame()\n",
    "\n",
    "cars.plot(kind = 'scatter', x = var, y = 'variable_a', figsize = (10,6))\n",
    "\n",
    "plt.plot(x_pred[var], np.exp(pred['mean']), color = 'grey', label = 'predicted mean')\n",
    "\n",
    "plt.plot(x_pred[var], np.exp(pred['mean_ci_lower']), color = 'blue', label = 'confidence interval')\n",
    "plt.plot(x_pred[var], np.exp(pred['mean_ci_upper']), color = 'blue')\n",
    "\n",
    "plt.plot(x_pred[var], np.exp(pred['obs_ci_lower']), color = 'black', label = 'prediction interval')\n",
    "plt.plot(x_pred[var], np.exp(pred['obs_ci_upper']), color = 'black')\n",
    "\n",
    "plt.legend();"
   ]
  },
  {
   "cell_type": "markdown",
   "metadata": {
    "id": "F3uUSA74293x"
   },
   "source": [
    "# **Let's put all the data frames created into an excel workbook**"
   ]
  },
  {
   "cell_type": "code",
   "execution_count": null,
   "metadata": {
    "id": "5fMA_-v53GUt"
   },
   "outputs": [],
   "source": [
    "xlwriter = pd.ExcelWriter('100M_Analysis.xlsx')\n",
    "df_100m.to_excel(xlwriter, sheet_name='100m')\n",
    "df_100m_stat_analysis.to_excel(xlwriter, sheet_name='100m Statisitcal Analysis')\n",
    "xlwriter.close()"
   ]
  }
 ],
 "metadata": {
  "colab": {
   "authorship_tag": "ABX9TyO8g6dZN83922IEmHQxAN+S",
   "provenance": []
  },
  "kernelspec": {
   "display_name": "Python 3 (ipykernel)",
   "language": "python",
   "name": "python3"
  },
  "language_info": {
   "codemirror_mode": {
    "name": "ipython",
    "version": 3
   },
   "file_extension": ".py",
   "mimetype": "text/x-python",
   "name": "python",
   "nbconvert_exporter": "python",
   "pygments_lexer": "ipython3",
   "version": "3.9.16"
  }
 },
 "nbformat": 4,
 "nbformat_minor": 1
}
