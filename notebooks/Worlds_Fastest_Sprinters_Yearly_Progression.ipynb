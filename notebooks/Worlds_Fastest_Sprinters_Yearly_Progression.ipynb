{
 "cells": [
  {
   "cell_type": "code",
   "execution_count": null,
   "metadata": {
    "id": "jiBagYByjpS1"
   },
   "outputs": [],
   "source": [
    "import pandas as pd\n",
    "import numpy as np\n",
    "import matplotlib.pyplot as plt\n",
    "import seaborn as sns\n",
    "%matplotlib inline\n",
    "import re\n",
    "import plotly.express as px\n",
    "import datetime\n",
    "from wordcloud import WordCloud, STOPWORDS, ImageColorGenerator"
   ]
  },
  {
   "cell_type": "code",
   "execution_count": null,
   "metadata": {
    "colab": {
     "base_uri": "https://localhost:8080/",
     "height": 423
    },
    "executionInfo": {
     "elapsed": 290,
     "status": "ok",
     "timestamp": 1726350912656,
     "user": {
      "displayName": "Johnny Test",
      "userId": "16509896550579327523"
     },
     "user_tz": 240
    },
    "id": "o-GMweZEkTAz",
    "outputId": "78751ce9-9e33-448d-bc6c-27be9b9420d1"
   },
   "outputs": [],
   "source": [
    "sprinters = pd.read_csv(\"../data/Worlds_Fastest_Sprinters_Master_List_Yearly_Progression.csv\")\n",
    "sprinters"
   ]
  },
  {
   "cell_type": "markdown",
   "metadata": {
    "id": "VzdTih99kZ_b"
   },
   "source": [
    "**Data Basics**"
   ]
  },
  {
   "cell_type": "code",
   "execution_count": null,
   "metadata": {
    "colab": {
     "base_uri": "https://localhost:8080/",
     "height": 206
    },
    "executionInfo": {
     "elapsed": 270,
     "status": "ok",
     "timestamp": 1726350925529,
     "user": {
      "displayName": "Johnny Test",
      "userId": "16509896550579327523"
     },
     "user_tz": 240
    },
    "id": "wc4J72H7adhm",
    "outputId": "8901e86a-1056-4249-c0f5-9006536e33e6"
   },
   "outputs": [],
   "source": [
    "sprinters.head()"
   ]
  },
  {
   "cell_type": "code",
   "execution_count": null,
   "metadata": {
    "colab": {
     "base_uri": "https://localhost:8080/",
     "height": 203
    },
    "executionInfo": {
     "elapsed": 201,
     "status": "ok",
     "timestamp": 1726350932621,
     "user": {
      "displayName": "Johnny Test",
      "userId": "16509896550579327523"
     },
     "user_tz": 240
    },
    "id": "5HYov-s3a40z",
    "outputId": "943b3fdd-5b91-4573-f5f0-bb2af27ee84a"
   },
   "outputs": [],
   "source": [
    "sprinters.info"
   ]
  },
  {
   "cell_type": "code",
   "execution_count": null,
   "metadata": {
    "colab": {
     "base_uri": "https://localhost:8080/"
    },
    "executionInfo": {
     "elapsed": 256,
     "status": "ok",
     "timestamp": 1726350934645,
     "user": {
      "displayName": "Johnny Test",
      "userId": "16509896550579327523"
     },
     "user_tz": 240
    },
    "id": "nGzrVMNoa4-f",
    "outputId": "a06d4152-cdfa-40ac-8fb2-cfd2f216165f"
   },
   "outputs": [],
   "source": [
    "sprinters.shape"
   ]
  },
  {
   "cell_type": "code",
   "execution_count": null,
   "metadata": {
    "colab": {
     "base_uri": "https://localhost:8080/"
    },
    "executionInfo": {
     "elapsed": 176,
     "status": "ok",
     "timestamp": 1726350936898,
     "user": {
      "displayName": "Johnny Test",
      "userId": "16509896550579327523"
     },
     "user_tz": 240
    },
    "id": "ER3YH8Gia5H3",
    "outputId": "7bd7fc64-87af-486e-c71b-537f49e8ccc0"
   },
   "outputs": [],
   "source": [
    "print(sprinters.dtypes)\n"
   ]
  },
  {
   "cell_type": "code",
   "execution_count": null,
   "metadata": {
    "colab": {
     "base_uri": "https://localhost:8080/",
     "height": 300
    },
    "executionInfo": {
     "elapsed": 228,
     "status": "ok",
     "timestamp": 1726350947770,
     "user": {
      "displayName": "Johnny Test",
      "userId": "16509896550579327523"
     },
     "user_tz": 240
    },
    "id": "Hi4r7kR7bKnp",
    "outputId": "02e97325-10be-4d2e-8129-34b45d50796e"
   },
   "outputs": [],
   "source": [
    "sprinters.describe()\n"
   ]
  },
  {
   "cell_type": "code",
   "execution_count": null,
   "metadata": {
    "colab": {
     "base_uri": "https://localhost:8080/",
     "height": 203
    },
    "executionInfo": {
     "elapsed": 169,
     "status": "ok",
     "timestamp": 1726350950254,
     "user": {
      "displayName": "Johnny Test",
      "userId": "16509896550579327523"
     },
     "user_tz": 240
    },
    "id": "f82kt78EbKz-",
    "outputId": "4400f175-88f0-4f2a-dd5a-165d71936b6c"
   },
   "outputs": [],
   "source": [
    "sprinters.corr\n"
   ]
  },
  {
   "cell_type": "markdown",
   "metadata": {
    "id": "8qoeDquZjyuK"
   },
   "source": [
    "**Exploratory Data Analysis**"
   ]
  },
  {
   "cell_type": "code",
   "execution_count": null,
   "metadata": {
    "colab": {
     "base_uri": "https://localhost:8080/",
     "height": 477
    },
    "executionInfo": {
     "elapsed": 227,
     "status": "error",
     "timestamp": 1726351034709,
     "user": {
      "displayName": "Johnny Test",
      "userId": "16509896550579327523"
     },
     "user_tz": 240
    },
    "id": "jdZ3M_qLCx8-",
    "outputId": "f23b7ce7-49b8-44c4-a81c-1723099cf2fc"
   },
   "outputs": [],
   "source": [
    "# Ensure the 'Date' column is in datetime format (if not already converted)\n",
    "sprinters['Date'] = pd.to_datetime(sprinters['Date'])\n",
    "\n",
    "# Create separate columns for 'Year', 'Month', and 'Day'\n",
    "#We already have a year column so block out that code\n",
    "#sprinters['Year'] = sprinters['Date'].dt.year\n",
    "sprinters['Month'] = sprinters['Date'].dt.month\n",
    "sprinters['Day'] = sprinters['Date'].dt.day\n",
    "\n",
    "# Display the first few rows to confirm the changes\n",
    "sprinters.head()"
   ]
  },
  {
   "cell_type": "markdown",
   "metadata": {
    "id": "1lxn41c1Dkzc"
   },
   "source": [
    "Let's Create a Decade Column"
   ]
  },
  {
   "cell_type": "code",
   "execution_count": null,
   "metadata": {
    "colab": {
     "base_uri": "https://localhost:8080/",
     "height": 206
    },
    "executionInfo": {
     "elapsed": 264,
     "status": "ok",
     "timestamp": 1726351048321,
     "user": {
      "displayName": "Johnny Test",
      "userId": "16509896550579327523"
     },
     "user_tz": 240
    },
    "id": "LViJifM7DY_V",
    "outputId": "e0654b9a-07fd-4302-f047-2b8f26a7a0a6"
   },
   "outputs": [],
   "source": [
    "# Function to categorize the year into decades\n",
    "def categorize_decade(year):\n",
    "    return f\"{(year // 10) * 10}s\"\n",
    "\n",
    "# Create the 'Decade' column based on the 'Year' column\n",
    "sprinters['Decade'] = sprinters['Year'].apply(categorize_decade)\n",
    "\n",
    "# Display the first few rows to confirm the changes\n",
    "sprinters.head()\n"
   ]
  },
  {
   "cell_type": "markdown",
   "metadata": {
    "id": "2A3cmD5lxeTN"
   },
   "source": [
    "Lets make dataframes for each event"
   ]
  },
  {
   "cell_type": "markdown",
   "metadata": {
    "id": "epAnPnfSycv8"
   },
   "source": [
    "*100m*"
   ]
  },
  {
   "cell_type": "code",
   "execution_count": null,
   "metadata": {
    "colab": {
     "base_uri": "https://localhost:8080/",
     "height": 423
    },
    "executionInfo": {
     "elapsed": 181,
     "status": "ok",
     "timestamp": 1726351056165,
     "user": {
      "displayName": "Johnny Test",
      "userId": "16509896550579327523"
     },
     "user_tz": 240
    },
    "id": "A96j5ylTxe5J",
    "outputId": "cd60763d-8552-427f-81ef-181262e2dd97"
   },
   "outputs": [],
   "source": [
    "df_100m = sprinters[sprinters['Event'] == '100m']\n",
    "df_100m"
   ]
  },
  {
   "cell_type": "code",
   "execution_count": null,
   "metadata": {
    "colab": {
     "base_uri": "https://localhost:8080/",
     "height": 423
    },
    "executionInfo": {
     "elapsed": 226,
     "status": "ok",
     "timestamp": 1726351067300,
     "user": {
      "displayName": "Johnny Test",
      "userId": "16509896550579327523"
     },
     "user_tz": 240
    },
    "id": "nweg0LhBxt_L",
    "outputId": "b8a40afa-682c-463b-a73b-488fc20703d9"
   },
   "outputs": [],
   "source": [
    "df_100m = pd.DataFrame(df_100m)\n",
    "df_100m"
   ]
  },
  {
   "cell_type": "markdown",
   "metadata": {
    "id": "t5krPKIVyfxk"
   },
   "source": [
    "*200m*"
   ]
  },
  {
   "cell_type": "code",
   "execution_count": null,
   "metadata": {
    "colab": {
     "base_uri": "https://localhost:8080/",
     "height": 423
    },
    "executionInfo": {
     "elapsed": 204,
     "status": "ok",
     "timestamp": 1726351073237,
     "user": {
      "displayName": "Johnny Test",
      "userId": "16509896550579327523"
     },
     "user_tz": 240
    },
    "id": "Fl6ooBZtxuTj",
    "outputId": "caa29e83-c8f6-447e-88ce-f2c8a42482ba"
   },
   "outputs": [],
   "source": [
    "df_200m = sprinters[sprinters['Event'] == '200m']\n",
    "df_200m"
   ]
  },
  {
   "cell_type": "code",
   "execution_count": null,
   "metadata": {
    "colab": {
     "base_uri": "https://localhost:8080/",
     "height": 423
    },
    "executionInfo": {
     "elapsed": 284,
     "status": "ok",
     "timestamp": 1726351083011,
     "user": {
      "displayName": "Johnny Test",
      "userId": "16509896550579327523"
     },
     "user_tz": 240
    },
    "id": "1D8TGQbrxueq",
    "outputId": "65312068-d992-49ed-9196-01c3b85e6308"
   },
   "outputs": [],
   "source": [
    "df_200m = pd.DataFrame(df_200m)\n",
    "df_200m"
   ]
  },
  {
   "cell_type": "markdown",
   "metadata": {
    "id": "e28l4opgyi8o"
   },
   "source": [
    "*400m*"
   ]
  },
  {
   "cell_type": "code",
   "execution_count": null,
   "metadata": {
    "colab": {
     "base_uri": "https://localhost:8080/",
     "height": 423
    },
    "executionInfo": {
     "elapsed": 189,
     "status": "ok",
     "timestamp": 1726351089163,
     "user": {
      "displayName": "Johnny Test",
      "userId": "16509896550579327523"
     },
     "user_tz": 240
    },
    "id": "a7HHfJ1mxurE",
    "outputId": "2dbca2c7-e7e2-4f58-eb0c-99f567914684"
   },
   "outputs": [],
   "source": [
    "df_400m = sprinters[sprinters['Event'] == '400m']\n",
    "df_400m"
   ]
  },
  {
   "cell_type": "code",
   "execution_count": null,
   "metadata": {
    "colab": {
     "base_uri": "https://localhost:8080/",
     "height": 423
    },
    "executionInfo": {
     "elapsed": 266,
     "status": "ok",
     "timestamp": 1726351096742,
     "user": {
      "displayName": "Johnny Test",
      "userId": "16509896550579327523"
     },
     "user_tz": 240
    },
    "id": "xLPQW613xu0q",
    "outputId": "849283b3-6900-4f6f-d8ce-ed5cc57c1388"
   },
   "outputs": [],
   "source": [
    "df_400m = pd.DataFrame(df_400m)\n",
    "df_400m"
   ]
  },
  {
   "cell_type": "markdown",
   "metadata": {
    "id": "VrXd1WcXBnak"
   },
   "source": [
    "100m EDA"
   ]
  },
  {
   "cell_type": "code",
   "execution_count": null,
   "metadata": {
    "colab": {
     "base_uri": "https://localhost:8080/",
     "height": 206
    },
    "executionInfo": {
     "elapsed": 170,
     "status": "ok",
     "timestamp": 1726351102118,
     "user": {
      "displayName": "Johnny Test",
      "userId": "16509896550579327523"
     },
     "user_tz": 240
    },
    "id": "ZKJWzW7lBqFA",
    "outputId": "dc561aeb-ada3-4c43-f383-06ebf29dd2c6"
   },
   "outputs": [],
   "source": [
    "t5_fastest_100m = df_100m.nsmallest(5, \"Time\")\n",
    "t5_fastest_100m"
   ]
  },
  {
   "cell_type": "code",
   "execution_count": null,
   "metadata": {
    "colab": {
     "base_uri": "https://localhost:8080/"
    },
    "executionInfo": {
     "elapsed": 270,
     "status": "ok",
     "timestamp": 1726351105375,
     "user": {
      "displayName": "Johnny Test",
      "userId": "16509896550579327523"
     },
     "user_tz": 240
    },
    "id": "EnSW6D6fBsSj",
    "outputId": "c061bc4b-1bc5-4abc-ea9e-2afb201745cb"
   },
   "outputs": [],
   "source": [
    "top_100m_athletes = t5_fastest_100m.Athlete.tolist()\n",
    "print(top_100m_athletes)"
   ]
  },
  {
   "cell_type": "code",
   "execution_count": null,
   "metadata": {
    "colab": {
     "base_uri": "https://localhost:8080/",
     "height": 324
    },
    "executionInfo": {
     "elapsed": 1442,
     "status": "ok",
     "timestamp": 1726351109755,
     "user": {
      "displayName": "Johnny Test",
      "userId": "16509896550579327523"
     },
     "user_tz": 240
    },
    "id": "MbipztwpCcbT",
    "outputId": "182fac56-dd09-465e-83ad-79c6c9678380"
   },
   "outputs": [],
   "source": [
    "g = sns.FacetGrid(t5_fastest_100m, col='Athlete')\n",
    "g.map_dataframe(sns.lineplot, x='Year', y=\"Time\").add_legend()"
   ]
  },
  {
   "cell_type": "markdown",
   "metadata": {
    "id": "0S7jfjbvDPvD"
   },
   "source": [
    "200m EDA"
   ]
  },
  {
   "cell_type": "code",
   "execution_count": null,
   "metadata": {
    "colab": {
     "base_uri": "https://localhost:8080/",
     "height": 206
    },
    "executionInfo": {
     "elapsed": 292,
     "status": "ok",
     "timestamp": 1726351126552,
     "user": {
      "displayName": "Johnny Test",
      "userId": "16509896550579327523"
     },
     "user_tz": 240
    },
    "id": "BEKfkliSDPvE",
    "outputId": "30cd2afa-a2a0-4027-fbbd-11f65fdce48d"
   },
   "outputs": [],
   "source": [
    "t5_fastest_200m = df_200m.nsmallest(5, \"Time\")\n",
    "t5_fastest_200m"
   ]
  },
  {
   "cell_type": "code",
   "execution_count": null,
   "metadata": {
    "colab": {
     "base_uri": "https://localhost:8080/"
    },
    "executionInfo": {
     "elapsed": 155,
     "status": "ok",
     "timestamp": 1726351128581,
     "user": {
      "displayName": "Johnny Test",
      "userId": "16509896550579327523"
     },
     "user_tz": 240
    },
    "id": "r-0MysQDDPvF",
    "outputId": "0679c931-5002-40ca-a15f-dd128eadc403"
   },
   "outputs": [],
   "source": [
    "top_200m_athletes = t5_fastest_200m.Athlete.tolist()\n",
    "print(top_200m_athletes)"
   ]
  },
  {
   "cell_type": "code",
   "execution_count": null,
   "metadata": {
    "id": "PlP5XiPgDPvG"
   },
   "outputs": [],
   "source": [
    "g = sns.FacetGrid(t5_fastest_200m, col='Athlete')\n",
    "g.map_dataframe(sns.lineplot, x='Year', y=\"Time\").add_legend()"
   ]
  },
  {
   "cell_type": "markdown",
   "metadata": {
    "id": "yOwqMdt-DuPF"
   },
   "source": [
    "400m EDA"
   ]
  },
  {
   "cell_type": "code",
   "execution_count": null,
   "metadata": {
    "colab": {
     "base_uri": "https://localhost:8080/",
     "height": 206
    },
    "executionInfo": {
     "elapsed": 187,
     "status": "ok",
     "timestamp": 1726351136150,
     "user": {
      "displayName": "Johnny Test",
      "userId": "16509896550579327523"
     },
     "user_tz": 240
    },
    "id": "vWs6_hWuDuPc",
    "outputId": "3716ccca-27b9-40d5-b773-d883b5768ed4"
   },
   "outputs": [],
   "source": [
    "t5_fastest_400m = df_400m.nsmallest(5, \"Time\")\n",
    "t5_fastest_400m"
   ]
  },
  {
   "cell_type": "code",
   "execution_count": null,
   "metadata": {
    "colab": {
     "base_uri": "https://localhost:8080/"
    },
    "executionInfo": {
     "elapsed": 207,
     "status": "ok",
     "timestamp": 1726351138307,
     "user": {
      "displayName": "Johnny Test",
      "userId": "16509896550579327523"
     },
     "user_tz": 240
    },
    "id": "5sNatgbiDuPd",
    "outputId": "ef83b864-45ff-4b15-a40f-e5587137e3b8"
   },
   "outputs": [],
   "source": [
    "top_400m_athletes = t5_fastest_400m.Athlete.tolist()\n",
    "print(top_400m_athletes)"
   ]
  },
  {
   "cell_type": "code",
   "execution_count": null,
   "metadata": {
    "id": "0uWZecQsDuPd"
   },
   "outputs": [],
   "source": [
    "g = sns.FacetGrid(t5_fastest_400m, col='Athlete')\n",
    "g.map_dataframe(sns.lineplot, x='Year', y=\"Time\").add_legend()"
   ]
  },
  {
   "cell_type": "markdown",
   "metadata": {
    "id": "VpwdsK0ipErm"
   },
   "source": [
    "*Years competitive in the 100m*"
   ]
  },
  {
   "cell_type": "markdown",
   "metadata": {
    "id": "Kt6aJTlO66x4"
   },
   "source": [
    "Let's read in the dataframe with PR and Career average to merge with the Years competed dataframes"
   ]
  },
  {
   "cell_type": "code",
   "execution_count": null,
   "metadata": {
    "colab": {
     "base_uri": "https://localhost:8080/",
     "height": 418
    },
    "executionInfo": {
     "elapsed": 157,
     "status": "ok",
     "timestamp": 1726351152332,
     "user": {
      "displayName": "Johnny Test",
      "userId": "16509896550579327523"
     },
     "user_tz": 240
    },
    "id": "BW8KC6XO7Lwu",
    "outputId": "170a215e-7db9-4454-fcb1-34d49461cb91"
   },
   "outputs": [],
   "source": [
    "sprinters_df2 = pd.read_csv(\"../data/Worlds_Fastest_Sprinters_Stats.csv\")\n",
    "sprinters_df2.head(3)"
   ]
  },
  {
   "cell_type": "code",
   "execution_count": null,
   "metadata": {
    "colab": {
     "base_uri": "https://localhost:8080/",
     "height": 609
    },
    "executionInfo": {
     "elapsed": 268,
     "status": "ok",
     "timestamp": 1726352291459,
     "user": {
      "displayName": "Johnny Test",
      "userId": "16509896550579327523"
     },
     "user_tz": 240
    },
    "id": "2MG6IN06m_J5",
    "outputId": "ce69eae8-8716-47df-f18c-eedd751fa7eb"
   },
   "outputs": [],
   "source": [
    "sprinters_df3 = pd.merge(sprinters_df2, sprinters, on=['Athlete'],how='outer')\n",
    "sprinters_df3.head(3)"
   ]
  },
  {
   "cell_type": "code",
   "execution_count": null,
   "metadata": {
    "id": "1AYSTsnbnwIO"
   },
   "outputs": [],
   "source": [
    "yrs_competed_100m = sprinters[sprinters['Event'] == '100m'].groupby('Athlete').size().reset_index(name='Years')"
   ]
  },
  {
   "cell_type": "code",
   "execution_count": null,
   "metadata": {
    "colab": {
     "base_uri": "https://localhost:8080/",
     "height": 206
    },
    "executionInfo": {
     "elapsed": 276,
     "status": "ok",
     "timestamp": 1726351165759,
     "user": {
      "displayName": "Johnny Test",
      "userId": "16509896550579327523"
     },
     "user_tz": 240
    },
    "id": "TDEfJjpqn_BT",
    "outputId": "de55e4f6-dd2d-408f-8e9f-5517961fd485"
   },
   "outputs": [],
   "source": [
    "yrs_competed_100m = yrs_competed_100m.sort_values(by='Years', ascending=False)\n",
    "yrs_competed_100m.head()"
   ]
  },
  {
   "cell_type": "code",
   "execution_count": null,
   "metadata": {
    "colab": {
     "base_uri": "https://localhost:8080/",
     "height": 1000
    },
    "executionInfo": {
     "elapsed": 285,
     "status": "ok",
     "timestamp": 1726351171477,
     "user": {
      "displayName": "Johnny Test",
      "userId": "16509896550579327523"
     },
     "user_tz": 240
    },
    "id": "OB1nnBewoWKt",
    "outputId": "a0eea174-35f6-401f-db2a-0110d833b34c"
   },
   "outputs": [],
   "source": [
    "yrs_competed_100m = pd.DataFrame(yrs_competed_100m)\n",
    "yrs_competed_100m"
   ]
  },
  {
   "cell_type": "code",
   "execution_count": null,
   "metadata": {
    "colab": {
     "base_uri": "https://localhost:8080/",
     "height": 620
    },
    "executionInfo": {
     "elapsed": 298,
     "status": "ok",
     "timestamp": 1726351361541,
     "user": {
      "displayName": "Johnny Test",
      "userId": "16509896550579327523"
     },
     "user_tz": 240
    },
    "id": "Vf6Mrbsz6wXJ",
    "outputId": "71d3632d-a7c2-43ee-f923-60ea4ec4542a"
   },
   "outputs": [],
   "source": [
    "career_100m = pd.merge(sprinters_df2,yrs_competed_100m, on=['Athlete'],how='outer')\n",
    "career_100m.head()\n"
   ]
  },
  {
   "cell_type": "code",
   "execution_count": null,
   "metadata": {
    "colab": {
     "base_uri": "https://localhost:8080/",
     "height": 310
    },
    "executionInfo": {
     "elapsed": 259,
     "status": "ok",
     "timestamp": 1726351371217,
     "user": {
      "displayName": "Johnny Test",
      "userId": "16509896550579327523"
     },
     "user_tz": 240
    },
    "id": "mTD9vysU8o51",
    "outputId": "89ea1d7d-d38d-402d-f960-1f74b10e4aa4"
   },
   "outputs": [],
   "source": [
    "career_100m = career_100m[['Athlete', 'Country','Continent','Status', 'DOB','Year Born','Avg Season Best 100m','100_PR','T25_100_All_Time_Rank','T25_100_AT_RK_NUM','Years']]\n",
    "career_100m.head()"
   ]
  },
  {
   "cell_type": "code",
   "execution_count": null,
   "metadata": {
    "colab": {
     "base_uri": "https://localhost:8080/",
     "height": 247
    },
    "executionInfo": {
     "elapsed": 190,
     "status": "ok",
     "timestamp": 1726351387358,
     "user": {
      "displayName": "Johnny Test",
      "userId": "16509896550579327523"
     },
     "user_tz": 240
    },
    "id": "uwXWkdKD9wIz",
    "outputId": "5eda1899-b278-4ca8-c763-e94a83c5c970"
   },
   "outputs": [],
   "source": [
    "career_100m = career_100m.rename(columns={'Years': 'Years_Competed_100m'})\n",
    "career_100m.head(3)"
   ]
  },
  {
   "cell_type": "code",
   "execution_count": null,
   "metadata": {
    "colab": {
     "base_uri": "https://localhost:8080/",
     "height": 319
    },
    "executionInfo": {
     "elapsed": 223,
     "status": "ok",
     "timestamp": 1726351396320,
     "user": {
      "displayName": "Johnny Test",
      "userId": "16509896550579327523"
     },
     "user_tz": 240
    },
    "id": "hjZb84Vh_AvN",
    "outputId": "29ca2cc1-d3ff-4ea0-bf18-d1b8b4b49b61"
   },
   "outputs": [],
   "source": [
    "career_100m['Avg_100m_PR_Diff'] = round(career_100m['Avg Season Best 100m'] - career_100m['100_PR'],2)\n",
    "career_100m.head(3)"
   ]
  },
  {
   "cell_type": "code",
   "execution_count": null,
   "metadata": {
    "colab": {
     "base_uri": "https://localhost:8080/",
     "height": 319
    },
    "executionInfo": {
     "elapsed": 175,
     "status": "ok",
     "timestamp": 1726351410909,
     "user": {
      "displayName": "Johnny Test",
      "userId": "16509896550579327523"
     },
     "user_tz": 240
    },
    "id": "k0_SqLj1_maT",
    "outputId": "40fc728d-ef64-4dfd-adfa-d67a92eab6d2"
   },
   "outputs": [],
   "source": [
    "career_100m = pd.DataFrame(career_100m)\n",
    "career_100m.head(3)"
   ]
  },
  {
   "cell_type": "markdown",
   "metadata": {
    "id": "MZOOevSSFYo1"
   },
   "source": [
    "Word Cloud Visualization displaying the athletes who competed the most seasons in the 100m"
   ]
  },
  {
   "cell_type": "code",
   "execution_count": null,
   "metadata": {
    "colab": {
     "base_uri": "https://localhost:8080/",
     "height": 285
    },
    "executionInfo": {
     "elapsed": 1012,
     "status": "ok",
     "timestamp": 1726351420620,
     "user": {
      "displayName": "Johnny Test",
      "userId": "16509896550579327523"
     },
     "user_tz": 240
    },
    "id": "N8AV95JD_18F",
    "outputId": "fd045aec-1efb-47cd-ed1d-02308faaa26e"
   },
   "outputs": [],
   "source": [
    "# Start with one review:\n",
    "text = career_100m.Athlete[:].dropna().to_list()\n",
    "text = \" \".join(text)\n",
    "# Create and generate a word cloud image:\n",
    "wordcloud = WordCloud(max_font_size=50, max_words=100, background_color=\"white\", regexp = r'\\S+').generate(text)\n",
    "\n",
    "# Display the generated image:\n",
    "plt.imshow(wordcloud, interpolation='bilinear')\n",
    "plt.axis(\"off\")\n",
    "plt.show()\n",
    "\n",
    "#plt.savefig('most_seasons_100_wordcloud.png', format='png', dpi=300)\n",
    "#plt.savefig('most_seasons_100_wordcloud.jpg', format='jpg', dpi=300)"
   ]
  },
  {
   "cell_type": "markdown",
   "metadata": {
    "id": "h0RLfFx6pTmp"
   },
   "source": [
    "Who has the longest career in the 100m?\n"
   ]
  },
  {
   "cell_type": "code",
   "execution_count": null,
   "metadata": {
    "colab": {
     "base_uri": "https://localhost:8080/",
     "height": 241
    },
    "executionInfo": {
     "elapsed": 229,
     "status": "ok",
     "timestamp": 1726351432286,
     "user": {
      "displayName": "Johnny Test",
      "userId": "16509896550579327523"
     },
     "user_tz": 240
    },
    "id": "X3O-ucT1pgUj",
    "outputId": "3f8e1d59-0363-44f1-9a34-b54614d76b3a"
   },
   "outputs": [],
   "source": [
    "yrs_competed_100m.Years.nlargest(5)\n"
   ]
  },
  {
   "cell_type": "markdown",
   "metadata": {
    "id": "5fomokGvpgnc"
   },
   "source": [
    "Who has the shortes career in the 100m?\n"
   ]
  },
  {
   "cell_type": "code",
   "execution_count": null,
   "metadata": {
    "colab": {
     "base_uri": "https://localhost:8080/",
     "height": 241
    },
    "executionInfo": {
     "elapsed": 248,
     "status": "ok",
     "timestamp": 1726351442735,
     "user": {
      "displayName": "Johnny Test",
      "userId": "16509896550579327523"
     },
     "user_tz": 240
    },
    "id": "j3CMj857png5",
    "outputId": "aa87c58c-ff7b-4ffa-c698-735005b1a570"
   },
   "outputs": [],
   "source": [
    "yrs_competed_100m.Years.nsmallest(5)\n"
   ]
  },
  {
   "cell_type": "markdown",
   "metadata": {
    "id": "5tVslrZFqUta"
   },
   "source": [
    "*Years competitive in the 200m*"
   ]
  },
  {
   "cell_type": "code",
   "execution_count": null,
   "metadata": {
    "id": "aSaO_PPgqUtk"
   },
   "outputs": [],
   "source": [
    "yrs_competed_200m = sprinters[sprinters['Event'] == '200m'].groupby('Athlete').size().reset_index(name='Years')"
   ]
  },
  {
   "cell_type": "code",
   "execution_count": null,
   "metadata": {
    "colab": {
     "base_uri": "https://localhost:8080/",
     "height": 206
    },
    "executionInfo": {
     "elapsed": 186,
     "status": "ok",
     "timestamp": 1726351465781,
     "user": {
      "displayName": "Johnny Test",
      "userId": "16509896550579327523"
     },
     "user_tz": 240
    },
    "id": "aXzOD-JKqUtl",
    "outputId": "ace57999-2b4e-431f-c162-71f704265f87"
   },
   "outputs": [],
   "source": [
    "yrs_competed_200m = yrs_competed_200m.sort_values(by='Years', ascending=False)\n",
    "yrs_competed_200m.head()"
   ]
  },
  {
   "cell_type": "code",
   "execution_count": null,
   "metadata": {
    "colab": {
     "base_uri": "https://localhost:8080/",
     "height": 423
    },
    "executionInfo": {
     "elapsed": 173,
     "status": "ok",
     "timestamp": 1726351471951,
     "user": {
      "displayName": "Johnny Test",
      "userId": "16509896550579327523"
     },
     "user_tz": 240
    },
    "id": "xDwBt0YiqUtl",
    "outputId": "109959ad-dd3f-44a8-8b03-2b1befb939da"
   },
   "outputs": [],
   "source": [
    "yrs_competed_200m = pd.DataFrame(yrs_competed_200m)\n",
    "yrs_competed_200m"
   ]
  },
  {
   "cell_type": "code",
   "execution_count": null,
   "metadata": {
    "colab": {
     "base_uri": "https://localhost:8080/",
     "height": 620
    },
    "executionInfo": {
     "elapsed": 185,
     "status": "ok",
     "timestamp": 1726351478009,
     "user": {
      "displayName": "Johnny Test",
      "userId": "16509896550579327523"
     },
     "user_tz": 240
    },
    "id": "iAzYefSYEpXy",
    "outputId": "6f1d3270-d059-4b6d-ad5c-6f1c6c4d2443"
   },
   "outputs": [],
   "source": [
    "career_200m = pd.merge(sprinters_df2,yrs_competed_200m, on=['Athlete'],how='outer')\n",
    "career_200m.head()\n"
   ]
  },
  {
   "cell_type": "code",
   "execution_count": null,
   "metadata": {
    "colab": {
     "base_uri": "https://localhost:8080/",
     "height": 310
    },
    "executionInfo": {
     "elapsed": 209,
     "status": "ok",
     "timestamp": 1726351485387,
     "user": {
      "displayName": "Johnny Test",
      "userId": "16509896550579327523"
     },
     "user_tz": 240
    },
    "id": "CQTvogbhEpYH",
    "outputId": "d0f899b7-da1a-4e94-e3c4-4e2ae549a775"
   },
   "outputs": [],
   "source": [
    "career_200m = career_200m[['Athlete', 'Country','Continent','Status', 'DOB','Year Born','Avg Season Best 200m','200_PR','T25_200_All_Time_Rank','T25_200_AT_RK_NUM','Years']]\n",
    "career_200m.head()"
   ]
  },
  {
   "cell_type": "code",
   "execution_count": null,
   "metadata": {
    "colab": {
     "base_uri": "https://localhost:8080/",
     "height": 247
    },
    "executionInfo": {
     "elapsed": 230,
     "status": "ok",
     "timestamp": 1726351491394,
     "user": {
      "displayName": "Johnny Test",
      "userId": "16509896550579327523"
     },
     "user_tz": 240
    },
    "id": "LbsKfUVcEpYI",
    "outputId": "dbf732fe-3fae-4c96-bfe5-b69b4fcb3abb"
   },
   "outputs": [],
   "source": [
    "career_200m = career_200m.rename(columns={'Years': 'Years_Competed_200m'})\n",
    "career_200m.head(3)"
   ]
  },
  {
   "cell_type": "code",
   "execution_count": null,
   "metadata": {
    "colab": {
     "base_uri": "https://localhost:8080/",
     "height": 319
    },
    "executionInfo": {
     "elapsed": 243,
     "status": "ok",
     "timestamp": 1726351496939,
     "user": {
      "displayName": "Johnny Test",
      "userId": "16509896550579327523"
     },
     "user_tz": 240
    },
    "id": "w_Bk5pwFEpYI",
    "outputId": "94ea4e11-3366-4118-bbe0-8e733adc854c"
   },
   "outputs": [],
   "source": [
    "career_200m['Avg_100m_PR_Diff'] = round(career_200m['Avg Season Best 200m'] - career_200m['200_PR'],2)\n",
    "career_200m.head(3)"
   ]
  },
  {
   "cell_type": "code",
   "execution_count": null,
   "metadata": {
    "colab": {
     "base_uri": "https://localhost:8080/",
     "height": 319
    },
    "executionInfo": {
     "elapsed": 272,
     "status": "ok",
     "timestamp": 1726351503465,
     "user": {
      "displayName": "Johnny Test",
      "userId": "16509896550579327523"
     },
     "user_tz": 240
    },
    "id": "kursq6DsEpYJ",
    "outputId": "521d0d0a-3add-4878-c6bf-7e75d0250a37"
   },
   "outputs": [],
   "source": [
    "career_200m = pd.DataFrame(career_200m)\n",
    "career_200m.head(3)"
   ]
  },
  {
   "cell_type": "markdown",
   "metadata": {
    "id": "5XRXcES0Fg0s"
   },
   "source": [
    "Word Cloud Visualization displaying the athletes who competed the most seasons in the 200m"
   ]
  },
  {
   "cell_type": "code",
   "execution_count": null,
   "metadata": {
    "colab": {
     "base_uri": "https://localhost:8080/",
     "height": 285
    },
    "executionInfo": {
     "elapsed": 786,
     "status": "ok",
     "timestamp": 1726351514335,
     "user": {
      "displayName": "Johnny Test",
      "userId": "16509896550579327523"
     },
     "user_tz": 240
    },
    "id": "2MRwkf4aEpYK",
    "outputId": "00cf1a13-064f-4e0a-87ea-f54046a9ca13"
   },
   "outputs": [],
   "source": [
    "# Start with one review:\n",
    "text = career_200m.Athlete[:].dropna().to_list()\n",
    "text = \" \".join(text)\n",
    "# Create and generate a word cloud image:\n",
    "wordcloud = WordCloud(max_font_size=50, max_words=100, background_color=\"white\", regexp = r'\\S+').generate(text)\n",
    "\n",
    "# Display the generated image:\n",
    "plt.imshow(wordcloud, interpolation='bilinear')\n",
    "plt.axis(\"off\")\n",
    "plt.show()\n",
    "\n",
    "#plt.savefig('most_seasons_200_wordcloud.png', format='png', dpi=300)\n",
    "#plt.savefig('most_seasons_200_wordcloud.jpg', format='jpg', dpi=300)"
   ]
  },
  {
   "cell_type": "markdown",
   "metadata": {
    "id": "MThBsAmeqUtl"
   },
   "source": [
    "Who has the longest career in the 200m?\n",
    "\n",
    "\n",
    "\n",
    "\n"
   ]
  },
  {
   "cell_type": "code",
   "execution_count": null,
   "metadata": {
    "colab": {
     "base_uri": "https://localhost:8080/",
     "height": 241
    },
    "executionInfo": {
     "elapsed": 285,
     "status": "ok",
     "timestamp": 1726351521580,
     "user": {
      "displayName": "Johnny Test",
      "userId": "16509896550579327523"
     },
     "user_tz": 240
    },
    "id": "huh9XiMFqUtm",
    "outputId": "73ea8ab4-72c0-4b96-c626-5ce70cfd9726"
   },
   "outputs": [],
   "source": [
    "yrs_competed_200m.Years.nlargest(5)\n"
   ]
  },
  {
   "cell_type": "markdown",
   "metadata": {
    "id": "Nxs8WaqfqUtm"
   },
   "source": [
    "Who has the shortes career in the 200m?\n"
   ]
  },
  {
   "cell_type": "code",
   "execution_count": null,
   "metadata": {
    "colab": {
     "base_uri": "https://localhost:8080/",
     "height": 241
    },
    "executionInfo": {
     "elapsed": 187,
     "status": "ok",
     "timestamp": 1726351533335,
     "user": {
      "displayName": "Johnny Test",
      "userId": "16509896550579327523"
     },
     "user_tz": 240
    },
    "id": "MIdmNF-wqUtm",
    "outputId": "16025a19-8ea5-4799-c3dc-d5806680d37e"
   },
   "outputs": [],
   "source": [
    "yrs_competed_200m.Years.nsmallest(5)\n"
   ]
  },
  {
   "cell_type": "markdown",
   "metadata": {
    "id": "YKwxTn-9qykR"
   },
   "source": [
    "*Years competitive in the 400m*"
   ]
  },
  {
   "cell_type": "code",
   "execution_count": null,
   "metadata": {
    "id": "6JfeotA1qykS"
   },
   "outputs": [],
   "source": [
    "yrs_competed_400m = sprinters[sprinters['Event'] == '400m'].groupby('Athlete').size().reset_index(name='Years')"
   ]
  },
  {
   "cell_type": "code",
   "execution_count": null,
   "metadata": {
    "colab": {
     "base_uri": "https://localhost:8080/",
     "height": 206
    },
    "executionInfo": {
     "elapsed": 246,
     "status": "ok",
     "timestamp": 1726351547401,
     "user": {
      "displayName": "Johnny Test",
      "userId": "16509896550579327523"
     },
     "user_tz": 240
    },
    "id": "zHJoXnPBqykT",
    "outputId": "6c103ee0-0118-4c6b-e786-f92f93630aa7"
   },
   "outputs": [],
   "source": [
    "yrs_competed_400m = yrs_competed_200m.sort_values(by='Years', ascending=False)\n",
    "yrs_competed_400m.head()"
   ]
  },
  {
   "cell_type": "code",
   "execution_count": null,
   "metadata": {
    "colab": {
     "base_uri": "https://localhost:8080/",
     "height": 423
    },
    "executionInfo": {
     "elapsed": 191,
     "status": "ok",
     "timestamp": 1726351549771,
     "user": {
      "displayName": "Johnny Test",
      "userId": "16509896550579327523"
     },
     "user_tz": 240
    },
    "id": "XPBLKS1HqykT",
    "outputId": "fb28c02c-6ba3-4e61-87d2-65c654885dae"
   },
   "outputs": [],
   "source": [
    "yrs_competed_400m = pd.DataFrame(yrs_competed_400m)\n",
    "yrs_competed_400m"
   ]
  },
  {
   "cell_type": "code",
   "execution_count": null,
   "metadata": {
    "colab": {
     "base_uri": "https://localhost:8080/",
     "height": 620
    },
    "executionInfo": {
     "elapsed": 174,
     "status": "ok",
     "timestamp": 1726351558188,
     "user": {
      "displayName": "Johnny Test",
      "userId": "16509896550579327523"
     },
     "user_tz": 240
    },
    "id": "7h7liawYFuiB",
    "outputId": "46aac774-c63c-4fba-83f4-34facfe59801"
   },
   "outputs": [],
   "source": [
    "career_400m = pd.merge(sprinters_df2,yrs_competed_400m, on=['Athlete'],how='outer')\n",
    "career_400m.head()\n"
   ]
  },
  {
   "cell_type": "code",
   "execution_count": null,
   "metadata": {
    "colab": {
     "base_uri": "https://localhost:8080/",
     "height": 310
    },
    "executionInfo": {
     "elapsed": 193,
     "status": "ok",
     "timestamp": 1726351564574,
     "user": {
      "displayName": "Johnny Test",
      "userId": "16509896550579327523"
     },
     "user_tz": 240
    },
    "id": "BlUo4AsaFuia",
    "outputId": "a43dbfd6-ee06-46b8-ee33-8d7e814e6098"
   },
   "outputs": [],
   "source": [
    "career_400m = career_400m[['Athlete', 'Country','Continent','Status', 'DOB','Year Born','Avg Season Best 400m','400_PR','T25_400_All_Time_Rank','T25_400_AT_RK_NUM','Years']]\n",
    "career_400m.head()"
   ]
  },
  {
   "cell_type": "code",
   "execution_count": null,
   "metadata": {
    "colab": {
     "base_uri": "https://localhost:8080/",
     "height": 247
    },
    "executionInfo": {
     "elapsed": 168,
     "status": "ok",
     "timestamp": 1726351567858,
     "user": {
      "displayName": "Johnny Test",
      "userId": "16509896550579327523"
     },
     "user_tz": 240
    },
    "id": "DfJo-Ox6Fuia",
    "outputId": "b2ddd8fe-1af9-45a7-ef3a-025e40c14b38"
   },
   "outputs": [],
   "source": [
    "career_400m = career_400m.rename(columns={'Years': 'Years_Competed_400m'})\n",
    "career_400m.head(3)"
   ]
  },
  {
   "cell_type": "code",
   "execution_count": null,
   "metadata": {
    "colab": {
     "base_uri": "https://localhost:8080/",
     "height": 319
    },
    "executionInfo": {
     "elapsed": 209,
     "status": "ok",
     "timestamp": 1726351574906,
     "user": {
      "displayName": "Johnny Test",
      "userId": "16509896550579327523"
     },
     "user_tz": 240
    },
    "id": "skuWx4_GFuib",
    "outputId": "f16ad4b4-a9a4-4c16-e4c7-bb251b445e79"
   },
   "outputs": [],
   "source": [
    "career_400m['Avg_100m_PR_Diff'] = round(career_400m['Avg Season Best 400m'] - career_400m['400_PR'],2)\n",
    "career_400m.head(3)"
   ]
  },
  {
   "cell_type": "code",
   "execution_count": null,
   "metadata": {
    "colab": {
     "base_uri": "https://localhost:8080/",
     "height": 319
    },
    "executionInfo": {
     "elapsed": 185,
     "status": "ok",
     "timestamp": 1726351579944,
     "user": {
      "displayName": "Johnny Test",
      "userId": "16509896550579327523"
     },
     "user_tz": 240
    },
    "id": "Ok1igHSfFuib",
    "outputId": "c246037d-6cbb-468d-efa9-7ec6df9f6bfc"
   },
   "outputs": [],
   "source": [
    "career_400m = pd.DataFrame(career_400m)\n",
    "career_400m.head(3)"
   ]
  },
  {
   "cell_type": "markdown",
   "metadata": {
    "id": "RcO1SAvqFuib"
   },
   "source": [
    "Word Cloud Visualization displaying the athletes who competed the most seasons in the 400m"
   ]
  },
  {
   "cell_type": "code",
   "execution_count": null,
   "metadata": {
    "colab": {
     "base_uri": "https://localhost:8080/",
     "height": 285
    },
    "executionInfo": {
     "elapsed": 615,
     "status": "ok",
     "timestamp": 1726351596866,
     "user": {
      "displayName": "Johnny Test",
      "userId": "16509896550579327523"
     },
     "user_tz": 240
    },
    "id": "mTHAQiEXFuic",
    "outputId": "0fff88e8-18bf-4beb-f69a-4537ecb1dd29"
   },
   "outputs": [],
   "source": [
    "# Start with one review:\n",
    "text = career_400m.Athlete[:].dropna().to_list()\n",
    "text = \" \".join(text)\n",
    "# Create and generate a word cloud image:\n",
    "wordcloud = WordCloud(max_font_size=50, max_words=100, background_color=\"white\", regexp = r'\\S+').generate(text)\n",
    "\n",
    "# Display the generated image:\n",
    "plt.imshow(wordcloud, interpolation='bilinear')\n",
    "plt.axis(\"off\")\n",
    "plt.show()\n",
    "\n",
    "#plt.savefig('most_seasons_400_wordcloud.png', format='png', dpi=300)\n",
    "#plt.savefig('most_seasons_400_wordcloud.jpg', format='jpg', dpi=300)"
   ]
  },
  {
   "cell_type": "markdown",
   "metadata": {
    "id": "g5TSGVqsqykU"
   },
   "source": [
    "Who has the longest career in the 400m?\n",
    "\n",
    "\n",
    "\n",
    "\n"
   ]
  },
  {
   "cell_type": "code",
   "execution_count": null,
   "metadata": {
    "colab": {
     "base_uri": "https://localhost:8080/",
     "height": 241
    },
    "executionInfo": {
     "elapsed": 282,
     "status": "ok",
     "timestamp": 1726351611078,
     "user": {
      "displayName": "Johnny Test",
      "userId": "16509896550579327523"
     },
     "user_tz": 240
    },
    "id": "WdjGFLMkqykV",
    "outputId": "bed17799-49bd-4351-9a32-537c5df7748b"
   },
   "outputs": [],
   "source": [
    "yrs_competed_400m.Years.nlargest(5)\n"
   ]
  },
  {
   "cell_type": "markdown",
   "metadata": {
    "id": "lXlNmyR9qykV"
   },
   "source": [
    "Who has the shortes career in the 400m?\n"
   ]
  },
  {
   "cell_type": "code",
   "execution_count": null,
   "metadata": {
    "colab": {
     "base_uri": "https://localhost:8080/",
     "height": 241
    },
    "executionInfo": {
     "elapsed": 292,
     "status": "ok",
     "timestamp": 1726351616404,
     "user": {
      "displayName": "Johnny Test",
      "userId": "16509896550579327523"
     },
     "user_tz": 240
    },
    "id": "B7COipFZqykW",
    "outputId": "fbb4c628-31ae-4bcf-c686-5b1c7c64c83a"
   },
   "outputs": [],
   "source": [
    "yrs_competed_400m.Years.nsmallest(5)\n"
   ]
  },
  {
   "cell_type": "markdown",
   "metadata": {
    "id": "dlKXH2SryBG2"
   },
   "source": [
    "# **Visualizations**"
   ]
  },
  {
   "cell_type": "markdown",
   "metadata": {
    "id": "QGnnklGZyFKO"
   },
   "source": [
    "Athlete Performance Over Time"
   ]
  },
  {
   "cell_type": "code",
   "execution_count": null,
   "metadata": {
    "colab": {
     "base_uri": "https://localhost:8080/",
     "height": 1000
    },
    "executionInfo": {
     "elapsed": 5552,
     "status": "ok",
     "timestamp": 1726351657951,
     "user": {
      "displayName": "Johnny Test",
      "userId": "16509896550579327523"
     },
     "user_tz": 240
    },
    "id": "o724P0WEyFkR",
    "outputId": "e2f330d9-2574-4b87-a6a5-a41e2f1b3372"
   },
   "outputs": [],
   "source": [
    "sns.relplot(x='Year', y='Time', hue='Athlete', col='Event', kind='line', data=sprinters)"
   ]
  },
  {
   "cell_type": "markdown",
   "metadata": {
    "id": "bNG5nUeZ2Z1C"
   },
   "source": [
    "Interactive version using plotly.express"
   ]
  },
  {
   "cell_type": "code",
   "execution_count": null,
   "metadata": {
    "colab": {
     "base_uri": "https://localhost:8080/",
     "height": 542
    },
    "executionInfo": {
     "elapsed": 1043,
     "status": "ok",
     "timestamp": 1726351789140,
     "user": {
      "displayName": "Johnny Test",
      "userId": "16509896550579327523"
     },
     "user_tz": 240
    },
    "id": "tGznovF52aJ2",
    "outputId": "b5f3d5e8-dafe-43d1-e135-e355154e3134"
   },
   "outputs": [],
   "source": [
    "# Sample data: 'data' contains 'Year', 'Time', 'Athlete', and 'Event'\n",
    "fig = px.line(sprinters, x='Year', y='Time', color='Athlete', facet_col='Event')\n",
    "\n",
    "# Add interactive dropdown to filter by Athlete\n",
    "fig.update_layout(\n",
    "    updatemenus=[\n",
    "        {\n",
    "            'buttons': [\n",
    "                {'label': 'All', 'method': 'update', 'args': [{'visible': [True]*len(fig.data)}]},\n",
    "                *[\n",
    "                    {'label': athlete, 'method': 'update',\n",
    "                     'args': [{'visible': [(trace.name == athlete) for trace in fig.data]}]}\n",
    "                    for athlete in sprinters['Athlete'].unique()\n",
    "                ]\n",
    "            ],\n",
    "            'direction': 'down',\n",
    "        }\n",
    "    ]\n",
    ")\n",
    "\n",
    "fig.show()\n"
   ]
  },
  {
   "cell_type": "markdown",
   "metadata": {
    "id": "53OaY0QSyhSC"
   },
   "source": [
    "Event Participation By Country"
   ]
  },
  {
   "cell_type": "code",
   "execution_count": null,
   "metadata": {
    "colab": {
     "base_uri": "https://localhost:8080/",
     "height": 466
    },
    "executionInfo": {
     "elapsed": 1038,
     "status": "ok",
     "timestamp": 1726352326998,
     "user": {
      "displayName": "Johnny Test",
      "userId": "16509896550579327523"
     },
     "user_tz": 240
    },
    "id": "kp-ZCu6wyhnk",
    "outputId": "5efbd337-7366-4ccc-912f-eae61be16d43"
   },
   "outputs": [],
   "source": [
    "sns.heatmap(pd.crosstab(sprinters_df3['Country'], sprinters_df3['Event']), annot=True, cmap='Blues')"
   ]
  },
  {
   "cell_type": "markdown",
   "metadata": {
    "id": "2AsOCU8QCex7"
   },
   "source": [
    "General Sprint Progression Visualization"
   ]
  },
  {
   "cell_type": "code",
   "execution_count": null,
   "metadata": {
    "colab": {
     "base_uri": "https://localhost:8080/",
     "height": 564
    },
    "executionInfo": {
     "elapsed": 657,
     "status": "ok",
     "timestamp": 1726352375874,
     "user": {
      "displayName": "Johnny Test",
      "userId": "16509896550579327523"
     },
     "user_tz": 240
    },
    "id": "GhHNre6iCXYS",
    "outputId": "7fc8a19a-4426-43f5-ec64-27e4dc4af400"
   },
   "outputs": [],
   "source": [
    "\n",
    "# Filter the dataset to include only rows where the 'Event' is 100m, 200m, or 400m\n",
    "filtered_events = sprinters[sprinters['Event'].isin(['100m', '200m', '400m'])]\n",
    "\n",
    "# Convert the 'Time' column to a numeric format to allow calculations (assuming time is in seconds)\n",
    "filtered_events['Time'] = pd.to_numeric(filtered_events['Time'], errors='coerce')\n",
    "\n",
    "# Create the line plot\n",
    "plt.figure(figsize=(12, 6))\n",
    "\n",
    "# Plot each event separately\n",
    "for event in ['100m', '200m', '400m']:\n",
    "    event_data = filtered_events[filtered_events['Event'] == event]\n",
    "    plt.plot(event_data['Year'], event_data['Time'], marker='o', linestyle='-', label=event)\n",
    "\n",
    "# Add titles and labels\n",
    "plt.title('Time by Year for 100m, 200m, and 400m Events')\n",
    "plt.xlabel('Year')\n",
    "plt.ylabel('Time (seconds)')\n",
    "plt.legend(title='Event')\n",
    "\n",
    "# Show the plot\n",
    "plt.grid(True)\n",
    "plt.show()\n"
   ]
  },
  {
   "cell_type": "markdown",
   "metadata": {
    "id": "wwA2bvZWyrlg"
   },
   "source": [
    "Event Time vs. Year (Scatter Plot)"
   ]
  },
  {
   "cell_type": "code",
   "execution_count": null,
   "metadata": {
    "colab": {
     "base_uri": "https://localhost:8080/",
     "height": 523
    },
    "executionInfo": {
     "elapsed": 1543,
     "status": "ok",
     "timestamp": 1726352418982,
     "user": {
      "displayName": "Johnny Test",
      "userId": "16509896550579327523"
     },
     "user_tz": 240
    },
    "id": "IedYXxYtysK9",
    "outputId": "69162b30-5d0c-417b-bfd2-1f74928083c9"
   },
   "outputs": [],
   "source": [
    "sns.lmplot(x='Year', y='Time', hue='Event', data=sprinters, ci=None, scatter_kws={\"s\": 50}, markers=[\"o\", \"x\", \"^\"])\n"
   ]
  },
  {
   "cell_type": "markdown",
   "metadata": {
    "id": "Qqbz2YJ3_8e5"
   },
   "source": [
    "Interactive version using plotly.express"
   ]
  },
  {
   "cell_type": "code",
   "execution_count": null,
   "metadata": {
    "colab": {
     "base_uri": "https://localhost:8080/",
     "height": 542
    },
    "executionInfo": {
     "elapsed": 1429,
     "status": "ok",
     "timestamp": 1726352443953,
     "user": {
      "displayName": "Johnny Test",
      "userId": "16509896550579327523"
     },
     "user_tz": 240
    },
    "id": "f7M_X8FR21YM",
    "outputId": "d3a0a892-a560-42ea-9e41-537a45050944"
   },
   "outputs": [],
   "source": [
    "# Plot regression lines for each event\n",
    "fig = px.scatter(sprinters, x='Year', y='Time', color='Event', trendline='ols', hover_name='Athlete')\n",
    "\n",
    "# Interactive features (zoom, pan, hover)\n",
    "fig.update_layout(\n",
    "    title=\"Performance Over Time\",\n",
    "    xaxis_title=\"Year\",\n",
    "    yaxis_title=\"Time\",\n",
    "    hovermode=\"x unified\"\n",
    ")\n",
    "\n",
    "fig.show()\n"
   ]
  },
  {
   "cell_type": "markdown",
   "metadata": {
    "id": "qnwLqA6Wy7jP"
   },
   "source": [
    "Radar Chart of Athlete Performance (Across Events)"
   ]
  },
  {
   "cell_type": "code",
   "execution_count": null,
   "metadata": {
    "id": "r3pTyaBwy7sk"
   },
   "outputs": [],
   "source": [
    "from math import pi\n"
   ]
  },
  {
   "cell_type": "code",
   "execution_count": null,
   "metadata": {
    "id": "dpmMmXsx62DE"
   },
   "outputs": [],
   "source": [
    "# Sample data: Athlete performance across events\n",
    "data = {\n",
    "    'Athlete': ['Alice', 'Bob', 'Charlie'],\n",
    "    '100m': [12.5, 11.8, 12.2],\n",
    "    '200m': [25.3, 24.7, 25.0],\n",
    "    '400m': [56.7, 55.8, 56.2]\n",
    "}\n",
    "\n",
    "# Convert data into a DataFrame\n",
    "import pandas as pd\n",
    "df = pd.DataFrame(data)\n",
    "\n",
    "# Number of variables (events)\n",
    "categories = list(df.columns[1:])  # '100m', '200m', '400m'\n",
    "N = len(categories)\n",
    "\n",
    "# Angle of each axis in the radar chart\n",
    "angles = [n / float(N) * 2 * pi for n in range(N)]\n",
    "angles += angles[:1]  # Close the circle\n",
    "\n",
    "# Create radar chart for each athlete\n",
    "plt.figure(figsize=(8, 8))\n",
    "\n",
    "# Loop through each athlete\n",
    "for i, athlete in enumerate(df['Athlete']):\n",
    "    values = df.loc[i].drop('Athlete').values.flatten().tolist()  # Performance data\n",
    "    values += values[:1]  # Complete the loop by repeating the first value\n",
    "\n",
    "    # Plot each athlete\n",
    "    ax = plt.subplot(111, polar=True)\n",
    "\n",
    "    plt.xticks(angles[:-1], categories, color='grey', size=12)\n",
    "    ax.plot(angles, values, linewidth=2, linestyle='solid', label=athlete)\n",
    "    ax.fill(angles, values, alpha=0.2)\n",
    "\n",
    "# Add a title and legend\n",
    "plt.title('Athlete Performance Across Events', size=16)\n",
    "plt.legend(loc='upper right', bbox_to_anchor=(0.1, 0.1))\n",
    "\n",
    "# Show the plot\n",
    "plt.show()\n"
   ]
  },
  {
   "cell_type": "markdown",
   "metadata": {
    "id": "t54sAVs6__cS"
   },
   "source": [
    "Interactive version using plotly.express"
   ]
  },
  {
   "cell_type": "code",
   "execution_count": null,
   "metadata": {
    "colab": {
     "base_uri": "https://localhost:8080/",
     "height": 356
    },
    "executionInfo": {
     "elapsed": 208,
     "status": "error",
     "timestamp": 1726352575070,
     "user": {
      "displayName": "Johnny Test",
      "userId": "16509896550579327523"
     },
     "user_tz": 240
    },
    "id": "4-wHnSTf3A3D",
    "outputId": "90dbea7f-ae4b-4d1c-de90-84e03dddf2eb"
   },
   "outputs": [],
   "source": [
    "# Sample data: normalized performance values across events\n",
    "athlete_data = sprinters.pivot(index='Event', columns='Athlete', values='Time')\n",
    "\n",
    "fig = px.line_polar(athlete_data, r=athlete_data.values.flatten(), theta=athlete_data.index,\n",
    "                    line_close=True, color=sprinters.columns, hover_name='Athlete')\n",
    "\n",
    "# Add dropdown for filtering by athlete\n",
    "fig.update_layout(\n",
    "    updatemenus=[\n",
    "        {\n",
    "            'buttons': [\n",
    "                {'label': 'All', 'method': 'update', 'args': [{'visible': [True]*len(fig.data)}]},\n",
    "                *[\n",
    "                    {'label': athlete, 'method': 'update',\n",
    "                     'args': [{'visible': [(trace.name == athlete) for trace in fig.data]}]}\n",
    "                    for athlete in sprinters['Athlete'].unique()\n",
    "                ]\n",
    "            ],\n",
    "            'direction': 'down',\n",
    "        }\n",
    "    ]\n",
    ")\n",
    "\n",
    "fig.show()\n"
   ]
  },
  {
   "cell_type": "markdown",
   "metadata": {
    "id": "OYVIbBNSy72p"
   },
   "source": [
    "Interactive Race Comparison (Parallel Coordinates Plot)"
   ]
  },
  {
   "cell_type": "code",
   "execution_count": null,
   "metadata": {
    "id": "36mqpZ3uy7_X"
   },
   "outputs": [],
   "source": [
    "fig = px.parallel_coordinates(data, dimensions=['100m', '200m', '400m'], color='Athlete')\n",
    "fig.show()\n"
   ]
  },
  {
   "cell_type": "markdown",
   "metadata": {
    "id": "XYSZfOWWy8Jy"
   },
   "source": [
    "Decade Performance Trends (Area Chart)"
   ]
  },
  {
   "cell_type": "code",
   "execution_count": null,
   "metadata": {
    "id": "28V26EYKy8TZ"
   },
   "outputs": [],
   "source": [
    "# Sample data (replace with your actual dataset)\n",
    "data = pd.DataFrame({\n",
    "    'Year': [1992, 1996, 2000, 2004, 2008, 2012, 2016, 2020, 1992, 1996, 2000, 2004, 2008, 2012, 2016, 2020],\n",
    "    'Event': ['100m', '100m', '100m', '100m', '100m', '100m', '100m', '100m',\n",
    "              '200m', '200m', '200m', '200m', '200m', '200m', '200m', '200m'],\n",
    "    'Time': [9.92, 9.84, 9.79, 9.85, 9.69, 9.63, 9.77, 9.80, 19.73, 19.32, 19.75, 19.79, 19.30, 19.26, 19.78, 19.83]\n",
    "})\n",
    "\n",
    "# Step 1: Create a 'Decade' column\n",
    "data['Decade'] = (data['Year'] // 10) * 10\n",
    "\n",
    "# Step 2: Calculate average times per decade and per event\n",
    "average_times_per_decade = data.groupby(['Decade', 'Event'])['Time'].mean().unstack()\n",
    "\n",
    "# Step 3: Plot the area chart\n",
    "plt.figure(figsize=(10, 6))\n",
    "\n",
    "# Plot the area chart for average times\n",
    "average_times_per_decade.plot(kind='area', stacked=False, alpha=0.7)\n",
    "\n",
    "# Customizing the chart\n",
    "plt.title('Average Event Times by Decade', fontsize=16)\n",
    "plt.xlabel('Decade', fontsize=12)\n",
    "plt.ylabel('Average Time (Seconds)', fontsize=12)\n",
    "plt.legend(title='Event', bbox_to_anchor=(1.05, 1), loc='upper left')\n",
    "plt.grid(True)\n",
    "\n",
    "# Display the plot\n",
    "plt.tight_layout()\n",
    "plt.show()\n",
    "\n"
   ]
  },
  {
   "cell_type": "markdown",
   "metadata": {
    "id": "dsQcRzM3y8dU"
   },
   "source": [
    "Athlete vs. Event Participation (Stacked Bar Chart)"
   ]
  },
  {
   "cell_type": "code",
   "execution_count": null,
   "metadata": {
    "colab": {
     "base_uri": "https://localhost:8080/",
     "height": 615
    },
    "executionInfo": {
     "elapsed": 3144,
     "status": "ok",
     "timestamp": 1726352636377,
     "user": {
      "displayName": "Johnny Test",
      "userId": "16509896550579327523"
     },
     "user_tz": 240
    },
    "id": "CJfleQJvy8nC",
    "outputId": "92aaef88-8ed4-4c28-c2c1-d7a1d1d51261"
   },
   "outputs": [],
   "source": [
    "sprinters.groupby(['Athlete', 'Event']).size().unstack().plot(kind='bar', stacked=True)\n"
   ]
  },
  {
   "cell_type": "markdown",
   "metadata": {
    "id": "oT1SSS-RAC9h"
   },
   "source": [
    "Interactive version using plotly.express"
   ]
  },
  {
   "cell_type": "code",
   "execution_count": null,
   "metadata": {
    "colab": {
     "base_uri": "https://localhost:8080/",
     "height": 542
    },
    "executionInfo": {
     "elapsed": 180,
     "status": "ok",
     "timestamp": 1726352667368,
     "user": {
      "displayName": "Johnny Test",
      "userId": "16509896550579327523"
     },
     "user_tz": 240
    },
    "id": "CkWkuH7a3m57",
    "outputId": "c95295f0-bd13-4b2d-97f0-e4268e34ff92"
   },
   "outputs": [],
   "source": [
    "# Group data by Athlete and Event\n",
    "data_grouped = sprinters.groupby(['Athlete', 'Event']).size().reset_index(name='Count')\n",
    "\n",
    "# Plot stacked bar chart\n",
    "fig = px.bar(data_grouped, x='Athlete', y='Count', color='Event', title=\"Athlete Event Participation\")\n",
    "\n",
    "# Add dropdown to filter by Event\n",
    "fig.update_layout(\n",
    "    updatemenus=[\n",
    "        {\n",
    "            'buttons': [\n",
    "                {'label': 'All', 'method': 'update', 'args': [{'visible': [True]*len(fig.data)}]},\n",
    "                *[\n",
    "                    {'label': event, 'method': 'update',\n",
    "                     'args': [{'visible': [(trace.name == event) for trace in fig.data]}]}\n",
    "                    for event in data_grouped['Event'].unique()\n",
    "                ]\n",
    "            ],\n",
    "            'direction': 'down',\n",
    "        }\n",
    "    ]\n",
    ")\n",
    "\n",
    "fig.show()\n"
   ]
  },
  {
   "cell_type": "markdown",
   "metadata": {
    "id": "UCq5OB8Ozo_l"
   },
   "source": [
    "Top Athletes Over Time (Bump Chart)"
   ]
  },
  {
   "cell_type": "code",
   "execution_count": null,
   "metadata": {
    "id": "3FClI4-bzpLl"
   },
   "outputs": [],
   "source": [
    "import matplotlib.pyplot as plt\n",
    "import pandas as pd\n",
    "\n",
    "# Sample data: ranking of athletes over years\n",
    "data = pd.DataFrame({\n",
    "    'Year': [2010, 2010, 2010, 2011, 2011, 2011, 2012, 2012, 2012],\n",
    "    'Athlete': ['Alice', 'Bob', 'Charlie', 'Alice', 'Bob', 'Charlie', 'Alice', 'Bob', 'Charlie'],\n",
    "    'Ranking': [1, 2, 3, 2, 1, 3, 3, 2, 1]\n",
    "})\n",
    "\n",
    "# Pivot data so each row is a year and each column is an athlete\n",
    "data_pivot = data.pivot(index='Year', columns='Athlete', values='Ranking')\n",
    "\n",
    "# Create a bump chart\n",
    "plt.figure(figsize=(10, 6))\n",
    "\n",
    "# Plot a line for each athlete\n",
    "for athlete in data_pivot.columns:\n",
    "    plt.plot(data_pivot.index, data_pivot[athlete], marker='o', label=athlete)\n",
    "\n",
    "# Customize the plot\n",
    "plt.title(\"Athlete Rankings Over Time\", fontsize=16)\n",
    "plt.xlabel(\"Year\", fontsize=12)\n",
    "plt.ylabel(\"Ranking\", fontsize=12)\n",
    "plt.gca().invert_yaxis()  # Invert y-axis to have rank 1 at the top\n",
    "plt.legend(title='Athlete', bbox_to_anchor=(1.05, 1), loc='upper left')\n",
    "\n",
    "# Show the plot\n",
    "plt.tight_layout()\n",
    "plt.show()\n",
    "\n",
    "#plt.savefig('plot.png', format='png', dpi=300)\n",
    "#plt.savefig('plot.jpg', format='jpg', dpi=300)"
   ]
  },
  {
   "cell_type": "markdown",
   "metadata": {
    "id": "AvSbxNxCAIPD"
   },
   "source": [
    "Interactive version using plotly.express"
   ]
  },
  {
   "cell_type": "code",
   "execution_count": null,
   "metadata": {
    "colab": {
     "base_uri": "https://localhost:8080/",
     "height": 373
    },
    "executionInfo": {
     "elapsed": 183,
     "status": "error",
     "timestamp": 1726352727156,
     "user": {
      "displayName": "Johnny Test",
      "userId": "16509896550579327523"
     },
     "user_tz": 240
    },
    "id": "m6WHHATU4ctX",
    "outputId": "022ae0ee-3601-41cf-c0a8-4dd99deca0cc"
   },
   "outputs": [],
   "source": [
    "# Example bump chart for athlete ranking over time\n",
    "fig = px.line(sprinters, x='Year', y='Ranking', color='Athlete', title=\"Athlete Rankings Over Time\")\n",
    "\n",
    "# Interactive hover and zoom features\n",
    "fig.update_layout(\n",
    "    hovermode=\"closest\",\n",
    "    title=\"Top Athlete Rankings Over Time\"\n",
    ")\n",
    "\n",
    "fig.show()\n"
   ]
  },
  {
   "cell_type": "markdown",
   "metadata": {
    "id": "rCwQs8SPzpXS"
   },
   "source": [
    " Event Performance Improvement (Box Plot)"
   ]
  },
  {
   "cell_type": "code",
   "execution_count": null,
   "metadata": {
    "colab": {
     "base_uri": "https://localhost:8080/",
     "height": 466
    },
    "executionInfo": {
     "elapsed": 913,
     "status": "ok",
     "timestamp": 1726352790711,
     "user": {
      "displayName": "Johnny Test",
      "userId": "16509896550579327523"
     },
     "user_tz": 240
    },
    "id": "Aad-w6Kgzph9",
    "outputId": "9087015a-8293-4be3-f3d7-2ba8009598a3"
   },
   "outputs": [],
   "source": [
    "sns.boxplot(x='Event', y='Time', data=sprinters)\n"
   ]
  },
  {
   "cell_type": "markdown",
   "metadata": {
    "id": "0wPrwkZs3Urh"
   },
   "source": [
    "Athlete Participation By Country (Choropleth Map)"
   ]
  },
  {
   "cell_type": "code",
   "execution_count": null,
   "metadata": {
    "colab": {
     "base_uri": "https://localhost:8080/",
     "height": 408
    },
    "executionInfo": {
     "elapsed": 236,
     "status": "error",
     "timestamp": 1726352891743,
     "user": {
      "displayName": "Johnny Test",
      "userId": "16509896550579327523"
     },
     "user_tz": 240
    },
    "id": "Hm2MAy8M3U_T",
    "outputId": "e88d2743-7691-4851-fde2-38f7cdb7ba00"
   },
   "outputs": [],
   "source": [
    "# Choropleth Map of Athlete Participation by Country\n",
    "fig = px.choropleth(sprinters_df3, locations=\"Country\", locationmode='country names',\n",
    "                    color=\"Athlete_Count\", hover_name=\"Country\",\n",
    "                    hover_data=['Event'])\n",
    "\n",
    "# Add hover information and interactivity\n",
    "fig.update_layout(\n",
    "    title=\"Athlete Participation by Country\",\n",
    "    geo=dict(showframe=False, projection_type='equirectangular')\n",
    ")\n",
    "\n",
    "fig.show()\n"
   ]
  },
  {
   "cell_type": "markdown",
   "metadata": {
    "id": "1c1tK2BAzp1Z"
   },
   "source": [
    "Geospatial Analysis (Choropleth Map)"
   ]
  },
  {
   "cell_type": "code",
   "execution_count": null,
   "metadata": {
    "id": "rXqp6NBYzqGp"
   },
   "outputs": [],
   "source": [
    "fig = px.choropleth(data, locations=\"Country\", locationmode='country names', color=\"Athlete_Count\")\n",
    "fig.show()\n"
   ]
  },
  {
   "cell_type": "markdown",
   "metadata": {
    "id": "0nqMw0YA1Hmj"
   },
   "source": [
    "Performance Comparison (Violin Plot)"
   ]
  },
  {
   "cell_type": "code",
   "execution_count": null,
   "metadata": {
    "colab": {
     "base_uri": "https://localhost:8080/",
     "height": 483
    },
    "executionInfo": {
     "elapsed": 9280,
     "status": "ok",
     "timestamp": 1726352940893,
     "user": {
      "displayName": "Johnny Test",
      "userId": "16509896550579327523"
     },
     "user_tz": 240
    },
    "id": "Vi2WDQ6i1H81",
    "outputId": "82cbd07a-1f4d-4220-c2c6-375bab2d0923"
   },
   "outputs": [],
   "source": [
    "sns.violinplot(x='Athlete', y='Time', hue='Event', data=sprinters)\n"
   ]
  },
  {
   "cell_type": "markdown",
   "metadata": {
    "id": "IotLyp3c1ITH"
   },
   "source": [
    "Animated Race Time Trends Over Time"
   ]
  },
  {
   "cell_type": "code",
   "execution_count": null,
   "metadata": {
    "colab": {
     "base_uri": "https://localhost:8080/",
     "height": 542
    },
    "executionInfo": {
     "elapsed": 8245,
     "status": "ok",
     "timestamp": 1726352962146,
     "user": {
      "displayName": "Johnny Test",
      "userId": "16509896550579327523"
     },
     "user_tz": 240
    },
    "id": "hjZGD0Nj1IeR",
    "outputId": "ec998f09-c419-4da0-cfe1-a23516ff126d"
   },
   "outputs": [],
   "source": [
    "fig = px.line(sprinters, x=\"Year\", y=\"Time\", animation_frame=\"Year\", color=\"Athlete\")\n",
    "fig.show()\n"
   ]
  },
  {
   "cell_type": "markdown",
   "metadata": {
    "id": "wCpyjqKG1nJr"
   },
   "source": [
    "Pairwise Comparison (Scatterplot Matrix)"
   ]
  },
  {
   "cell_type": "code",
   "execution_count": null,
   "metadata": {
    "colab": {
     "base_uri": "https://localhost:8080/",
     "height": 1000
    },
    "executionInfo": {
     "elapsed": 3219,
     "status": "error",
     "timestamp": 1726352988895,
     "user": {
      "displayName": "Johnny Test",
      "userId": "16509896550579327523"
     },
     "user_tz": 240
    },
    "id": "cz9areyz1nYa",
    "outputId": "aa2d55f9-d069-4889-a9fa-5dbab48fa7f4"
   },
   "outputs": [],
   "source": [
    "sns.pairplot(sprinters, vars=['100m', '200m', '400m'], hue='Athlete')\n"
   ]
  },
  {
   "cell_type": "markdown",
   "metadata": {
    "id": "vDzT4qx13ygi"
   },
   "source": [
    "Compare Athletes Across Events (Interactive)"
   ]
  },
  {
   "cell_type": "code",
   "execution_count": null,
   "metadata": {
    "colab": {
     "base_uri": "https://localhost:8080/",
     "height": 373
    },
    "executionInfo": {
     "elapsed": 187,
     "status": "error",
     "timestamp": 1726353015908,
     "user": {
      "displayName": "Johnny Test",
      "userId": "16509896550579327523"
     },
     "user_tz": 240
    },
    "id": "eSJHiQQ93yzR",
    "outputId": "f6fcd9c1-2cdc-4ba6-c291-3723fdf8b544"
   },
   "outputs": [],
   "source": [
    "# Parallel coordinates to compare athletes across events\n",
    "fig = px.parallel_coordinates(sprinters, dimensions=['100m', '200m', '400m'], color='Athlete')\n",
    "\n",
    "# Add filtering options for specific athletes\n",
    "fig.update_layout(\n",
    "    title=\"Athlete Performance Across Events\"\n",
    ")\n",
    "\n",
    "\n",
    "fig.show()\n",
    "\n",
    "#fig.write_image(\"plot.png\", format=\"png\")\n",
    "#fig.write_image(\"plot.jpg\", format=\"jpg\")"
   ]
  },
  {
   "cell_type": "markdown",
   "metadata": {
    "id": "QZ7GK7Pjvlfk"
   },
   "source": [
    "Let's crate a visualization for the sprint progression of each athlete"
   ]
  },
  {
   "cell_type": "code",
   "execution_count": null,
   "metadata": {
    "colab": {
     "base_uri": "https://localhost:8080/",
     "height": 542
    },
    "executionInfo": {
     "elapsed": 1258,
     "status": "ok",
     "timestamp": 1726353053811,
     "user": {
      "displayName": "Johnny Test",
      "userId": "16509896550579327523"
     },
     "user_tz": 240
    },
    "id": "D8i5nZV0vBMF",
    "outputId": "087d6924-9845-4993-81c4-75d63d369acb"
   },
   "outputs": [],
   "source": [
    "# Filter the dataset to include only rows where the 'Event' is 100m, 200m, or 400m\n",
    "filtered_events = sprinters[sprinters['Event'].isin(['100m', '200m', '400m'])]\n",
    "\n",
    "# Convert the 'Time' column to a numeric format to allow calculations (assuming time is in seconds)\n",
    "filtered_events['Time'] = pd.to_numeric(filtered_events['Time'], errors='coerce')\n",
    "\n",
    "# Create the interactive line plot using Plotly\n",
    "fig = px.line(filtered_events,\n",
    "              x='Year',\n",
    "              y='Time',\n",
    "              color='Event',\n",
    "              line_group='Athlete',\n",
    "              hover_name='Athlete',\n",
    "              title='Time by Year for 100m, 200m, and 400m Events',\n",
    "              labels={'Time': 'Time (seconds)', 'Year': 'Year'},\n",
    "              facet_row='Event')\n",
    "\n",
    "# Add a dropdown menu to filter by athlete\n",
    "fig.update_layout(\n",
    "    updatemenus=[\n",
    "        {\n",
    "            \"buttons\": [\n",
    "                {\n",
    "                    \"args\": [{\"visible\": [athlete in name for name in filtered_events['Athlete']]}],\n",
    "                    \"label\": athlete,\n",
    "                    \"method\": \"update\",\n",
    "                }\n",
    "                for athlete in filtered_events['Athlete'].unique()\n",
    "            ],\n",
    "            \"direction\": \"down\",\n",
    "            \"showactive\": True,\n",
    "        }\n",
    "    ],\n",
    "    xaxis_title=\"Year\",\n",
    "    yaxis_title=\"Time (seconds)\",\n",
    ")\n",
    "'''\n",
    "# Add play/pause buttons and other animation controls\n",
    "fig.update_layout(\n",
    "    xaxis_title=\"Year\",\n",
    "    yaxis_title=\"Time (seconds)\",\n",
    "    updatemenus=[{\n",
    "        'buttons': [\n",
    "            {\n",
    "                'args': [None, {'frame': {'duration': 500, 'redraw': True}, 'fromcurrent': True}],\n",
    "                'label': 'Play',\n",
    "                'method': 'animate'\n",
    "            },\n",
    "            {\n",
    "                'args': [[None], {'frame': {'duration': 0, 'redraw': True}, 'mode': 'immediate'}],\n",
    "                'label': 'Pause',\n",
    "                'method': 'animate'\n",
    "            }\n",
    "        ],\n",
    "        'direction': 'left',\n",
    "        'pad': {'r': 10, 't': 87},\n",
    "        'showactive': True,\n",
    "        'type': 'buttons',\n",
    "        'x': 0.1,\n",
    "        'xanchor': 'right',\n",
    "        'y': 0,\n",
    "        'yanchor': 'top'\n",
    "    }]\n",
    ")\n",
    "'''\n",
    "\n",
    "\n",
    "# Show the plot\n",
    "fig.show()\n",
    "\n",
    "#fig.write_image(\"plot.png\", format=\"png\")\n",
    "#fig.write_image(\"plot.jpg\", format=\"jpg\")\n"
   ]
  },
  {
   "cell_type": "markdown",
   "metadata": {
    "id": "F3uUSA74293x"
   },
   "source": [
    "Let's put all the data frames created into an excel workbook"
   ]
  },
  {
   "cell_type": "code",
   "execution_count": null,
   "metadata": {
    "id": "5fMA_-v53GUt"
   },
   "outputs": [],
   "source": [
    "'''\n",
    "xlwriter = pd.ExcelWriter('Worlds_Fastest_Sprinters_Yearly_Progression.xlsx')\n",
    "df_100m.to_excel(xlwriter, sheet_name='100m')\n",
    "df_200m.to_excel(xlwriter, sheet_name='200m')\n",
    "df_400m.to_excel(xlwriter, sheet_name='400m')\n",
    "yrs_competed_100m.to_excel(xlwriter, sheet_name='Years_Competed_100,')\n",
    "career_100m.to_excel(xlwriter, sheet_name='100m Career')\n",
    "yrs_competed_200m.to_excel(xlwriter, sheet_name='Years_Competed_200')\n",
    "career_200m.to_excel(xlwriter, sheet_name='200m Career')\n",
    "yrs_competed_400m.to_excel(xlwriter, sheet_name='Years_Competed_400')\n",
    "career_400m.to_excel(xlwriter, sheet_name='400m Career')\n",
    "xlwriter.close()\n",
    "'''"
   ]
  }
 ],
 "metadata": {
  "colab": {
   "authorship_tag": "ABX9TyObt4rcJVSppTs72Zm8utuA",
   "provenance": []
  },
  "kernelspec": {
   "display_name": "Python 3 (ipykernel)",
   "language": "python",
   "name": "python3"
  },
  "language_info": {
   "codemirror_mode": {
    "name": "ipython",
    "version": 3
   },
   "file_extension": ".py",
   "mimetype": "text/x-python",
   "name": "python",
   "nbconvert_exporter": "python",
   "pygments_lexer": "ipython3",
   "version": "3.9.16"
  }
 },
 "nbformat": 4,
 "nbformat_minor": 1
}
