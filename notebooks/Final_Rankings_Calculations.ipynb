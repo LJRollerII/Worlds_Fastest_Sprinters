{
 "cells": [
  {
   "cell_type": "code",
   "execution_count": null,
   "id": "ac4d7eb0",
   "metadata": {},
   "outputs": [],
   "source": [
    "import pandas as pd\n",
    "import numpy as np\n",
    "import matplotlib.pyplot as plt\n",
    "import seaborn as sns\n",
    "import plotly.express as px\n",
    "import plotly.figure_factory as ff\n",
    "%matplotlib inline\n",
    "from datetime import datetime\n",
    "import re\n",
    "from nssstats.plots import std_plot\n",
    "from nssstats.plots import iqr_plot\n",
    "from nssstats.plots import quadrant_plot, half_plot\n",
    "from nssstats.cm import cm_analysis\n",
    "from ipywidgets import interact, FloatSlider\n",
    "from sklearn.model_selection import train_test_split\n",
    "from scipy.stats import probplot\n",
    "from scipy.stats import t, sem\n",
    "from scipy.stats import chi2\n",
    "from statsmodels.stats.proportion import proportion_confint\n",
    "import statsmodels.formula.api as sm"
   ]
  },
  {
   "cell_type": "code",
   "execution_count": null,
   "id": "bebcfcf4",
   "metadata": {},
   "outputs": [],
   "source": [
    "Rankings_100m = pd.read_csv(\"../data/Rankings_100m.csv\")"
   ]
  },
  {
   "cell_type": "code",
   "execution_count": null,
   "id": "49a73af1",
   "metadata": {},
   "outputs": [],
   "source": [
    "Rankings_200m = pd.read_csv(\"../data/Rankings_200m.csv\")"
   ]
  },
  {
   "cell_type": "code",
   "execution_count": null,
   "id": "8c9c6730",
   "metadata": {},
   "outputs": [],
   "source": [
    "Rankings_400m = pd.read_csv(\"../data/Rankings_400m.csv\")"
   ]
  },
  {
   "cell_type": "code",
   "execution_count": null,
   "id": "279e0b18",
   "metadata": {},
   "outputs": [],
   "source": [
    "Rankings = pd.merge(Rankings_100m, Rankings_200m, on=['Athlete','Country','Continent','Status','DOB','Year Born','Month Born','Decade Born'],how='left')\n",
    "Rankings.head(3)"
   ]
  },
  {
   "cell_type": "code",
   "execution_count": null,
   "id": "ee2e8f5e",
   "metadata": {},
   "outputs": [],
   "source": [
    "Rankings = pd.merge(Rankings, Rankings_400m, on=['Athlete','Country','Continent','Status','DOB','Year Born','Month Born','Decade Born'],how='left')\n",
    "Rankings.head(3)"
   ]
  },
  {
   "cell_type": "code",
   "execution_count": null,
   "id": "04380c3e",
   "metadata": {},
   "outputs": [],
   "source": [
    "Rankings['final_rank'] = Rankings[['Rank_100m','Rank_200m','Rank_400m']].mean(axis=1)"
   ]
  },
  {
   "cell_type": "code",
   "execution_count": null,
   "id": "c9d5f6a3",
   "metadata": {},
   "outputs": [],
   "source": [
    "Rankings.sort_values('final_rank').head(10)"
   ]
  },
  {
   "cell_type": "code",
   "execution_count": null,
   "id": "a0a87639",
   "metadata": {},
   "outputs": [],
   "source": [
    "Sprinter_Rankings = df_100m.sort_values('final_rank')"
   ]
  },
  {
   "cell_type": "code",
   "execution_count": null,
   "id": "5804a11c",
   "metadata": {},
   "outputs": [],
   "source": [
    "Sprinter_Rankings = pd.DataFrame(Sprinter_Rankings)\n",
    "Sprinter_Rankings.head(3)"
   ]
  },
  {
   "cell_type": "code",
   "execution_count": null,
   "id": "fa4e3f4c",
   "metadata": {},
   "outputs": [],
   "source": [
    "#Let's make the entire dataframe a figure factory table\n",
    "\n",
    "\n",
    "fig =  ff.create_table(Sprinter_Rankings)\n",
    "fig.show()\n",
    "\n",
    "#fig.write_html(\"Final_Rankings_100m.html\")\n",
    "#fig.write_image(\"Final_Rankings_100m.svg\")"
   ]
  },
  {
   "cell_type": "markdown",
   "id": "79f33f9c",
   "metadata": {},
   "source": [
    "# Who is the fastest 100 / 200 sprinter?"
   ]
  },
  {
   "cell_type": "code",
   "execution_count": null,
   "id": "46cb5d61",
   "metadata": {},
   "outputs": [],
   "source": [
    "Rankings['Rank_100m_200m_Combo'] = Rankings[['Rank_100m','Rank_200m']].mean(axis=1)"
   ]
  },
  {
   "cell_type": "code",
   "execution_count": null,
   "id": "bf2abd1a",
   "metadata": {},
   "outputs": [],
   "source": [
    "Rankings.sort_values('Rank_100m_200m_Combo').head(10)"
   ]
  },
  {
   "cell_type": "code",
   "execution_count": null,
   "id": "7e88bb34",
   "metadata": {},
   "outputs": [],
   "source": [
    "Rankings_100m_200m_Combo = Rankings.dropna(subset='Rank_100m_200m_Combo')\n",
    "Rankings_100m_200m_Combo"
   ]
  },
  {
   "cell_type": "code",
   "execution_count": null,
   "id": "2abe1fdf",
   "metadata": {},
   "outputs": [],
   "source": [
    "Rankings_100m_200m_Combo = Rankings_100m_200m_Combo.sort_values('Rank_100m_200m_Combo')"
   ]
  },
  {
   "cell_type": "code",
   "execution_count": null,
   "id": "e10b6a25",
   "metadata": {},
   "outputs": [],
   "source": [
    "Rankings_100m_200m_Combo = pd.DataFrame(Rankings_100m_200m_Combo)\n",
    "Rankings_100m_200m_Combo.head(3)"
   ]
  },
  {
   "cell_type": "markdown",
   "id": "5f8927e7",
   "metadata": {},
   "source": [
    "# Who is the fastest 200 / 400 sprinter?"
   ]
  },
  {
   "cell_type": "code",
   "execution_count": null,
   "id": "cbe41f07",
   "metadata": {},
   "outputs": [],
   "source": [
    "Rankings['Rank_200m_400m_Combo'] = Rankings[['Rank_200m','Rank_400m']].mean(axis=1)"
   ]
  },
  {
   "cell_type": "code",
   "execution_count": null,
   "id": "ace331bf",
   "metadata": {},
   "outputs": [],
   "source": [
    "Rankings.sort_values('Rank_200m_400m_Combo').head(10)"
   ]
  },
  {
   "cell_type": "code",
   "execution_count": null,
   "id": "70510292",
   "metadata": {},
   "outputs": [],
   "source": [
    "Rankings_200m_400m_Combo = Rankings.dropna(subset='Rank_200m_400m_Combo')\n",
    "Rankings_200m_400m_Combo"
   ]
  },
  {
   "cell_type": "code",
   "execution_count": null,
   "id": "4808e99f",
   "metadata": {},
   "outputs": [],
   "source": [
    "Rankings_200m_400m_Combo = Rankings_200m_400m_Combo.sort_values('Rank_200m_400m_Combo')"
   ]
  },
  {
   "cell_type": "code",
   "execution_count": null,
   "id": "f7e5a140",
   "metadata": {},
   "outputs": [],
   "source": [
    "Rankings_200m_400m_Combo = pd.DataFrame(Rankings_200m_400m_Combo)\n",
    "Rankings_200m_400m_Combo.head(3)"
   ]
  },
  {
   "cell_type": "markdown",
   "id": "c7801153",
   "metadata": {},
   "source": [
    "# **Let's put all the data frames created into an excel workbook**"
   ]
  },
  {
   "cell_type": "code",
   "execution_count": null,
   "id": "ba8e2729",
   "metadata": {},
   "outputs": [],
   "source": [
    "xlwriter = pd.ExcelWriter('Sprint_Rankings.xlsx')\n",
    "Sprinter_Rankings.to_excel(xlwriter, sheet_name='Sprinter Rankings')\n",
    "Rankings_100m_200m_Combo.to_excel(xlwriter, sheet_name='100m / 200m Combo Rankings')\n",
    "Rankings_200m_400m_Combo.to_excel(xlwriter, sheet_name='200m / 400m Combo Rankings')\n",
    "xlwriter.close()"
   ]
  }
 ],
 "metadata": {
  "kernelspec": {
   "display_name": "Python 3 (ipykernel)",
   "language": "python",
   "name": "python3"
  },
  "language_info": {
   "codemirror_mode": {
    "name": "ipython",
    "version": 3
   },
   "file_extension": ".py",
   "mimetype": "text/x-python",
   "name": "python",
   "nbconvert_exporter": "python",
   "pygments_lexer": "ipython3",
   "version": "3.9.16"
  }
 },
 "nbformat": 4,
 "nbformat_minor": 5
}
