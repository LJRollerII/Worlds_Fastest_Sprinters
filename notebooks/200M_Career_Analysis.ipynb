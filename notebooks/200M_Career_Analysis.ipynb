{
 "cells": [
  {
   "cell_type": "markdown",
   "metadata": {
    "id": "ni14X_A7Z8Lk"
   },
   "source": [
    "# **200m Career Data**"
   ]
  },
  {
   "cell_type": "code",
   "execution_count": null,
   "metadata": {
    "executionInfo": {
     "elapsed": 165,
     "status": "ok",
     "timestamp": 1729645792023,
     "user": {
      "displayName": "Johnny Test",
      "userId": "16509896550579327523"
     },
     "user_tz": 240
    },
    "id": "0EuVlu9laQdG"
   },
   "outputs": [],
   "source": [
    "import pandas as pd\n",
    "import numpy as np\n",
    "import matplotlib.pyplot as plt\n",
    "import seaborn as sns\n",
    "import plotly.express as px\n",
    "import plotly.figure_factory as ff\n",
    "%matplotlib inline\n",
    "from datetime import datetime\n",
    "import re\n",
    "from nssstats.plots import std_plot\n",
    "from nssstats.plots import iqr_plot\n",
    "from nssstats.plots import quadrant_plot, half_plot\n",
    "from nssstats.cm import cm_analysis\n",
    "from ipywidgets import interact, FloatSlider\n",
    "from sklearn.model_selection import train_test_split\n",
    "from scipy.stats import probplot\n",
    "from scipy.stats import t, sem\n",
    "from scipy.stats import chi2\n",
    "from statsmodels.stats.proportion import proportion_confint\n",
    "import statsmodels.formula.api as sm"
   ]
  },
  {
   "cell_type": "code",
   "execution_count": null,
   "metadata": {
    "executionInfo": {
     "elapsed": 18,
     "status": "ok",
     "timestamp": 1729645792321,
     "user": {
      "displayName": "Johnny Test",
      "userId": "16509896550579327523"
     },
     "user_tz": 240
    },
    "id": "-mfz1dS8adQk"
   },
   "outputs": [],
   "source": [
    "sprinters = pd.read_csv(\"Worlds_Fastest_Sprinters_Stats.csv\")"
   ]
  },
  {
   "cell_type": "markdown",
   "metadata": {
    "id": "Rj6eEd1CbSE7"
   },
   "source": [
    "# **Data** **Basics**"
   ]
  },
  {
   "cell_type": "code",
   "execution_count": null,
   "metadata": {
    "colab": {
     "base_uri": "https://localhost:8080/",
     "height": 585
    },
    "executionInfo": {
     "elapsed": 18,
     "status": "ok",
     "timestamp": 1729645792321,
     "user": {
      "displayName": "Johnny Test",
      "userId": "16509896550579327523"
     },
     "user_tz": 240
    },
    "id": "wc4J72H7adhm",
    "outputId": "a779dceb-d732-4341-e04d-35790b23e541"
   },
   "outputs": [],
   "source": [
    "sprinters.head()"
   ]
  },
  {
   "cell_type": "code",
   "execution_count": null,
   "metadata": {
    "colab": {
     "base_uri": "https://localhost:8080/",
     "height": 203
    },
    "executionInfo": {
     "elapsed": 16,
     "status": "ok",
     "timestamp": 1729645792321,
     "user": {
      "displayName": "Johnny Test",
      "userId": "16509896550579327523"
     },
     "user_tz": 240
    },
    "id": "5HYov-s3a40z",
    "outputId": "34c251da-d44c-476e-bbb5-fa67e6248abb"
   },
   "outputs": [],
   "source": [
    "sprinters.info"
   ]
  },
  {
   "cell_type": "code",
   "execution_count": null,
   "metadata": {
    "colab": {
     "base_uri": "https://localhost:8080/"
    },
    "executionInfo": {
     "elapsed": 15,
     "status": "ok",
     "timestamp": 1729645792321,
     "user": {
      "displayName": "Johnny Test",
      "userId": "16509896550579327523"
     },
     "user_tz": 240
    },
    "id": "nGzrVMNoa4-f",
    "outputId": "99e73e38-3923-4b62-cd54-3302a4526348"
   },
   "outputs": [],
   "source": [
    "sprinters.shape"
   ]
  },
  {
   "cell_type": "code",
   "execution_count": null,
   "metadata": {
    "colab": {
     "base_uri": "https://localhost:8080/"
    },
    "executionInfo": {
     "elapsed": 11,
     "status": "ok",
     "timestamp": 1729645792321,
     "user": {
      "displayName": "Johnny Test",
      "userId": "16509896550579327523"
     },
     "user_tz": 240
    },
    "id": "ER3YH8Gia5H3",
    "outputId": "0919da26-351a-4669-9a92-c8936ce7ad65"
   },
   "outputs": [],
   "source": [
    "print(sprinters.dtypes)\n"
   ]
  },
  {
   "cell_type": "code",
   "execution_count": null,
   "metadata": {
    "colab": {
     "base_uri": "https://localhost:8080/",
     "height": 320
    },
    "executionInfo": {
     "elapsed": 8,
     "status": "ok",
     "timestamp": 1729645792321,
     "user": {
      "displayName": "Johnny Test",
      "userId": "16509896550579327523"
     },
     "user_tz": 240
    },
    "id": "Hi4r7kR7bKnp",
    "outputId": "4b96b217-588a-4561-a52e-dbd70a6e5e66"
   },
   "outputs": [],
   "source": [
    "sprinters.describe()\n"
   ]
  },
  {
   "cell_type": "code",
   "execution_count": null,
   "metadata": {
    "colab": {
     "base_uri": "https://localhost:8080/",
     "height": 203
    },
    "executionInfo": {
     "elapsed": 236,
     "status": "ok",
     "timestamp": 1729645792551,
     "user": {
      "displayName": "Johnny Test",
      "userId": "16509896550579327523"
     },
     "user_tz": 240
    },
    "id": "f82kt78EbKz-",
    "outputId": "f6fdfcd2-674b-48cb-b38e-25d4e6f866b1"
   },
   "outputs": [],
   "source": [
    "sprinters.corr\n"
   ]
  },
  {
   "cell_type": "code",
   "execution_count": null,
   "metadata": {
    "colab": {
     "base_uri": "https://localhost:8080/",
     "height": 742
    },
    "executionInfo": {
     "elapsed": 15,
     "status": "ok",
     "timestamp": 1729645792551,
     "user": {
      "displayName": "Johnny Test",
      "userId": "16509896550579327523"
     },
     "user_tz": 240
    },
    "id": "S7_wpsHMdOMn",
    "outputId": "a67e3b5b-e39e-45fc-ad01-75b306fae676"
   },
   "outputs": [],
   "source": [
    "sprinters.isnull().sum()\n"
   ]
  },
  {
   "cell_type": "markdown",
   "metadata": {
    "id": "26-aFPB7fZtV"
   },
   "source": [
    "# **General** **EDA**"
   ]
  },
  {
   "cell_type": "markdown",
   "metadata": {
    "id": "99Y4TEKuuEw9"
   },
   "source": [
    "Let's make a column for the total PR time"
   ]
  },
  {
   "cell_type": "code",
   "execution_count": null,
   "metadata": {
    "colab": {
     "base_uri": "https://localhost:8080/",
     "height": 585
    },
    "executionInfo": {
     "elapsed": 14,
     "status": "ok",
     "timestamp": 1729645792551,
     "user": {
      "displayName": "Johnny Test",
      "userId": "16509896550579327523"
     },
     "user_tz": 240
    },
    "id": "0NXGHIZGfcO3",
    "outputId": "d7159932-10b2-44df-ae73-ecbf911cf999"
   },
   "outputs": [],
   "source": [
    "sprinters['Total_Time_PRs'] = round(sprinters['100_PR'] + sprinters['200_PR'] + sprinters['400_PR'],2)\n",
    "sprinters.head()"
   ]
  },
  {
   "cell_type": "markdown",
   "metadata": {
    "id": "PupbWRW3ucso"
   },
   "source": [
    "Let's make a column for the total career average time"
   ]
  },
  {
   "cell_type": "code",
   "execution_count": null,
   "metadata": {
    "colab": {
     "base_uri": "https://localhost:8080/",
     "height": 585
    },
    "executionInfo": {
     "elapsed": 13,
     "status": "ok",
     "timestamp": 1729645792551,
     "user": {
      "displayName": "Johnny Test",
      "userId": "16509896550579327523"
     },
     "user_tz": 240
    },
    "id": "GgdUNzahgc4l",
    "outputId": "f160f2e0-c427-4bdf-cf9d-45dff205cb7e"
   },
   "outputs": [],
   "source": [
    "sprinters['Total_Time_SB_Avg'] = round(sprinters['Avg_Season_Best_100m'] + sprinters['Avg_Season_Best_200m'] + sprinters['Avg_Season_Best_400m'],2)\n",
    "sprinters.head()"
   ]
  },
  {
   "cell_type": "markdown",
   "metadata": {
    "id": "uH_h1V-X6iyg"
   },
   "source": [
    "Let's make a column for the actual age of the athletes"
   ]
  },
  {
   "cell_type": "code",
   "execution_count": null,
   "metadata": {
    "colab": {
     "base_uri": "https://localhost:8080/"
    },
    "executionInfo": {
     "elapsed": 12,
     "status": "ok",
     "timestamp": 1729645792551,
     "user": {
      "displayName": "Johnny Test",
      "userId": "16509896550579327523"
     },
     "user_tz": 240
    },
    "id": "ckwBzcMz6ooL",
    "outputId": "723c3307-5776-47ba-8983-2d5840db6225"
   },
   "outputs": [],
   "source": [
    "# Ensure the DOB column is in datetime format\n",
    "sprinters['DOB'] = pd.to_datetime(sprinters['DOB'], errors='coerce')  # Coerce will handle invalid dates as NaT\n",
    "\n",
    "# Get the current year\n",
    "current_year = datetime.now().year\n",
    "\n",
    "# Calculate the age by subtracting the birth year from the current year\n",
    "sprinters['Age'] = current_year - sprinters['DOB'].dt.year\n",
    "\n",
    "# Display the updated DataFrame with the new 'Age' column\n",
    "print(sprinters[['DOB', 'Age']].head())\n"
   ]
  },
  {
   "cell_type": "markdown",
   "metadata": {
    "id": "SE229VJa2cYS"
   },
   "source": [
    "Let's add the sprinter's photo to the database by merging it with the photo csv"
   ]
  },
  {
   "cell_type": "code",
   "execution_count": null,
   "metadata": {
    "executionInfo": {
     "elapsed": 9,
     "status": "ok",
     "timestamp": 1729645792551,
     "user": {
      "displayName": "Johnny Test",
      "userId": "16509896550579327523"
     },
     "user_tz": 240
    },
    "id": "08X8fNn-21bP"
   },
   "outputs": [],
   "source": [
    "sprinter_photo = pd.read_csv(\"Sprinter_Photo.csv\")"
   ]
  },
  {
   "cell_type": "code",
   "execution_count": null,
   "metadata": {
    "colab": {
     "base_uri": "https://localhost:8080/",
     "height": 143
    },
    "executionInfo": {
     "elapsed": 9,
     "status": "ok",
     "timestamp": 1729645792551,
     "user": {
      "displayName": "Johnny Test",
      "userId": "16509896550579327523"
     },
     "user_tz": 240
    },
    "id": "JrZnZd9O3htf",
    "outputId": "40462160-3621-4624-8983-95cfed5ba750"
   },
   "outputs": [],
   "source": [
    "sprinter_photo.head(3)"
   ]
  },
  {
   "cell_type": "code",
   "execution_count": null,
   "metadata": {
    "colab": {
     "base_uri": "https://localhost:8080/",
     "height": 383
    },
    "executionInfo": {
     "elapsed": 173,
     "status": "ok",
     "timestamp": 1729645797897,
     "user": {
      "displayName": "Johnny Test",
      "userId": "16509896550579327523"
     },
     "user_tz": 240
    },
    "id": "kfLPNfF42oCY",
    "outputId": "00aef788-73ca-40e3-b13b-57fd71e6c8b1"
   },
   "outputs": [],
   "source": [
    "sprinters = pd.merge(sprinters, sprinter_photo, on=['Athlete'],how='left')\n",
    "sprinters.head(3)"
   ]
  },
  {
   "cell_type": "markdown",
   "metadata": {
    "id": "shKQu0QhBz9V"
   },
   "source": [
    "Let's add second database to join number of season to each events dataframe (For Years Competed in each event)."
   ]
  },
  {
   "cell_type": "code",
   "execution_count": null,
   "metadata": {
    "colab": {
     "base_uri": "https://localhost:8080/",
     "height": 143
    },
    "executionInfo": {
     "elapsed": 344,
     "status": "ok",
     "timestamp": 1729645806103,
     "user": {
      "displayName": "Johnny Test",
      "userId": "16509896550579327523"
     },
     "user_tz": 240
    },
    "id": "o-GMweZEkTAz",
    "outputId": "df0ce795-8cf5-45f2-ac76-6ea0936dc63c"
   },
   "outputs": [],
   "source": [
    "sprinters_df2 = pd.read_csv(\"Worlds_Fastest_Sprinters_Master_List_Yearly_Progression.csv\")\n",
    "sprinters_df2.head(3)"
   ]
  },
  {
   "cell_type": "code",
   "execution_count": null,
   "metadata": {
    "executionInfo": {
     "elapsed": 188,
     "status": "ok",
     "timestamp": 1729645808985,
     "user": {
      "displayName": "Johnny Test",
      "userId": "16509896550579327523"
     },
     "user_tz": 240
    },
    "id": "aSaO_PPgqUtk"
   },
   "outputs": [],
   "source": [
    "yrs_competed_200m = sprinters_df2[sprinters_df2['Event'] == '200m'].groupby('Athlete').size().reset_index(name='Years')"
   ]
  },
  {
   "cell_type": "code",
   "execution_count": null,
   "metadata": {
    "colab": {
     "base_uri": "https://localhost:8080/",
     "height": 206
    },
    "executionInfo": {
     "elapsed": 213,
     "status": "ok",
     "timestamp": 1729645810340,
     "user": {
      "displayName": "Johnny Test",
      "userId": "16509896550579327523"
     },
     "user_tz": 240
    },
    "id": "aXzOD-JKqUtl",
    "outputId": "7fd2498a-fd93-4c56-88ca-7f696610b8de"
   },
   "outputs": [],
   "source": [
    "yrs_competed_200m = yrs_competed_200m.sort_values(by='Years', ascending=False)\n",
    "yrs_competed_200m.head()"
   ]
  },
  {
   "cell_type": "markdown",
   "metadata": {
    "id": "FmQNjnyu6neV"
   },
   "source": [
    "Let's add a third database which incorportae's every race in each athletes's career."
   ]
  },
  {
   "cell_type": "code",
   "execution_count": null,
   "metadata": {
    "colab": {
     "base_uri": "https://localhost:8080/",
     "height": 143
    },
    "executionInfo": {
     "elapsed": 145,
     "status": "ok",
     "timestamp": 1729645816362,
     "user": {
      "displayName": "Johnny Test",
      "userId": "16509896550579327523"
     },
     "user_tz": 240
    },
    "id": "QVf-iKTB8WWB",
    "outputId": "82a0c0b3-0cd5-4afe-cc1f-9a3ed2562845"
   },
   "outputs": [],
   "source": [
    "sprinters_df3 = pd.read_csv(\"Sprinter_Career.csv\")\n",
    "sprinters_df3.head(3)"
   ]
  },
  {
   "cell_type": "code",
   "execution_count": null,
   "metadata": {
    "colab": {
     "base_uri": "https://localhost:8080/",
     "height": 143
    },
    "executionInfo": {
     "elapsed": 204,
     "status": "ok",
     "timestamp": 1729645818826,
     "user": {
      "displayName": "Johnny Test",
      "userId": "16509896550579327523"
     },
     "user_tz": 240
    },
    "id": "8_cQk3NUC1ix",
    "outputId": "207a836f-931b-4a06-ad9f-91251264a7ec"
   },
   "outputs": [],
   "source": [
    "All_200m_Races = sprinters_df3[sprinters_df3['Event'] == '200m']\n",
    "All_200m_Races.head(3)"
   ]
  },
  {
   "cell_type": "markdown",
   "metadata": {
    "id": "ARB5WCMrr1qn"
   },
   "source": [
    "Let's drop all the races that were DNS, DNF, or DQ"
   ]
  },
  {
   "cell_type": "code",
   "execution_count": null,
   "metadata": {
    "colab": {
     "base_uri": "https://localhost:8080/",
     "height": 143
    },
    "executionInfo": {
     "elapsed": 171,
     "status": "ok",
     "timestamp": 1729645836702,
     "user": {
      "displayName": "Johnny Test",
      "userId": "16509896550579327523"
     },
     "user_tz": 240
    },
    "id": "-dV5LnSgr1Qv",
    "outputId": "dd75bba8-2e48-4da6-92cb-b038fdba0fbb"
   },
   "outputs": [],
   "source": [
    "All_200m_Races = All_200m_Races[~All_200m_Races['Time'].isin(['DNS', 'DNF', 'DQ'])]\n",
    "All_200m_Races.head(3)"
   ]
  },
  {
   "cell_type": "markdown",
   "metadata": {
    "id": "GcHOOduts2o3"
   },
   "source": [
    "Let's make sure that the time column is now a numeric datatype"
   ]
  },
  {
   "cell_type": "code",
   "execution_count": null,
   "metadata": {
    "executionInfo": {
     "elapsed": 196,
     "status": "ok",
     "timestamp": 1729645839596,
     "user": {
      "displayName": "Johnny Test",
      "userId": "16509896550579327523"
     },
     "user_tz": 240
    },
    "id": "ATcwvYMos8Y5"
   },
   "outputs": [],
   "source": [
    "All_200m_Races['Time'] = pd.to_numeric(All_200m_Races['Time'], errors='coerce')"
   ]
  },
  {
   "cell_type": "markdown",
   "metadata": {
    "id": "V9jWbP2hrxyl"
   },
   "source": [
    "Let's drop all the Indoor marks"
   ]
  },
  {
   "cell_type": "code",
   "execution_count": null,
   "metadata": {
    "colab": {
     "base_uri": "https://localhost:8080/",
     "height": 143
    },
    "executionInfo": {
     "elapsed": 161,
     "status": "ok",
     "timestamp": 1729645849943,
     "user": {
      "displayName": "Johnny Test",
      "userId": "16509896550579327523"
     },
     "user_tz": 240
    },
    "id": "frnKQ_1UsWxZ",
    "outputId": "ec0849b2-d92e-499a-8cb2-4faec8a5db9e"
   },
   "outputs": [],
   "source": [
    "All_200m_Races = All_200m_Races[All_200m_Races['Meet_Type'] != 'Indoor']\n",
    "All_200m_Races.head(3)"
   ]
  },
  {
   "cell_type": "markdown",
   "metadata": {
    "id": "E2VmZJveq6RY"
   },
   "source": [
    "Let's drop times that aren't legal from the dataframe"
   ]
  },
  {
   "cell_type": "code",
   "execution_count": null,
   "metadata": {
    "colab": {
     "base_uri": "https://localhost:8080/",
     "height": 143
    },
    "executionInfo": {
     "elapsed": 182,
     "status": "ok",
     "timestamp": 1729645853404,
     "user": {
      "displayName": "Johnny Test",
      "userId": "16509896550579327523"
     },
     "user_tz": 240
    },
    "id": "UbrRDVk-qzSi",
    "outputId": "888c9cc2-1d87-427d-c95f-594c5b28f521"
   },
   "outputs": [],
   "source": [
    "All_200m_Races = All_200m_Races[All_200m_Races['Legal'] != 'NO']\n",
    "All_200m_Races.head(3)"
   ]
  },
  {
   "cell_type": "markdown",
   "metadata": {
    "id": "pMChsNe65R8X"
   },
   "source": [
    "Let's look at a couple of visualizations of this dataframe"
   ]
  },
  {
   "cell_type": "code",
   "execution_count": null,
   "metadata": {
    "colab": {
     "base_uri": "https://localhost:8080/",
     "height": 430
    },
    "executionInfo": {
     "elapsed": 620,
     "status": "ok",
     "timestamp": 1729645861017,
     "user": {
      "displayName": "Johnny Test",
      "userId": "16509896550579327523"
     },
     "user_tz": 240
    },
    "id": "owTtYg-Kr5t9",
    "outputId": "6c96b386-7e92-46dc-a3f6-5edcd1f9ae39"
   },
   "outputs": [],
   "source": [
    "All_200m_Races['Time'].hist();"
   ]
  },
  {
   "cell_type": "code",
   "execution_count": null,
   "metadata": {
    "colab": {
     "base_uri": "https://localhost:8080/",
     "height": 472
    },
    "executionInfo": {
     "elapsed": 460,
     "status": "ok",
     "timestamp": 1729645867504,
     "user": {
      "displayName": "Johnny Test",
      "userId": "16509896550579327523"
     },
     "user_tz": 240
    },
    "id": "0Z4FuGeCFyhC",
    "outputId": "a4374a7a-2657-4a67-a5c0-2c428310a1cd"
   },
   "outputs": [],
   "source": [
    "probplot(All_200m_Races['Time'], plot=plt);"
   ]
  },
  {
   "cell_type": "code",
   "execution_count": null,
   "metadata": {
    "id": "IkLtSsY9GgVy"
   },
   "outputs": [],
   "source": [
    "plt.figure(figsize = (10,6))\n",
    "\n",
    "std_plot(All_200m_Races['Time'], edgecolor = 'black', linewidth = 2)"
   ]
  },
  {
   "cell_type": "code",
   "execution_count": null,
   "metadata": {
    "id": "3ffGgls9GqXY"
   },
   "outputs": [],
   "source": [
    "plt.figure(figsize = (10,6))\n",
    "\n",
    "iqr_plot(All_200m_Races['Time'], bins = 25, edgecolor = 'black', linewidth = 2)"
   ]
  },
  {
   "cell_type": "code",
   "execution_count": null,
   "metadata": {
    "colab": {
     "base_uri": "https://localhost:8080/",
     "height": 542
    },
    "executionInfo": {
     "elapsed": 1057,
     "status": "ok",
     "timestamp": 1729645888257,
     "user": {
      "displayName": "Johnny Test",
      "userId": "16509896550579327523"
     },
     "user_tz": 240
    },
    "id": "uKv9_g9VHFCd",
    "outputId": "827564a2-b53f-4aed-cfa0-6dff593cbc0d"
   },
   "outputs": [],
   "source": [
    "plt.figure(figsize = (10,6))\n",
    "sns.boxplot(x = All_200m_Races['Time']);"
   ]
  },
  {
   "cell_type": "code",
   "execution_count": null,
   "metadata": {
    "colab": {
     "base_uri": "https://localhost:8080/",
     "height": 458
    },
    "executionInfo": {
     "elapsed": 1639,
     "status": "ok",
     "timestamp": 1729645896821,
     "user": {
      "displayName": "Johnny Test",
      "userId": "16509896550579327523"
     },
     "user_tz": 240
    },
    "id": "_c1THDG2HQnE",
    "outputId": "29ad092f-7c50-47fa-afd1-dc92d2196e72"
   },
   "outputs": [],
   "source": [
    "sns.boxplot(data = All_200m_Races, y = 'Athlete', x = 'Time')\n",
    "plt.xticks([0,1], ['', ''])\n",
    "plt.xlabel('200m Time')\n",
    "plt.title('200m Times Over Entire Career');"
   ]
  },
  {
   "cell_type": "markdown",
   "metadata": {
    "id": "RUM2KOSwvD2D"
   },
   "source": [
    "Let's get the Caeer Average for Each Athlete"
   ]
  },
  {
   "cell_type": "code",
   "execution_count": null,
   "metadata": {
    "executionInfo": {
     "elapsed": 147,
     "status": "ok",
     "timestamp": 1729645911655,
     "user": {
      "displayName": "Johnny Test",
      "userId": "16509896550579327523"
     },
     "user_tz": 240
    },
    "id": "6USj4S4ivZtm"
   },
   "outputs": [],
   "source": [
    "Career_average_200m = All_200m_Races.groupby('Athlete')['Time'].mean().reset_index(name='Career_Avg_200m')"
   ]
  },
  {
   "cell_type": "code",
   "execution_count": null,
   "metadata": {
    "id": "eGGJnQD4vJWN"
   },
   "outputs": [],
   "source": [
    "#All_200m_Races = pd.merge(All_200m_Races, Career_average_200m, on=['Athlete'],how='left')\n",
    "#All_200m_Races.head(3)"
   ]
  },
  {
   "cell_type": "markdown",
   "metadata": {
    "id": "v4bEp-guyt7s"
   },
   "source": [
    "Total Races for Each Athlete"
   ]
  },
  {
   "cell_type": "code",
   "execution_count": null,
   "metadata": {
    "colab": {
     "base_uri": "https://localhost:8080/",
     "height": 143
    },
    "executionInfo": {
     "elapsed": 235,
     "status": "ok",
     "timestamp": 1729645955867,
     "user": {
      "displayName": "Johnny Test",
      "userId": "16509896550579327523"
     },
     "user_tz": 240
    },
    "id": "SUSKP1fhOp9R",
    "outputId": "c21a7650-824f-4e74-dc59-90a979a6c80a"
   },
   "outputs": [],
   "source": [
    "athlete_race_count_200m = All_200m_Races.groupby('Athlete').size().reset_index(name='total_races_200m')\n",
    "athlete_race_count_200m.head(3)"
   ]
  },
  {
   "cell_type": "markdown",
   "metadata": {
    "id": "yjbGRfNmyzZm"
   },
   "source": [
    "Number of races for each athlete by year"
   ]
  },
  {
   "cell_type": "code",
   "execution_count": null,
   "metadata": {
    "id": "p-peb0xoPbaL"
   },
   "outputs": [],
   "source": [
    "#athlete_race_count_per_year_200m = hundred_meter_races.groupby(['Athlete', 'Year']).size().reset_index(name='races_per_year_200m')\n",
    "#athlete_race_count_per_year_200m.head(3)"
   ]
  },
  {
   "cell_type": "markdown",
   "metadata": {
    "id": "FZ6Gl96oQ-N7"
   },
   "source": [
    "Meerge Data Season and total races data next"
   ]
  },
  {
   "cell_type": "code",
   "execution_count": null,
   "metadata": {
    "colab": {
     "base_uri": "https://localhost:8080/",
     "height": 143
    },
    "executionInfo": {
     "elapsed": 187,
     "status": "ok",
     "timestamp": 1729645962620,
     "user": {
      "displayName": "Johnny Test",
      "userId": "16509896550579327523"
     },
     "user_tz": 240
    },
    "id": "5gILxEubgNhU",
    "outputId": "92db57e3-6701-4bd3-b561-f1b7c23e3cb0"
   },
   "outputs": [],
   "source": [
    "seasons_and_races_200m = pd.merge(athlete_race_count_200m, yrs_competed_200m, on=['Athlete'],how='left')\n",
    "seasons_and_races_200m.head(3)"
   ]
  },
  {
   "cell_type": "markdown",
   "metadata": {
    "id": "D0iciiyKyfzp"
   },
   "source": [
    "Let's add the career average for each athlete"
   ]
  },
  {
   "cell_type": "code",
   "execution_count": null,
   "metadata": {
    "colab": {
     "base_uri": "https://localhost:8080/",
     "height": 143
    },
    "executionInfo": {
     "elapsed": 160,
     "status": "ok",
     "timestamp": 1729645974507,
     "user": {
      "displayName": "Johnny Test",
      "userId": "16509896550579327523"
     },
     "user_tz": 240
    },
    "id": "D-koaU5wyOZB",
    "outputId": "ac122adc-42b0-440e-e0c2-e6e6e68c0939"
   },
   "outputs": [],
   "source": [
    "seasons_and_races_200m = pd.merge(seasons_and_races_200m, Career_average_200m, on=['Athlete'],how='left')\n",
    "seasons_and_races_200m.head(3)"
   ]
  },
  {
   "cell_type": "code",
   "execution_count": null,
   "metadata": {
    "colab": {
     "base_uri": "https://localhost:8080/",
     "height": 585
    },
    "executionInfo": {
     "elapsed": 241,
     "status": "ok",
     "timestamp": 1729645981057,
     "user": {
      "displayName": "Johnny Test",
      "userId": "16509896550579327523"
     },
     "user_tz": 240
    },
    "id": "CofsZG4pg-ya",
    "outputId": "83efda95-b0ea-4f58-99d0-f9e92a735a75"
   },
   "outputs": [],
   "source": [
    "seasons_and_races_200m['Avg_Races_Year_200m'] = round(seasons_and_races_200m['total_races_200m'] / seasons_and_races_200m['Years'],2)\n",
    "sprinters.head()"
   ]
  },
  {
   "cell_type": "code",
   "execution_count": null,
   "metadata": {
    "colab": {
     "base_uri": "https://localhost:8080/",
     "height": 669
    },
    "executionInfo": {
     "elapsed": 201,
     "status": "ok",
     "timestamp": 1729645987041,
     "user": {
      "displayName": "Johnny Test",
      "userId": "16509896550579327523"
     },
     "user_tz": 240
    },
    "id": "_19_-eiDIz3I",
    "outputId": "99b8c58d-4678-4e5c-9965-0d824f355ce2"
   },
   "outputs": [],
   "source": [
    "df_200m= sprinters[['Athlete', 'Country','Continent','Status', 'DOB','Year Born','Month Born','Decade Born','Avg_Season_Best_200m','200_PR','T25_200_All_Time_Rank','T25_200_AT_RK_NUM']]\n",
    "df_200m"
   ]
  },
  {
   "cell_type": "code",
   "execution_count": null,
   "metadata": {
    "colab": {
     "base_uri": "https://localhost:8080/",
     "height": 233
    },
    "executionInfo": {
     "elapsed": 159,
     "status": "ok",
     "timestamp": 1729645995314,
     "user": {
      "displayName": "Johnny Test",
      "userId": "16509896550579327523"
     },
     "user_tz": 240
    },
    "id": "sb32zsjtK8_k",
    "outputId": "5ae3939d-e014-400e-f199-23d6d6c8dc4d"
   },
   "outputs": [],
   "source": [
    "df_200m['SB_Avg_200m_PR_Diff'] = round(df_200m['Avg_Season_Best_200m'] - df_200m['200_PR'],2)\n",
    "df_200m.head(3)"
   ]
  },
  {
   "cell_type": "code",
   "execution_count": null,
   "metadata": {
    "colab": {
     "base_uri": "https://localhost:8080/",
     "height": 233
    },
    "executionInfo": {
     "elapsed": 278,
     "status": "ok",
     "timestamp": 1729646003279,
     "user": {
      "displayName": "Johnny Test",
      "userId": "16509896550579327523"
     },
     "user_tz": 240
    },
    "id": "ST_DoAPDJBl9",
    "outputId": "fb4b9dc0-f708-4451-f744-27e888f9cde4"
   },
   "outputs": [],
   "source": [
    "df_200m = pd.merge(df_200m, seasons_and_races_200m, on=['Athlete'],how='left')\n",
    "df_200m.head(3)"
   ]
  },
  {
   "cell_type": "code",
   "execution_count": null,
   "metadata": {
    "colab": {
     "base_uri": "https://localhost:8080/",
     "height": 233
    },
    "executionInfo": {
     "elapsed": 214,
     "status": "ok",
     "timestamp": 1729646011274,
     "user": {
      "displayName": "Johnny Test",
      "userId": "16509896550579327523"
     },
     "user_tz": 240
    },
    "id": "YYA8c46oJBmL",
    "outputId": "9e5f8f1c-3db3-44f5-e27c-bd55c0f78fa9"
   },
   "outputs": [],
   "source": [
    "df_200m = df_200m.rename(columns={'Years': 'Years_Competed_200m'})\n",
    "df_200m.head(3)"
   ]
  },
  {
   "cell_type": "code",
   "execution_count": null,
   "metadata": {
    "colab": {
     "base_uri": "https://localhost:8080/",
     "height": 233
    },
    "executionInfo": {
     "elapsed": 156,
     "status": "ok",
     "timestamp": 1729646025040,
     "user": {
      "displayName": "Johnny Test",
      "userId": "16509896550579327523"
     },
     "user_tz": 240
    },
    "id": "OrtiEI4ozSat",
    "outputId": "0e2be61e-7ed4-40f4-d1d4-254228ab9739"
   },
   "outputs": [],
   "source": [
    "df_200m['Career_Avg_200m_PR_Diff'] = round(df_200m['Career_Avg_200m'] - df_200m['200_PR'],2)\n",
    "df_200m.head(3)"
   ]
  },
  {
   "cell_type": "code",
   "execution_count": null,
   "metadata": {
    "id": "xac2Esn8KF1z"
   },
   "outputs": [],
   "source": [
    "#df_200m = df_200m.sort_values(by='Avg_Season_Best_200m', ascending=False)\n",
    "#df_200m"
   ]
  },
  {
   "cell_type": "code",
   "execution_count": null,
   "metadata": {
    "colab": {
     "base_uri": "https://localhost:8080/",
     "height": 669
    },
    "executionInfo": {
     "elapsed": 5,
     "status": "ok",
     "timestamp": 1726613313609,
     "user": {
      "displayName": "Johnny Test",
      "userId": "16509896550579327523"
     },
     "user_tz": 240
    },
    "id": "lF64L73GYU0u",
    "outputId": "f7fa6997-c9e0-47a8-deaf-01e35cd84ce8"
   },
   "outputs": [],
   "source": [
    "#df_200m = df_200m.sort_values(by='Avg_Season_Best_200m')\n",
    "#df_200m"
   ]
  },
  {
   "cell_type": "code",
   "execution_count": null,
   "metadata": {
    "colab": {
     "base_uri": "https://localhost:8080/",
     "height": 634
    },
    "executionInfo": {
     "elapsed": 187,
     "status": "ok",
     "timestamp": 1729646037222,
     "user": {
      "displayName": "Johnny Test",
      "userId": "16509896550579327523"
     },
     "user_tz": 240
    },
    "id": "A_Sj2vLdzyIG",
    "outputId": "af99e0d7-78bc-4024-fd2d-ef04424b1aa9"
   },
   "outputs": [],
   "source": [
    "df_200m = df_200m.sort_values(by='Career_Avg_200m')\n",
    "df_200m"
   ]
  },
  {
   "cell_type": "markdown",
   "metadata": {
    "id": "z_WLpv-ouOEV"
   },
   "source": [
    "**Top 5 200m Times (PRs)**\n",
    "\n",
    "\n",
    "\n",
    "1.   Usain Bolt: 19.19 (15 Seasons)\n",
    "2.   Yohan Blake: 19.26 ( Seasons)\n",
    "3.   Noah Lyles: 19.31 (13 Seasons)\n",
    "4.   Michael Johnson: 19.32 (14 Seasons)\n",
    "5.   Letsile Tebogo: 19.46 ( Seasons)\n",
    "\n",
    "\n",
    "\n",
    "\n",
    "\n",
    "\n"
   ]
  },
  {
   "cell_type": "markdown",
   "metadata": {
    "id": "hFEHEh04P4WG"
   },
   "source": [
    "**Top 5 Career Season Best Averages in the 200m (Rounded to the nearest hundreth)**\n",
    "\n",
    "\n",
    "\n",
    "1.   Usain Bolt: 19.85 (15 Seasons)\n",
    "2.   Michael Johnson: 19.97 (14 Seasons)\n",
    "3.   Maurice Greene: 19.99 (5 Seasons)\n",
    "4.   Erriyon Knighton: 20.05 (6 Seasons)\n",
    "5.   Noah Lyles: 20.05 (13 Seasons)\n",
    "\n",
    "\n",
    "\n",
    "\n",
    "\n",
    "\n"
   ]
  },
  {
   "cell_type": "markdown",
   "metadata": {
    "id": "CrEcUAKquFWd"
   },
   "source": [
    "**Top 5 Career Averages in the 200m (Rounded to the nearest hundreth)**\n",
    "\n",
    "\n",
    "\n",
    "1.   Michael Johnson: 20.19 (14 Seasons)\n",
    "2.   Justin Gatlin: 20.25 (13 Seasons)\n",
    "3.   Carl Lewis: 20.25 (15 Seasons)\n",
    "4.   Letsile Tobogo: 20.27 (6 Seasons)\n",
    "5.   Maurice Greene: 20.28 (5 Seasons)\n",
    "\n",
    "\n",
    "\n",
    "\n",
    "\n",
    "\n"
   ]
  },
  {
   "cell_type": "markdown",
   "metadata": {
    "id": "kVNjz31foPUq"
   },
   "source": [
    "# ***EDA Visualizations***"
   ]
  },
  {
   "cell_type": "code",
   "execution_count": null,
   "metadata": {
    "colab": {
     "base_uri": "https://localhost:8080/",
     "height": 452
    },
    "executionInfo": {
     "elapsed": 458,
     "status": "ok",
     "timestamp": 1726613314063,
     "user": {
      "displayName": "Johnny Test",
      "userId": "16509896550579327523"
     },
     "user_tz": 240
    },
    "id": "ZV_VmlDQKQA7",
    "outputId": "c886e0be-f28e-4171-fa51-d836c050f4eb"
   },
   "outputs": [],
   "source": [
    "# @title Year Born 200m\n",
    "\n",
    "\n",
    "df_200m['Year Born'].plot(kind='hist', bins=20, title='Year Born')\n",
    "plt.gca().spines[['top', 'right',]].set_visible(False)\n",
    "\n",
    "#plt.savefig('year_born_200.png', format='png', dpi=300)\n",
    "#plt.savefig('year_born_200.jpg', format='jpg', dpi=300)"
   ]
  },
  {
   "cell_type": "code",
   "execution_count": null,
   "metadata": {
    "id": "X_Ev4-5xUA-2"
   },
   "outputs": [],
   "source": [
    "plt.figure(figsize = (10,6))\n",
    "\n",
    "df_200m.groupby('Country')['Athlete'].count().plot(kind = 'bar')\n",
    "plt.title('200m Sprinters By 100m BY Country')\n",
    "plt.ylabel('count')\n",
    "plt.xticks(rotation = 0);"
   ]
  },
  {
   "cell_type": "code",
   "execution_count": null,
   "metadata": {
    "id": "7HlRnmAVzoqG"
   },
   "outputs": [],
   "source": [
    "plt.figure(figsize = (10,6))\n",
    "\n",
    "df_200m.groupby('Continent')['Athlete'].count().plot(kind = 'bar')\n",
    "plt.title('200m Sprinters By 100m BY Continent')\n",
    "plt.ylabel('count')\n",
    "plt.xticks(rotation = 0);"
   ]
  },
  {
   "cell_type": "code",
   "execution_count": null,
   "metadata": {
    "colab": {
     "base_uri": "https://localhost:8080/",
     "height": 449
    },
    "executionInfo": {
     "elapsed": 469,
     "status": "ok",
     "timestamp": 1726613314529,
     "user": {
      "displayName": "Johnny Test",
      "userId": "16509896550579327523"
     },
     "user_tz": 240
    },
    "id": "vFvNpGkM-Pzo",
    "outputId": "746dc9be-5a7a-4aa3-f40d-f17dcaa48c3b"
   },
   "outputs": [],
   "source": [
    "# @title Year Born vs Avg Season Best 200m\n",
    "\n",
    "df_200m.plot(kind='scatter', x='Year Born', y='Avg_Season_Best_200m', s=32, alpha=.8)\n",
    "plt.gca().spines[['top', 'right',]].set_visible(False)\n",
    "\n",
    "#plt.savefig('year_born_SB_avg_200.png', format='png', dpi=300)\n",
    "#plt.savefig('year_born_SB_avg_200.jpg', format='jpg', dpi=300)"
   ]
  },
  {
   "cell_type": "code",
   "execution_count": null,
   "metadata": {
    "id": "F9FibzJY0NVl"
   },
   "outputs": [],
   "source": [
    "# @title Year Born vs Career Avg  200m\n",
    "\n",
    "df_200m.plot(kind='scatter', x='Year Born', y='Career_Avg_200m', s=32, alpha=.8)\n",
    "plt.gca().spines[['top', 'right',]].set_visible(False)\n",
    "\n",
    "#plt.savefig('year_born_Career_avg_200.png', format='png', dpi=300)\n",
    "#plt.savefig('year_born_Career_avg_200.jpg', format='jpg', dpi=300)"
   ]
  },
  {
   "cell_type": "code",
   "execution_count": null,
   "metadata": {
    "colab": {
     "base_uri": "https://localhost:8080/",
     "height": 449
    },
    "executionInfo": {
     "elapsed": 243,
     "status": "ok",
     "timestamp": 1726613314770,
     "user": {
      "displayName": "Johnny Test",
      "userId": "16509896550579327523"
     },
     "user_tz": 240
    },
    "id": "GxSLAIq1-Pzp",
    "outputId": "1423bce8-0eec-427c-ea94-fb184e31bb67"
   },
   "outputs": [],
   "source": [
    "# @title Avg Season Best 200m vs 200_PR\n",
    "\n",
    "df_200m.plot(kind='scatter', x='Avg_Season_Best_200m', y='200_PR', s=32, alpha=.8)\n",
    "plt.gca().spines[['top', 'right',]].set_visible(False)\n",
    "\n",
    "#plt.savefig('SB_avg_200_pr.png', format='png', dpi=300)\n",
    "#plt.savefig('SB_avg_200_pr.jpg', format='jpg', dpi=300)"
   ]
  },
  {
   "cell_type": "markdown",
   "metadata": {
    "id": "GBEEhFFkOpWl"
   },
   "source": [
    "Version 2"
   ]
  },
  {
   "cell_type": "code",
   "execution_count": null,
   "metadata": {
    "id": "VY1n6uP6OpW7"
   },
   "outputs": [],
   "source": [
    "df_200m = px.data.iris() # iris is a pandas DataFrame\n",
    "fig = px.scatter(df_200m, x=\"Avg_Season_Best_200m\", y=\"200_PR\")\n",
    "fig.show()\n",
    "\n",
    "#fig.write_html(\"SB_200m_avg_vs_pr_scatter.html\")\n",
    "#fig.write_image(\"SB_200m_avg_vs_pr_scatter.svg\")"
   ]
  },
  {
   "cell_type": "markdown",
   "metadata": {
    "id": "94JEgSsjOpW8"
   },
   "source": [
    "Version 3"
   ]
  },
  {
   "cell_type": "code",
   "execution_count": null,
   "metadata": {
    "id": "kza5OlJoOpW8"
   },
   "outputs": [],
   "source": [
    "df_200m = px.data.iris()\n",
    "fig = px.scatter(df_200m, x=\"Avg_Season_Best_200m\", y=\"200_PR\", color=\"Country\",\n",
    "                 size='Avg_Season_Best_200m', hover_data=['200_PR'])\n",
    "fig.show()\n",
    "\n",
    "#fig.write_html(\"SB_200m_avg_vs_pr_scatter_2.html\")\n",
    "#fig.write_image(\"SB_200m_avg_vs_pr_scatter_2.svg\")"
   ]
  },
  {
   "cell_type": "markdown",
   "metadata": {
    "id": "0deOequXOpW9"
   },
   "source": [
    "Version 4 (With Error Bars)"
   ]
  },
  {
   "cell_type": "code",
   "execution_count": null,
   "metadata": {
    "id": "NPy1m3f2OpW9"
   },
   "outputs": [],
   "source": [
    "df_200m = px.data.iris()\n",
    "df_200m[\"e\"] = df_200m[\"Avg_Season_Best_200m\"]/100\n",
    "fig = px.scatter(df_200m, x=\"Avg_Season_Best_200m\", y=\"200_PR\", color=\"Country\",\n",
    "                 error_x=\"e\", error_y=\"e\")\n",
    "fig.show()\n",
    "\n",
    "#fig.write_html(\"SB_200m_avg_vs_pr_scatter_3.html\")\n",
    "#fig.write_image(\"SB_200m_avg_vs_pr_scatter_3.svg\")"
   ]
  },
  {
   "cell_type": "markdown",
   "metadata": {
    "id": "gpdbbRynOpW-"
   },
   "source": [
    "Version 5 (Using Dash)"
   ]
  },
  {
   "cell_type": "code",
   "execution_count": null,
   "metadata": {
    "id": "k_rwETo9OpW-"
   },
   "outputs": [],
   "source": [
    "\n",
    "\n",
    "app = Dash(__name__)\n",
    "\n",
    "\n",
    "app.layout = html.Div([\n",
    "    html.H4('Career Average 200m vs 200m PR'),\n",
    "    dcc.Graph(id=\"scatter-plot\"),\n",
    "    html.P(\"Filter by Career Season Best Average 200m:\"),\n",
    "    dcc.RangeSlider(\n",
    "        id='range-slider',\n",
    "        min=0, max=2.5, step=0.1,\n",
    "        marks={0: '0', 2.5: '2.5'},\n",
    "        value=[0.5, 2]\n",
    "    ),\n",
    "])\n",
    "\n",
    "\n",
    "@app.callback(\n",
    "    Output(\"scatter-plot\", \"figure\"),\n",
    "    Input(\"range-slider\", \"value\"))\n",
    "def update_bar_chart(slider_range):\n",
    "    df_200m = px.data.iris() # replace with your own data source\n",
    "    low, high = slider_range\n",
    "    mask = (df_200m['Avg_Season_Best_200m'] > low) & (df_100m['Avg_Season_Best_200m'] < high)\n",
    "    fig = px.scatter(\n",
    "        df[mask], x=\"Avg_Season_Best_200m\", y=\"200m_PR\",\n",
    "        color=\"Country\", size='Avg Season Best 200m',\n",
    "        hover_data=['200m_PR'])\n",
    "    return fig\n",
    "\n",
    "\n",
    "app.run_server(debug=True)\n",
    "\n",
    "#fig.write_html(\"SB_200m_avg_vs_pr_scatter_dash.html\")\n",
    "#fig.write_image(\"SB_200m_avg_vs_pr_scatter_dash.svg\")"
   ]
  },
  {
   "cell_type": "code",
   "execution_count": null,
   "metadata": {
    "id": "ZviyMlfp0m4E"
   },
   "outputs": [],
   "source": [
    "# @title Career Avg 200m vs 200_PR\n",
    "\n",
    "df_200m.plot(kind='scatter', x='Career_Avg_200m', y='200_PR', s=32, alpha=.8)\n",
    "plt.gca().spines[['top', 'right',]].set_visible(False)\n",
    "\n",
    "#plt.savefig('career_avg_200__vs_pr.png', format='png', dpi=300)\n",
    "#plt.savefig('career_avg_200_vs_pr.jpg', format='jpg', dpi=300)"
   ]
  },
  {
   "cell_type": "markdown",
   "metadata": {
    "id": "t4o_FZE92Vm0"
   },
   "source": [
    "Let's look at this more in depth"
   ]
  },
  {
   "cell_type": "code",
   "execution_count": null,
   "metadata": {
    "id": "S7ZE6QVBTKYA"
   },
   "outputs": [],
   "source": [
    "plt.figure(figsize = (12,8))\n",
    "\n",
    "sns.scatterplot(data = df_200m, x = 'Career_Avg_200m', y = '200_PR',\n",
    "                hue = 'cylinders', palette = 'Blues', edgecolor = 'black'\n",
    "               )\n",
    "plt.title('Career Average 200m vs. 200m PR');"
   ]
  },
  {
   "cell_type": "code",
   "execution_count": null,
   "metadata": {
    "id": "i7VZrfIsTLUa"
   },
   "outputs": [],
   "source": [
    "quadrant_plot(df_200m['Career_Avg_200m'], df_200m['200_PR'], labels = ['Career Average 200m', '200m PR'], figsize = (12,8))"
   ]
  },
  {
   "cell_type": "code",
   "execution_count": null,
   "metadata": {
    "id": "r8KYmkC81UNk"
   },
   "outputs": [],
   "source": [
    "quadrant_plot(df_200m['Career_Avg_200m'],\n",
    "              df_200m['200_PR'],\n",
    "              labels = ['Career Average 200m', '200m PR'],\n",
    "              quadrant = 4,\n",
    "              figsize = (12,8))"
   ]
  },
  {
   "cell_type": "code",
   "execution_count": null,
   "metadata": {
    "id": "Q-2d8Yjn1UN4"
   },
   "outputs": [],
   "source": [
    "quadrant_plot(df_200m['Career_Avg_200m'],\n",
    "              df_200m['200_PR'],\n",
    "              labels = ['Career Average 200m', '200m PR'],\n",
    "              quadrant = 2,\n",
    "              figsize = (12,8))"
   ]
  },
  {
   "cell_type": "code",
   "execution_count": null,
   "metadata": {
    "id": "aU0fjAyu1UN5"
   },
   "outputs": [],
   "source": [
    "quadrant_plot(df_200m['Career_Avg_200m'],\n",
    "              df_200m['200_PR'],\n",
    "              labels = ['Career Average 200m', '200m PR'],\n",
    "              quadrant = 3,\n",
    "              figsize = (12,8))"
   ]
  },
  {
   "cell_type": "code",
   "execution_count": null,
   "metadata": {
    "id": "etSy_wC31UN5"
   },
   "outputs": [],
   "source": [
    "quadrant_plot(df_200m['Career_Avg_200m'],\n",
    "              df_200m['200_PR'],\n",
    "              labels = ['Career Average 200m', '200m PR'],\n",
    "              quadrant = 1,\n",
    "              figsize = (12,8))"
   ]
  },
  {
   "cell_type": "code",
   "execution_count": null,
   "metadata": {
    "id": "PFoKxnuI3Bgo"
   },
   "outputs": [],
   "source": [
    "half_plot(df_200m['Career_Avg_200m'], df_200m['100_PR'], labels = ['Career_Avg_200m', '200_PR'],\n",
    "          figsize = (12,8), half = 'left')"
   ]
  },
  {
   "cell_type": "code",
   "execution_count": null,
   "metadata": {
    "id": "Ry2IvR2t3Bg6"
   },
   "outputs": [],
   "source": [
    "half_plot(df_200m['Career_Avg_200m'], df_200m['200_PR'], labels = ['Career_Avg_200m', '200_PR'],\n",
    "          figsize = (12,8), half = 'right')"
   ]
  },
  {
   "cell_type": "code",
   "execution_count": null,
   "metadata": {
    "colab": {
     "base_uri": "https://localhost:8080/",
     "height": 1000
    },
    "executionInfo": {
     "elapsed": 829,
     "status": "error",
     "timestamp": 1729646481519,
     "user": {
      "displayName": "Johnny Test",
      "userId": "16509896550579327523"
     },
     "user_tz": 240
    },
    "id": "FbQXQz_fT0MA",
    "outputId": "6943ae30-a627-49c3-feed-4650af076b17"
   },
   "outputs": [],
   "source": [
    "fig, ax = plt.subplots(figsize = (12,8))\n",
    "df_200m.plot(kind = 'scatter', x = 'Career_Avg_200m', y = '200_PR', ax = ax)\n",
    "\n",
    "x = np.linspace(df_200m['Career_Avg_200m'].min(), df_200m['200_PR'].max(), 100)\n",
    "z = np.polyfit(df_200m['Career_Avg_200m'], df_200m['200_PR'], 1)\n",
    "p = np.poly1d(z)\n",
    "plt.plot(x,p(x),\"r--\")\n",
    "\n",
    "plt.title('Career Average 200m vs. 200m PR');"
   ]
  },
  {
   "cell_type": "markdown",
   "metadata": {
    "id": "wuvrPgdSmOYe"
   },
   "source": [
    "Heatmaps"
   ]
  },
  {
   "cell_type": "code",
   "execution_count": null,
   "metadata": {
    "colab": {
     "base_uri": "https://localhost:8080/",
     "height": 542
    },
    "executionInfo": {
     "elapsed": 272,
     "status": "ok",
     "timestamp": 1726452821013,
     "user": {
      "displayName": "Johnny Test",
      "userId": "16509896550579327523"
     },
     "user_tz": 240
    },
    "id": "r9WnYWOgl8Nk",
    "outputId": "0caccdae-44f6-45ea-e04e-5444d9cb9d95"
   },
   "outputs": [],
   "source": [
    "# Calculate the average 200m PR per country\n",
    "avg_200m_pr_per_country = df_200m.groupby('Country')['200_PR'].mean().reset_index()\n",
    "\n",
    "fig = px.choropleth(avg_200m_pr_per_country,\n",
    "                    locations=\"Country\",\n",
    "                    locationmode='country names',\n",
    "                    color=\"200_PR\",\n",
    "                    hover_name=\"Country\",\n",
    "                    color_continuous_scale=\"Viridis\",\n",
    "                    title=\"Average 200m Personal Records by Country (Faster = Darker)\")\n",
    "\n",
    "fig.show()\n",
    "#fig.write_html(\"avg_200m_PR_country_map.html\")\n",
    "#fig.write_image(\"avg_200m_PR_country_map.svg\")"
   ]
  },
  {
   "cell_type": "code",
   "execution_count": null,
   "metadata": {
    "colab": {
     "base_uri": "https://localhost:8080/",
     "height": 542
    },
    "executionInfo": {
     "elapsed": 279,
     "status": "ok",
     "timestamp": 1726453034762,
     "user": {
      "displayName": "Johnny Test",
      "userId": "16509896550579327523"
     },
     "user_tz": 240
    },
    "id": "FhM3-NwjmnOr",
    "outputId": "652bb7b8-0432-434e-9e82-1e86121491b0"
   },
   "outputs": [],
   "source": [
    "# Extract birth months from DOB\n",
    "sprinters['Birth Month'] = pd.DatetimeIndex(sprinters['DOB']).month\n",
    "\n",
    "# Find the most common birth month for sprinters in each country\n",
    "common_birth_month = sprinters.groupby('Country')['Birth Month'].agg(lambda x: x.value_counts().index[0]).reset_index()\n",
    "\n",
    "fig = px.choropleth(common_birth_month,\n",
    "                    locations=\"Country\",\n",
    "                    locationmode='country names',\n",
    "                    color=\"Birth Month\",\n",
    "                    hover_name=\"Country\",\n",
    "                    title=\"Most Common Birth Month for Sprinters by Country\")\n",
    "\n",
    "fig.show()\n",
    "#fig.write_html(\"birth_month_distribution_country_map.html\")\n",
    "#fig.write_image(\"birth_month_distribution_country_map.svg\")"
   ]
  },
  {
   "cell_type": "code",
   "execution_count": null,
   "metadata": {
    "colab": {
     "base_uri": "https://localhost:8080/",
     "height": 542
    },
    "executionInfo": {
     "elapsed": 539,
     "status": "ok",
     "timestamp": 1726453350060,
     "user": {
      "displayName": "Johnny Test",
      "userId": "16509896550579327523"
     },
     "user_tz": 240
    },
    "id": "KhrJCa6Foh8i",
    "outputId": "c6c2b786-dc5a-487b-8b73-9433831272cd"
   },
   "outputs": [],
   "source": [
    "# Extract the birth year and decade\n",
    "sprinters['Birth Year'] = pd.DatetimeIndex(sprinters['DOB']).year\n",
    "sprinters['Decade'] = (sprinters['Birth Year'] // 10) * 10\n",
    "\n",
    "# Calculate the average 100m PR by country and decade\n",
    "avg_200m_per_decade = sprinters.groupby(['Country', 'Decade'])['200_PR'].mean().reset_index()\n",
    "\n",
    "fig = px.choropleth(avg_200m_per_decade,\n",
    "                    locations=\"Country\",\n",
    "                    locationmode='country names',\n",
    "                    color=\"200_PR\",\n",
    "                    animation_frame=\"Decade\",  # Animate through decades\n",
    "                    hover_name=\"Country\",\n",
    "                    color_continuous_scale=\"Viridis\",\n",
    "                    title=\"Average 200m Personal Records by Decade\")\n",
    "\n",
    "fig.show()\n",
    "#fig.write_html(\"200m_sprinter_performance_by_decade_country_map.html\")\n",
    "#fig.write_image(\"200m_sprinter_performance_by_decade_country_map.svg\")"
   ]
  },
  {
   "cell_type": "markdown",
   "metadata": {
    "id": "Uyk0OoIvfOfd"
   },
   "source": [
    "# ***Statistical Analysis 200m***"
   ]
  },
  {
   "cell_type": "code",
   "execution_count": null,
   "metadata": {
    "executionInfo": {
     "elapsed": 339,
     "status": "ok",
     "timestamp": 1729646497608,
     "user": {
      "displayName": "Johnny Test",
      "userId": "16509896550579327523"
     },
     "user_tz": 240
    },
    "id": "ZKQA3I0jSsUx"
   },
   "outputs": [],
   "source": [
    "from scipy.stats import zscore\n",
    "from sklearn.linear_model import LinearRegression"
   ]
  },
  {
   "cell_type": "markdown",
   "metadata": {
    "id": "E5DS4V3JfOf0"
   },
   "source": [
    "Linear Regression"
   ]
  },
  {
   "cell_type": "code",
   "execution_count": null,
   "metadata": {
    "colab": {
     "base_uri": "https://localhost:8080/",
     "height": 460
    },
    "executionInfo": {
     "elapsed": 241,
     "status": "error",
     "timestamp": 1729646499333,
     "user": {
      "displayName": "Johnny Test",
      "userId": "16509896550579327523"
     },
     "user_tz": 240
    },
    "id": "6zmUUmirfOf0",
    "outputId": "16759d48-8950-45b7-9ea3-1a9167f57086"
   },
   "outputs": [],
   "source": [
    "# Function to calculate standard deviation (consistency)\n",
    "df_200m['consistency'] = df_200m['Avg_Season_Best_200m']  # Placeholder: You could replace with actual std per year data if available\n",
    "\n",
    "### 1. Regression Analysis ###\n",
    "# Linear regression: relationship between average_time and years_competed\n",
    "X = df_200m[['Years_Competed_200m','200_PR']]\n",
    "y = df_200m['Avg_Season_Best_200m']\n",
    "\n",
    "# Fit model\n",
    "model = LinearRegression()\n",
    "model.fit(X, y)\n",
    "\n",
    "# Predictions and residuals\n",
    "df_200m['predicted_time'] = model.predict(X)\n",
    "df_200m['residuals'] = df_200m['Avg_Season_Best_200m'] - df_200m['predicted_time']\n",
    "\n",
    "print(\"Regression coefficients (slope):\", model.coef_)\n",
    "print(\"Intercept:\", model.intercept_)\n"
   ]
  },
  {
   "cell_type": "markdown",
   "metadata": {
    "id": "U2L1HKpkfOf1"
   },
   "source": [
    "Z-Score Standardization"
   ]
  },
  {
   "cell_type": "code",
   "execution_count": null,
   "metadata": {
    "executionInfo": {
     "elapsed": 158,
     "status": "ok",
     "timestamp": 1729646683374,
     "user": {
      "displayName": "Johnny Test",
      "userId": "16509896550579327523"
     },
     "user_tz": 240
    },
    "id": "oMHTcUyHfOf1"
   },
   "outputs": [],
   "source": [
    "# Z-score for average_time and years_competed\n",
    "df_200m['z_time'] = zscore(df_200m['Avg_Season_Best_200m'])\n",
    "df_200m['z_years'] = zscore(df_200m['Years_Competed_200m'])\n",
    "df_200m['z_PR'] = zscore(df_200m['200_PR'])\n",
    "df_200m['z_career_avg_season'] = zscore(df_200m['Career_Avg_200m'])\n",
    "df_200m['z_total_races'] = zscore(df_200m['total_races_200m'])\n",
    "df_200m['z_races_per_year'] = zscore(df_200m['Avg_Races_Year_200m'])\n",
    "\n",
    "# Z-score comparison (combine time and years)\n",
    "df_200m['z_combined'] = (df_200m['z_time'] + df_200m['z_years'] + df_200m['z_PR']+ df_200m['z_career_avg_season'] + df_200m['z_total_races'] + df_200m['z_races_per_year']) / 6"
   ]
  },
  {
   "cell_type": "markdown",
   "metadata": {
    "id": "qNuZcNwjfOf1"
   },
   "source": [
    "Efficiency / Ratio Analysis"
   ]
  },
  {
   "cell_type": "code",
   "execution_count": null,
   "metadata": {
    "colab": {
     "base_uri": "https://localhost:8080/",
     "height": 547
    },
    "executionInfo": {
     "elapsed": 165,
     "status": "error",
     "timestamp": 1729646694408,
     "user": {
      "displayName": "Johnny Test",
      "userId": "16509896550579327523"
     },
     "user_tz": 240
    },
    "id": "ONGXuMGmfOf1",
    "outputId": "e8ef8c2e-448d-428c-b01e-bb09bed693c2"
   },
   "outputs": [],
   "source": [
    "# Efficiency score (average_time per year competed)\n",
    "df_200m['efficiency_score'] = df_200m['Avg Season Best 200m'] / df_200m['Years_Competed_200m']\n",
    "\n",
    "# Efficiency score: How close the sprinter's average season best to their personal best\n",
    "df_200m['efficiency_score_pr'] = df_200m['200_PR'] / df_200m['Avg_Season_Best_200m']\n",
    "\n",
    "# Efficiency score: How close the sprinter's average is to their personal best\n",
    "df_200m['efficiency_score_pr'] = df_200m['100_PR'] / df_200m['Career_Avg_100m']"
   ]
  },
  {
   "cell_type": "markdown",
   "metadata": {
    "id": "5oUrOtr7fOf2"
   },
   "source": [
    "Ranking System"
   ]
  },
  {
   "cell_type": "code",
   "execution_count": null,
   "metadata": {
    "id": "mgUMl6c7fOf2"
   },
   "outputs": [],
   "source": [
    "# Combine rankings based on average_time, consistency, and longevity (years_competed)\n",
    "df_200m['rank_personal_best'] = df_200m['100_PR'].rank(ascending=True)  # Lower personal best is better\n",
    "df_200m['rank_average_sb'] = df_200m['Avg_Season_Best_200m'].rank(ascending=True)  # Lower is better\n",
    "df_200m['rank_career_avg'] = df['Career_Avg_200m'].rank(ascending=True)\n",
    "#df_200m['rank_consistency'] = df_200m['consistency'].rank(ascending=True)  # Lower std dev is better\n",
    "df_200m['rank_consistency'] = df_200m['consistency'].abs().rank(ascending=True) # Lower residuals (consistency) is better\n",
    "df_200m['rank_years_competed'] = df_200m['Years_Competed_200m'].rank(ascending=False)  # Longer careers are better\n",
    "df_200m['rank_total_races'] = df_200m['total_races_200m'].rank(ascending=False)  # More races is better\n",
    "df_200m['rank_races_per_year'] = df_200m['races_per_year_200m'].rank(ascending=False)  # More races per year is better\n",
    "\n",
    "#Final ranking\n",
    "df_200m['final_rank'] = df_200m[['rank_personal_best','rank_average_sb', 'rank_career_avg',  'rank_consistency', 'rank_years_competed','rank_total_races','rank_races_per_year']].mean(axis=1)"
   ]
  },
  {
   "cell_type": "markdown",
   "metadata": {
    "id": "wkgpH0PxfOf2"
   },
   "source": [
    "Scatter Plot Visualization"
   ]
  },
  {
   "cell_type": "code",
   "execution_count": null,
   "metadata": {
    "id": "Ce75IufofOf3"
   },
   "outputs": [],
   "source": [
    "plt.figure(figsize=(10, 6))\n",
    "sns.scatterplot(x='Years_Competed_200m', y='Avg_Season_Best_200m', data=df_200m, s=100, hue='final_rank', palette='coolwarm')\n",
    "plt.title('Years Competed vs. Career Average 200m Time')\n",
    "plt.xlabel('Years Competed')\n",
    "plt.ylabel('Average 200m Time (s)')\n",
    "plt.show()\n",
    "\n",
    "#plt.savefig('SB_avg_200_vs_yrs_competed_ranked.png', format='png', dpi=300)\n",
    "#plt.savefig('SB_avg_200_vs_yrs_competed_ranked.jpg', format='jpg', dpi=300)"
   ]
  },
  {
   "cell_type": "code",
   "execution_count": null,
   "metadata": {
    "id": "w_4v0XIV6gSP"
   },
   "outputs": [],
   "source": [
    "plt.figure(figsize=(10, 6))\n",
    "sns.scatterplot(x='Years_Competed_200m', y='Career_Avg_200m', data=df_200m, s=100, hue='final_rank', palette='coolwarm')\n",
    "plt.title('Years Competed vs. Career Average 200m Time')\n",
    "plt.xlabel('Years Competed')\n",
    "plt.ylabel('Career Average 200m Time (s)')\n",
    "plt.show()\n",
    "\n",
    "#plt.savefig('Career_avg_200_vs_yrs_competed_ranked.png', format='png', dpi=300)\n",
    "#plt.savefig('Career_avg_200_vs_yrs_competed_ranked.jpg', format='jpg', dpi=300)"
   ]
  },
  {
   "cell_type": "code",
   "execution_count": null,
   "metadata": {
    "id": "3b0Nk2Y67wh9"
   },
   "outputs": [],
   "source": [
    "plt.figure(figsize=(10, 6))\n",
    "sns.scatterplot(x='Years_Competed_200m', y='200_PR', data=df_200m, s=100, hue='final_rank', palette='coolwarm')\n",
    "plt.title('Years Competed vs. 200m PR')\n",
    "plt.xlabel('Years Competed')\n",
    "plt.ylabel('200m PR (s)')\n",
    "plt.show()\n",
    "\n",
    "#plt.savefig('200_PR_vs_yrs_competed_ranked.png', format='png', dpi=300)\n",
    "#plt.savefig('200m_PR_vs_yrs_competed_ranked.jpg', format='jpg', dpi=300)"
   ]
  },
  {
   "cell_type": "markdown",
   "metadata": {
    "id": "ZM-PlKCAfOf3"
   },
   "source": [
    "Interactive Scatter Plot"
   ]
  },
  {
   "cell_type": "code",
   "execution_count": null,
   "metadata": {
    "id": "Pr8tFHFufOf3"
   },
   "outputs": [],
   "source": [
    "# @title Years Competed vs. Career Average 200m Time\n",
    "\n",
    "df_200m = px.data.iris()\n",
    "fig = px.scatter(df_200m, x=\"Years_Competed_200m\", y=\"Avg_Season_Best_200m\", color=\"final_rank\",\n",
    "                 size='Years_Competed_200m', hover_data=['Avg_Season_Best_200m']) #Potentially switch out career average for personal record regarding hover data.\n",
    "fig.show()\n",
    "\n",
    "#fig.write_html(\"avg_200_vs_yrs_competed_ranked.html\")\n",
    "#fig.write_image(\"avg_200_vs_yrs_competed_ranked.svg\")"
   ]
  },
  {
   "cell_type": "code",
   "execution_count": null,
   "metadata": {
    "id": "MG00C14c69Tt"
   },
   "outputs": [],
   "source": [
    "# @title Years Competed vs. Career Average 200m Time\n",
    "\n",
    "df_200m = px.data.iris()\n",
    "fig = px.scatter(df_200m, x=\"Years_Competed_200m\", y=\"Career_Avg_200m\", color=\"final_rank\",\n",
    "                 size='Years_Competed_200m', hover_data=['Career_Avg_200m']) #Potentially switch out career average for personal record regarding hover data.\n",
    "fig.show()\n",
    "\n",
    "#fig.write_html(\"Career_avg_200_vs_yrs_competed_ranked.html\")\n",
    "#fig.write_image(\"Career_avg_200_vs_yrs_competed_ranked.svg\")"
   ]
  },
  {
   "cell_type": "code",
   "execution_count": null,
   "metadata": {
    "id": "JPT0jFGL7Q0P"
   },
   "outputs": [],
   "source": [
    "# @title Years Competed vs. 200m PR\n",
    "\n",
    "df_200m = px.data.iris()\n",
    "fig = px.scatter(df_200m, x=\"Years_Competed_200m\", y=\"200_PR\", color=\"final_rank\",\n",
    "                 size='Years_Competed_200m', hover_data=['200_PR'])\n",
    "fig.show()\n",
    "\n",
    "#fig.write_html(\"200m_PR_vs_yrs_competed_ranked.html\")\n",
    "#fig.write_image(\"200m_PR_vs_yrs_competed_ranked.svg\")"
   ]
  },
  {
   "cell_type": "code",
   "execution_count": null,
   "metadata": {
    "id": "9NwlE2fIfOf3"
   },
   "outputs": [],
   "source": [
    "print(df_200m[['Athlete', 'Avg_Season_Best_200m', 'Years_Competed_200m','200_PR', 'residuals', 'z_combined', 'efficiency_score','efficiency_score_sb', 'efficiency_score_pr' 'final_rank']])"
   ]
  },
  {
   "cell_type": "code",
   "execution_count": null,
   "metadata": {
    "id": "8C1mGe9ufOf4"
   },
   "outputs": [],
   "source": [
    "df_200m_stat_analysis = df_200m[['Athlete', 'Avg_Season_Best_200m', 'Years_Competed_200m',' 200_PR', 'residuals', 'z_combined', 'efficiency_score','efficiency_score_sb', 'efficiency_score_pr' 'final_rank']]"
   ]
  },
  {
   "cell_type": "code",
   "execution_count": null,
   "metadata": {
    "id": "At_uIIMcfOf4"
   },
   "outputs": [],
   "source": [
    "df_200m_stat_analysis = df_200m_stat_analysis.sort_values(by='final_rank')\n",
    "df_200m_stat_analysis.head(3)"
   ]
  },
  {
   "cell_type": "code",
   "execution_count": null,
   "metadata": {
    "id": "Ar0qiwsAfOf4"
   },
   "outputs": [],
   "source": [
    "#What sample size of the dataframe to we want to make into a figure factory table\n",
    "df_200m_stat_analysis_sample = df_200m_stat_analysis[1:10]\n",
    "\n",
    "#Cusomize Colors (Add colorscale=colorscale in parentheses of ff.create table)\n",
    "#colorscale = [[0, '#4d004c'],[.5, '#f2e5ff'],[1, '#ffffff']]\n",
    "#Cusomize Font Colors (Add font_colors=font in parentheses of ff.create table)\n",
    "#font=['#FCFCFC', '#00EE00', '#008B00', '#004F00', '#660000', '#CD0000', '#FF3030']\n",
    "\n",
    "table_data = df_200m_stat_analysis\n",
    "\n",
    "\n",
    "fig =  ff.create_table(df_200m_stat_analysis_sample)\n",
    "fig.show()\n",
    "\n",
    "#fig.write_html(\"df_200m_stat_analysis_sample_ff.html\")\n",
    "#fig.write_image(\"df_200m_stat_analysis_sample_ff.svg\")\n"
   ]
  },
  {
   "cell_type": "code",
   "execution_count": null,
   "metadata": {
    "id": "_F4RC4u4fOf4"
   },
   "outputs": [],
   "source": [
    "fig =  ff.create_table(df_200m_stat_analysis)\n",
    "fig.show()\n",
    "\n",
    "#fig.write_html(\"df_200m_stat_analysis_ff.html\")\n",
    "#fig.write_image(\"df_200m_stat_analysis_ff.svg\")"
   ]
  },
  {
   "cell_type": "code",
   "execution_count": null,
   "metadata": {
    "id": "LtLE5UbCfOf5"
   },
   "outputs": [],
   "source": [
    "fig =  ff.create_table(df_200m)\n",
    "fig.show()\n",
    "\n",
    "#fig.write_html(\"df_200m_ff.html\")\n",
    "#fig.write_image(\"df_200m_ff.svg\")"
   ]
  },
  {
   "cell_type": "code",
   "execution_count": null,
   "metadata": {
    "id": "cpJUCssifOf5"
   },
   "outputs": [],
   "source": [
    "df_200m_stat_analysis = pd.DataFrame(df_200m_stat_analysis)"
   ]
  },
  {
   "cell_type": "code",
   "execution_count": null,
   "metadata": {
    "id": "7D00U-XKI0JI"
   },
   "outputs": [],
   "source": [
    "df_200m = pd.DataFrame(df_200m)"
   ]
  },
  {
   "cell_type": "markdown",
   "metadata": {
    "id": "GcOy5is8zNLT"
   },
   "source": [
    "# **Analysis of Personal Best Data (PB/PR)**"
   ]
  },
  {
   "cell_type": "code",
   "execution_count": null,
   "metadata": {
    "colab": {
     "base_uri": "https://localhost:8080/",
     "height": 141
    },
    "executionInfo": {
     "elapsed": 23,
     "status": "error",
     "timestamp": 1723675265923,
     "user": {
      "displayName": "Johnny Test",
      "userId": "16509896550579327523"
     },
     "user_tz": 240
    },
    "id": "yjLnIPaaB8_M",
    "outputId": "de59986e-b480-4209-a89c-86392ee28332"
   },
   "outputs": [],
   "source": [
    "sprinters['200_PR'].mean()"
   ]
  },
  {
   "cell_type": "code",
   "execution_count": null,
   "metadata": {
    "id": "HY3Z_4smB9VH"
   },
   "outputs": [],
   "source": [
    "sprinters['200_PR'].median()"
   ]
  },
  {
   "cell_type": "code",
   "execution_count": null,
   "metadata": {
    "id": "klpWE7F6B9hG"
   },
   "outputs": [],
   "source": [
    "sprinters['200_PR'].max()"
   ]
  },
  {
   "cell_type": "code",
   "execution_count": null,
   "metadata": {
    "id": "dHK8RyCLB9rG"
   },
   "outputs": [],
   "source": [
    "sprinters.nlargest(1,'200_PR')"
   ]
  },
  {
   "cell_type": "code",
   "execution_count": null,
   "metadata": {
    "id": "AsxX2Uh_B92p"
   },
   "outputs": [],
   "source": [
    "sprinters.nsmallest(1,'200_PR')"
   ]
  },
  {
   "cell_type": "code",
   "execution_count": null,
   "metadata": {
    "id": "KiN_zSDzB-EE"
   },
   "outputs": [],
   "source": [
    "sprinters['200_PR'].max()- sprinters['200_PR'].min()\n"
   ]
  },
  {
   "cell_type": "markdown",
   "metadata": {
    "id": "a9SflrD4DHpj"
   },
   "source": [
    "Variance and Standard Devivation\n"
   ]
  },
  {
   "cell_type": "code",
   "execution_count": null,
   "metadata": {
    "id": "wf8OUQC7Daij"
   },
   "outputs": [],
   "source": [
    "sprinters['200_PR_deviation'] = sprinters['200_PR'] - sprinters['200_PR'].mean()\n",
    "sprinters.head()"
   ]
  },
  {
   "cell_type": "code",
   "execution_count": null,
   "metadata": {
    "id": "yoTVyMZiDas-"
   },
   "outputs": [],
   "source": [
    "sprinters['200_PR'].std()\n"
   ]
  },
  {
   "cell_type": "code",
   "execution_count": null,
   "metadata": {
    "id": "8yYAtdweDa0g"
   },
   "outputs": [],
   "source": [
    "sprinters['200_PR_deviation'].mean()\n"
   ]
  },
  {
   "cell_type": "code",
   "execution_count": null,
   "metadata": {
    "id": "NKhDeZ1pDbF7"
   },
   "outputs": [],
   "source": [
    "sprinters['squared_200_PR_deviation'] = sprinters['200_PR_deviation']**2\n",
    "sprinters"
   ]
  },
  {
   "cell_type": "markdown",
   "metadata": {
    "id": "qnzAnD9zD-Hq"
   },
   "source": [
    "Population Standard Deviation\n",
    "\n"
   ]
  },
  {
   "cell_type": "code",
   "execution_count": null,
   "metadata": {
    "id": "XGRZSWJfECL1"
   },
   "outputs": [],
   "source": [
    "np.sqrt(sprinters['squared_200_PR_deviation'].mean())"
   ]
  },
  {
   "cell_type": "code",
   "execution_count": null,
   "metadata": {
    "id": "LRXab83OECbh"
   },
   "outputs": [],
   "source": [
    "sprinters['200_PR'].var(ddof = 0)\n"
   ]
  },
  {
   "cell_type": "code",
   "execution_count": null,
   "metadata": {
    "id": "fJ2ap6lHECjc"
   },
   "outputs": [],
   "source": [
    "sprinters['200_PR'].std(ddof = 0)\n"
   ]
  },
  {
   "cell_type": "code",
   "execution_count": null,
   "metadata": {
    "id": "NzFQdZ_zECrK"
   },
   "outputs": [],
   "source": [
    "plt.figure(figsize = (10,6))\n",
    "\n",
    "std_plot(sprinters['200_PR'], edgecolor = 'black', linewidth = 2)"
   ]
  },
  {
   "cell_type": "markdown",
   "metadata": {
    "id": "pPNMzEoqFH_6"
   },
   "source": [
    "z-scores"
   ]
  },
  {
   "cell_type": "code",
   "execution_count": null,
   "metadata": {
    "id": "_Gr_VaA_FIjI"
   },
   "outputs": [],
   "source": [
    "sprinters['200_PR_z-score'] = (sprinters['200_PR'] - sprinters['200_PR'].mean()) / sprinters['200_PR'].std(ddof = 0)\n"
   ]
  },
  {
   "cell_type": "code",
   "execution_count": null,
   "metadata": {
    "id": "NARN2qniFIwh"
   },
   "outputs": [],
   "source": [
    "sprinters['200_PR_z-score'].std()\n"
   ]
  },
  {
   "cell_type": "markdown",
   "metadata": {
    "id": "Jl3g82k5GhE4"
   },
   "source": [
    "Let's look at height z-scores for Usain Bolt"
   ]
  },
  {
   "cell_type": "code",
   "execution_count": null,
   "metadata": {
    "id": "Gyoyx7rTGUnv"
   },
   "outputs": [],
   "source": [
    "sprinters.loc[(sprinters.Athlete == 'Usain Bolt')]\n"
   ]
  },
  {
   "cell_type": "markdown",
   "metadata": {
    "id": "lY4PjiLuHCRF"
   },
   "source": [
    "Quartiles and Quantiles/Percentiles\n"
   ]
  },
  {
   "cell_type": "code",
   "execution_count": null,
   "metadata": {
    "id": "o7cxCO2kFI6h"
   },
   "outputs": [],
   "source": [
    "sprinters['200_PR'].quantile(q = 0.25)\n"
   ]
  },
  {
   "cell_type": "code",
   "execution_count": null,
   "metadata": {
    "id": "3WdEN6mYFJEn"
   },
   "outputs": [],
   "source": [
    "sprinters['200_PR'].quantile(q = 0.5)\n"
   ]
  },
  {
   "cell_type": "code",
   "execution_count": null,
   "metadata": {
    "id": "fD7crYnqHNhq"
   },
   "outputs": [],
   "source": [
    "sprinters['200_PR'].quantile(q = 0.75)\n"
   ]
  },
  {
   "cell_type": "code",
   "execution_count": null,
   "metadata": {
    "id": "Z_4vGiWJHPoz"
   },
   "outputs": [],
   "source": [
    "sprinters['200_PR'].describe()\n"
   ]
  },
  {
   "cell_type": "markdown",
   "metadata": {
    "id": "zNZMhujvHhNH"
   },
   "source": [
    "Interquartile Range\n",
    "\n"
   ]
  },
  {
   "cell_type": "code",
   "execution_count": null,
   "metadata": {
    "id": "5lfWw53AHkrA"
   },
   "outputs": [],
   "source": [
    "sprinters['200_PR'].quantile(q = 0.75) - sprinters['200_PR'].quantile(q = 0.25)\n"
   ]
  },
  {
   "cell_type": "code",
   "execution_count": null,
   "metadata": {
    "id": "SiLcJWbpHk5p"
   },
   "outputs": [],
   "source": [
    "plt.figure(figsize = (10,6))\n",
    "\n",
    "iqr_plot(sprinters['200_PR'], bins = 25, edgecolor = 'black', linewidth = 2)"
   ]
  },
  {
   "cell_type": "markdown",
   "metadata": {
    "id": "TRDIwwNOHlZg"
   },
   "source": [
    "Observing Outliers in the Dataset\n",
    "\n"
   ]
  },
  {
   "cell_type": "code",
   "execution_count": null,
   "metadata": {
    "id": "sgAuB4GuHoh6"
   },
   "outputs": [],
   "source": [
    "plt.figure(figsize = (10,6))\n",
    "sns.boxplot(x = sprinters['200_PR']);"
   ]
  },
  {
   "cell_type": "markdown",
   "metadata": {
    "id": "Enwi65b6qZO9"
   },
   "source": [
    "# **Analysis of Season Best Data**"
   ]
  },
  {
   "cell_type": "code",
   "execution_count": null,
   "metadata": {
    "id": "S-kiMkLLrHgu"
   },
   "outputs": [],
   "source": [
    "SB_200m = sprinters_df2[sprinters_df2['Event'] == '200m']"
   ]
  },
  {
   "cell_type": "code",
   "execution_count": null,
   "metadata": {
    "colab": {
     "base_uri": "https://localhost:8080/",
     "height": 141
    },
    "executionInfo": {
     "elapsed": 23,
     "status": "error",
     "timestamp": 1723675265923,
     "user": {
      "displayName": "Johnny Test",
      "userId": "16509896550579327523"
     },
     "user_tz": 240
    },
    "id": "yl6KiETtWaRC",
    "outputId": "de59986e-b480-4209-a89c-86392ee28332"
   },
   "outputs": [],
   "source": [
    "SB_200m['Time'].mean()"
   ]
  },
  {
   "cell_type": "code",
   "execution_count": null,
   "metadata": {
    "id": "qysK_BqTWaRD"
   },
   "outputs": [],
   "source": [
    "SB_200m['Time'].median()"
   ]
  },
  {
   "cell_type": "code",
   "execution_count": null,
   "metadata": {
    "id": "YQoPbAFHWaRE"
   },
   "outputs": [],
   "source": [
    "SB_200m['Time'].max()"
   ]
  },
  {
   "cell_type": "code",
   "execution_count": null,
   "metadata": {
    "id": "xSghXMsJWaRF"
   },
   "outputs": [],
   "source": [
    "SB_200m.nlargest(1,'Time')"
   ]
  },
  {
   "cell_type": "code",
   "execution_count": null,
   "metadata": {
    "id": "WDbnHR5hWaRF"
   },
   "outputs": [],
   "source": [
    "SB_200m.nsmallest(1,'Time')"
   ]
  },
  {
   "cell_type": "code",
   "execution_count": null,
   "metadata": {
    "id": "WT2Wa1TvWaRG"
   },
   "outputs": [],
   "source": [
    "SB_200m['Time'].max()- SB_200m['Time'].min()\n"
   ]
  },
  {
   "cell_type": "markdown",
   "metadata": {
    "id": "ev4ytB-AWaRH"
   },
   "source": [
    "Variance and Standard Devivation\n"
   ]
  },
  {
   "cell_type": "code",
   "execution_count": null,
   "metadata": {
    "id": "JePGaIiIWaRI"
   },
   "outputs": [],
   "source": [
    "SB_200m['200m_SB_deviation'] = SB_200m['Time'] - SB_200m['Time'].mean()\n",
    "SB_100m.head()"
   ]
  },
  {
   "cell_type": "code",
   "execution_count": null,
   "metadata": {
    "id": "eumfOoWzWaRI"
   },
   "outputs": [],
   "source": [
    "SB_200m['Time'].std()\n"
   ]
  },
  {
   "cell_type": "code",
   "execution_count": null,
   "metadata": {
    "id": "C2ozI7BrWaRJ"
   },
   "outputs": [],
   "source": [
    "SB_200m['200m_SB_deviation'].mean()\n"
   ]
  },
  {
   "cell_type": "code",
   "execution_count": null,
   "metadata": {
    "id": "D2gdxQ5TWaRK"
   },
   "outputs": [],
   "source": [
    "SB_200m['squared_200m_SB_deviation'] = SB_200m['200m_SB_deviation']**2\n",
    "SB_200m"
   ]
  },
  {
   "cell_type": "markdown",
   "metadata": {
    "id": "nk4-b46pWaRK"
   },
   "source": [
    "Population Standard Deviation\n",
    "\n"
   ]
  },
  {
   "cell_type": "code",
   "execution_count": null,
   "metadata": {
    "id": "9-DH0hwnWaRL"
   },
   "outputs": [],
   "source": [
    "np.sqrt(SB_200m['squared_200m_SB_deviation'].mean())"
   ]
  },
  {
   "cell_type": "code",
   "execution_count": null,
   "metadata": {
    "id": "OTVfut23WaRL"
   },
   "outputs": [],
   "source": [
    "SB_200m['Time'].var(ddof = 0)\n"
   ]
  },
  {
   "cell_type": "code",
   "execution_count": null,
   "metadata": {
    "id": "z3qmgInNWaRM"
   },
   "outputs": [],
   "source": [
    "SB_200m['Time'].std(ddof = 0)\n"
   ]
  },
  {
   "cell_type": "code",
   "execution_count": null,
   "metadata": {
    "id": "9FtLIHkyWaRN"
   },
   "outputs": [],
   "source": [
    "plt.figure(figsize = (10,6))\n",
    "\n",
    "std_plot(SB_200m['Time'], edgecolor = 'black', linewidth = 2)"
   ]
  },
  {
   "cell_type": "markdown",
   "metadata": {
    "id": "Qv7cLR-5WaRN"
   },
   "source": [
    "z-scores"
   ]
  },
  {
   "cell_type": "code",
   "execution_count": null,
   "metadata": {
    "id": "cbYwbyfUWaRO"
   },
   "outputs": [],
   "source": [
    "SB_200m['200m_SB_z-score'] = (SB_200m['Time'] - SB_200m['Time'].mean()) / SB_200m['Time'].std(ddof = 0)\n"
   ]
  },
  {
   "cell_type": "code",
   "execution_count": null,
   "metadata": {
    "id": "qYIPuTP2WaRP"
   },
   "outputs": [],
   "source": [
    "SB_200m['200m_SB_z-score'].std()\n"
   ]
  },
  {
   "cell_type": "markdown",
   "metadata": {
    "id": "aE3Ot4l_WaRQ"
   },
   "source": [
    "Let's look at height z-scores for Usain Bolt"
   ]
  },
  {
   "cell_type": "code",
   "execution_count": null,
   "metadata": {
    "id": "HANTR1zSWaRQ"
   },
   "outputs": [],
   "source": [
    "SB_200m.loc[(SB_200m.Athlete == 'Usain Bolt')]\n"
   ]
  },
  {
   "cell_type": "markdown",
   "metadata": {
    "id": "fNanKWWXWaRR"
   },
   "source": [
    "Quartiles and Quantiles/Percentiles\n"
   ]
  },
  {
   "cell_type": "code",
   "execution_count": null,
   "metadata": {
    "id": "Aw7aZ863WaRS"
   },
   "outputs": [],
   "source": [
    "SB_200m['Time'].quantile(q = 0.25)\n"
   ]
  },
  {
   "cell_type": "code",
   "execution_count": null,
   "metadata": {
    "id": "kSX4XVO1WaRT"
   },
   "outputs": [],
   "source": [
    "SB_200m['Time'].quantile(q = 0.5)\n"
   ]
  },
  {
   "cell_type": "code",
   "execution_count": null,
   "metadata": {
    "id": "TdyUNBP6WaRT"
   },
   "outputs": [],
   "source": [
    "SB_200m['Time'].quantile(q = 0.75)\n"
   ]
  },
  {
   "cell_type": "code",
   "execution_count": null,
   "metadata": {
    "id": "lpHW3FQxWaRU"
   },
   "outputs": [],
   "source": [
    "SB_200m['Time'].describe()\n"
   ]
  },
  {
   "cell_type": "markdown",
   "metadata": {
    "id": "-wgSYtz4WaRU"
   },
   "source": [
    "Interquartile Range\n",
    "\n"
   ]
  },
  {
   "cell_type": "code",
   "execution_count": null,
   "metadata": {
    "id": "aWIu0jilWaRV"
   },
   "outputs": [],
   "source": [
    "SB_200m['Time'].quantile(q = 0.75) - SB_200m['Time'].quantile(q = 0.25)\n"
   ]
  },
  {
   "cell_type": "code",
   "execution_count": null,
   "metadata": {
    "id": "MI1h5N8yWaRV"
   },
   "outputs": [],
   "source": [
    "plt.figure(figsize = (10,6))\n",
    "\n",
    "iqr_plot(SB_200m['Time'], bins = 25, edgecolor = 'black', linewidth = 2)"
   ]
  },
  {
   "cell_type": "markdown",
   "metadata": {
    "id": "GPrHub2LWaRV"
   },
   "source": [
    "Observing Outliers in the Dataset\n",
    "\n"
   ]
  },
  {
   "cell_type": "code",
   "execution_count": null,
   "metadata": {
    "id": "_cd6gW8CWaRW"
   },
   "outputs": [],
   "source": [
    "plt.figure(figsize = (10,6))\n",
    "sns.boxplot(x = SB_200m['Time']);"
   ]
  },
  {
   "cell_type": "markdown",
   "metadata": {
    "id": "_m2Qy5yE8T9k"
   },
   "source": [
    "**Statisical Tests**"
   ]
  },
  {
   "cell_type": "markdown",
   "metadata": {
    "id": "aIO5k27h8iQp"
   },
   "source": [
    "*ANOVA test comparing event times across athletes*"
   ]
  },
  {
   "cell_type": "markdown",
   "metadata": {
    "id": "Rjcl__wY8y5y"
   },
   "source": [
    "This test will check if there are statistically significant differences in the average times for different athletes in a specific event.\n",
    "\n",
    "It will identify whether the differences in mean times between athletes are greater than would be expected by random chance."
   ]
  },
  {
   "cell_type": "markdown",
   "metadata": {
    "id": "odrywZwQ9sEm"
   },
   "source": [
    "200m ANOVA"
   ]
  },
  {
   "cell_type": "code",
   "execution_count": null,
   "metadata": {
    "id": "2xt9yMlr8VFl"
   },
   "outputs": [],
   "source": [
    "# Create a list of times for each athlete\n",
    "athlete_SB_times_200 = [group['Time'].values for name, group in SB_200m.groupby('Athlete')]\n",
    "\n",
    "# Run one-way ANOVA\n",
    "f_stat, p_val = stats.f_oneway(*athlete_times_200)\n",
    "print(f\"ANOVA result: F-statistic = {f_stat}, p-value = {p_val}\")\n"
   ]
  },
  {
   "cell_type": "markdown",
   "metadata": {
    "id": "tP2IjeMiBFJD"
   },
   "source": [
    "*T-test - Compare Two Athletes' Performances*\n",
    "\n"
   ]
  },
  {
   "cell_type": "markdown",
   "metadata": {
    "id": "duVXjd8EC6th"
   },
   "source": [
    "We will use the T-test to T-test to compare the performance of two athletes in a particular event. This will assess if the difference between the two athletes' performance is statistically significant."
   ]
  },
  {
   "cell_type": "markdown",
   "metadata": {
    "id": "gyRUOwM9BImm"
   },
   "source": [
    "200m T-test"
   ]
  },
  {
   "cell_type": "code",
   "execution_count": null,
   "metadata": {
    "id": "P003hQjWBFox"
   },
   "outputs": [],
   "source": [
    "# Filter data for two specific athletes in the 100m event\n",
    "athlete_200_SB_a = sprinters_df2[(sprinters_df2['Athlete'] == 'Athlete A') & (sprinters_df2['Event'] == '200m')]['Time']\n",
    "athlete_200_SB_b = sprinters_df2[(sprinters_df2['Athlete'] == 'Athlete B') & (sprinters_df2['Event'] == '200m')]['Time']\n",
    "\n",
    "# Run independent t-test\n",
    "t_stat, p_val = stats.ttest_ind(athlete_200_SB_a, athlete_200_SB_b)\n",
    "print(f\"T-test result: T-statistic = {t_stat}, p-value = {p_val}\")\n"
   ]
  },
  {
   "cell_type": "markdown",
   "metadata": {
    "id": "POGCnc80Efvv"
   },
   "source": [
    "*Correlation Analysis – Time vs. Year for a Specific Event*"
   ]
  },
  {
   "cell_type": "markdown",
   "metadata": {
    "id": "1SLoBO5MEhRN"
   },
   "source": [
    "This will allow us to explore whether there's a trend in athletes' performance over time by checking the correlation between Year and Time in different events."
   ]
  },
  {
   "cell_type": "markdown",
   "metadata": {
    "id": "9HhxghhxE1rr"
   },
   "source": [
    "200m Correlation Analysis"
   ]
  },
  {
   "cell_type": "code",
   "execution_count": null,
   "metadata": {
    "id": "dKgBZR56EgHw"
   },
   "outputs": [],
   "source": [
    "correlation_200_SB = SB_200m['Year'].corr(SB_200m['Time'])\n",
    "print(f\"Correlation between Year and Time (200m): {correlation}\")\n"
   ]
  },
  {
   "cell_type": "markdown",
   "metadata": {
    "id": "26HEaix7SGEX"
   },
   "source": [
    "*Time Series Analysis – Track Athlete Performance Over Time*"
   ]
  },
  {
   "cell_type": "markdown",
   "metadata": {
    "id": "8zUD6tOVSGVI"
   },
   "source": [
    "Let's perform time series analysis to track an individual athlete’s performance. This will allow us to detect patterns, trends, or seasonal effects in an athlete's performance over time."
   ]
  },
  {
   "cell_type": "code",
   "execution_count": null,
   "metadata": {
    "id": "rijzbHBrSInG"
   },
   "outputs": [],
   "source": [
    "# Filter data for one athlete\n",
    "athlete_data_SB = sprinters_df2[sprinters_df2['Athlete'] == 'Athlete A'].sort_values(by='Year')\n",
    "\n",
    "# Calculate the rolling average (moving average) for the time over 3 events\n",
    "athlete_data_SB['Moving_Avg'] = athlete_data_SB['Time'].rolling(window=3).mean()\n",
    "\n",
    "# Plot the moving average\n",
    "athlete_data_SB[['Year', 'Moving_Avg']].plot(x='Year', y='Moving_Avg')\n"
   ]
  },
  {
   "cell_type": "markdown",
   "metadata": {
    "id": "xvLE1JozDYgc"
   },
   "source": [
    "*Linear Regression – Predict Time Based on Year and Other Variables*\n",
    "\n"
   ]
  },
  {
   "cell_type": "markdown",
   "metadata": {
    "id": "sUOl7w--Dac4"
   },
   "source": [
    "We can use linear regression to predict race times based on year, athlete, location, or other factors. This can help us model how times change over time or in different conditions."
   ]
  },
  {
   "cell_type": "markdown",
   "metadata": {
    "id": "Xa_b-ZbitSme"
   },
   "source": [
    "*Linear Regression 200m*"
   ]
  },
  {
   "cell_type": "code",
   "execution_count": null,
   "metadata": {
    "id": "4iTImHE5DdoD"
   },
   "outputs": [],
   "source": [
    "# Prepare the data (for example, predicting time in the 200m event)\n",
    "event_data_SB = sprinters_df2[sprinters_df2['Event'] == '200m']\n",
    "X = event_data_SB[['Year']]  # You can add other features such as 'Location', 'Athlete'\n",
    "y = event_data_SB['Time']\n",
    "\n",
    "# Fit the linear regression model\n",
    "model = LinearRegression()\n",
    "model.fit(X, y)\n",
    "\n",
    "# Print the coefficients and intercept\n",
    "print(f\"Coefficient: {model.coef_}, Intercept: {model.intercept_}\")\n"
   ]
  },
  {
   "cell_type": "markdown",
   "metadata": {
    "id": "yinHHZNF4Dpy"
   },
   "source": [
    "Logistic Regression Model"
   ]
  },
  {
   "cell_type": "code",
   "execution_count": null,
   "metadata": {
    "id": "ML4A98ps4Dp-"
   },
   "outputs": [],
   "source": [
    "logreg = sm.logit('Year ~ Time', data = event_data_SB).fit()"
   ]
  },
  {
   "cell_type": "code",
   "execution_count": null,
   "metadata": {
    "id": "d-cZ1HWo4Dp-"
   },
   "outputs": [],
   "source": [
    "logreg.summary()"
   ]
  },
  {
   "cell_type": "code",
   "execution_count": null,
   "metadata": {
    "id": "zMc3XMtK4Dp-"
   },
   "outputs": [],
   "source": [
    "logreg.predict(event_data_SB)"
   ]
  },
  {
   "cell_type": "markdown",
   "metadata": {
    "id": "rHdD0bTp4Dp_"
   },
   "source": [
    "Logistic Regression Interference"
   ]
  },
  {
   "cell_type": "code",
   "execution_count": null,
   "metadata": {
    "id": "4Lo3U2hf4Dp_"
   },
   "outputs": [],
   "source": [
    "logreg_full = sm.logit('Year ~ Time + Insert_Column_Here', data = event_data_SB).fit()\n",
    "logreg_reduced = sm.logit('Year ~ Time', data = event_data_SB).fit()"
   ]
  },
  {
   "cell_type": "code",
   "execution_count": null,
   "metadata": {
    "id": "tm-JWX_O4Dp_"
   },
   "outputs": [],
   "source": [
    "logreg_full.llf"
   ]
  },
  {
   "cell_type": "code",
   "execution_count": null,
   "metadata": {
    "id": "BL0jTOJl4DqA"
   },
   "outputs": [],
   "source": [
    "logreg_reduced.llf"
   ]
  },
  {
   "cell_type": "code",
   "execution_count": null,
   "metadata": {
    "id": "qNIzDi2R4DqA"
   },
   "outputs": [],
   "source": [
    "G2 = -2 * (logreg_reduced.llf - logreg_full.llf)\n",
    "G2"
   ]
  },
  {
   "cell_type": "markdown",
   "metadata": {
    "id": "jd8IvPFI4DqA"
   },
   "source": [
    "Chi Squared Distribution"
   ]
  },
  {
   "cell_type": "code",
   "execution_count": null,
   "metadata": {
    "id": "VIcQiLD34DqA"
   },
   "outputs": [],
   "source": [
    "df = logreg_full.df_model - logreg_reduced.df_model"
   ]
  },
  {
   "cell_type": "code",
   "execution_count": null,
   "metadata": {
    "id": "2wu3uGRX4DqB"
   },
   "outputs": [],
   "source": [
    "chi2.sf(G2, df = df)"
   ]
  },
  {
   "cell_type": "markdown",
   "metadata": {
    "id": "C8ZmrRQs4DqB"
   },
   "source": [
    "Let's consense the logistic regression interference and chi-squared distribution into one cell."
   ]
  },
  {
   "cell_type": "code",
   "execution_count": null,
   "metadata": {
    "id": "Ihrb6KI94DqB"
   },
   "outputs": [],
   "source": [
    "logreg_full = sm.logit('Year ~ Time + Insert_Column_Here', data = event_data_SB).fit()\n",
    "logreg_reduced = sm.logit('Year ~ Time', data = event_data_SB).fit()\n",
    "\n",
    "G2 = -2 * (logreg_reduced.llf - logreg_full.llf)\n",
    "df = logreg_full.df_model - logreg_reduced.df_model\n",
    "print(f'p-value: {chi2.sf(G2, df = df)}')"
   ]
  },
  {
   "cell_type": "markdown",
   "metadata": {
    "id": "drjnzCyx4DqC"
   },
   "source": [
    "Generating Predictions"
   ]
  },
  {
   "cell_type": "markdown",
   "metadata": {
    "id": "cw5Ga7Bc4DqC"
   },
   "source": [
    "We'll stratify to ensure that the proportion of the stratify variable is the same in the training data and in the test data."
   ]
  },
  {
   "cell_type": "code",
   "execution_count": null,
   "metadata": {
    "id": "4nd7o73Y4DqC"
   },
   "outputs": [],
   "source": [
    "SB_train, SB_test = train_test_split(event_data_SB, test_size = 0.25, stratify = event_data_CD['Year'], random_state = 321)"
   ]
  },
  {
   "cell_type": "markdown",
   "metadata": {
    "id": "St-rgLRV4DqC"
   },
   "source": [
    "We'll fit a model using several of our predictor variables."
   ]
  },
  {
   "cell_type": "code",
   "execution_count": null,
   "metadata": {
    "id": "3jDL3a0j4DqD"
   },
   "outputs": [],
   "source": [
    "logreg_pred = sm.logit('Year ~ Time + Insert + Columns + Here + In + These + Blank + Spaces + Check + Dataframe',\n",
    "                       data = event_data_SB).fit()"
   ]
  },
  {
   "cell_type": "code",
   "execution_count": null,
   "metadata": {
    "id": "VItBL5yE4DqD"
   },
   "outputs": [],
   "source": [
    "y_pred = logreg_pred.predict(CD_test) > 0.5"
   ]
  },
  {
   "cell_type": "markdown",
   "metadata": {
    "id": "KlfOMzmp4DqD"
   },
   "source": [
    "Let's see how well the predicted values matche up to the true labels."
   ]
  },
  {
   "cell_type": "code",
   "execution_count": null,
   "metadata": {
    "id": "-Fg7wvLB4DqE"
   },
   "outputs": [],
   "source": [
    "pd.crosstab(SB_test['Year'], y_pred)"
   ]
  },
  {
   "cell_type": "code",
   "execution_count": null,
   "metadata": {
    "id": "QoXK9ywM4DqE"
   },
   "outputs": [],
   "source": [
    "cm_analysis(SB_test['Year'], y_pred, labels = [0, 1], figsize = (7,6))"
   ]
  },
  {
   "cell_type": "markdown",
   "metadata": {
    "id": "k6FIgKVRHsob"
   },
   "source": [
    "Visualizations"
   ]
  },
  {
   "cell_type": "code",
   "execution_count": null,
   "metadata": {
    "id": "oBnQI9TLHsos"
   },
   "outputs": [],
   "source": [
    "SB_200m['Time'].hist();"
   ]
  },
  {
   "cell_type": "code",
   "execution_count": null,
   "metadata": {
    "id": "n6Y6RL99Hsot"
   },
   "outputs": [],
   "source": [
    "probplot(SB_200m['Time'], plot=plt);"
   ]
  },
  {
   "cell_type": "code",
   "execution_count": null,
   "metadata": {
    "id": "_ZoyK_qkHsot"
   },
   "outputs": [],
   "source": [
    "plt.figure(figsize = (10,6))\n",
    "\n",
    "std_plot(SB_200m['Time'], edgecolor = 'black', linewidth = 2)"
   ]
  },
  {
   "cell_type": "code",
   "execution_count": null,
   "metadata": {
    "id": "P2AFdOScHsou"
   },
   "outputs": [],
   "source": [
    "plt.figure(figsize = (10,6))\n",
    "\n",
    "iqr_plot(SB_200m['Time'], bins = 25, edgecolor = 'black', linewidth = 2)"
   ]
  },
  {
   "cell_type": "code",
   "execution_count": null,
   "metadata": {
    "id": "lN2nwULmHsou"
   },
   "outputs": [],
   "source": [
    "plt.figure(figsize = (10,6))\n",
    "sns.boxplot(x = SB_200m['Time']);"
   ]
  },
  {
   "cell_type": "markdown",
   "metadata": {
    "id": "E65CzLiZqpad"
   },
   "source": [
    "# **Analysis of Career Data**"
   ]
  },
  {
   "cell_type": "code",
   "execution_count": null,
   "metadata": {
    "id": "sVlubkcArPfu"
   },
   "outputs": [],
   "source": [
    "CD_200m = sprinters_df3[sprinters_df3['Event'] == '100m']"
   ]
  },
  {
   "cell_type": "code",
   "execution_count": null,
   "metadata": {
    "colab": {
     "base_uri": "https://localhost:8080/",
     "height": 141
    },
    "executionInfo": {
     "elapsed": 23,
     "status": "error",
     "timestamp": 1723675265923,
     "user": {
      "displayName": "Johnny Test",
      "userId": "16509896550579327523"
     },
     "user_tz": 240
    },
    "id": "mWDB0U4PsarG",
    "outputId": "de59986e-b480-4209-a89c-86392ee28332"
   },
   "outputs": [],
   "source": [
    "CD_200m['Time'].mean()"
   ]
  },
  {
   "cell_type": "code",
   "execution_count": null,
   "metadata": {
    "id": "Rf88lwfrsarI"
   },
   "outputs": [],
   "source": [
    "CD_200m['Time'].median()"
   ]
  },
  {
   "cell_type": "code",
   "execution_count": null,
   "metadata": {
    "id": "H0twRuDdsarI"
   },
   "outputs": [],
   "source": [
    "CD_200m['Time'].max()"
   ]
  },
  {
   "cell_type": "code",
   "execution_count": null,
   "metadata": {
    "id": "M_DN17tvsarJ"
   },
   "outputs": [],
   "source": [
    "CD_200m.nlargest(1,'Time')"
   ]
  },
  {
   "cell_type": "code",
   "execution_count": null,
   "metadata": {
    "id": "Gi6jeeNKsarJ"
   },
   "outputs": [],
   "source": [
    "CD_200m.nsmallest(1,'Time')"
   ]
  },
  {
   "cell_type": "code",
   "execution_count": null,
   "metadata": {
    "id": "pkRlJfQisarK"
   },
   "outputs": [],
   "source": [
    "CD_200m['Time'].max()- CD_200m['Time'].min()\n"
   ]
  },
  {
   "cell_type": "markdown",
   "metadata": {
    "id": "uCexHWoasarK"
   },
   "source": [
    "Variance and Standard Devivation\n"
   ]
  },
  {
   "cell_type": "code",
   "execution_count": null,
   "metadata": {
    "id": "KQ4B56DtsarL"
   },
   "outputs": [],
   "source": [
    "CD_200m['200m_CD_deviation'] = CD_200m['Time'] - CD_200m['Time'].mean()\n",
    "CD_200m.head()"
   ]
  },
  {
   "cell_type": "code",
   "execution_count": null,
   "metadata": {
    "id": "NSOvSdBqsarL"
   },
   "outputs": [],
   "source": [
    "CD_200m['Time'].std()\n"
   ]
  },
  {
   "cell_type": "code",
   "execution_count": null,
   "metadata": {
    "id": "qsmkMPowsarM"
   },
   "outputs": [],
   "source": [
    "CD_200m['200m_CD_deviation'].mean()\n"
   ]
  },
  {
   "cell_type": "code",
   "execution_count": null,
   "metadata": {
    "id": "iH56szTPsarM"
   },
   "outputs": [],
   "source": [
    "CD_200m['squared_200m_CD_deviation'] = CD_200m['200m_CD_deviation']**2\n",
    "CD_200m"
   ]
  },
  {
   "cell_type": "markdown",
   "metadata": {
    "id": "d-_nRRy0sarN"
   },
   "source": [
    "Population Standard Deviation\n",
    "\n"
   ]
  },
  {
   "cell_type": "code",
   "execution_count": null,
   "metadata": {
    "id": "QTg2tbxAsarO"
   },
   "outputs": [],
   "source": [
    "np.sqrt(CD_200m['squared_200m_CD_deviation'].mean())"
   ]
  },
  {
   "cell_type": "code",
   "execution_count": null,
   "metadata": {
    "id": "rEuYNGAOsarO"
   },
   "outputs": [],
   "source": [
    "CD_200m['Time'].var(ddof = 0)\n"
   ]
  },
  {
   "cell_type": "code",
   "execution_count": null,
   "metadata": {
    "id": "HBv64Uq-sarP"
   },
   "outputs": [],
   "source": [
    "CD_200m['Time'].std(ddof = 0)\n"
   ]
  },
  {
   "cell_type": "code",
   "execution_count": null,
   "metadata": {
    "id": "UW9Uj9c4sarP"
   },
   "outputs": [],
   "source": [
    "plt.figure(figsize = (10,6))\n",
    "\n",
    "std_plot(CD_200m['Time'], edgecolor = 'black', linewidth = 2)"
   ]
  },
  {
   "cell_type": "markdown",
   "metadata": {
    "id": "HZeyP763sarQ"
   },
   "source": [
    "z-scores"
   ]
  },
  {
   "cell_type": "code",
   "execution_count": null,
   "metadata": {
    "id": "beujEu0tsarR"
   },
   "outputs": [],
   "source": [
    "CD_200m['200m_CD_z-score'] = (CD_200m['Time'] - CD_200m['Time'].mean()) / CD_200m['Time'].std(ddof = 0)\n"
   ]
  },
  {
   "cell_type": "code",
   "execution_count": null,
   "metadata": {
    "id": "xOr6bGsysarR"
   },
   "outputs": [],
   "source": [
    "CD_200m['200m_CD_z-score'].std()\n"
   ]
  },
  {
   "cell_type": "markdown",
   "metadata": {
    "id": "scHzMfKOsarS"
   },
   "source": [
    "Let's look at height z-scores for Usain Bolt"
   ]
  },
  {
   "cell_type": "code",
   "execution_count": null,
   "metadata": {
    "id": "YjZORGIdsarS"
   },
   "outputs": [],
   "source": [
    "CD_200m.loc[(CD_200m.Athlete == 'Usain Bolt')]\n"
   ]
  },
  {
   "cell_type": "markdown",
   "metadata": {
    "id": "B9B_Au2nsarT"
   },
   "source": [
    "Quartiles and Quantiles/Percentiles\n"
   ]
  },
  {
   "cell_type": "code",
   "execution_count": null,
   "metadata": {
    "id": "6eFMWjYpsarT"
   },
   "outputs": [],
   "source": [
    "CD_200m['Time'].quantile(q = 0.25)\n"
   ]
  },
  {
   "cell_type": "code",
   "execution_count": null,
   "metadata": {
    "id": "Ucbyp5wQsarU"
   },
   "outputs": [],
   "source": [
    "CD_200m['Time'].quantile(q = 0.5)\n"
   ]
  },
  {
   "cell_type": "code",
   "execution_count": null,
   "metadata": {
    "id": "T7CPyF5gsarU"
   },
   "outputs": [],
   "source": [
    "CD_200m['Time'].quantile(q = 0.75)\n"
   ]
  },
  {
   "cell_type": "code",
   "execution_count": null,
   "metadata": {
    "id": "RuIF2_dSsarV"
   },
   "outputs": [],
   "source": [
    "CD_200m['Time'].describe()\n"
   ]
  },
  {
   "cell_type": "markdown",
   "metadata": {
    "id": "xQ0cxL_VsarV"
   },
   "source": [
    "Interquartile Range\n",
    "\n"
   ]
  },
  {
   "cell_type": "code",
   "execution_count": null,
   "metadata": {
    "id": "evf9zvESsarW"
   },
   "outputs": [],
   "source": [
    "CD_200m['Time'].quantile(q = 0.75) - CD_200m['Time'].quantile(q = 0.25)\n"
   ]
  },
  {
   "cell_type": "code",
   "execution_count": null,
   "metadata": {
    "id": "ON7PT_3QsarW"
   },
   "outputs": [],
   "source": [
    "plt.figure(figsize = (10,6))\n",
    "\n",
    "iqr_plot(CD_200m['Time'], bins = 25, edgecolor = 'black', linewidth = 2)"
   ]
  },
  {
   "cell_type": "markdown",
   "metadata": {
    "id": "apLqJTM3sarX"
   },
   "source": [
    "Observing Outliers in the Dataset\n",
    "\n"
   ]
  },
  {
   "cell_type": "code",
   "execution_count": null,
   "metadata": {
    "id": "Rukb5jeIsarX"
   },
   "outputs": [],
   "source": [
    "plt.figure(figsize = (10,6))\n",
    "sns.boxplot(x = CD_200m['Time']);"
   ]
  },
  {
   "cell_type": "markdown",
   "metadata": {
    "id": "5uPO3L-kG1KJ"
   },
   "source": [
    "Visualizations"
   ]
  },
  {
   "cell_type": "code",
   "execution_count": null,
   "metadata": {
    "id": "bGVp8COnG6tv"
   },
   "outputs": [],
   "source": [
    "CD_200m['Time'].hist();"
   ]
  },
  {
   "cell_type": "code",
   "execution_count": null,
   "metadata": {
    "id": "zOIl5Bk0G6uG"
   },
   "outputs": [],
   "source": [
    "probplot(CD_200m['Time'], plot=plt);"
   ]
  },
  {
   "cell_type": "code",
   "execution_count": null,
   "metadata": {
    "id": "Omv5krECG6uG"
   },
   "outputs": [],
   "source": [
    "plt.figure(figsize = (10,6))\n",
    "\n",
    "std_plot(CD_200m['Time'], edgecolor = 'black', linewidth = 2)"
   ]
  },
  {
   "cell_type": "code",
   "execution_count": null,
   "metadata": {
    "id": "TWPnTMsJG6uH"
   },
   "outputs": [],
   "source": [
    "plt.figure(figsize = (10,6))\n",
    "\n",
    "iqr_plot(CD_200m['Time'], bins = 25, edgecolor = 'black', linewidth = 2)"
   ]
  },
  {
   "cell_type": "code",
   "execution_count": null,
   "metadata": {
    "id": "h_26Of9mG6uI"
   },
   "outputs": [],
   "source": [
    "plt.figure(figsize = (10,6))\n",
    "sns.boxplot(x = CD_200m['Time']);"
   ]
  },
  {
   "cell_type": "markdown",
   "metadata": {
    "id": "I86jeHGMwQp-"
   },
   "source": [
    "**Statisical Tests**"
   ]
  },
  {
   "cell_type": "markdown",
   "metadata": {
    "id": "oxYrjP22wQqA"
   },
   "source": [
    "200m ANOVA"
   ]
  },
  {
   "cell_type": "code",
   "execution_count": null,
   "metadata": {
    "id": "Gcz3yVP3wQqA"
   },
   "outputs": [],
   "source": [
    "# Create a list of times for each athlete\n",
    "athlete_SB_times_200 = [group['Time'].values for name, group in CD_200m.groupby('Athlete')]\n",
    "\n",
    "# Run one-way ANOVA\n",
    "f_stat, p_val = stats.f_oneway(*athlete_times_200)\n",
    "print(f\"ANOVA result: F-statistic = {f_stat}, p-value = {p_val}\")\n"
   ]
  },
  {
   "cell_type": "markdown",
   "metadata": {
    "id": "FfyODYv9xIMz"
   },
   "source": [
    "200m T-test"
   ]
  },
  {
   "cell_type": "code",
   "execution_count": null,
   "metadata": {
    "id": "L0bmhBWnxIM1"
   },
   "outputs": [],
   "source": [
    "# Filter data for two specific athletes in the 200m event\n",
    "athlete_200_CD_a = sprinters_df3[(sprinters_df3['Athlete'] == 'Athlete A') & (sprinters_df3['Event'] == '200m')]['Time']\n",
    "athlete_200_CD_b = sprinters_df3[(sprinters_df3['Athlete'] == 'Athlete B') & (sprinters_df3['Event'] == '200m')]['Time']\n",
    "\n",
    "# Run independent t-test\n",
    "t_stat, p_val = stats.ttest_ind(athlete_200_CD_a, athlete_200_CD_b)\n",
    "print(f\"T-test result: T-statistic = {t_stat}, p-value = {p_val}\")\n"
   ]
  },
  {
   "cell_type": "markdown",
   "metadata": {
    "id": "jfqE17jUySc3"
   },
   "source": [
    "200m Correlation Analysis"
   ]
  },
  {
   "cell_type": "code",
   "execution_count": null,
   "metadata": {
    "id": "ZWh_KWFBySc5"
   },
   "outputs": [],
   "source": [
    "correlation_200_CD = SB_200m['Year'].corr(CD_200m['Time'])\n",
    "print(f\"Correlation between Year and Time (200m): {correlation}\")\n"
   ]
  },
  {
   "cell_type": "markdown",
   "metadata": {
    "id": "dHOphrhnzpM3"
   },
   "source": [
    "*Time Series Analysis – Track Athlete Performance Over Time*"
   ]
  },
  {
   "cell_type": "code",
   "execution_count": null,
   "metadata": {
    "id": "MyIc0z00zpM3"
   },
   "outputs": [],
   "source": [
    "# Filter data for one athlete\n",
    "athlete_data_CD = sprinters_df3[sprinters_df3['Athlete'] == 'Athlete A'].sort_values(by='Year')\n",
    "\n",
    "# Calculate the rolling average (moving average) for the time over 3 events\n",
    "athlete_data_CD['Moving_Avg'] = athlete_data_CD['Time'].rolling(window=3).mean()\n",
    "\n",
    "# Plot the moving average\n",
    "athlete_data_CD[['Year', 'Moving_Avg']].plot(x='Year', y='Moving_Avg')\n"
   ]
  },
  {
   "cell_type": "markdown",
   "metadata": {
    "id": "c_0lbzRPzpM4"
   },
   "source": [
    "*Linear Regression – Predict Time Based on Year and Other Variables*\n",
    "\n"
   ]
  },
  {
   "cell_type": "markdown",
   "metadata": {
    "id": "LcxubUuvzpM4"
   },
   "source": [
    "*Linear Regression 200m*"
   ]
  },
  {
   "cell_type": "code",
   "execution_count": null,
   "metadata": {
    "id": "4s-FfKkvzpM4"
   },
   "outputs": [],
   "source": [
    "# Prepare the data (for example, predicting time in the 100m event)\n",
    "event_data_CD = sprinters_df3[sprinters_df3['Event'] == '200m']\n",
    "X = event_data_CD[['Year']]  # You can add other features such as 'Location', 'Athlete'\n",
    "y = event_data_CD['Time']\n",
    "\n",
    "# Fit the linear regression model\n",
    "model = LinearRegression()\n",
    "model.fit(X, y)\n",
    "\n",
    "# Print the coefficients and intercept\n",
    "print(f\"Coefficient: {model.coef_}, Intercept: {model.intercept_}\")\n"
   ]
  },
  {
   "cell_type": "markdown",
   "metadata": {
    "id": "0GZakJK60hcK"
   },
   "source": [
    "Logistic Regression Model"
   ]
  },
  {
   "cell_type": "code",
   "execution_count": null,
   "metadata": {
    "id": "23K1WHH7HYXm"
   },
   "outputs": [],
   "source": [
    "logreg = sm.logit('Year ~ Time', data = event_data_CD).fit()"
   ]
  },
  {
   "cell_type": "code",
   "execution_count": null,
   "metadata": {
    "id": "fnKpMKZ2Hpuy"
   },
   "outputs": [],
   "source": [
    "logreg.summary()"
   ]
  },
  {
   "cell_type": "code",
   "execution_count": null,
   "metadata": {
    "id": "1XRMC-GXIRfP"
   },
   "outputs": [],
   "source": [
    "logreg.predict(event_data_CD)"
   ]
  },
  {
   "cell_type": "markdown",
   "metadata": {
    "id": "GpEWGigEIShI"
   },
   "source": [
    "Logistic Regression Interference"
   ]
  },
  {
   "cell_type": "code",
   "execution_count": null,
   "metadata": {
    "id": "BhrMLr6lIS_p"
   },
   "outputs": [],
   "source": [
    "logreg_full = sm.logit('Year ~ Time + Insert_Column_Here', data = event_data_CD).fit()\n",
    "logreg_reduced = sm.logit('Year ~ Time', data = event_data_CD).fit()"
   ]
  },
  {
   "cell_type": "code",
   "execution_count": null,
   "metadata": {
    "id": "QfAgQGg2ITNY"
   },
   "outputs": [],
   "source": [
    "logreg_full.llf"
   ]
  },
  {
   "cell_type": "code",
   "execution_count": null,
   "metadata": {
    "id": "N2DBdHtgIkFj"
   },
   "outputs": [],
   "source": [
    "logreg_reduced.llf"
   ]
  },
  {
   "cell_type": "code",
   "execution_count": null,
   "metadata": {
    "id": "92UyeIffIrqW"
   },
   "outputs": [],
   "source": [
    "G2 = -2 * (logreg_reduced.llf - logreg_full.llf)\n",
    "G2"
   ]
  },
  {
   "cell_type": "markdown",
   "metadata": {
    "id": "-3_wzRGcJvFa"
   },
   "source": [
    "Chi Squared Distribution"
   ]
  },
  {
   "cell_type": "code",
   "execution_count": null,
   "metadata": {
    "id": "9zjIpHtfJtMU"
   },
   "outputs": [],
   "source": [
    "df2 = logreg_full.df_model - logreg_reduced.df_model"
   ]
  },
  {
   "cell_type": "code",
   "execution_count": null,
   "metadata": {
    "id": "nf5cT7HeJzhY"
   },
   "outputs": [],
   "source": [
    "chi2.sf(G2, df2 = df2)"
   ]
  },
  {
   "cell_type": "markdown",
   "metadata": {
    "id": "ZyWZ8gEYJ-UG"
   },
   "source": [
    "Let's consense the logistic regression interference and chi-squared distribution into one cell."
   ]
  },
  {
   "cell_type": "code",
   "execution_count": null,
   "metadata": {
    "id": "PSUYk0j5Jztf"
   },
   "outputs": [],
   "source": [
    "logreg_full = sm.logit('Year ~ Time + Insert_Column_Here', data = event_data_CD).fit()\n",
    "logreg_reduced = sm.logit('Year ~ Time', data = event_data_CD).fit()\n",
    "\n",
    "G2 = -2 * (logreg_reduced.llf - logreg_full.llf)\n",
    "df2 = logreg_full.df_model - logreg_reduced.df_model\n",
    "print(f'p-value: {chi2.sf(G2, df2 = df2)}')"
   ]
  },
  {
   "cell_type": "markdown",
   "metadata": {
    "id": "FZouiXHSKaAL"
   },
   "source": [
    "Generating Predictions"
   ]
  },
  {
   "cell_type": "markdown",
   "metadata": {
    "id": "piHuwvTTLBfL"
   },
   "source": [
    "We'll stratify to ensure that the proportion of the stratify variable is the same in the training data and in the test data."
   ]
  },
  {
   "cell_type": "code",
   "execution_count": null,
   "metadata": {
    "id": "wMcB_n86Jz6N"
   },
   "outputs": [],
   "source": [
    "CD_train, CD_test = train_test_split(event_data_CD, test_size = 0.25, stratify = event_data_CD['Year'], random_state = 321)"
   ]
  },
  {
   "cell_type": "markdown",
   "metadata": {
    "id": "xNVFOo9xLOyE"
   },
   "source": [
    "We'll fit a model using several of our predictor variables."
   ]
  },
  {
   "cell_type": "code",
   "execution_count": null,
   "metadata": {
    "id": "kh7YQDD8KkbR"
   },
   "outputs": [],
   "source": [
    "logreg_pred = sm.logit('Year ~ Time + Insert + Columns + Here + In + These + Blank + Spaces + Check + Dataframe',\n",
    "                       data = event_data_CD).fit()"
   ]
  },
  {
   "cell_type": "code",
   "execution_count": null,
   "metadata": {
    "id": "xonWKoBbKohl"
   },
   "outputs": [],
   "source": [
    "y_pred = logreg_pred.predict(CD_test) > 0.5"
   ]
  },
  {
   "cell_type": "markdown",
   "metadata": {
    "id": "-BkFaVygK3Ag"
   },
   "source": [
    "Let's see how well the predicted values matche up to the true labels."
   ]
  },
  {
   "cell_type": "code",
   "execution_count": null,
   "metadata": {
    "id": "a0SZgfRlKsmR"
   },
   "outputs": [],
   "source": [
    "pd.crosstab(CD_test['Year'], y_pred)"
   ]
  },
  {
   "cell_type": "code",
   "execution_count": null,
   "metadata": {
    "id": "5Rvly0ZCLSDx"
   },
   "outputs": [],
   "source": [
    "cm_analysis(CD_test['Year'], y_pred, labels = [0, 1], figsize = (7,6))"
   ]
  },
  {
   "cell_type": "markdown",
   "metadata": {
    "id": "pBU4V1Y4FpAh"
   },
   "source": [
    "**Update these and place them where necessary (If necessary)**"
   ]
  },
  {
   "cell_type": "markdown",
   "metadata": {
    "id": "5QWnllIVQA2U"
   },
   "source": [
    "Single Linear Regrssion"
   ]
  },
  {
   "cell_type": "code",
   "execution_count": null,
   "metadata": {
    "id": "0Qg4LJjiQDa-"
   },
   "outputs": [],
   "source": [
    "lr = sm.ols(\n",
    "    formula = 'Insert_variable_1 ~ Insert_variable_2',\n",
    "    data = possum\n",
    ").fit()"
   ]
  },
  {
   "cell_type": "code",
   "execution_count": null,
   "metadata": {
    "id": "L6vgqYsRQDov"
   },
   "outputs": [],
   "source": [
    "lr.summary()"
   ]
  },
  {
   "cell_type": "code",
   "execution_count": null,
   "metadata": {
    "id": "Z_OP8v3kQDyk"
   },
   "outputs": [],
   "source": [
    "x_pred = pd.DataFrame({'Insert_variable_2': np.linspace(start = possum['Insert_variable_2'].min(),\n",
    "                                             stop = possum['Insert_variable_2'].max(),\n",
    "                                             num = 250)\n",
    "                      })\n",
    "\n",
    "pred = lr.predict(x_pred)\n",
    "\n",
    "possum.plot(\n",
    "    kind = 'scatter',\n",
    "    x = 'Insert_variable_2',\n",
    "    y = 'Insert_variable_1',\n",
    "    figsize = (10,6)\n",
    ")\n",
    "\n",
    "plt.plot(x_pred['Insert_variable_2'], pred, color = 'black');"
   ]
  },
  {
   "cell_type": "code",
   "execution_count": null,
   "metadata": {
    "id": "I6kCBj9zQN4e"
   },
   "outputs": [],
   "source": [
    "lr.rsquared"
   ]
  },
  {
   "cell_type": "markdown",
   "metadata": {
    "id": "xlAyWrBeQg8R"
   },
   "source": [
    "Let's verify that this is the correct $R^2$ value."
   ]
  },
  {
   "cell_type": "markdown",
   "metadata": {
    "id": "ZR2aNF4tQ7s4"
   },
   "source": [
    "To compute TSS, we need to look at the difference between the target values and the average value of the target variable."
   ]
  },
  {
   "cell_type": "code",
   "execution_count": null,
   "metadata": {
    "id": "DtJEzvolQOCH"
   },
   "outputs": [],
   "source": [
    "tss = ((possum['Insert_variable_1'] - possum['Insert_variable_1'].mean())**2).sum()"
   ]
  },
  {
   "cell_type": "markdown",
   "metadata": {
    "id": "Gr8kGFXSQ9iX"
   },
   "source": [
    "For RSS, we need to consider the difference between the target and the predicted value."
   ]
  },
  {
   "cell_type": "code",
   "execution_count": null,
   "metadata": {
    "id": "mY7QTX9_RHBl"
   },
   "outputs": [],
   "source": [
    "rss = ((possum['Insert_variable_1'] - lr.fittedvalues)**2).sum()"
   ]
  },
  {
   "cell_type": "markdown",
   "metadata": {
    "id": "vtbyaQR2RHQF"
   },
   "source": [
    "Now, we can verify that we get the same result"
   ]
  },
  {
   "cell_type": "code",
   "execution_count": null,
   "metadata": {
    "id": "y4pWER4vRHkI"
   },
   "outputs": [],
   "source": [
    "(tss - rss) / tss"
   ]
  },
  {
   "cell_type": "code",
   "execution_count": null,
   "metadata": {
    "id": "3orIQlICRrBK"
   },
   "outputs": [],
   "source": [
    "lr.pvalues['Insert_variable_2']"
   ]
  },
  {
   "cell_type": "code",
   "execution_count": null,
   "metadata": {
    "id": "mJeiDLXNRvI0"
   },
   "outputs": [],
   "source": [
    "lr.conf_int(0.05)"
   ]
  },
  {
   "cell_type": "code",
   "execution_count": null,
   "metadata": {
    "id": "rXMIp1_XRxMR"
   },
   "outputs": [],
   "source": [
    "possum['Insert_variable_2'].describe()"
   ]
  },
  {
   "cell_type": "markdown",
   "metadata": {
    "id": "KNATawNiShXS"
   },
   "source": [
    "Predictions using the linear regression model"
   ]
  },
  {
   "cell_type": "code",
   "execution_count": null,
   "metadata": {
    "id": "Seu7aPQhR1Yx"
   },
   "outputs": [],
   "source": [
    "lr.predict(pd.DataFrame({'Insert_variable_2': [91]})) #Enter time in Square brackets"
   ]
  },
  {
   "cell_type": "code",
   "execution_count": null,
   "metadata": {
    "id": "7CgqjDh0R-ay"
   },
   "outputs": [],
   "source": [
    "lr.get_prediction(pd.DataFrame({'Insert_variable_2': [91]})).conf_int()"
   ]
  },
  {
   "cell_type": "markdown",
   "metadata": {
    "id": "-CyaGC4XSxLG"
   },
   "source": [
    "To get a prediction interval, which tells us what we can expect for a new observation, we can specify obs = True."
   ]
  },
  {
   "cell_type": "code",
   "execution_count": null,
   "metadata": {
    "id": "GR0-CLkeR-qB"
   },
   "outputs": [],
   "source": [
    "lr.get_prediction(pd.DataFrame({'Insert_variablel_2': [91]})).conf_int(obs = True)"
   ]
  },
  {
   "cell_type": "markdown",
   "metadata": {
    "id": "LVPR6mWeSMcq"
   },
   "source": [
    "Let's get all these predictions in a summary frame method"
   ]
  },
  {
   "cell_type": "code",
   "execution_count": null,
   "metadata": {
    "id": "dqjNmTJUSRak"
   },
   "outputs": [],
   "source": [
    "lr.get_prediction(pd.DataFrame({'Insert_variable_2': [91]})).summary_frame()"
   ]
  },
  {
   "cell_type": "markdown",
   "metadata": {
    "id": "isGWiGvKOW-9"
   },
   "source": [
    "Multi-Linear Regression Models"
   ]
  },
  {
   "cell_type": "code",
   "execution_count": null,
   "metadata": {
    "id": "OVo0-IGaLbu1"
   },
   "outputs": [],
   "source": [
    "lr_reduced = sm.ols('Insert_variable_1 ~ Insert_variable_2', data = possum).fit()\n",
    "lr_full = sm.ols('Insert_variable_1 ~ Insert_variable_2 + Insert_variable_3', data = possum).fit()"
   ]
  },
  {
   "cell_type": "code",
   "execution_count": null,
   "metadata": {
    "id": "JC3bsaXBOejp"
   },
   "outputs": [],
   "source": [
    "stats.stats.anova_lm(lr_reduced, lr_full)"
   ]
  },
  {
   "cell_type": "markdown",
   "metadata": {
    "id": "iLI-u9DOO3jX"
   },
   "source": [
    "Interactions in the multi-linear regression model"
   ]
  },
  {
   "cell_type": "code",
   "execution_count": null,
   "metadata": {
    "id": "jaciwCQ6OesH"
   },
   "outputs": [],
   "source": [
    "lr_full =sm.ols('Insert_variable_1 ~ Insert_variable_2 + Insert_variable_a1 + Insert_variable_2:sex', data = possum).fit()\n",
    "lr_full.summary()"
   ]
  },
  {
   "cell_type": "code",
   "execution_count": null,
   "metadata": {
    "id": "HbCMAuXnPBuR"
   },
   "outputs": [],
   "source": [
    "lr_reduced =sm.ols('Insert_variable_1 ~ Insert_variable_2 + Insert_variable_a1', data = possum).fit()\n",
    "lr_full =sm.ols('Insert_variable_1 ~ Insert_variable_2 + Insert_variable_a1 + Insert_variable_2:sex', data = possum).fit()\n",
    "\n",
    "stats.stats.anova_lm(lr_reduced, lr_full)"
   ]
  },
  {
   "cell_type": "code",
   "execution_count": null,
   "metadata": {
    "id": "f6p0Y4_VPB5H"
   },
   "outputs": [],
   "source": [
    "lr_df = sm.ols('variable_a ~ variable_b', data = cars).fit()\n",
    "\n",
    "plt.figure(figsize = (10,6))\n",
    "plt.scatter(df['variable_b'], lr_df.resid)\n",
    "xmin, xmax = plt.xlim()\n",
    "plt.hlines(y = 0, xmin = xmin, xmax = xmax)\n",
    "plt.xlim(xmin, xmax);"
   ]
  },
  {
   "cell_type": "code",
   "execution_count": null,
   "metadata": {
    "id": "swoHl4G-PYgN"
   },
   "outputs": [],
   "source": [
    "var = 'variable_b'\n",
    "\n",
    "x_pred = pd.DataFrame({\n",
    "    var: np.linspace(start = cars[var].min(),\n",
    "                               stop = cars[var].max(), num = 250)\n",
    "})\n",
    "\n",
    "pred = lr_poly_log.get_prediction(x_pred).summary_frame()\n",
    "\n",
    "cars.plot(kind = 'scatter', x = var, y = 'variable_a', figsize = (10,6))\n",
    "\n",
    "plt.plot(x_pred[var], np.exp(pred['mean']), color = 'grey', label = 'predicted mean')\n",
    "\n",
    "plt.plot(x_pred[var], np.exp(pred['mean_ci_lower']), color = 'blue', label = 'confidence interval')\n",
    "plt.plot(x_pred[var], np.exp(pred['mean_ci_upper']), color = 'blue')\n",
    "\n",
    "plt.plot(x_pred[var], np.exp(pred['obs_ci_lower']), color = 'black', label = 'prediction interval')\n",
    "plt.plot(x_pred[var], np.exp(pred['obs_ci_upper']), color = 'black')\n",
    "\n",
    "plt.legend();"
   ]
  },
  {
   "cell_type": "markdown",
   "metadata": {
    "id": "F3uUSA74293x"
   },
   "source": [
    "# **Let's put all the data frames created into an excel workbook**"
   ]
  },
  {
   "cell_type": "code",
   "execution_count": null,
   "metadata": {
    "id": "5fMA_-v53GUt"
   },
   "outputs": [],
   "source": [
    "xlwriter = pd.ExcelWriter('200M_Analysis.xlsx')\n",
    "df_200m.to_excel(xlwriter, sheet_name='200m')\n",
    "df_200m_stat_analysis.to_excel(xlwriter, sheet_name='200m Statisitcal Analysis')\n",
    "xlwriter.close()"
   ]
  }
 ],
 "metadata": {
  "colab": {
   "authorship_tag": "ABX9TyM//pPxR1vwCZWfD83LXje2",
   "provenance": []
  },
  "kernelspec": {
   "display_name": "Python 3 (ipykernel)",
   "language": "python",
   "name": "python3"
  },
  "language_info": {
   "codemirror_mode": {
    "name": "ipython",
    "version": 3
   },
   "file_extension": ".py",
   "mimetype": "text/x-python",
   "name": "python",
   "nbconvert_exporter": "python",
   "pygments_lexer": "ipython3",
   "version": "3.9.16"
  }
 },
 "nbformat": 4,
 "nbformat_minor": 1
}
